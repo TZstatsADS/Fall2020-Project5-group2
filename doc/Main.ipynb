{
 "cells": [
  {
   "cell_type": "markdown",
   "metadata": {},
   "source": [
    "# Import the necessary packages "
   ]
  },
  {
   "cell_type": "markdown",
   "metadata": {},
   "source": [
    "### Run pip install statsmodels and pip install pandas-datareader if not already installed"
   ]
  },
  {
   "cell_type": "code",
   "execution_count": 1,
   "metadata": {},
   "outputs": [],
   "source": [
    "import pandas as pd\n",
    "import numpy as np\n",
    "from datetime import date, datetime\n",
    "import matplotlib.pyplot as plt\n",
    "import statsmodels.api as sm\n",
    "from statsmodels.formula.api import ols \n",
    "from sklearn.linear_model import LogisticRegression\n",
    "import pandas_datareader.data as web"
   ]
  },
  {
   "cell_type": "markdown",
   "metadata": {},
   "source": [
    "# Load data sets & process data"
   ]
  },
  {
   "cell_type": "markdown",
   "metadata": {},
   "source": [
    "### Load S&P 500, Shanghai Composite Index & iShares China large-cap ETF data from 1/2/2018 to 12/31/2019 (trade war period)"
   ]
  },
  {
   "cell_type": "code",
   "execution_count": 2,
   "metadata": {
    "scrolled": false
   },
   "outputs": [],
   "source": [
    "start_date = '2018-01-02'\n",
    "end_date = '2019-12-31'\n",
    "\n",
    "#S&P is traded in EST time: 9.30 a.m. to 4p.m.\n",
    "spx = web.DataReader('^GSPC', data_source = 'yahoo', start = start_date, end = end_date)\n",
    "spx = spx.reset_index()\n",
    "\n",
    "#Shanghai Composite Index is in China time: GMT+8\n",
    "sse = web.DataReader('000001.SS', data_source = 'yahoo', start = start_date, end = end_date)\n",
    "sse = sse.reset_index()\n",
    "\n",
    "#FXI: iShares China large-cap ETF, traded in EST\n",
    "fxi = web.DataReader('FXI', data_source = 'yahoo', start = start_date, end = end_date)\n",
    "fxi = fxi.reset_index()\n"
   ]
  },
  {
   "cell_type": "markdown",
   "metadata": {},
   "source": [
    "### Calculate change in prices between Close (previous day) to Open, then Open - Close (same day)"
   ]
  },
  {
   "cell_type": "code",
   "execution_count": 3,
   "metadata": {},
   "outputs": [],
   "source": [
    "spx['CloseOpen'] = np.log(spx['Open']) - np.log(spx['Close'].shift(1))\n",
    "spx['OpenClose'] = np.log(spx['Close'])- np.log(spx['Open'])\n",
    "spx = spx.dropna()\n",
    "\n",
    "sse['CloseOpen'] = np.log(sse['Open']) - np.log(sse['Close'].shift(1))\n",
    "sse['OpenClose'] = np.log(sse['Close'])- np.log(sse['Open'])\n",
    "sse = sse.dropna()\n",
    "\n",
    "fxi['CloseOpen'] = np.log(fxi['Open']) - np.log(fxi['Close'].shift(1))\n",
    "fxi['OpenClose'] = np.log(fxi['Close'])- np.log(fxi['Open'])\n",
    "fxi = fxi.dropna()\n",
    "\n"
   ]
  },
  {
   "cell_type": "markdown",
   "metadata": {},
   "source": [
    "### Load lstm balanced data set: data set of Trump's Trade war related tweets with sentiment categorized using LSTM algorithm: 1 being positive and -1 being negative sentiment\n",
    "\n",
    "The models were trained by a data set by [the Crowdflower's Data for Everyone Library](https://www.kaggle.com/ngyptr/lstm-sentiment-analysis-keras/data?select=Sentiment.csv). This data set included tweets about the GOP 2016 Debate and each tweet was labeled postive neutral or negative. The data set was highly imbalanced so the majority class was undersampled to yield our [LSTM model](https://github.com/TZstatsADS/Fall2020-Project5-fall2020-project5-group-2/tree/master/output/models/LSTM_balanced_10).\n",
    "\n",
    "Our code for training the LSTM model is in [LSTM_balanced_training](https://github.com/TZstatsADS/Fall2020-Project5-fall2020-project5-group-2/blob/master/lib/LSTM_balanced_SA.ipynb) and [LSTM_unbalanced_training](https://github.com/TZstatsADS/Fall2020-Project5-fall2020-project5-group-2/blob/master/lib/LSTM_unbalanced.ipynb).\n",
    "\n",
    "Our code for data preprocessing and predicting for the LSTM model is in [LSTM_sentiment_analysis_prediction](https://github.com/TZstatsADS/Fall2020-Project5-fall2020-project5-group-2/blob/master/doc/LSTM_sentiment_analysis_prediction.ipynb).\n"
   ]
  },
  {
   "cell_type": "code",
   "execution_count": 4,
   "metadata": {
    "scrolled": false
   },
   "outputs": [],
   "source": [
    "lstm_bal = pd.read_csv('../output/results/LSTM_balanced_spm_results.csv')    \n",
    "lstm_bal['Date'] = [datetime.strptime(x,'%Y-%m-%d') for x in lstm_bal['real_Date']]\n",
    "\n",
    "lstm_sse = pd.read_csv('../output/results/LSTM_balanced_sse_results.csv')    \n",
    "lstm_sse['Date'] = [datetime.strptime(x,'%Y-%m-%d') for x in lstm_sse['real_Date']]\n"
   ]
  },
  {
   "cell_type": "markdown",
   "metadata": {},
   "source": [
    "### Load textblob data set: data set of Trump's tweets Trade war related tweets with sentiment categorized using textblob algorithm: 1 being positive, -1 being negative, and 0 being neutral sentiment\n",
    "\n",
    "The textblob is trained using the textblob models as a sentiment analysis model. We need to do natural language processing before training and predicting the model. After predicting, we save the prediction results in the file [textblob_prediction_SPM](https://github.com/TZstatsADS/Fall2020-Project5-fall2020-project5-group-2/blob/master/output/results/textblob_prediction_data_spm.csv) and [textblob_prediction_SSE](https://github.com/TZstatsADS/Fall2020-Project5-fall2020-project5-group-2/blob/master/output/results/textblob_prediction_data_sse.csv).\n",
    "\n",
    "Our code for data preprocessing, training and predicting for the textblob model is in [textblob_sentiment_analysis](https://github.com/TZstatsADS/Fall2020-Project5-fall2020-project5-group-2/blob/master/doc/textblob_sentiment_analysis.ipynb).\n"
   ]
  },
  {
   "cell_type": "code",
   "execution_count": 5,
   "metadata": {},
   "outputs": [],
   "source": [
    "textblob_spm = pd.read_csv('../output/results/textblob_prediction_data_spm.csv', index_col = 0)\n",
    "textblob_spm['Date'] = [datetime.strptime(x,'%Y-%m-%d') for x in textblob_spm['real_Date']]\n",
    "\n",
    "textblob_sse = pd.read_csv('../output/results/textblob_prediction_data_sse.csv', index_col = 0)\n",
    "textblob_sse['Date'] = [datetime.strptime(x,'%Y-%m-%d') for x in textblob_sse['real_Date']]"
   ]
  },
  {
   "cell_type": "markdown",
   "metadata": {},
   "source": [
    "# Merging financial data with sentiment data"
   ]
  },
  {
   "cell_type": "markdown",
   "metadata": {},
   "source": [
    "## 1. Merging S&P 500 with lstm data set"
   ]
  },
  {
   "cell_type": "code",
   "execution_count": 6,
   "metadata": {
    "scrolled": false
   },
   "outputs": [],
   "source": [
    "spx_reg = spx.merge(lstm_bal, how = 'outer', on = ['Date'])\n",
    "\n",
    "#Split data set into Close-Open and Open-Close\n",
    "spx_reg_CO = spx_reg[['Date','CloseOpen','B']]\n",
    "spx_reg_CO = spx_reg_CO.dropna()\n",
    "\n",
    "spx_reg_OC = spx_reg[['Date','OpenClose','A']]\n",
    "spx_reg_OC = spx_reg_OC.dropna()\n",
    "\n",
    "#Sort into Positive and Negative Columns\n",
    "spx_reg_CO['Positive'] = (spx_reg_CO['B'] == 1)\n",
    "spx_reg_CO['Negative'] = (spx_reg_CO['B'] == -1)\n",
    "spx_reg_OC['Positive'] = (spx_reg_OC['A'] == 1)\n",
    "spx_reg_OC['Negative'] = (spx_reg_OC['A'] == -1)\n",
    "spx_reg_CO['Positive'] = [int(x==True) for x in spx_reg_CO['Positive']]\n",
    "spx_reg_CO['Negative'] = [int(x==True) for x in spx_reg_CO['Negative']]\n",
    "spx_reg_OC['Positive'] = [int(x==True) for x in spx_reg_OC['Positive']]\n",
    "spx_reg_OC['Negative'] = [int(x==True) for x in spx_reg_OC['Negative']]"
   ]
  },
  {
   "cell_type": "markdown",
   "metadata": {},
   "source": [
    "## 2. Merging S&P 500 with textblob data set"
   ]
  },
  {
   "cell_type": "code",
   "execution_count": 7,
   "metadata": {},
   "outputs": [],
   "source": [
    "spx_textblob = spx.merge(textblob_spm, how = 'outer', on = ['Date'])\n",
    "\n",
    "#Split data set into Close-Open and Open-Close\n",
    "spx_textblob_CO = spx_textblob[['Date','CloseOpen','B']]\n",
    "spx_textblob_CO = spx_textblob_CO.dropna()\n",
    "\n",
    "spx_textblob_OC = spx_textblob[['Date','OpenClose','A']]\n",
    "spx_textblob_OC = spx_textblob_OC.dropna()\n",
    "\n",
    "#Sort into Positive and Negative Columns\n",
    "spx_textblob_CO['Positive'] = (spx_textblob_CO['B'] == 1)\n",
    "spx_textblob_CO['Negative'] = (spx_textblob_CO['B'] == -1)\n",
    "spx_textblob_OC['Positive'] = (spx_textblob_OC['A'] == 1)\n",
    "spx_textblob_OC['Negative'] = (spx_textblob_OC['A'] == -1)\n",
    "spx_textblob_CO['Positive'] = [int(x==True) for x in spx_textblob_CO['Positive']]\n",
    "spx_textblob_CO['Negative'] = [int(x==True) for x in spx_textblob_CO['Negative']]\n",
    "spx_textblob_OC['Positive'] = [int(x==True) for x in spx_textblob_OC['Positive']]\n",
    "spx_textblob_OC['Negative'] = [int(x==True) for x in spx_textblob_OC['Negative']]\n"
   ]
  },
  {
   "cell_type": "markdown",
   "metadata": {},
   "source": [
    "## 3. Merging Shanghai Composite Index with lstm data set"
   ]
  },
  {
   "cell_type": "code",
   "execution_count": 8,
   "metadata": {},
   "outputs": [],
   "source": [
    "sse_reg = sse.merge(lstm_sse, how = 'outer', on = ['Date'])\n",
    "sse_reg_CO = sse_reg[['Date','CloseOpen','B']]\n",
    "sse_reg_CO = sse_reg_CO.dropna()\n",
    "\n",
    "sse_reg_OC = sse_reg[['Date','OpenClose','A']]\n",
    "sse_reg_OC = sse_reg_OC.dropna()\n",
    "\n",
    "sse_reg_CO['Positive'] = (sse_reg_CO['B'] == 1)\n",
    "sse_reg_CO['Negative'] = (sse_reg_CO['B'] == -1)\n",
    "sse_reg_OC['Positive'] = (sse_reg_OC['A'] == 1)\n",
    "sse_reg_OC['Negative'] = (sse_reg_OC['A'] == -1)\n",
    "sse_reg_CO['Positive'] = [int(x==True) for x in sse_reg_CO['Positive']]\n",
    "sse_reg_CO['Negative'] = [int(x==True) for x in sse_reg_CO['Negative']]\n",
    "sse_reg_OC['Positive'] = [int(x==True) for x in sse_reg_OC['Positive']]\n",
    "sse_reg_OC['Negative'] = [int(x==True) for x in sse_reg_OC['Negative']]"
   ]
  },
  {
   "cell_type": "markdown",
   "metadata": {},
   "source": [
    "## 4. Merging Shanghai Composite Index with textblob data set"
   ]
  },
  {
   "cell_type": "code",
   "execution_count": 9,
   "metadata": {},
   "outputs": [],
   "source": [
    "sse_textblob = sse.merge(textblob_sse, how = 'outer', on = ['Date'])\n",
    "sse_textblob_CO = sse_textblob[['Date','CloseOpen','B']]\n",
    "sse_textblob_CO = sse_textblob_CO.dropna()\n",
    "\n",
    "sse_textblob_OC = sse_textblob[['Date','OpenClose','A']]\n",
    "sse_textblob_OC = sse_textblob_OC.dropna()\n",
    "\n",
    "sse_textblob_CO['Positive'] = (sse_textblob_CO['B'] == 1)\n",
    "sse_textblob_CO['Negative'] = (sse_textblob_CO['B'] == -1)\n",
    "sse_textblob_OC['Positive'] = (sse_textblob_OC['A'] == 1)\n",
    "sse_textblob_OC['Negative'] = (sse_textblob_OC['A'] == -1)\n",
    "sse_textblob_CO['Positive'] = [int(x==True) for x in sse_textblob_CO['Positive']]\n",
    "sse_textblob_CO['Negative'] = [int(x==True) for x in sse_textblob_CO['Negative']]\n",
    "sse_textblob_OC['Positive'] = [int(x==True) for x in sse_textblob_OC['Positive']]\n",
    "sse_textblob_OC['Negative'] = [int(x==True) for x in sse_textblob_OC['Negative']]\n"
   ]
  },
  {
   "cell_type": "markdown",
   "metadata": {},
   "source": [
    "## 5. Merging FXI with lstm data set"
   ]
  },
  {
   "cell_type": "code",
   "execution_count": 10,
   "metadata": {},
   "outputs": [],
   "source": [
    "fxi_reg = fxi.merge(lstm_bal, how = 'outer', on = ['Date'])\n",
    "fxi_reg_CO = fxi_reg[['Date','CloseOpen','B']]\n",
    "fxi_reg_CO = fxi_reg_CO.dropna()\n",
    "\n",
    "fxi_reg_OC = fxi_reg[['Date','OpenClose','A']]\n",
    "fxi_reg_OC = fxi_reg_OC.dropna()\n",
    "\n",
    "fxi_reg_CO['Positive'] = (fxi_reg_CO['B'] == 1)\n",
    "fxi_reg_CO['Negative'] = (fxi_reg_CO['B'] == -1)\n",
    "fxi_reg_OC['Positive'] = (fxi_reg_OC['A'] == 1)\n",
    "fxi_reg_OC['Negative'] = (fxi_reg_OC['A'] == -1)\n",
    "fxi_reg_CO['Positive'] = [int(x==True) for x in fxi_reg_CO['Positive']]\n",
    "fxi_reg_CO['Negative'] = [int(x==True) for x in fxi_reg_CO['Negative']]\n",
    "fxi_reg_OC['Positive'] = [int(x==True) for x in fxi_reg_OC['Positive']]\n",
    "fxi_reg_OC['Negative'] = [int(x==True) for x in fxi_reg_OC['Negative']]\n"
   ]
  },
  {
   "cell_type": "markdown",
   "metadata": {},
   "source": [
    "\n",
    "## 6. Merging FXI with textblob data set¶"
   ]
  },
  {
   "cell_type": "code",
   "execution_count": 11,
   "metadata": {},
   "outputs": [],
   "source": [
    "fxi_textblob = fxi.merge(textblob_spm, how = 'outer', on = ['Date'])\n",
    "fxi_textblob_CO = fxi_textblob[['Date','CloseOpen','B']]\n",
    "fxi_textblob_CO = fxi_textblob_CO.dropna()\n",
    "\n",
    "fxi_textblob_OC = fxi_textblob[['Date','OpenClose','A']]\n",
    "fxi_textblob_OC = fxi_textblob_OC.dropna()\n",
    "\n",
    "fxi_textblob_CO['Positive'] = (fxi_textblob_CO['B'] == 1)\n",
    "fxi_textblob_CO['Negative'] = (fxi_textblob_CO['B'] == -1)\n",
    "fxi_textblob_OC['Positive'] = (fxi_textblob_OC['A'] == 1)\n",
    "fxi_textblob_OC['Negative'] = (fxi_textblob_OC['A'] == -1)\n",
    "fxi_textblob_CO['Positive'] = [int(x==True) for x in fxi_textblob_CO['Positive']]\n",
    "fxi_textblob_CO['Negative'] = [int(x==True) for x in fxi_textblob_CO['Negative']]\n",
    "fxi_textblob_OC['Positive'] = [int(x==True) for x in fxi_textblob_OC['Positive']]\n",
    "fxi_textblob_OC['Negative'] = [int(x==True) for x in fxi_textblob_OC['Negative']]\n"
   ]
  },
  {
   "cell_type": "markdown",
   "metadata": {},
   "source": [
    "# Run Regression & Calculate Point-biserial correlation coefficient on merged data set"
   ]
  },
  {
   "cell_type": "markdown",
   "metadata": {},
   "source": [
    "### Point-biserial correlation coefficient:\n",
    "The point biserial correlation coefficient (rpb) is a correlation coefficient used when one variable (e.g. Y) is dichotomous. The point-biserial correlation is mathematically equivalent to the Pearson (product moment) correlation, that is, if we have one continuously measured variable X and a dichotomous variable Y, rXY = rpb."
   ]
  },
  {
   "cell_type": "markdown",
   "metadata": {},
   "source": [
    "$$ r_{pb} = \\frac{M_1-M_0}{S_n}*\\sqrt{\\frac{n_1*n_0}{n^2}}$$"
   ]
  },
  {
   "cell_type": "markdown",
   "metadata": {},
   "source": [
    "## 1. S&P 500 vs. lstm sentiment"
   ]
  },
  {
   "cell_type": "markdown",
   "metadata": {},
   "source": [
    "### a. Regression"
   ]
  },
  {
   "cell_type": "markdown",
   "metadata": {},
   "source": [
    "Close-Open"
   ]
  },
  {
   "cell_type": "code",
   "execution_count": 12,
   "metadata": {
    "scrolled": false
   },
   "outputs": [
    {
     "name": "stdout",
     "output_type": "stream",
     "text": [
      "                            OLS Regression Results                            \n",
      "==============================================================================\n",
      "Dep. Variable:              CloseOpen   R-squared:                       0.001\n",
      "Model:                            OLS   Adj. R-squared:                 -0.003\n",
      "Method:                 Least Squares   F-statistic:                    0.2204\n",
      "Date:                Wed, 16 Dec 2020   Prob (F-statistic):              0.639\n",
      "Time:                        18:19:14   Log-Likelihood:                 1098.2\n",
      "No. Observations:                 271   AIC:                            -2192.\n",
      "Df Residuals:                     269   BIC:                            -2185.\n",
      "Df Model:                           1                                         \n",
      "Covariance Type:            nonrobust                                         \n",
      "====================================================================================\n",
      "                       coef    std err          t      P>|t|      [0.025      0.975]\n",
      "------------------------------------------------------------------------------------\n",
      "Intercept            0.0004      0.000      1.198      0.232      -0.000       0.001\n",
      "C(Positive)[T.1]    -0.0002      0.001     -0.470      0.639      -0.001       0.001\n",
      "==============================================================================\n",
      "Omnibus:                       28.822   Durbin-Watson:                   2.144\n",
      "Prob(Omnibus):                  0.000   Jarque-Bera (JB):               42.000\n",
      "Skew:                          -0.682   Prob(JB):                     7.58e-10\n",
      "Kurtosis:                       4.363   Cond. No.                         2.69\n",
      "==============================================================================\n",
      "\n",
      "Warnings:\n",
      "[1] Standard Errors assume that the covariance matrix of the errors is correctly specified.\n"
     ]
    }
   ],
   "source": [
    "fit_spx_CO = ols('CloseOpen ~ C(Positive)', data=spx_reg_CO).fit() \n",
    "print(fit_spx_CO.summary())"
   ]
  },
  {
   "cell_type": "markdown",
   "metadata": {},
   "source": [
    "Open-Close"
   ]
  },
  {
   "cell_type": "code",
   "execution_count": 13,
   "metadata": {},
   "outputs": [
    {
     "name": "stdout",
     "output_type": "stream",
     "text": [
      "                            OLS Regression Results                            \n",
      "==============================================================================\n",
      "Dep. Variable:              OpenClose   R-squared:                       0.000\n",
      "Model:                            OLS   Adj. R-squared:                 -0.008\n",
      "Method:                 Least Squares   F-statistic:                   0.05105\n",
      "Date:                Wed, 16 Dec 2020   Prob (F-statistic):              0.822\n",
      "Time:                        18:19:15   Log-Likelihood:                 421.03\n",
      "No. Observations:                 125   AIC:                            -838.1\n",
      "Df Residuals:                     123   BIC:                            -832.4\n",
      "Df Model:                           1                                         \n",
      "Covariance Type:            nonrobust                                         \n",
      "====================================================================================\n",
      "                       coef    std err          t      P>|t|      [0.025      0.975]\n",
      "------------------------------------------------------------------------------------\n",
      "Intercept           -0.0008      0.001     -0.632      0.529      -0.003       0.002\n",
      "C(Positive)[T.1]    -0.0003      0.002     -0.226      0.822      -0.003       0.003\n",
      "==============================================================================\n",
      "Omnibus:                       34.583   Durbin-Watson:                   2.273\n",
      "Prob(Omnibus):                  0.000   Jarque-Bera (JB):               62.282\n",
      "Skew:                          -1.232   Prob(JB):                     2.99e-14\n",
      "Kurtosis:                       5.427   Cond. No.                         2.99\n",
      "==============================================================================\n",
      "\n",
      "Warnings:\n",
      "[1] Standard Errors assume that the covariance matrix of the errors is correctly specified.\n"
     ]
    }
   ],
   "source": [
    "fit_spx_OC = ols('OpenClose ~ C(Positive)', data=spx_reg_OC).fit() \n",
    "print(fit_spx_OC.summary())"
   ]
  },
  {
   "cell_type": "markdown",
   "metadata": {},
   "source": [
    "### b. Calculate Point-biserial correlation coefficient"
   ]
  },
  {
   "cell_type": "code",
   "execution_count": 14,
   "metadata": {},
   "outputs": [
    {
     "name": "stdout",
     "output_type": "stream",
     "text": [
      "Point-biserial correlation coefficient for Close-Open is: -0.004854826222243692\n"
     ]
    }
   ],
   "source": [
    "x = spx_reg_CO['CloseOpen']\n",
    "y = spx_reg_CO['Positive']\n",
    "std_x = np.std(x)\n",
    "M1 = np.mean(spx_reg_CO[spx_reg_CO['Positive']==1]['CloseOpen'])\n",
    "n1 = spx_reg_CO[spx_reg_CO['Positive']==1].shape[0]\n",
    "M0 = np.mean(spx_reg_CO[spx_reg_CO['Negative']==1]['CloseOpen'])\n",
    "n0 = spx_reg_CO[spx_reg_CO['Negative']==1].shape[0]\n",
    "n = n1+n0\n",
    "rpb = (M1-M0)*np.sqrt(n1*n0/(n*(n-1)))/std_x\n",
    "print('Point-biserial correlation coefficient for Close-Open is:', rpb)\n",
    "\n"
   ]
  },
  {
   "cell_type": "code",
   "execution_count": 15,
   "metadata": {},
   "outputs": [
    {
     "name": "stdout",
     "output_type": "stream",
     "text": [
      "Point-biserial correlation coefficient for Open-Close is: -0.019320563119210717\n"
     ]
    }
   ],
   "source": [
    "x = spx_reg_OC['OpenClose']\n",
    "y = spx_reg_OC['Positive']\n",
    "std_x = np.std(x)\n",
    "M1 = np.mean(spx_reg_OC[spx_reg_OC['Positive']==1]['OpenClose'])\n",
    "n1 = spx_reg_OC[spx_reg_OC['Positive']==1].shape[0]\n",
    "M0 = np.mean(spx_reg_OC[spx_reg_OC['Negative']==1]['OpenClose'])\n",
    "n0 = spx_reg_OC[spx_reg_OC['Negative']==1].shape[0]\n",
    "n = n1+n0\n",
    "rpb = (M1-M0)*np.sqrt(n1*n0/(n*(n-1)))/std_x\n",
    "print('Point-biserial correlation coefficient for Open-Close is:', rpb)"
   ]
  },
  {
   "cell_type": "markdown",
   "metadata": {},
   "source": [
    "## 2. S&P 500 vs. textblob sentiment"
   ]
  },
  {
   "cell_type": "markdown",
   "metadata": {},
   "source": [
    "### a. Regression"
   ]
  },
  {
   "cell_type": "markdown",
   "metadata": {},
   "source": [
    "Close-Open"
   ]
  },
  {
   "cell_type": "code",
   "execution_count": 16,
   "metadata": {},
   "outputs": [
    {
     "name": "stdout",
     "output_type": "stream",
     "text": [
      "                            OLS Regression Results                            \n",
      "==============================================================================\n",
      "Dep. Variable:              CloseOpen   R-squared:                       0.000\n",
      "Model:                            OLS   Adj. R-squared:                 -0.004\n",
      "Method:                 Least Squares   F-statistic:                   0.06211\n",
      "Date:                Wed, 16 Dec 2020   Prob (F-statistic):              0.803\n",
      "Time:                        18:19:23   Log-Likelihood:                 909.04\n",
      "No. Observations:                 227   AIC:                            -1814.\n",
      "Df Residuals:                     225   BIC:                            -1807.\n",
      "Df Model:                           1                                         \n",
      "Covariance Type:            nonrobust                                         \n",
      "====================================================================================\n",
      "                       coef    std err          t      P>|t|      [0.025      0.975]\n",
      "------------------------------------------------------------------------------------\n",
      "Intercept            0.0002      0.000      0.486      0.627      -0.001       0.001\n",
      "C(Positive)[T.1]    -0.0001      0.001     -0.249      0.803      -0.001       0.001\n",
      "==============================================================================\n",
      "Omnibus:                       20.040   Durbin-Watson:                   2.252\n",
      "Prob(Omnibus):                  0.000   Jarque-Bera (JB):               25.740\n",
      "Skew:                          -0.616   Prob(JB):                     2.57e-06\n",
      "Kurtosis:                       4.096   Cond. No.                         2.84\n",
      "==============================================================================\n",
      "\n",
      "Warnings:\n",
      "[1] Standard Errors assume that the covariance matrix of the errors is correctly specified.\n"
     ]
    }
   ],
   "source": [
    "fit_spx_textblob_CO = ols('CloseOpen ~ C(Positive)', data=spx_textblob_CO).fit() \n",
    "print(fit_spx_textblob_CO.summary())\n"
   ]
  },
  {
   "cell_type": "markdown",
   "metadata": {},
   "source": [
    "Open-Close"
   ]
  },
  {
   "cell_type": "code",
   "execution_count": 17,
   "metadata": {},
   "outputs": [
    {
     "name": "stdout",
     "output_type": "stream",
     "text": [
      "                            OLS Regression Results                            \n",
      "==============================================================================\n",
      "Dep. Variable:              OpenClose   R-squared:                       0.005\n",
      "Model:                            OLS   Adj. R-squared:                 -0.005\n",
      "Method:                 Least Squares   F-statistic:                    0.5259\n",
      "Date:                Wed, 16 Dec 2020   Prob (F-statistic):              0.470\n",
      "Time:                        18:19:27   Log-Likelihood:                 324.17\n",
      "No. Observations:                  98   AIC:                            -644.3\n",
      "Df Residuals:                      96   BIC:                            -639.2\n",
      "Df Model:                           1                                         \n",
      "Covariance Type:            nonrobust                                         \n",
      "====================================================================================\n",
      "                       coef    std err          t      P>|t|      [0.025      0.975]\n",
      "------------------------------------------------------------------------------------\n",
      "Intercept           -0.0003      0.001     -0.237      0.813      -0.003       0.002\n",
      "C(Positive)[T.1]    -0.0013      0.002     -0.725      0.470      -0.005       0.002\n",
      "==============================================================================\n",
      "Omnibus:                       26.030   Durbin-Watson:                   2.177\n",
      "Prob(Omnibus):                  0.000   Jarque-Bera (JB):               40.024\n",
      "Skew:                          -1.183   Prob(JB):                     2.04e-09\n",
      "Kurtosis:                       5.051   Cond. No.                         2.89\n",
      "==============================================================================\n",
      "\n",
      "Warnings:\n",
      "[1] Standard Errors assume that the covariance matrix of the errors is correctly specified.\n"
     ]
    }
   ],
   "source": [
    "fit_spx_textblob_OC = ols('OpenClose ~ C(Positive)', data=spx_textblob_OC).fit() \n",
    "print(fit_spx_textblob_OC.summary())\n"
   ]
  },
  {
   "cell_type": "markdown",
   "metadata": {},
   "source": [
    "### b. Calculate Point-biserial correlation coefficient"
   ]
  },
  {
   "cell_type": "code",
   "execution_count": 18,
   "metadata": {},
   "outputs": [
    {
     "name": "stdout",
     "output_type": "stream",
     "text": [
      "Point-biserial correlation coefficient for Close-Open is: 0.02775719450696115\n"
     ]
    }
   ],
   "source": [
    "x = spx_textblob_CO['CloseOpen']\n",
    "y = spx_textblob_CO['Positive']\n",
    "std_x = np.std(x)\n",
    "M1 = np.mean(spx_textblob_CO[spx_textblob_CO['Positive']==1]['CloseOpen'])\n",
    "n1 = spx_textblob_CO[spx_textblob_CO['Positive']==1].shape[0]\n",
    "M0 = np.mean(spx_textblob_CO[spx_textblob_CO['Negative']==1]['CloseOpen'])\n",
    "n0 = spx_textblob_CO[spx_textblob_CO['Negative']==1].shape[0]\n",
    "n = n1+n0\n",
    "rpb = (M1-M0)*np.sqrt(n1*n0/(n*(n-1)))/std_x\n",
    "print('Point-biserial correlation coefficient for Close-Open is:', rpb)"
   ]
  },
  {
   "cell_type": "code",
   "execution_count": 19,
   "metadata": {},
   "outputs": [
    {
     "name": "stdout",
     "output_type": "stream",
     "text": [
      "Point-biserial correlation coefficient for Open-Close is: 0.013366760182372414\n"
     ]
    }
   ],
   "source": [
    "x = spx_textblob_OC['OpenClose']\n",
    "y = spx_textblob_OC['Positive']\n",
    "std_x = np.std(x)\n",
    "M1 = np.mean(spx_textblob_OC[spx_textblob_OC['Positive']==1]['OpenClose'])\n",
    "n1 = spx_textblob_OC[spx_textblob_OC['Positive']==1].shape[0]\n",
    "M0 = np.mean(spx_textblob_OC[spx_textblob_OC['Negative']==1]['OpenClose'])\n",
    "n0 = spx_textblob_OC[spx_textblob_OC['Negative']==1].shape[0]\n",
    "n = n1+n0\n",
    "rpb = (M1-M0)*np.sqrt(n1*n0/(n*(n-1)))/std_x\n",
    "print('Point-biserial correlation coefficient for Open-Close is:', rpb)"
   ]
  },
  {
   "cell_type": "markdown",
   "metadata": {},
   "source": [
    "## 3. Shanghai Composite Index vs. lstm"
   ]
  },
  {
   "cell_type": "markdown",
   "metadata": {},
   "source": [
    "### a. Regression"
   ]
  },
  {
   "cell_type": "markdown",
   "metadata": {},
   "source": [
    "Close-Open"
   ]
  },
  {
   "cell_type": "code",
   "execution_count": 20,
   "metadata": {},
   "outputs": [
    {
     "name": "stdout",
     "output_type": "stream",
     "text": [
      "                            OLS Regression Results                            \n",
      "==============================================================================\n",
      "Dep. Variable:              CloseOpen   R-squared:                       0.000\n",
      "Model:                            OLS   Adj. R-squared:                 -0.006\n",
      "Method:                 Least Squares   F-statistic:                   0.02554\n",
      "Date:                Wed, 16 Dec 2020   Prob (F-statistic):              0.873\n",
      "Time:                        18:19:43   Log-Likelihood:                 626.36\n",
      "No. Observations:                 170   AIC:                            -1249.\n",
      "Df Residuals:                     168   BIC:                            -1242.\n",
      "Df Model:                           1                                         \n",
      "Covariance Type:            nonrobust                                         \n",
      "====================================================================================\n",
      "                       coef    std err          t      P>|t|      [0.025      0.975]\n",
      "------------------------------------------------------------------------------------\n",
      "Intercept           -0.0010      0.001     -1.299      0.196      -0.003       0.001\n",
      "C(Positive)[T.1]     0.0002      0.001      0.160      0.873      -0.002       0.002\n",
      "==============================================================================\n",
      "Omnibus:                       51.207   Durbin-Watson:                   1.848\n",
      "Prob(Omnibus):                  0.000   Jarque-Bera (JB):              292.448\n",
      "Skew:                          -0.939   Prob(JB):                     3.13e-64\n",
      "Kurtosis:                       9.145   Cond. No.                         3.10\n",
      "==============================================================================\n",
      "\n",
      "Warnings:\n",
      "[1] Standard Errors assume that the covariance matrix of the errors is correctly specified.\n"
     ]
    }
   ],
   "source": [
    "fit_sse_CO = ols('CloseOpen ~ C(Positive)', data=sse_reg_CO).fit() \n",
    "print(fit_sse_CO.summary())"
   ]
  },
  {
   "cell_type": "markdown",
   "metadata": {},
   "source": [
    "Open-Close"
   ]
  },
  {
   "cell_type": "code",
   "execution_count": 21,
   "metadata": {},
   "outputs": [
    {
     "name": "stdout",
     "output_type": "stream",
     "text": [
      "                            OLS Regression Results                            \n",
      "==============================================================================\n",
      "Dep. Variable:              OpenClose   R-squared:                       0.003\n",
      "Model:                            OLS   Adj. R-squared:                 -0.002\n",
      "Method:                 Least Squares   F-statistic:                    0.6628\n",
      "Date:                Wed, 16 Dec 2020   Prob (F-statistic):              0.416\n",
      "Time:                        18:19:44   Log-Likelihood:                 703.43\n",
      "No. Observations:                 221   AIC:                            -1403.\n",
      "Df Residuals:                     219   BIC:                            -1396.\n",
      "Df Model:                           1                                         \n",
      "Covariance Type:            nonrobust                                         \n",
      "====================================================================================\n",
      "                       coef    std err          t      P>|t|      [0.025      0.975]\n",
      "------------------------------------------------------------------------------------\n",
      "Intercept            0.0020      0.001      2.070      0.040    9.62e-05       0.004\n",
      "C(Positive)[T.1]    -0.0011      0.001     -0.814      0.416      -0.004       0.002\n",
      "==============================================================================\n",
      "Omnibus:                        3.785   Durbin-Watson:                   2.043\n",
      "Prob(Omnibus):                  0.151   Jarque-Bera (JB):                3.935\n",
      "Skew:                           0.159   Prob(JB):                        0.140\n",
      "Kurtosis:                       3.571   Cond. No.                         2.66\n",
      "==============================================================================\n",
      "\n",
      "Warnings:\n",
      "[1] Standard Errors assume that the covariance matrix of the errors is correctly specified.\n"
     ]
    }
   ],
   "source": [
    "fit_sse_OC = ols('OpenClose ~ C(Positive)', data=sse_reg_OC).fit() \n",
    "print(fit_sse_OC.summary())"
   ]
  },
  {
   "cell_type": "markdown",
   "metadata": {},
   "source": [
    "### b. Calculate Point-biserial correlation coefficient"
   ]
  },
  {
   "cell_type": "code",
   "execution_count": 22,
   "metadata": {},
   "outputs": [
    {
     "name": "stdout",
     "output_type": "stream",
     "text": [
      "Point-biserial correlation coefficient for Close-Open is: 0.018178598827927814\n"
     ]
    }
   ],
   "source": [
    "x = sse_reg_CO['CloseOpen']\n",
    "y = sse_reg_CO['Positive']\n",
    "std_x = np.std(x)\n",
    "M1 = np.mean(sse_reg_CO[sse_reg_CO['Positive']==1]['CloseOpen'])\n",
    "n1 = sse_reg_CO[sse_reg_CO['Positive']==1].shape[0]\n",
    "M0 = np.mean(sse_reg_CO[sse_reg_CO['Negative']==1]['CloseOpen'])\n",
    "n0 = sse_reg_CO[sse_reg_CO['Negative']==1].shape[0]\n",
    "n = n1+n0\n",
    "rpb = (M1-M0)*np.sqrt(n1*n0/(n*(n-1)))/std_x\n",
    "print('Point-biserial correlation coefficient for Close-Open is:', rpb)"
   ]
  },
  {
   "cell_type": "code",
   "execution_count": 23,
   "metadata": {},
   "outputs": [
    {
     "name": "stdout",
     "output_type": "stream",
     "text": [
      "Point-biserial correlation coefficient for Open-Close is: -0.07985055685344604\n"
     ]
    }
   ],
   "source": [
    "x = sse_reg_OC['OpenClose']\n",
    "y = sse_reg_OC['Positive']\n",
    "std_x = np.std(x)\n",
    "M1 = np.mean(sse_reg_OC[sse_reg_OC['Positive']==1]['OpenClose'])\n",
    "n1 = sse_reg_OC[sse_reg_OC['Positive']==1].shape[0]\n",
    "M0 = np.mean(sse_reg_OC[sse_reg_OC['Negative']==1]['OpenClose'])\n",
    "n0 = sse_reg_OC[sse_reg_OC['Negative']==1].shape[0]\n",
    "n = n1+n0\n",
    "rpb = (M1-M0)*np.sqrt(n1*n0/(n*(n-1)))/std_x\n",
    "print('Point-biserial correlation coefficient for Open-Close is:', rpb)"
   ]
  },
  {
   "cell_type": "markdown",
   "metadata": {},
   "source": [
    "## 4. Shanghai Composite Index vs. textblob sentiment"
   ]
  },
  {
   "cell_type": "markdown",
   "metadata": {},
   "source": [
    "### a. Regression"
   ]
  },
  {
   "cell_type": "markdown",
   "metadata": {},
   "source": [
    "Close-Open"
   ]
  },
  {
   "cell_type": "code",
   "execution_count": 24,
   "metadata": {
    "scrolled": false
   },
   "outputs": [
    {
     "name": "stdout",
     "output_type": "stream",
     "text": [
      "                            OLS Regression Results                            \n",
      "==============================================================================\n",
      "Dep. Variable:              CloseOpen   R-squared:                       0.035\n",
      "Model:                            OLS   Adj. R-squared:                  0.027\n",
      "Method:                 Least Squares   F-statistic:                     4.659\n",
      "Date:                Wed, 16 Dec 2020   Prob (F-statistic):             0.0327\n",
      "Time:                        18:19:49   Log-Likelihood:                 489.99\n",
      "No. Observations:                 132   AIC:                            -976.0\n",
      "Df Residuals:                     130   BIC:                            -970.2\n",
      "Df Model:                           1                                         \n",
      "Covariance Type:            nonrobust                                         \n",
      "====================================================================================\n",
      "                       coef    std err          t      P>|t|      [0.025      0.975]\n",
      "------------------------------------------------------------------------------------\n",
      "Intercept            0.0006      0.001      0.702      0.484      -0.001       0.002\n",
      "C(Positive)[T.1]    -0.0023      0.001     -2.159      0.033      -0.004      -0.000\n",
      "==============================================================================\n",
      "Omnibus:                       11.255   Durbin-Watson:                   2.009\n",
      "Prob(Omnibus):                  0.004   Jarque-Bera (JB):               28.330\n",
      "Skew:                          -0.130   Prob(JB):                     7.05e-07\n",
      "Kurtosis:                       5.255   Cond. No.                         2.95\n",
      "==============================================================================\n",
      "\n",
      "Warnings:\n",
      "[1] Standard Errors assume that the covariance matrix of the errors is correctly specified.\n"
     ]
    }
   ],
   "source": [
    "fit_sse_textblob_CO = ols('CloseOpen ~ C(Positive)', data=sse_textblob_CO).fit() \n",
    "print(fit_sse_textblob_CO.summary())"
   ]
  },
  {
   "cell_type": "markdown",
   "metadata": {},
   "source": [
    "Open-Close"
   ]
  },
  {
   "cell_type": "code",
   "execution_count": 25,
   "metadata": {},
   "outputs": [
    {
     "name": "stdout",
     "output_type": "stream",
     "text": [
      "                            OLS Regression Results                            \n",
      "==============================================================================\n",
      "Dep. Variable:              OpenClose   R-squared:                       0.000\n",
      "Model:                            OLS   Adj. R-squared:                 -0.005\n",
      "Method:                 Least Squares   F-statistic:                   0.02868\n",
      "Date:                Wed, 16 Dec 2020   Prob (F-statistic):              0.866\n",
      "Time:                        18:19:50   Log-Likelihood:                 585.38\n",
      "No. Observations:                 182   AIC:                            -1167.\n",
      "Df Residuals:                     180   BIC:                            -1160.\n",
      "Df Model:                           1                                         \n",
      "Covariance Type:            nonrobust                                         \n",
      "====================================================================================\n",
      "                       coef    std err          t      P>|t|      [0.025      0.975]\n",
      "------------------------------------------------------------------------------------\n",
      "Intercept            0.0016      0.001      1.427      0.155      -0.001       0.004\n",
      "C(Positive)[T.1]    -0.0002      0.001     -0.169      0.866      -0.003       0.003\n",
      "==============================================================================\n",
      "Omnibus:                        1.398   Durbin-Watson:                   1.933\n",
      "Prob(Omnibus):                  0.497   Jarque-Bera (JB):                1.064\n",
      "Skew:                           0.025   Prob(JB):                        0.587\n",
      "Kurtosis:                       3.371   Cond. No.                         2.86\n",
      "==============================================================================\n",
      "\n",
      "Warnings:\n",
      "[1] Standard Errors assume that the covariance matrix of the errors is correctly specified.\n"
     ]
    }
   ],
   "source": [
    "fit_sse_textblob_OC = ols('OpenClose ~ C(Positive)', data=sse_textblob_OC).fit() \n",
    "print(fit_sse_textblob_OC.summary())"
   ]
  },
  {
   "cell_type": "markdown",
   "metadata": {},
   "source": [
    "### b. Calculate Point-biserial correlation coefficient"
   ]
  },
  {
   "cell_type": "code",
   "execution_count": 26,
   "metadata": {},
   "outputs": [
    {
     "name": "stdout",
     "output_type": "stream",
     "text": [
      "Point-biserial correlation coefficient for Close-Open is: -0.07790471887144577\n"
     ]
    }
   ],
   "source": [
    "x = sse_textblob_CO['CloseOpen']\n",
    "y = sse_textblob_CO['Positive']\n",
    "std_x = np.std(x)\n",
    "M1 = np.mean(sse_textblob_CO[sse_textblob_CO['Positive']==1]['CloseOpen'])\n",
    "n1 = sse_textblob_CO[sse_textblob_CO['Positive']==1].shape[0]\n",
    "M0 = np.mean(sse_textblob_CO[sse_textblob_CO['Negative']==1]['CloseOpen'])\n",
    "n0 = sse_textblob_CO[sse_textblob_CO['Negative']==1].shape[0]\n",
    "n = n1+n0\n",
    "rpb = (M1-M0)*np.sqrt(n1*n0/(n*(n-1)))/std_x\n",
    "print('Point-biserial correlation coefficient for Close-Open is:', rpb)\n"
   ]
  },
  {
   "cell_type": "code",
   "execution_count": 27,
   "metadata": {},
   "outputs": [
    {
     "name": "stdout",
     "output_type": "stream",
     "text": [
      "Point-biserial correlation coefficient for Open-Close is: -0.02791541200934203\n"
     ]
    }
   ],
   "source": [
    "x = sse_textblob_OC['OpenClose']\n",
    "y = sse_textblob_OC['Positive']\n",
    "std_x = np.std(x)\n",
    "M1 = np.mean(sse_textblob_OC[sse_textblob_OC['Positive']==1]['OpenClose'])\n",
    "n1 = sse_textblob_OC[sse_textblob_OC['Positive']==1].shape[0]\n",
    "M0 = np.mean(sse_textblob_OC[sse_textblob_OC['Negative']==1]['OpenClose'])\n",
    "n0 = sse_textblob_OC[sse_textblob_OC['Negative']==1].shape[0]\n",
    "n = n1+n0\n",
    "rpb = (M1-M0)*np.sqrt(n1*n0/(n*(n-1)))/std_x\n",
    "print('Point-biserial correlation coefficient for Open-Close is:', rpb)"
   ]
  },
  {
   "cell_type": "markdown",
   "metadata": {},
   "source": [
    "## 5. FXI vs. lstm"
   ]
  },
  {
   "cell_type": "markdown",
   "metadata": {},
   "source": [
    "### a. Regression"
   ]
  },
  {
   "cell_type": "markdown",
   "metadata": {},
   "source": [
    "Close-Open"
   ]
  },
  {
   "cell_type": "code",
   "execution_count": 28,
   "metadata": {},
   "outputs": [
    {
     "name": "stdout",
     "output_type": "stream",
     "text": [
      "                            OLS Regression Results                            \n",
      "==============================================================================\n",
      "Dep. Variable:              CloseOpen   R-squared:                       0.000\n",
      "Model:                            OLS   Adj. R-squared:                 -0.004\n",
      "Method:                 Least Squares   F-statistic:                   0.03736\n",
      "Date:                Wed, 16 Dec 2020   Prob (F-statistic):              0.847\n",
      "Time:                        18:19:53   Log-Likelihood:                 813.27\n",
      "No. Observations:                 271   AIC:                            -1623.\n",
      "Df Residuals:                     269   BIC:                            -1615.\n",
      "Df Model:                           1                                         \n",
      "Covariance Type:            nonrobust                                         \n",
      "====================================================================================\n",
      "                       coef    std err          t      P>|t|      [0.025      0.975]\n",
      "------------------------------------------------------------------------------------\n",
      "Intercept            0.0002      0.001      0.182      0.856      -0.002       0.002\n",
      "C(Positive)[T.1]     0.0003      0.001      0.193      0.847      -0.003       0.003\n",
      "==============================================================================\n",
      "Omnibus:                       10.804   Durbin-Watson:                   2.108\n",
      "Prob(Omnibus):                  0.005   Jarque-Bera (JB):               11.157\n",
      "Skew:                          -0.433   Prob(JB):                      0.00378\n",
      "Kurtosis:                       3.489   Cond. No.                         2.69\n",
      "==============================================================================\n",
      "\n",
      "Warnings:\n",
      "[1] Standard Errors assume that the covariance matrix of the errors is correctly specified.\n"
     ]
    }
   ],
   "source": [
    "fit_fxi_CO = ols('CloseOpen ~ C(Positive)', data=fxi_reg_CO).fit() \n",
    "print(fit_fxi_CO.summary())\n"
   ]
  },
  {
   "cell_type": "markdown",
   "metadata": {},
   "source": [
    "Open-Close"
   ]
  },
  {
   "cell_type": "code",
   "execution_count": 29,
   "metadata": {},
   "outputs": [
    {
     "name": "stdout",
     "output_type": "stream",
     "text": [
      "                            OLS Regression Results                            \n",
      "==============================================================================\n",
      "Dep. Variable:              OpenClose   R-squared:                       0.000\n",
      "Model:                            OLS   Adj. R-squared:                 -0.008\n",
      "Method:                 Least Squares   F-statistic:                 5.350e-07\n",
      "Date:                Wed, 16 Dec 2020   Prob (F-statistic):              0.999\n",
      "Time:                        18:19:54   Log-Likelihood:                 426.31\n",
      "No. Observations:                 125   AIC:                            -848.6\n",
      "Df Residuals:                     123   BIC:                            -843.0\n",
      "Df Model:                           1                                         \n",
      "Covariance Type:            nonrobust                                         \n",
      "====================================================================================\n",
      "                       coef    std err          t      P>|t|      [0.025      0.975]\n",
      "------------------------------------------------------------------------------------\n",
      "Intercept           -0.0007      0.001     -0.638      0.525      -0.003       0.002\n",
      "C(Positive)[T.1]  1.084e-06      0.001      0.001      0.999      -0.003       0.003\n",
      "==============================================================================\n",
      "Omnibus:                       14.980   Durbin-Watson:                   2.295\n",
      "Prob(Omnibus):                  0.001   Jarque-Bera (JB):               37.041\n",
      "Skew:                          -0.375   Prob(JB):                     9.05e-09\n",
      "Kurtosis:                       5.559   Cond. No.                         2.99\n",
      "==============================================================================\n",
      "\n",
      "Warnings:\n",
      "[1] Standard Errors assume that the covariance matrix of the errors is correctly specified.\n"
     ]
    }
   ],
   "source": [
    "fit_fxi_OC = ols('OpenClose ~ C(Positive)', data=fxi_reg_OC).fit() \n",
    "print(fit_fxi_OC.summary())\n"
   ]
  },
  {
   "cell_type": "markdown",
   "metadata": {},
   "source": [
    "### b. Calculate Point-biserial correlation coefficient"
   ]
  },
  {
   "cell_type": "code",
   "execution_count": 30,
   "metadata": {},
   "outputs": [
    {
     "name": "stdout",
     "output_type": "stream",
     "text": [
      "Point-biserial correlation coefficient for Close-Open is: 0.028838620300368312\n"
     ]
    }
   ],
   "source": [
    "x = fxi_reg_CO['CloseOpen']\n",
    "y = fxi_reg_CO['Positive']\n",
    "std_x = np.std(x)\n",
    "M1 = np.mean(fxi_reg_CO[fxi_reg_CO['Positive']==1]['CloseOpen'])\n",
    "n1 = fxi_reg_CO[fxi_reg_CO['Positive']==1].shape[0]\n",
    "M0 = np.mean(fxi_reg_CO[fxi_reg_CO['Negative']==1]['CloseOpen'])\n",
    "n0 = fxi_reg_CO[fxi_reg_CO['Negative']==1].shape[0]\n",
    "n = n1+n0\n",
    "rpb = (M1-M0)*np.sqrt(n1*n0/(n*(n-1)))/std_x\n",
    "print('Point-biserial correlation coefficient for Close-Open is:', rpb)\n"
   ]
  },
  {
   "cell_type": "code",
   "execution_count": 31,
   "metadata": {},
   "outputs": [
    {
     "name": "stdout",
     "output_type": "stream",
     "text": [
      "Point-biserial correlation coefficient for Open-Close is: -0.07985055685344604\n"
     ]
    }
   ],
   "source": [
    "x = sse_reg_OC['OpenClose']\n",
    "y = sse_reg_OC['Positive']\n",
    "std_x = np.std(x)\n",
    "M1 = np.mean(sse_reg_OC[sse_reg_OC['Positive']==1]['OpenClose'])\n",
    "n1 = sse_reg_OC[sse_reg_OC['Positive']==1].shape[0]\n",
    "M0 = np.mean(sse_reg_OC[sse_reg_OC['Negative']==1]['OpenClose'])\n",
    "n0 = sse_reg_OC[sse_reg_OC['Negative']==1].shape[0]\n",
    "n = n1+n0\n",
    "rpb = (M1-M0)*np.sqrt(n1*n0/(n*(n-1)))/std_x\n",
    "print('Point-biserial correlation coefficient for Open-Close is:', rpb)\n"
   ]
  },
  {
   "cell_type": "markdown",
   "metadata": {},
   "source": [
    "## 6. FXI vs. textblob"
   ]
  },
  {
   "cell_type": "markdown",
   "metadata": {},
   "source": [
    "### a. Regression"
   ]
  },
  {
   "cell_type": "markdown",
   "metadata": {},
   "source": [
    "Close-Open"
   ]
  },
  {
   "cell_type": "code",
   "execution_count": 32,
   "metadata": {},
   "outputs": [
    {
     "name": "stdout",
     "output_type": "stream",
     "text": [
      "                            OLS Regression Results                            \n",
      "==============================================================================\n",
      "Dep. Variable:              CloseOpen   R-squared:                       0.002\n",
      "Model:                            OLS   Adj. R-squared:                 -0.003\n",
      "Method:                 Least Squares   F-statistic:                    0.3506\n",
      "Date:                Wed, 16 Dec 2020   Prob (F-statistic):              0.554\n",
      "Time:                        18:20:00   Log-Likelihood:                 680.48\n",
      "No. Observations:                 227   AIC:                            -1357.\n",
      "Df Residuals:                     225   BIC:                            -1350.\n",
      "Df Model:                           1                                         \n",
      "Covariance Type:            nonrobust                                         \n",
      "====================================================================================\n",
      "                       coef    std err          t      P>|t|      [0.025      0.975]\n",
      "------------------------------------------------------------------------------------\n",
      "Intercept            0.0009      0.001      0.693      0.489      -0.002       0.003\n",
      "C(Positive)[T.1]    -0.0010      0.002     -0.592      0.554      -0.004       0.002\n",
      "==============================================================================\n",
      "Omnibus:                       14.843   Durbin-Watson:                   2.127\n",
      "Prob(Omnibus):                  0.001   Jarque-Bera (JB):               16.551\n",
      "Skew:                          -0.552   Prob(JB):                     0.000255\n",
      "Kurtosis:                       3.729   Cond. No.                         2.84\n",
      "==============================================================================\n",
      "\n",
      "Warnings:\n",
      "[1] Standard Errors assume that the covariance matrix of the errors is correctly specified.\n"
     ]
    }
   ],
   "source": [
    "fit_fxi_textblob_CO = ols('CloseOpen ~ C(Positive)', data=fxi_textblob_CO).fit() \n",
    "print(fit_fxi_textblob_CO.summary())\n"
   ]
  },
  {
   "cell_type": "markdown",
   "metadata": {},
   "source": [
    "Open-Close"
   ]
  },
  {
   "cell_type": "code",
   "execution_count": 33,
   "metadata": {},
   "outputs": [
    {
     "name": "stdout",
     "output_type": "stream",
     "text": [
      "                            OLS Regression Results                            \n",
      "==============================================================================\n",
      "Dep. Variable:              OpenClose   R-squared:                       0.011\n",
      "Model:                            OLS   Adj. R-squared:                  0.001\n",
      "Method:                 Least Squares   F-statistic:                     1.059\n",
      "Date:                Wed, 16 Dec 2020   Prob (F-statistic):              0.306\n",
      "Time:                        18:20:02   Log-Likelihood:                 330.08\n",
      "No. Observations:                  98   AIC:                            -656.2\n",
      "Df Residuals:                      96   BIC:                            -651.0\n",
      "Df Model:                           1                                         \n",
      "Covariance Type:            nonrobust                                         \n",
      "====================================================================================\n",
      "                       coef    std err          t      P>|t|      [0.025      0.975]\n",
      "------------------------------------------------------------------------------------\n",
      "Intercept            0.0004      0.001      0.263      0.793      -0.002       0.003\n",
      "C(Positive)[T.1]    -0.0018      0.002     -1.029      0.306      -0.005       0.002\n",
      "==============================================================================\n",
      "Omnibus:                       10.815   Durbin-Watson:                   2.263\n",
      "Prob(Omnibus):                  0.004   Jarque-Bera (JB):               23.084\n",
      "Skew:                          -0.297   Prob(JB):                     9.71e-06\n",
      "Kurtosis:                       5.302   Cond. No.                         2.89\n",
      "==============================================================================\n",
      "\n",
      "Warnings:\n",
      "[1] Standard Errors assume that the covariance matrix of the errors is correctly specified.\n"
     ]
    }
   ],
   "source": [
    "fit_fxi_textblob_OC = ols('OpenClose ~ C(Positive)', data=fxi_textblob_OC).fit() \n",
    "print(fit_fxi_textblob_OC.summary())\n"
   ]
  },
  {
   "cell_type": "markdown",
   "metadata": {},
   "source": [
    "### b. Calculate Point-biserial correlation coefficient"
   ]
  },
  {
   "cell_type": "code",
   "execution_count": 34,
   "metadata": {},
   "outputs": [
    {
     "name": "stdout",
     "output_type": "stream",
     "text": [
      "Point-biserial correlation coefficient for Close-Open is: -0.044188713120793345\n"
     ]
    }
   ],
   "source": [
    "x = fxi_textblob_CO['CloseOpen']\n",
    "y = fxi_textblob_CO['Positive']\n",
    "std_x = np.std(x)\n",
    "M1 = np.mean(fxi_textblob_CO[fxi_textblob_CO['Positive']==1]['CloseOpen'])\n",
    "n1 = fxi_textblob_CO[fxi_textblob_CO['Positive']==1].shape[0]\n",
    "M0 = np.mean(fxi_textblob_CO[fxi_textblob_CO['Negative']==1]['CloseOpen'])\n",
    "n0 = fxi_textblob_CO[fxi_textblob_CO['Negative']==1].shape[0]\n",
    "n = n1+n0\n",
    "rpb = (M1-M0)*np.sqrt(n1*n0/(n*(n-1)))/std_x\n",
    "print('Point-biserial correlation coefficient for Close-Open is:', rpb)\n"
   ]
  },
  {
   "cell_type": "code",
   "execution_count": 35,
   "metadata": {},
   "outputs": [
    {
     "name": "stdout",
     "output_type": "stream",
     "text": [
      "Point-biserial correlation coefficient for Open-Close is: -0.016016097171625734\n"
     ]
    }
   ],
   "source": [
    "x = fxi_textblob_OC['OpenClose']\n",
    "y = fxi_textblob_OC['Positive']\n",
    "std_x = np.std(x)\n",
    "M1 = np.mean(fxi_textblob_OC[fxi_textblob_OC['Positive']==1]['OpenClose'])\n",
    "n1 = fxi_textblob_OC[fxi_textblob_OC['Positive']==1].shape[0]\n",
    "M0 = np.mean(fxi_textblob_OC[fxi_textblob_OC['Negative']==1]['OpenClose'])\n",
    "n0 = fxi_textblob_OC[fxi_textblob_OC['Negative']==1].shape[0]\n",
    "n = n1+n0\n",
    "rpb = (M1-M0)*np.sqrt(n1*n0/(n*(n-1)))/std_x\n",
    "print('Point-biserial correlation coefficient for Open-Close is:', rpb)"
   ]
  },
  {
   "cell_type": "markdown",
   "metadata": {},
   "source": [
    "# References"
   ]
  },
  {
   "cell_type": "markdown",
   "metadata": {},
   "source": [
    "https://medium.com/@outside2SDs/an-overview-of-correlation-measures-between-categorical-and-continuous-variables-4c7f85610365\n",
    "\n",
    "https://en.wikipedia.org/wiki/Point-biserial_correlation_coefficient\n",
    "\n",
    "https://topforeignstocks.com/foreign-adrs-list/the-full-list-of-chinese-adrs/\n",
    "\n",
    "https://finance.yahoo.com/\n",
    "\n",
    "https://www.barchart.com/"
   ]
  },
  {
   "cell_type": "code",
   "execution_count": null,
   "metadata": {},
   "outputs": [],
   "source": []
  }
 ],
 "metadata": {
  "kernelspec": {
   "display_name": "Python 3",
   "language": "python",
   "name": "python3"
  },
  "language_info": {
   "codemirror_mode": {
    "name": "ipython",
    "version": 3
   },
   "file_extension": ".py",
   "mimetype": "text/x-python",
   "name": "python",
   "nbconvert_exporter": "python",
   "pygments_lexer": "ipython3",
   "version": "3.7.4"
  }
 },
 "nbformat": 4,
 "nbformat_minor": 4
}
