{
 "cells": [
  {
   "cell_type": "code",
   "execution_count": 1,
   "metadata": {},
   "outputs": [],
   "source": [
    "import numpy as np\n",
    "import pandas as pd\n",
    "from statsmodels.formula.api import ols "
   ]
  },
  {
   "cell_type": "code",
   "execution_count": 2,
   "metadata": {},
   "outputs": [],
   "source": [
    "spx = pd.read_csv('..\\data\\$spx_intraday-30min.csv', parse_dates = ['Time'])\n",
    "spx['date'] = pd.to_datetime(spx['Time'].dt.date)\n",
    "spx = spx.drop_duplicates('date')\n",
    "spx['log_ret'] = np.log(spx['Last']) - np.log(spx['Last'].shift(1))\n",
    "spx = spx[['date', 'log_ret','Volume']]\n",
    "spx.dropna(inplace = True)"
   ]
  },
  {
   "cell_type": "code",
   "execution_count": 3,
   "metadata": {},
   "outputs": [],
   "source": [
    "lstm_bal = pd.read_csv('../output/results/LSTM_balanced_results.csv',index_col=0)\n",
    "lstm_bal['positive'] = (lstm_bal['outcome'] == 1)\n",
    "lstm_bal['negative'] = (lstm_bal['outcome'] == -1)"
   ]
  },
  {
   "cell_type": "code",
   "execution_count": 4,
   "metadata": {},
   "outputs": [
    {
     "data": {
      "text/plain": [
       "True"
      ]
     },
     "execution_count": 4,
     "metadata": {},
     "output_type": "execute_result"
    }
   ],
   "source": [
    "lstm_bal['positive'].sum()+lstm_bal['negative'].sum() == len(lstm_bal)\n",
    "\n",
    "# problem - no neutral tweets for control ?"
   ]
  },
  {
   "cell_type": "code",
   "execution_count": 5,
   "metadata": {},
   "outputs": [],
   "source": [
    "lstm_bal['date'] = pd.to_datetime(lstm_bal['date'])\n",
    "lstm_bal = lstm_bal[['date','positive','negative']]"
   ]
  },
  {
   "cell_type": "code",
   "execution_count": 6,
   "metadata": {},
   "outputs": [],
   "source": [
    "multiple_tweets_dates = lstm_bal.groupby('date').sum()[(lstm_bal.groupby('date').sum()['negative'] > 1)|\n",
    "                                                       (lstm_bal.groupby('date').sum()['positive'] > 1)]\n",
    "\n",
    "mask = ~np.in1d(lstm_bal['date'], multiple_tweets_dates.index)"
   ]
  },
  {
   "cell_type": "code",
   "execution_count": 7,
   "metadata": {},
   "outputs": [
    {
     "data": {
      "text/plain": [
       "(1164, 99)"
      ]
     },
     "execution_count": 7,
     "metadata": {},
     "output_type": "execute_result"
    }
   ],
   "source": [
    "# only 99 days with single tweet. Does this make sense?\n",
    "len(multiple_tweets_dates), mask.sum()"
   ]
  },
  {
   "cell_type": "code",
   "execution_count": 8,
   "metadata": {},
   "outputs": [],
   "source": [
    "lstm_bal = lstm_bal.set_index('date').loc[mask] * 1\n",
    "lstm_bal.reset_index(inplace = True)\n",
    "lstm_bal = lstm_bal.drop_duplicates('date')"
   ]
  },
  {
   "cell_type": "code",
   "execution_count": 9,
   "metadata": {},
   "outputs": [],
   "source": [
    "merged = lstm_bal.merge(spx, how = 'outer', on = 'date').fillna(0)"
   ]
  },
  {
   "cell_type": "code",
   "execution_count": 10,
   "metadata": {},
   "outputs": [
    {
     "data": {
      "text/html": [
       "<table class=\"simpletable\">\n",
       "<caption>OLS Regression Results</caption>\n",
       "<tr>\n",
       "  <th>Dep. Variable:</th>         <td>log_ret</td>     <th>  R-squared:         </th> <td>   0.000</td> \n",
       "</tr>\n",
       "<tr>\n",
       "  <th>Model:</th>                   <td>OLS</td>       <th>  Adj. R-squared:    </th> <td>  -0.001</td> \n",
       "</tr>\n",
       "<tr>\n",
       "  <th>Method:</th>             <td>Least Squares</td>  <th>  F-statistic:       </th> <td>0.0005430</td>\n",
       "</tr>\n",
       "<tr>\n",
       "  <th>Date:</th>             <td>Sun, 13 Dec 2020</td> <th>  Prob (F-statistic):</th>  <td> 0.981</td>  \n",
       "</tr>\n",
       "<tr>\n",
       "  <th>Time:</th>                 <td>01:22:35</td>     <th>  Log-Likelihood:    </th> <td>  2642.7</td> \n",
       "</tr>\n",
       "<tr>\n",
       "  <th>No. Observations:</th>      <td>   774</td>      <th>  AIC:               </th> <td>  -5281.</td> \n",
       "</tr>\n",
       "<tr>\n",
       "  <th>Df Residuals:</th>          <td>   772</td>      <th>  BIC:               </th> <td>  -5272.</td> \n",
       "</tr>\n",
       "<tr>\n",
       "  <th>Df Model:</th>              <td>     1</td>      <th>                     </th>     <td> </td>    \n",
       "</tr>\n",
       "<tr>\n",
       "  <th>Covariance Type:</th>      <td>nonrobust</td>    <th>                     </th>     <td> </td>    \n",
       "</tr>\n",
       "</table>\n",
       "<table class=\"simpletable\">\n",
       "<tr>\n",
       "           <td></td>             <th>coef</th>     <th>std err</th>      <th>t</th>      <th>P>|t|</th>  <th>[0.025</th>    <th>0.975]</th>  \n",
       "</tr>\n",
       "<tr>\n",
       "  <th>Intercept</th>          <td>   -0.0005</td> <td>    0.000</td> <td>   -1.557</td> <td> 0.120</td> <td>   -0.001</td> <td>    0.000</td>\n",
       "</tr>\n",
       "<tr>\n",
       "  <th>C(positive)[T.1.0]</th> <td>-3.305e-05</td> <td>    0.001</td> <td>   -0.023</td> <td> 0.981</td> <td>   -0.003</td> <td>    0.003</td>\n",
       "</tr>\n",
       "</table>\n",
       "<table class=\"simpletable\">\n",
       "<tr>\n",
       "  <th>Omnibus:</th>       <td>156.017</td> <th>  Durbin-Watson:     </th> <td>   2.124</td> \n",
       "</tr>\n",
       "<tr>\n",
       "  <th>Prob(Omnibus):</th> <td> 0.000</td>  <th>  Jarque-Bera (JB):  </th> <td>1102.430</td> \n",
       "</tr>\n",
       "<tr>\n",
       "  <th>Skew:</th>          <td> 0.707</td>  <th>  Prob(JB):          </th> <td>4.08e-240</td>\n",
       "</tr>\n",
       "<tr>\n",
       "  <th>Kurtosis:</th>      <td> 8.673</td>  <th>  Cond. No.          </th> <td>    4.96</td> \n",
       "</tr>\n",
       "</table><br/><br/>Warnings:<br/>[1] Standard Errors assume that the covariance matrix of the errors is correctly specified."
      ],
      "text/plain": [
       "<class 'statsmodels.iolib.summary.Summary'>\n",
       "\"\"\"\n",
       "                            OLS Regression Results                            \n",
       "==============================================================================\n",
       "Dep. Variable:                log_ret   R-squared:                       0.000\n",
       "Model:                            OLS   Adj. R-squared:                 -0.001\n",
       "Method:                 Least Squares   F-statistic:                 0.0005430\n",
       "Date:                Sun, 13 Dec 2020   Prob (F-statistic):              0.981\n",
       "Time:                        01:22:35   Log-Likelihood:                 2642.7\n",
       "No. Observations:                 774   AIC:                            -5281.\n",
       "Df Residuals:                     772   BIC:                            -5272.\n",
       "Df Model:                           1                                         \n",
       "Covariance Type:            nonrobust                                         \n",
       "======================================================================================\n",
       "                         coef    std err          t      P>|t|      [0.025      0.975]\n",
       "--------------------------------------------------------------------------------------\n",
       "Intercept             -0.0005      0.000     -1.557      0.120      -0.001       0.000\n",
       "C(positive)[T.1.0] -3.305e-05      0.001     -0.023      0.981      -0.003       0.003\n",
       "==============================================================================\n",
       "Omnibus:                      156.017   Durbin-Watson:                   2.124\n",
       "Prob(Omnibus):                  0.000   Jarque-Bera (JB):             1102.430\n",
       "Skew:                           0.707   Prob(JB):                    4.08e-240\n",
       "Kurtosis:                       8.673   Cond. No.                         4.96\n",
       "==============================================================================\n",
       "\n",
       "Warnings:\n",
       "[1] Standard Errors assume that the covariance matrix of the errors is correctly specified.\n",
       "\"\"\""
      ]
     },
     "execution_count": 10,
     "metadata": {},
     "output_type": "execute_result"
    }
   ],
   "source": [
    "fit = ols('log_ret ~ C(positive)', data=merged).fit() \n",
    "\n",
    "fit.summary()"
   ]
  },
  {
   "cell_type": "code",
   "execution_count": null,
   "metadata": {},
   "outputs": [],
   "source": []
  }
 ],
 "metadata": {
  "kernelspec": {
   "display_name": "Python 3",
   "language": "python",
   "name": "python3"
  },
  "language_info": {
   "codemirror_mode": {
    "name": "ipython",
    "version": 3
   },
   "file_extension": ".py",
   "mimetype": "text/x-python",
   "name": "python",
   "nbconvert_exporter": "python",
   "pygments_lexer": "ipython3",
   "version": "3.7.4"
  }
 },
 "nbformat": 4,
 "nbformat_minor": 4
}
