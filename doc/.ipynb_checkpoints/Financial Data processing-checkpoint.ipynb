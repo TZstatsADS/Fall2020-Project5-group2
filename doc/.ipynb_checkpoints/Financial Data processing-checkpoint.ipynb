{
 "cells": [
  {
   "cell_type": "markdown",
   "metadata": {},
   "source": [
    "# Import the necessary packages "
   ]
  },
  {
   "cell_type": "code",
   "execution_count": 81,
   "metadata": {},
   "outputs": [],
   "source": [
    "import pandas as pd\n",
    "import numpy as np\n",
    "#import pandas_datareader.data as web\n",
    "from datetime import date, datetime\n",
    "import matplotlib.pyplot as plt\n",
    "import statsmodels.api as sm\n",
    "from statsmodels.formula.api import ols "
   ]
  },
  {
   "cell_type": "markdown",
   "metadata": {},
   "source": [
    "# Load data sets & process data"
   ]
  },
  {
   "cell_type": "code",
   "execution_count": 82,
   "metadata": {},
   "outputs": [
    {
     "data": {
      "text/html": [
       "<div>\n",
       "<style scoped>\n",
       "    .dataframe tbody tr th:only-of-type {\n",
       "        vertical-align: middle;\n",
       "    }\n",
       "\n",
       "    .dataframe tbody tr th {\n",
       "        vertical-align: top;\n",
       "    }\n",
       "\n",
       "    .dataframe thead th {\n",
       "        text-align: right;\n",
       "    }\n",
       "</style>\n",
       "<table border=\"1\" class=\"dataframe\">\n",
       "  <thead>\n",
       "    <tr style=\"text-align: right;\">\n",
       "      <th></th>\n",
       "      <th>Date</th>\n",
       "      <th>Time</th>\n",
       "      <th>Rounded_Time</th>\n",
       "      <th>outcome</th>\n",
       "    </tr>\n",
       "  </thead>\n",
       "  <tbody>\n",
       "    <tr>\n",
       "      <th>0</th>\n",
       "      <td>1/20/2017</td>\n",
       "      <td>6:31</td>\n",
       "      <td>6:30</td>\n",
       "      <td>-1</td>\n",
       "    </tr>\n",
       "    <tr>\n",
       "      <th>1</th>\n",
       "      <td>1/20/2017</td>\n",
       "      <td>11:51</td>\n",
       "      <td>11:30</td>\n",
       "      <td>1</td>\n",
       "    </tr>\n",
       "    <tr>\n",
       "      <th>2</th>\n",
       "      <td>1/20/2017</td>\n",
       "      <td>11:51</td>\n",
       "      <td>11:30</td>\n",
       "      <td>-1</td>\n",
       "    </tr>\n",
       "    <tr>\n",
       "      <th>3</th>\n",
       "      <td>1/20/2017</td>\n",
       "      <td>11:52</td>\n",
       "      <td>11:30</td>\n",
       "      <td>1</td>\n",
       "    </tr>\n",
       "    <tr>\n",
       "      <th>4</th>\n",
       "      <td>1/20/2017</td>\n",
       "      <td>11:53</td>\n",
       "      <td>11:30</td>\n",
       "      <td>-1</td>\n",
       "    </tr>\n",
       "  </tbody>\n",
       "</table>\n",
       "</div>"
      ],
      "text/plain": [
       "        Date   Time Rounded_Time  outcome\n",
       "0  1/20/2017   6:31         6:30       -1\n",
       "1  1/20/2017  11:51        11:30        1\n",
       "2  1/20/2017  11:51        11:30       -1\n",
       "3  1/20/2017  11:52        11:30        1\n",
       "4  1/20/2017  11:53        11:30       -1"
      ]
     },
     "execution_count": 82,
     "metadata": {},
     "output_type": "execute_result"
    }
   ],
   "source": [
    "#Load S&P 500 data\n",
    "spx = pd.read_csv('..\\data\\$spx_intraday-30min.csv')\n",
    "#Split Time into data and Time columns\n",
    "#spx['Date'] = [datetime.strftime(datetime.strptime(x.split(' ')[0], '%m/%d/%Y'),'%Y-%m-%d')for x in spx['Time']]\n",
    "spx['Date'] = [x.split(' ')[0] for x in spx['Time']]\n",
    "spx['Rounded_Time'] = [x.split(' ')[1] for x in spx['Time']]\n",
    "\n",
    "#Calculate log Returns over 30 min increments\n",
    "spx['Return'] = np.log(spx['Last'])- np.log(spx['Open'])\n",
    "spx = spx.dropna()\n",
    "\n",
    "#Load lstm balanced data set\n",
    "lstm_bal = pd.read_csv('../output/results/LSTM_balanced_results.csv',index_col=0)\n",
    "#lstm_bal = lstm_bal.rename(columns={0 :'Column 0'},inplace=True)\n",
    "\n",
    "#Rounding time to the closest half hour\n",
    "def round_time(time):\n",
    "    if int(time.split(':')[1])<30:\n",
    "        return str(time.split(':')[0]+':00')\n",
    "    else:\n",
    "        return str(time.split(':')[0]+':30')\n",
    "\n",
    "lstm_bal['Rounded_Time'] = [round_time(x) for x in lstm_bal['Time']]\n",
    "\n",
    "lstm_bal = lstm_bal[['Date','Time','Rounded_Time','outcome']]\n",
    "lstm_bal.head(5)\n"
   ]
  },
  {
   "cell_type": "code",
   "execution_count": 83,
   "metadata": {},
   "outputs": [],
   "source": [
    "#Separate lstm_bal data set into Positive (positive tweets), & negative (negative tweets)\n",
    "lstm_pos = lstm_bal[lstm_bal['outcome']==1]\n",
    "lstm_neg = lstm_bal[lstm_bal['outcome']==-1]\n"
   ]
  },
  {
   "cell_type": "code",
   "execution_count": 84,
   "metadata": {},
   "outputs": [],
   "source": [
    "# Commented out because the code takes long to run \n",
    "# #Drop rows of 30 min with conflicting sentiment tweets (both + and - in the same 30 min)\n",
    "# neg_drop_index = []\n",
    "# pos_drop_index = []\n",
    "# for i in range(0,lstm_neg.shape[0]):\n",
    "#     for j in range(0,lstm_pos.shape[0]):\n",
    "#         if lstm_neg.iloc[i,0]== lstm_pos.iloc[j,0] and lstm_neg.iloc[i,3]== lstm_pos.iloc[j,3]:\n",
    "#             neg_drop_index.append(i)\n",
    "#             pos_drop_index.append(j)\n",
    "\n",
    "# lstm_neg2 = lstm_neg.drop(lstm_neg.index[neg_drop_index])\n",
    "# lstm_pos2 = lstm_pos.drop(lstm_pos.index[pos_drop_index])\n",
    "\n",
    "# #Drop duplicates\n",
    "# lstm_neg2 = lstm_neg2.drop_duplicates(subset=['Date', 'Rounded_Time'], keep='first')\n",
    "# lstm_pos2 = lstm_pos2.drop_duplicates(subset=['Date', 'Rounded_Time'], keep='first')\n",
    "\n",
    "# #Concatenating postive and negative tweets \n",
    "# lstm_merged = pd.concat([lstm_neg2,lstm_pos2])\n",
    "# lstm_merged.to_csv('../output/results/lstm_merged.csv')"
   ]
  },
  {
   "cell_type": "code",
   "execution_count": 95,
   "metadata": {},
   "outputs": [],
   "source": [
    "# Load lstm_merged data set\n",
    "lstm_merged = pd.read_csv('../output/results/lstm_merged.csv')"
   ]
  },
  {
   "cell_type": "markdown",
   "metadata": {},
   "source": [
    "# Merging S&P with lstm_bal data sets"
   ]
  },
  {
   "cell_type": "code",
   "execution_count": 92,
   "metadata": {},
   "outputs": [
    {
     "name": "stdout",
     "output_type": "stream",
     "text": [
      "          Date Rounded_Time    Return  Positive  Negative\n",
      "1   12/31/2019        16:00  0.000334         1         0\n",
      "2   12/31/2019        15:30  0.001983         1         0\n",
      "3   12/31/2019        15:00  0.001363         1         0\n",
      "5   12/31/2019        14:00  0.000264         0         1\n",
      "6   12/31/2019        13:30  0.000637         0         1\n",
      "7   12/31/2019        13:30  0.000637         1         0\n",
      "11  12/31/2019        11:30  0.000314         0         1\n",
      "13  12/31/2019        10:30 -0.000998         1         0\n",
      "15  12/31/2019         9:30  0.002345         0         1\n",
      "17  12/30/2019        16:00 -0.000161         0         1\n",
      "33  12/27/2019        15:30 -0.000451         1         0\n",
      "35  12/27/2019        14:30  0.000422         0         1\n",
      "43  12/27/2019        10:30  0.000521         0         1\n",
      "49  12/26/2019        15:00  0.000000         0         1\n",
      "50  12/26/2019        14:30 -0.000337         0         1\n",
      "70  12/23/2019        17:00  0.000000         0         1\n",
      "71  12/23/2019        16:00 -0.000003         0         1\n",
      "72  12/23/2019        16:00 -0.000003         1         0\n",
      "86  12/20/2019        16:30  0.000000         1         0\n",
      "87  12/20/2019        16:00  0.000093         0         1\n"
     ]
    }
   ],
   "source": [
    "spx_reg = spx.merge(lstm_merged, how = 'outer', on = ['Date','Rounded_Time'])\n",
    "\n",
    "#Drop unnecessary columns\n",
    "spx_reg = spx_reg.drop(['High','Low','Volume','Change'],axis = 1)\n",
    "spx_reg['outcome'] = spx_reg['outcome'].fillna(0)\n",
    "#spx_reg.to_csv('../output/results/spx_reg.csv')\n",
    "\n",
    "#Assign Neutral to half hours with no tweet\n",
    "spx_reg['Positive'] = (spx_reg['outcome'] == 1)\n",
    "spx_reg['Negative'] = (spx_reg['outcome'] == -1)\n",
    "#spx_reg['Neutral'] = (spx_reg['outcome'] == 0)\n",
    "spx_reg = spx_reg[spx_reg['outcome']!=0]\n",
    "spx_reg = spx_reg[['Date','Rounded_Time','Return','Positive','Negative']]\n",
    "spx_reg['Positive'] = [int(x==True) for x in spx_reg['Positive']]\n",
    "spx_reg['Negative'] = [int(x==True) for x in spx_reg['Negative']]\n",
    "#spx_reg['Neutral'] = [int(x==True) for x in spx_reg['Neutral']]\n",
    "print(spx_reg.head(20))"
   ]
  },
  {
   "cell_type": "markdown",
   "metadata": {},
   "source": [
    "# Run Regression on merged data set"
   ]
  },
  {
   "cell_type": "code",
   "execution_count": 96,
   "metadata": {
    "scrolled": false
   },
   "outputs": [
    {
     "name": "stdout",
     "output_type": "stream",
     "text": [
      "                            OLS Regression Results                            \n",
      "==============================================================================\n",
      "Dep. Variable:                 Return   R-squared:                       0.000\n",
      "Model:                            OLS   Adj. R-squared:                 -0.000\n",
      "Method:                 Least Squares   F-statistic:                   0.07727\n",
      "Date:                Sun, 13 Dec 2020   Prob (F-statistic):              0.781\n",
      "Time:                        23:38:11   Log-Likelihood:                 9448.5\n",
      "No. Observations:                1912   AIC:                        -1.889e+04\n",
      "Df Residuals:                    1910   BIC:                        -1.888e+04\n",
      "Df Model:                           1                                         \n",
      "Covariance Type:            nonrobust                                         \n",
      "====================================================================================\n",
      "                       coef    std err          t      P>|t|      [0.025      0.975]\n",
      "------------------------------------------------------------------------------------\n",
      "Intercept        -8.171e-05   5.83e-05     -1.402      0.161      -0.000    3.26e-05\n",
      "C(Positive)[T.1]  2.206e-05   7.93e-05      0.278      0.781      -0.000       0.000\n",
      "==============================================================================\n",
      "Omnibus:                      381.535   Durbin-Watson:                   1.591\n",
      "Prob(Omnibus):                  0.000   Jarque-Bera (JB):            11273.135\n",
      "Skew:                          -0.097   Prob(JB):                         0.00\n",
      "Kurtosis:                      14.894   Cond. No.                         2.72\n",
      "==============================================================================\n",
      "\n",
      "Notes:\n",
      "[1] Standard Errors assume that the covariance matrix of the errors is correctly specified.\n",
      "                            OLS Regression Results                            \n",
      "==============================================================================\n",
      "Dep. Variable:                 Return   R-squared:                       0.000\n",
      "Model:                            OLS   Adj. R-squared:                 -0.000\n",
      "Method:                 Least Squares   F-statistic:                   0.07727\n",
      "Date:                Sun, 13 Dec 2020   Prob (F-statistic):              0.781\n",
      "Time:                        23:38:11   Log-Likelihood:                 9448.5\n",
      "No. Observations:                1912   AIC:                        -1.889e+04\n",
      "Df Residuals:                    1910   BIC:                        -1.888e+04\n",
      "Df Model:                           1                                         \n",
      "Covariance Type:            nonrobust                                         \n",
      "====================================================================================\n",
      "                       coef    std err          t      P>|t|      [0.025      0.975]\n",
      "------------------------------------------------------------------------------------\n",
      "Intercept        -5.965e-05   5.38e-05     -1.108      0.268      -0.000    4.59e-05\n",
      "C(Negative)[T.1] -2.206e-05   7.93e-05     -0.278      0.781      -0.000       0.000\n",
      "==============================================================================\n",
      "Omnibus:                      381.535   Durbin-Watson:                   1.591\n",
      "Prob(Omnibus):                  0.000   Jarque-Bera (JB):            11273.135\n",
      "Skew:                          -0.097   Prob(JB):                         0.00\n",
      "Kurtosis:                      14.894   Cond. No.                         2.54\n",
      "==============================================================================\n",
      "\n",
      "Notes:\n",
      "[1] Standard Errors assume that the covariance matrix of the errors is correctly specified.\n"
     ]
    }
   ],
   "source": [
    "#spx_1000 = spx_reg[spx_reg['Rounded_Time']=='10:00']\n",
    "fit_pos = ols('Return ~ C(Positive)', data=spx_reg).fit() \n",
    "print(fit_pos.summary())\n",
    "fit_neg = ols('Return ~ C(Negative)', data=spx_reg).fit() \n",
    "print(fit_neg.summary())\n",
    "# fit_neutral = ols('Return ~ C(Neutral)', data=spx_reg).fit() \n",
    "# print(fit_neutral.summary())"
   ]
  },
  {
   "cell_type": "code",
   "execution_count": null,
   "metadata": {},
   "outputs": [],
   "source": []
  },
  {
   "cell_type": "code",
   "execution_count": null,
   "metadata": {},
   "outputs": [],
   "source": []
  },
  {
   "cell_type": "code",
   "execution_count": null,
   "metadata": {},
   "outputs": [],
   "source": []
  }
 ],
 "metadata": {
  "kernelspec": {
   "display_name": "Python 3",
   "language": "python",
   "name": "python3"
  },
  "language_info": {
   "codemirror_mode": {
    "name": "ipython",
    "version": 3
   },
   "file_extension": ".py",
   "mimetype": "text/x-python",
   "name": "python",
   "nbconvert_exporter": "python",
   "pygments_lexer": "ipython3",
   "version": "3.7.4"
  }
 },
 "nbformat": 4,
 "nbformat_minor": 4
}
