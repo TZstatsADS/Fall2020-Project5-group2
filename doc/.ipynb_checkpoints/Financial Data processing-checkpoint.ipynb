{
 "cells": [
  {
   "cell_type": "markdown",
   "metadata": {},
   "source": [
    "# Import the necessary packages "
   ]
  },
  {
   "cell_type": "code",
   "execution_count": 97,
   "metadata": {},
   "outputs": [],
   "source": [
    "import pandas as pd\n",
    "import numpy as np\n",
    "#import pandas_datareader.data as web\n",
    "from datetime import date, datetime\n",
    "import matplotlib.pyplot as plt\n",
    "import statsmodels.api as sm\n",
    "from statsmodels.formula.api import ols "
   ]
  },
  {
   "cell_type": "markdown",
   "metadata": {},
   "source": [
    "# Load data sets & process data"
   ]
  },
  {
   "cell_type": "code",
   "execution_count": 223,
   "metadata": {},
   "outputs": [],
   "source": [
    "#Load S&P 500 & Shanghai Index data\n",
    "spx = pd.read_csv('../data/input/$spx_intraday-30min.csv')\n",
    "sse = pd.read_csv('../data/input/shanghai_index_30min.csv')\n",
    "\n",
    "#Split Time into data and Time columns\n",
    "\n",
    "spx['Date'] = [datetime.strftime(datetime.strptime(x.split(' ')[0], '%m/%d/%Y'),'%m/%d/%Y') for x in spx['Time']]\n",
    "spx['Rounded_Time'] = [x.split(' ')[1] for x in spx['Time']]\n",
    "\n",
    "sse['Date'] = [datetime.strftime(datetime.strptime(x.split(' ')[0], '%Y-%m-%d'),'%m/%d/%Y')for x in sse['trade_time']]\n",
    "sse['Rounded_Time'] = [x.split(' ')[1][:-3] for x in sse['trade_time']]\n",
    "\n",
    "#Calculate log Returns over 30 min increments\n",
    "spx['Return'] = np.log(spx['Last'])- np.log(spx['Open'])\n",
    "spx = spx.dropna()\n",
    "\n",
    "sse['Return'] = np.log(sse['close'])- np.log(sse['open'])\n",
    "sse = sse.dropna()\n"
   ]
  },
  {
   "cell_type": "code",
   "execution_count": null,
   "metadata": {},
   "outputs": [],
   "source": [
    "#Load lstm balanced data set\n",
    "lstm_bal = pd.read_csv('../output/results/LSTM_balanced_results.csv',index_col=0)\n",
    "\n",
    "#Rounding time to the closest half hour\n",
    "def round_time(time):\n",
    "    if int(time.split(':')[1])<30:\n",
    "        return str(time.split(':')[0]+':00')\n",
    "    else:\n",
    "        return str(time.split(':')[0]+':30')\n",
    "    \n",
    "lstm_bal['Date'] = [datetime.strftime(datetime.strptime(x.split(' ')[0], '%m/%d/%Y'),'%m/%d/%Y') for x in lstm_bal['Date']]\n",
    "lstm_bal['Rounded_Time'] = [round_time(x) for x in lstm_bal['Time']]\n",
    "\n",
    "lstm_bal = lstm_bal[['Date','Time','Rounded_Time','outcome']]\n"
   ]
  },
  {
   "cell_type": "code",
   "execution_count": 224,
   "metadata": {},
   "outputs": [
    {
     "data": {
      "text/html": [
       "<div>\n",
       "<style scoped>\n",
       "    .dataframe tbody tr th:only-of-type {\n",
       "        vertical-align: middle;\n",
       "    }\n",
       "\n",
       "    .dataframe tbody tr th {\n",
       "        vertical-align: top;\n",
       "    }\n",
       "\n",
       "    .dataframe thead th {\n",
       "        text-align: right;\n",
       "    }\n",
       "</style>\n",
       "<table border=\"1\" class=\"dataframe\">\n",
       "  <thead>\n",
       "    <tr style=\"text-align: right;\">\n",
       "      <th></th>\n",
       "      <th>Date</th>\n",
       "      <th>Time</th>\n",
       "      <th>Rounded_Time</th>\n",
       "      <th>sentiment</th>\n",
       "    </tr>\n",
       "  </thead>\n",
       "  <tbody>\n",
       "    <tr>\n",
       "      <th>0</th>\n",
       "      <td>01/20/2017</td>\n",
       "      <td>6:31</td>\n",
       "      <td>6:30</td>\n",
       "      <td>0</td>\n",
       "    </tr>\n",
       "    <tr>\n",
       "      <th>1</th>\n",
       "      <td>01/20/2017</td>\n",
       "      <td>11:51</td>\n",
       "      <td>11:30</td>\n",
       "      <td>0</td>\n",
       "    </tr>\n",
       "    <tr>\n",
       "      <th>2</th>\n",
       "      <td>01/20/2017</td>\n",
       "      <td>11:51</td>\n",
       "      <td>11:30</td>\n",
       "      <td>0</td>\n",
       "    </tr>\n",
       "    <tr>\n",
       "      <th>3</th>\n",
       "      <td>01/20/2017</td>\n",
       "      <td>11:52</td>\n",
       "      <td>11:30</td>\n",
       "      <td>0</td>\n",
       "    </tr>\n",
       "    <tr>\n",
       "      <th>4</th>\n",
       "      <td>01/20/2017</td>\n",
       "      <td>11:53</td>\n",
       "      <td>11:30</td>\n",
       "      <td>0</td>\n",
       "    </tr>\n",
       "  </tbody>\n",
       "</table>\n",
       "</div>"
      ],
      "text/plain": [
       "         Date   Time Rounded_Time  sentiment\n",
       "0  01/20/2017   6:31         6:30          0\n",
       "1  01/20/2017  11:51        11:30          0\n",
       "2  01/20/2017  11:51        11:30          0\n",
       "3  01/20/2017  11:52        11:30          0\n",
       "4  01/20/2017  11:53        11:30          0"
      ]
     },
     "execution_count": 224,
     "metadata": {},
     "output_type": "execute_result"
    }
   ],
   "source": [
    "#Load textblob data set\n",
    "textblob = pd.read_csv('../output/results/textblob_prediction_data.csv',index_col=0)\n",
    "   \n",
    "textblob['Date'] = [datetime.strftime(datetime.strptime(x.split(' ')[0], '%m/%d/%Y'),'%m/%d/%Y') for x in textblob['date']]\n",
    "textblob['Time'] = [x.split(' ')[1] for x in textblob['date']]\n",
    "textblob['Rounded_Time'] = [round_time(x) for x in textblob['Time']]\n",
    "\n",
    "textblob = textblob[['Date','Time','Rounded_Time','sentiment']]\n",
    "textblob.head(5)"
   ]
  },
  {
   "cell_type": "code",
   "execution_count": 225,
   "metadata": {},
   "outputs": [],
   "source": [
    "#Separate lstm_bal data set into Positive (positive tweets), & negative (negative tweets)\n",
    "lstm_pos = lstm_bal[lstm_bal['outcome']==1]\n",
    "lstm_neg = lstm_bal[lstm_bal['outcome']==-1]\n"
   ]
  },
  {
   "cell_type": "code",
   "execution_count": 226,
   "metadata": {},
   "outputs": [],
   "source": [
    "#Separate textblob data set into Positive (positive tweets), & negative (negative tweets)\n",
    "textblob_pos = textblob[textblob['sentiment']==1]\n",
    "textblob_neg = textblob[textblob['sentiment']==-1]\n"
   ]
  },
  {
   "cell_type": "code",
   "execution_count": 216,
   "metadata": {},
   "outputs": [],
   "source": [
    "# #Commented out because the code takes long to run \n",
    "# #Drop duplicates\n",
    "# lstm_neg = lstm_neg.drop_duplicates(subset=['Date', 'Rounded_Time'], keep='first')\n",
    "# lstm_pos = lstm_pos.drop_duplicates(subset=['Date', 'Rounded_Time'], keep='first')\n",
    "\n",
    "# #Drop rows of 30 min with conflicting sentiment tweets (both + and - in the same 30 min)\n",
    "# neg_drop_index = []\n",
    "# pos_drop_index = []\n",
    "\n",
    "# for i in range(0,lstm_neg.shape[0]):\n",
    "#     for j in range(0,lstm_pos.shape[0]):\n",
    "#         if lstm_neg.iloc[i,0]== lstm_pos.iloc[j,0] and lstm_neg.iloc[i,2]== lstm_pos.iloc[j,2]:\n",
    "#             neg_drop_index.append(i)\n",
    "#             pos_drop_index.append(j)\n",
    "\n",
    "# lstm_neg2 = lstm_neg.drop(lstm_neg.index[neg_drop_index])\n",
    "# lstm_pos2 = lstm_pos.drop(lstm_pos.index[pos_drop_index])\n",
    "\n",
    "# #Concatenating postive and negative tweets \n",
    "# lstm_merged = pd.concat([lstm_neg2,lstm_pos2])\n",
    "# lstm_merged.to_csv('../output/results/lstm_merged.csv')"
   ]
  },
  {
   "cell_type": "code",
   "execution_count": 217,
   "metadata": {},
   "outputs": [],
   "source": [
    "# Load lstm_merged data set\n",
    "lstm_merged = pd.read_csv('../output/results/lstm_merged.csv')"
   ]
  },
  {
   "cell_type": "code",
   "execution_count": 227,
   "metadata": {},
   "outputs": [],
   "source": [
    "# #Commented out because the code takes long to run \n",
    "# #Drop duplicates\n",
    "# textblob_neg = textblob_neg.drop_duplicates(subset=['Date', 'Rounded_Time'], keep='first')\n",
    "# textblob_pos = textblob_pos.drop_duplicates(subset=['Date', 'Rounded_Time'], keep='first')\n",
    "\n",
    "# #Drop rows of 30 min with conflicting sentiment tweets (both + and - in the same 30 min)\n",
    "# neg_drop_index = []\n",
    "# pos_drop_index = []\n",
    "\n",
    "# for i in range(0,textblob_neg.shape[0]):\n",
    "#     for j in range(0,textblob_pos.shape[0]):\n",
    "#         if textblob_neg.iloc[i,0]== textblob_pos.iloc[j,0] and textblob_neg.iloc[i,2]== textblob_pos.iloc[j,2]:\n",
    "#             neg_drop_index.append(i)\n",
    "#             pos_drop_index.append(j)\n",
    "\n",
    "# textblob_neg2 = textblob_neg.drop(textblob_neg.index[neg_drop_index])\n",
    "# textblob_pos2 = textblob_pos.drop(textblob_pos.index[pos_drop_index])\n",
    "\n",
    "# #Concatenating postive and negative tweets \n",
    "# textblob_merged = pd.concat([textblob_neg2,textblob_pos2])\n",
    "# textblob_merged.to_csv('../output/results/textblob_merged.csv')"
   ]
  },
  {
   "cell_type": "code",
   "execution_count": 228,
   "metadata": {},
   "outputs": [],
   "source": [
    "# Load textblob_merged data set\n",
    "textblob_merged = pd.read_csv('../output/results/textblob_merged.csv')"
   ]
  },
  {
   "cell_type": "markdown",
   "metadata": {},
   "source": [
    "# Merging financial data with sentiment data"
   ]
  },
  {
   "cell_type": "markdown",
   "metadata": {},
   "source": [
    "## 1. Merging S&P 500 with lstm data set"
   ]
  },
  {
   "cell_type": "code",
   "execution_count": 229,
   "metadata": {
    "scrolled": false
   },
   "outputs": [],
   "source": [
    "spx_reg = spx.merge(lstm_merged, how = 'outer', on = ['Date','Rounded_Time'])\n",
    "\n",
    "#Drop unnecessary columns\n",
    "spx_reg = spx_reg.drop(['High','Low','Volume','Change'],axis = 1)\n",
    "spx_reg['outcome'] = spx_reg['outcome'].fillna(0)\n",
    "spx_reg['Return'] = spx_reg['Return'].fillna(0)\n",
    "spx_reg = spx_reg.drop(spx_reg[spx_reg['Return'] == 0].index)\n",
    "\n",
    "#Assign Neutral to half hours with no tweet\n",
    "spx_reg['Positive'] = (spx_reg['outcome'] == 1)\n",
    "spx_reg['Negative'] = (spx_reg['outcome'] == -1)\n",
    "#spx_reg['Neutral'] = (spx_reg['outcome'] == 0)\n",
    "\n",
    "spx_reg = spx_reg[['Date','Rounded_Time','Return','Positive','Negative']]\n",
    "\n",
    "spx_reg = spx_reg.drop(spx_reg[(spx_reg['Positive'] == 0) & (spx_reg['Negative']==0)].index)\n",
    "spx_reg['Positive'] = [int(x==True) for x in spx_reg['Positive']]\n",
    "spx_reg['Negative'] = [int(x==True) for x in spx_reg['Negative']]\n",
    "#spx_reg['Neutral'] = [int(x==True) for x in spx_reg['Neutral']]\n",
    "\n",
    "spx_reg.to_csv('../output/results/spx_reg.csv')\n"
   ]
  },
  {
   "cell_type": "markdown",
   "metadata": {},
   "source": [
    "## 2. Merging S&P 500 with textblob data set"
   ]
  },
  {
   "cell_type": "code",
   "execution_count": 233,
   "metadata": {},
   "outputs": [],
   "source": [
    "spx_textblob = spx.merge(textblob_merged, how = 'outer', on = ['Date','Rounded_Time'])\n",
    "\n",
    "#Drop unnecessary columns\n",
    "spx_textblob = spx_textblob.drop(['High','Low','Volume','Change'],axis = 1)\n",
    "spx_textblob['sentiment'] = spx_textblob['sentiment'].fillna(0)\n",
    "spx_textblob['Return'] = spx_textblob['Return'].fillna(0)\n",
    "spx_textblob = spx_textblob.drop(spx_textblob[spx_textblob['Return'] == 0].index)\n",
    "\n",
    "#Assign Neutral to half hours with no tweet\n",
    "spx_textblob['Positive'] = (spx_textblob['sentiment'] == 1)\n",
    "spx_textblob['Negative'] = (spx_textblob['sentiment'] == -1)\n",
    "#spx_textblob['Neutral'] = (spx_textblob['Sentiment'] == 0)\n",
    "\n",
    "spx_textblob = spx_textblob[['Date','Rounded_Time','Return','Positive','Negative']]\n",
    "\n",
    "spx_textblob = spx_textblob.drop(spx_textblob[(spx_textblob['Positive'] == 0) & (spx_textblob['Negative']==0)].index)\n",
    "spx_textblob['Positive'] = [int(x==True) for x in spx_textblob['Positive']]\n",
    "spx_textblob['Negative'] = [int(x==True) for x in spx_textblob['Negative']]\n",
    "#spx_textblob['Neutral'] = [int(x==True) for x in spx_textblob['Neutral']]\n",
    "\n",
    "spx_textblob.to_csv('../output/results/spx_textblob.csv')\n"
   ]
  },
  {
   "cell_type": "markdown",
   "metadata": {},
   "source": [
    "## 3. Merging Shanghai Composite Index with lstm data set"
   ]
  },
  {
   "cell_type": "code",
   "execution_count": 235,
   "metadata": {},
   "outputs": [],
   "source": [
    "sse_reg = sse.merge(lstm_merged, how = 'outer', on = ['Date','Rounded_Time'])\n",
    "\n",
    "#Drop unnecessary columns\n",
    "sse_reg = sse_reg.drop(['high','low','volume','money'],axis = 1)\n",
    "sse_reg['outcome'] = sse_reg['outcome'].fillna(0)\n",
    "sse_reg['Return'] = sse_reg['Return'].fillna(0)\n",
    "sse_reg = sse_reg.drop(sse_reg[sse_reg['Return'] == 0].index)\n",
    "\n",
    "\n",
    "#Assign Neutral to half hours with no tweet\n",
    "sse_reg['Positive'] = (sse_reg['outcome'] == 1)\n",
    "sse_reg['Negative'] = (sse_reg['outcome'] == -1)\n",
    "#sse_reg['Neutral'] = (sse_reg['outcome'] == 0)\n",
    "\n",
    "sse_reg = sse_reg[['Date','Rounded_Time','Return','Positive','Negative']]\n",
    "\n",
    "sse_reg = sse_reg.drop(sse_reg[(sse_reg['Positive'] == 0) & (sse_reg['Negative']==0)].index)\n",
    "sse_reg['Positive'] = [int(x==True) for x in sse_reg['Positive']]\n",
    "sse_reg['Negative'] = [int(x==True) for x in sse_reg['Negative']]\n",
    "#sse_reg['Neutral'] = [int(x==True) for x in sse_reg['Neutral']]\n",
    "\n",
    "sse_reg.to_csv('../output/results/sse_reg.csv')\n"
   ]
  },
  {
   "cell_type": "markdown",
   "metadata": {},
   "source": [
    "## 4. Merging Shanghai Composite Index with textblob data set"
   ]
  },
  {
   "cell_type": "code",
   "execution_count": 237,
   "metadata": {},
   "outputs": [],
   "source": [
    "sse_textblob = sse.merge(textblob_merged, how = 'outer', on = ['Date','Rounded_Time'])\n",
    "\n",
    "#Drop unnecessary columns\n",
    "sse_textblob = sse_textblob.drop(['high','low','volume','money'],axis = 1)\n",
    "sse_textblob['sentiment'] = sse_textblob['sentiment'].fillna(0)\n",
    "sse_textblob['Return'] = sse_textblob['Return'].fillna(0)\n",
    "sse_textblob = sse_textblob.drop(sse_textblob[sse_textblob['Return'] == 0].index)\n",
    "\n",
    "\n",
    "#Assign Neutral to half hours with no tweet\n",
    "sse_textblob['Positive'] = (sse_textblob['sentiment'] == 1)\n",
    "sse_textblob['Negative'] = (sse_textblob['sentiment'] == -1)\n",
    "#sse_textblob['Neutral'] = (sse_textblob['sentiment'] == 0)\n",
    "\n",
    "sse_textblob = sse_textblob[['Date','Rounded_Time','Return','Positive','Negative']]\n",
    "\n",
    "sse_textblob = sse_textblob.drop(sse_textblob[(sse_textblob['Positive'] == 0) & (sse_textblob['Negative']==0)].index)\n",
    "sse_textblob['Positive'] = [int(x==True) for x in sse_textblob['Positive']]\n",
    "sse_textblob['Negative'] = [int(x==True) for x in sse_textblob['Negative']]\n",
    "#sse_textblob['Neutral'] = [int(x==True) for x in sse_textblob['Neutral']]\n",
    "\n",
    "sse_textblob.to_csv('../output/results/sse_textblob.csv')\n"
   ]
  },
  {
   "cell_type": "markdown",
   "metadata": {},
   "source": [
    "# Run Regression on merged data set"
   ]
  },
  {
   "cell_type": "markdown",
   "metadata": {},
   "source": [
    "## 1. S&P 500 vs. lstm sentiment"
   ]
  },
  {
   "cell_type": "code",
   "execution_count": 221,
   "metadata": {
    "scrolled": false
   },
   "outputs": [
    {
     "name": "stdout",
     "output_type": "stream",
     "text": [
      "                            OLS Regression Results                            \n",
      "==============================================================================\n",
      "Dep. Variable:                 Return   R-squared:                       0.000\n",
      "Model:                            OLS   Adj. R-squared:                 -0.001\n",
      "Method:                 Least Squares   F-statistic:                    0.1194\n",
      "Date:                Mon, 14 Dec 2020   Prob (F-statistic):              0.730\n",
      "Time:                        13:41:01   Log-Likelihood:                 6499.3\n",
      "No. Observations:                1324   AIC:                        -1.299e+04\n",
      "Df Residuals:                    1322   BIC:                        -1.298e+04\n",
      "Df Model:                           1                                         \n",
      "Covariance Type:            nonrobust                                         \n",
      "====================================================================================\n",
      "                       coef    std err          t      P>|t|      [0.025      0.975]\n",
      "------------------------------------------------------------------------------------\n",
      "Intercept           -0.0001   7.37e-05     -1.357      0.175      -0.000    4.46e-05\n",
      "C(Positive)[T.1]  3.417e-05   9.89e-05      0.346      0.730      -0.000       0.000\n",
      "==============================================================================\n",
      "Omnibus:                      327.741   Durbin-Watson:                   1.892\n",
      "Prob(Omnibus):                  0.000   Jarque-Bera (JB):             7994.639\n",
      "Skew:                           0.554   Prob(JB):                         0.00\n",
      "Kurtosis:                      14.987   Cond. No.                         2.77\n",
      "==============================================================================\n",
      "\n",
      "Notes:\n",
      "[1] Standard Errors assume that the covariance matrix of the errors is correctly specified.\n",
      "                            OLS Regression Results                            \n",
      "==============================================================================\n",
      "Dep. Variable:                 Return   R-squared:                       0.000\n",
      "Model:                            OLS   Adj. R-squared:                 -0.001\n",
      "Method:                 Least Squares   F-statistic:                    0.1194\n",
      "Date:                Mon, 14 Dec 2020   Prob (F-statistic):              0.730\n",
      "Time:                        13:41:01   Log-Likelihood:                 6499.3\n",
      "No. Observations:                1324   AIC:                        -1.299e+04\n",
      "Df Residuals:                    1322   BIC:                        -1.298e+04\n",
      "Df Model:                           1                                         \n",
      "Covariance Type:            nonrobust                                         \n",
      "====================================================================================\n",
      "                       coef    std err          t      P>|t|      [0.025      0.975]\n",
      "------------------------------------------------------------------------------------\n",
      "Intercept        -6.586e-05   6.59e-05     -1.000      0.318      -0.000    6.34e-05\n",
      "C(Negative)[T.1] -3.417e-05   9.89e-05     -0.346      0.730      -0.000       0.000\n",
      "==============================================================================\n",
      "Omnibus:                      327.741   Durbin-Watson:                   1.892\n",
      "Prob(Omnibus):                  0.000   Jarque-Bera (JB):             7994.639\n",
      "Skew:                           0.554   Prob(JB):                         0.00\n",
      "Kurtosis:                      14.987   Cond. No.                         2.51\n",
      "==============================================================================\n",
      "\n",
      "Notes:\n",
      "[1] Standard Errors assume that the covariance matrix of the errors is correctly specified.\n"
     ]
    }
   ],
   "source": [
    "fit_pos = ols('Return ~ C(Positive)', data=spx_reg).fit() \n",
    "print(fit_pos.summary())\n",
    "\n",
    "fit_neg = ols('Return ~ C(Negative)', data=spx_reg).fit() \n",
    "print(fit_neg.summary())\n",
    "\n",
    "# fit_neutral = ols('Return ~ C(Neutral)', data=spx_reg).fit() \n",
    "# print(fit_neutral.summary())"
   ]
  },
  {
   "cell_type": "markdown",
   "metadata": {},
   "source": [
    "## 3. S&P 500 vs. textblob sentiment"
   ]
  },
  {
   "cell_type": "code",
   "execution_count": 241,
   "metadata": {},
   "outputs": [
    {
     "name": "stdout",
     "output_type": "stream",
     "text": [
      "                            OLS Regression Results                            \n",
      "==============================================================================\n",
      "Dep. Variable:                 Return   R-squared:                       0.000\n",
      "Model:                            OLS   Adj. R-squared:                 -0.001\n",
      "Method:                 Least Squares   F-statistic:                 4.258e-05\n",
      "Date:                Mon, 14 Dec 2020   Prob (F-statistic):              0.995\n",
      "Time:                        14:39:20   Log-Likelihood:                 4038.3\n",
      "No. Observations:                 837   AIC:                            -8073.\n",
      "Df Residuals:                     835   BIC:                            -8063.\n",
      "Df Model:                           1                                         \n",
      "Covariance Type:            nonrobust                                         \n",
      "====================================================================================\n",
      "                       coef    std err          t      P>|t|      [0.025      0.975]\n",
      "------------------------------------------------------------------------------------\n",
      "Intercept        -6.271e-05      0.000     -0.526      0.599      -0.000       0.000\n",
      "C(Positive)[T.1] -9.421e-07      0.000     -0.007      0.995      -0.000       0.000\n",
      "==============================================================================\n",
      "Omnibus:                      227.366   Durbin-Watson:                   1.916\n",
      "Prob(Omnibus):                  0.000   Jarque-Bera (JB):             6126.272\n",
      "Skew:                           0.601   Prob(JB):                         0.00\n",
      "Kurtosis:                      16.199   Cond. No.                         3.31\n",
      "==============================================================================\n",
      "\n",
      "Notes:\n",
      "[1] Standard Errors assume that the covariance matrix of the errors is correctly specified.\n",
      "                            OLS Regression Results                            \n",
      "==============================================================================\n",
      "Dep. Variable:                 Return   R-squared:                       0.000\n",
      "Model:                            OLS   Adj. R-squared:                 -0.001\n",
      "Method:                 Least Squares   F-statistic:                 4.258e-05\n",
      "Date:                Mon, 14 Dec 2020   Prob (F-statistic):              0.995\n",
      "Time:                        14:39:20   Log-Likelihood:                 4038.3\n",
      "No. Observations:                 837   AIC:                            -8073.\n",
      "Df Residuals:                     835   BIC:                            -8063.\n",
      "Df Model:                           1                                         \n",
      "Covariance Type:            nonrobust                                         \n",
      "====================================================================================\n",
      "                       coef    std err          t      P>|t|      [0.025      0.975]\n",
      "------------------------------------------------------------------------------------\n",
      "Intercept        -6.366e-05   8.14e-05     -0.782      0.434      -0.000    9.61e-05\n",
      "C(Negative)[T.1]  9.421e-07      0.000      0.007      0.995      -0.000       0.000\n",
      "==============================================================================\n",
      "Omnibus:                      227.366   Durbin-Watson:                   1.916\n",
      "Prob(Omnibus):                  0.000   Jarque-Bera (JB):             6126.272\n",
      "Skew:                           0.601   Prob(JB):                         0.00\n",
      "Kurtosis:                      16.199   Cond. No.                         2.42\n",
      "==============================================================================\n",
      "\n",
      "Notes:\n",
      "[1] Standard Errors assume that the covariance matrix of the errors is correctly specified.\n"
     ]
    }
   ],
   "source": [
    "fit_spx_textblob_pos = ols('Return ~ C(Positive)', data=spx_textblob).fit() \n",
    "print(fit_spx_textblob_pos.summary())\n",
    "fit_spx_textblob_neg = ols('Return ~ C(Negative)', data=spx_textblob).fit() \n",
    "print(fit_spx_textblob_neg.summary())"
   ]
  },
  {
   "cell_type": "markdown",
   "metadata": {},
   "source": [
    "## 3. Shanghai Composite Index vs. lstm"
   ]
  },
  {
   "cell_type": "code",
   "execution_count": 222,
   "metadata": {},
   "outputs": [
    {
     "name": "stdout",
     "output_type": "stream",
     "text": [
      "                            OLS Regression Results                            \n",
      "==============================================================================\n",
      "Dep. Variable:                 Return   R-squared:                       0.000\n",
      "Model:                            OLS   Adj. R-squared:                 -0.001\n",
      "Method:                 Least Squares   F-statistic:                    0.3240\n",
      "Date:                Mon, 14 Dec 2020   Prob (F-statistic):              0.569\n",
      "Time:                        13:41:36   Log-Likelihood:                 3137.8\n",
      "No. Observations:                 711   AIC:                            -6272.\n",
      "Df Residuals:                     709   BIC:                            -6262.\n",
      "Df Model:                           1                                         \n",
      "Covariance Type:            nonrobust                                         \n",
      "====================================================================================\n",
      "                       coef    std err          t      P>|t|      [0.025      0.975]\n",
      "------------------------------------------------------------------------------------\n",
      "Intercept            0.0003      0.000      1.728      0.084   -3.92e-05       0.001\n",
      "C(Positive)[T.1]    -0.0001      0.000     -0.569      0.569      -0.001       0.000\n",
      "==============================================================================\n",
      "Omnibus:                       48.562   Durbin-Watson:                   2.280\n",
      "Prob(Omnibus):                  0.000   Jarque-Bera (JB):              132.871\n",
      "Skew:                           0.320   Prob(JB):                     1.40e-29\n",
      "Kurtosis:                       5.019   Cond. No.                         2.80\n",
      "==============================================================================\n",
      "\n",
      "Notes:\n",
      "[1] Standard Errors assume that the covariance matrix of the errors is correctly specified.\n",
      "                            OLS Regression Results                            \n",
      "==============================================================================\n",
      "Dep. Variable:                 Return   R-squared:                       0.000\n",
      "Model:                            OLS   Adj. R-squared:                 -0.001\n",
      "Method:                 Least Squares   F-statistic:                    0.3240\n",
      "Date:                Mon, 14 Dec 2020   Prob (F-statistic):              0.569\n",
      "Time:                        13:41:36   Log-Likelihood:                 3137.8\n",
      "No. Observations:                 711   AIC:                            -6272.\n",
      "Df Residuals:                     709   BIC:                            -6262.\n",
      "Df Model:                           1                                         \n",
      "Covariance Type:            nonrobust                                         \n",
      "====================================================================================\n",
      "                       coef    std err          t      P>|t|      [0.025      0.975]\n",
      "------------------------------------------------------------------------------------\n",
      "Intercept            0.0002      0.000      1.104      0.270      -0.000       0.000\n",
      "C(Negative)[T.1]     0.0001      0.000      0.569      0.569      -0.000       0.001\n",
      "==============================================================================\n",
      "Omnibus:                       48.562   Durbin-Watson:                   2.280\n",
      "Prob(Omnibus):                  0.000   Jarque-Bera (JB):              132.871\n",
      "Skew:                           0.320   Prob(JB):                     1.40e-29\n",
      "Kurtosis:                       5.019   Cond. No.                         2.50\n",
      "==============================================================================\n",
      "\n",
      "Notes:\n",
      "[1] Standard Errors assume that the covariance matrix of the errors is correctly specified.\n"
     ]
    }
   ],
   "source": [
    "fit_sse_pos = ols('Return ~ C(Positive)', data=sse_reg).fit() \n",
    "print(fit_sse_pos.summary())\n",
    "fit_sse_neg = ols('Return ~ C(Negative)', data=sse_reg).fit() \n",
    "print(fit_sse_neg.summary())"
   ]
  },
  {
   "cell_type": "markdown",
   "metadata": {},
   "source": [
    "## 4. Shanghai Composite Index vs. textblob sentiment"
   ]
  },
  {
   "cell_type": "code",
   "execution_count": 240,
   "metadata": {
    "scrolled": false
   },
   "outputs": [
    {
     "name": "stdout",
     "output_type": "stream",
     "text": [
      "                            OLS Regression Results                            \n",
      "==============================================================================\n",
      "Dep. Variable:                 Return   R-squared:                       0.001\n",
      "Model:                            OLS   Adj. R-squared:                 -0.002\n",
      "Method:                 Least Squares   F-statistic:                    0.2496\n",
      "Date:                Mon, 14 Dec 2020   Prob (F-statistic):              0.618\n",
      "Time:                        14:24:20   Log-Likelihood:                 1938.6\n",
      "No. Observations:                 445   AIC:                            -3873.\n",
      "Df Residuals:                     443   BIC:                            -3865.\n",
      "Df Model:                           1                                         \n",
      "Covariance Type:            nonrobust                                         \n",
      "====================================================================================\n",
      "                       coef    std err          t      P>|t|      [0.025      0.975]\n",
      "------------------------------------------------------------------------------------\n",
      "Intercept            0.0002      0.000      0.747      0.456      -0.000       0.001\n",
      "C(Positive)[T.1]     0.0002      0.000      0.500      0.618      -0.000       0.001\n",
      "==============================================================================\n",
      "Omnibus:                       38.925   Durbin-Watson:                   2.229\n",
      "Prob(Omnibus):                  0.000   Jarque-Bera (JB):               73.893\n",
      "Skew:                           0.527   Prob(JB):                     9.00e-17\n",
      "Kurtosis:                       4.695   Cond. No.                         3.21\n",
      "==============================================================================\n",
      "\n",
      "Notes:\n",
      "[1] Standard Errors assume that the covariance matrix of the errors is correctly specified.\n",
      "                            OLS Regression Results                            \n",
      "==============================================================================\n",
      "Dep. Variable:                 Return   R-squared:                       0.001\n",
      "Model:                            OLS   Adj. R-squared:                 -0.002\n",
      "Method:                 Least Squares   F-statistic:                    0.2496\n",
      "Date:                Mon, 14 Dec 2020   Prob (F-statistic):              0.618\n",
      "Time:                        14:24:20   Log-Likelihood:                 1938.6\n",
      "No. Observations:                 445   AIC:                            -3873.\n",
      "Df Residuals:                     443   BIC:                            -3865.\n",
      "Df Model:                           1                                         \n",
      "Covariance Type:            nonrobust                                         \n",
      "====================================================================================\n",
      "                       coef    std err          t      P>|t|      [0.025      0.975]\n",
      "------------------------------------------------------------------------------------\n",
      "Intercept            0.0003      0.000      1.908      0.057   -1.04e-05       0.001\n",
      "C(Negative)[T.1]    -0.0002      0.000     -0.500      0.618      -0.001       0.000\n",
      "==============================================================================\n",
      "Omnibus:                       38.925   Durbin-Watson:                   2.229\n",
      "Prob(Omnibus):                  0.000   Jarque-Bera (JB):               73.893\n",
      "Skew:                           0.527   Prob(JB):                     9.00e-17\n",
      "Kurtosis:                       4.695   Cond. No.                         2.41\n",
      "==============================================================================\n",
      "\n",
      "Notes:\n",
      "[1] Standard Errors assume that the covariance matrix of the errors is correctly specified.\n"
     ]
    }
   ],
   "source": [
    "fit_sse_textblob_pos = ols('Return ~ C(Positive)', data=sse_textblob).fit() \n",
    "print(fit_sse_textblob_pos.summary())\n",
    "fit_sse_textblob_neg = ols('Return ~ C(Negative)', data=sse_textblob).fit() \n",
    "print(fit_sse_textblob_neg.summary())"
   ]
  },
  {
   "cell_type": "code",
   "execution_count": null,
   "metadata": {},
   "outputs": [],
   "source": []
  }
 ],
 "metadata": {
  "kernelspec": {
   "display_name": "Python 3",
   "language": "python",
   "name": "python3"
  },
  "language_info": {
   "codemirror_mode": {
    "name": "ipython",
    "version": 3
   },
   "file_extension": ".py",
   "mimetype": "text/x-python",
   "name": "python",
   "nbconvert_exporter": "python",
   "pygments_lexer": "ipython3",
   "version": "3.7.4"
  }
 },
 "nbformat": 4,
 "nbformat_minor": 4
}
