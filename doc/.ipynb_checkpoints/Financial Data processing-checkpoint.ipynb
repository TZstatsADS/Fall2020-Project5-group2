{
 "cells": [
  {
   "cell_type": "markdown",
   "metadata": {
    "scrolled": false
   },
   "source": [
    "# Import the necessary packages "
   ]
  },
  {
   "cell_type": "code",
   "execution_count": 128,
   "metadata": {},
   "outputs": [],
   "source": [
    "import pandas as pd\n",
    "import numpy as np\n",
    "import pandas_datareader.data as web\n",
    "from datetime import date, datetime\n",
    "import matplotlib.pyplot as plt\n",
    "import statsmodels.api as sm\n"
   ]
  },
  {
   "cell_type": "markdown",
   "metadata": {},
   "source": [
    "# Load data sets"
   ]
  },
  {
   "cell_type": "code",
   "execution_count": 129,
   "metadata": {},
   "outputs": [
    {
     "name": "stdout",
     "output_type": "stream",
     "text": [
      "     Time     Open     Last        date    Return      time  outcome\n",
      "0   16:30  3230.78  3230.78  2019-12-31  0.000000       NaN      0.0\n",
      "1   16:00  3229.70  3230.78  2019-12-31  0.000334  16:11:14      1.0\n",
      "2   16:00  3229.70  3230.78  2019-12-31  0.000334  16:24:36     -1.0\n",
      "3   15:30  3224.16  3230.56  2019-12-31  0.001983  15:34:14      1.0\n",
      "4   15:30  3224.16  3230.56  2019-12-31  0.001983  15:38:59      1.0\n",
      "5   15:00  3219.74  3224.13  2019-12-31  0.001363  15:19:04      1.0\n",
      "6   15:00  3219.74  3224.13  2019-12-31  0.001363  15:19:07      1.0\n",
      "7   14:30  3220.34  3219.75  2019-12-31 -0.000183       NaN      0.0\n",
      "8   14:00  3219.38  3220.23  2019-12-31  0.000264  14:15:52     -1.0\n",
      "9   13:30  3217.33  3219.38  2019-12-31  0.000637  13:41:39      1.0\n",
      "10  13:30  3217.33  3219.38  2019-12-31  0.000637  13:41:42     -1.0\n",
      "11  13:00  3216.99  3217.33  2019-12-31  0.000106       NaN      0.0\n",
      "12  12:30  3216.70  3217.01  2019-12-31  0.000096       NaN      0.0\n",
      "13  12:00  3216.35  3216.70  2019-12-31  0.000109       NaN      0.0\n",
      "14  11:30  3215.34  3216.35  2019-12-31  0.000314  11:34:45      1.0\n",
      "15  11:30  3215.34  3216.35  2019-12-31  0.000314  11:42:51     -1.0\n",
      "16  11:00  3214.64  3215.37  2019-12-31  0.000227       NaN      0.0\n",
      "17  10:30  3217.86  3214.65  2019-12-31 -0.000998  10:51:51     -1.0\n",
      "18  10:00  3222.76  3217.85  2019-12-31 -0.001525       NaN      0.0\n",
      "19   9:30  3215.18  3222.73  2019-12-31  0.002345       NaN      0.0\n"
     ]
    }
   ],
   "source": [
    "#Load S&P 500 data\n",
    "spx = pd.read_csv('..\\data\\$spx_intraday-30min.csv')\n",
    "#Split Time into data and Time columns\n",
    "spx['date'] = [datetime.strftime(datetime.strptime(x.split(' ')[0], '%m/%d/%Y'),'%Y-%m-%d')for x in spx['Time']]\n",
    "spx['Time'] = [x.split(' ')[1] for x in spx['Time']]\n",
    "\n",
    "#Calculate log Returns over 30 min increments\n",
    "spx['Return'] = np.log(spx['Last'])- np.log(spx['Open'])\n",
    "\n",
    "#Load lstm balanced data set\n",
    "lstm_bal = pd.read_csv('C:/Users/Elise Nguyen/Applied DS/Fall2020-Project5-fall2020-project5-group-2/output/results/LSTM_balanced_results.csv',index_col=0)\n",
    "#lstm_bal = lstm_bal.rename(columns={0 :'Column 0'},inplace=True)\n",
    "\n",
    "#Rounding time to the closest half hour\n",
    "def round_time(time):\n",
    "    if int(time.split(':')[1])<30:\n",
    "        return str(time.split(':')[0]+':00')\n",
    "    else:\n",
    "        return str(time.split(':')[0]+':30')\n",
    "\n",
    "lstm_bal['Time'] = [round_time(x) for x in lstm_bal['time']]\n",
    "\n",
    "#Merging S&P data with lstm_bal data sets by data and Time columns\n",
    "spx_reg = spx.merge(lstm_bal, how = 'outer', on = ['date','Time'])\n",
    "#Drop unnecessary columns\n",
    "spx_reg = spx_reg.drop(['id','content','High','Low','Volume','Change','negative_prob','positive_prob'],axis = 1)\n",
    "spx_reg['outcome'] = spx_reg['outcome'].fillna(0)\n",
    "print(spx_reg.head(20))"
   ]
  },
  {
   "cell_type": "code",
   "execution_count": 115,
   "metadata": {},
   "outputs": [
    {
     "name": "stdout",
     "output_type": "stream",
     "text": [
      "(6524, 7)\n",
      "     Time     Open     Last        date    Return      time  outcome\n",
      "2   16:00  3229.70  3230.78  2019-12-31  0.000334  16:24:36     -1.0\n",
      "8   14:00  3219.38  3220.23  2019-12-31  0.000264  14:15:52     -1.0\n",
      "10  13:30  3217.33  3219.38  2019-12-31  0.000637  13:41:42     -1.0\n",
      "15  11:30  3215.34  3216.35  2019-12-31  0.000314  11:42:51     -1.0\n",
      "17  10:30  3217.86  3214.65  2019-12-31 -0.000998  10:51:51     -1.0\n",
      "    Time     Open     Last        date    Return      time  outcome\n",
      "1  16:00  3229.70  3230.78  2019-12-31  0.000334  16:11:14      1.0\n",
      "3  15:30  3224.16  3230.56  2019-12-31  0.001983  15:34:14      1.0\n",
      "4  15:30  3224.16  3230.56  2019-12-31  0.001983  15:38:59      1.0\n",
      "5  15:00  3219.74  3224.13  2019-12-31  0.001363  15:19:04      1.0\n",
      "6  15:00  3219.74  3224.13  2019-12-31  0.001363  15:19:07      1.0\n"
     ]
    }
   ],
   "source": [
    "#Separate spx_reg data set into Neutral(no tweets), Positive (positive tweets), & negative (negative tweets)\n",
    "spx_neutral = spx_reg[spx_reg['outcome']==0]\n",
    "spx_pos = spx_reg[spx_reg['outcome']==1]\n",
    "spx_neg = spx_reg[spx_reg['outcome']==-1]\n",
    "print(spx_pos.shape)\n",
    "print(spx_neg.head(5))\n",
    "print(spx_pos.head(5))\n",
    "\n"
   ]
  },
  {
   "cell_type": "code",
   "execution_count": 111,
   "metadata": {},
   "outputs": [
    {
     "name": "stdout",
     "output_type": "stream",
     "text": [
      "[0, 2, 3, 11, 11]\n"
     ]
    }
   ],
   "source": [
    "#Drop rows of 30 min with conflicting sentiment tweets (both + and - in the same 30 min)\n",
    "neg_drop_index = []\n",
    "pos_drop_index = []\n",
    "for i in range(0,spx_neg.shape[0]):\n",
    "    for j in range(0,spx_pos.shape[0]):\n",
    "        if spx_neg.iloc[i,0]== spx_pos.iloc[j,0] and spx_neg.iloc[i,3]== spx_pos.iloc[j,3]:\n",
    "            neg_drop_index.append(i)\n",
    "            pos_drop_index.append(j)\n",
    "\n",
    "spx_neg2 = spx_neg.drop(spx_neg.index[neg_drop_index])\n",
    "spx_pos2 = spx_pos.drop(spx_pos.index[pos_drop_index])"
   ]
  },
  {
   "cell_type": "code",
   "execution_count": 112,
   "metadata": {},
   "outputs": [
    {
     "name": "stdout",
     "output_type": "stream",
     "text": [
      "     Time     Open     Last        date    Return      time  outcome\n",
      "0   16:30  3230.78  3230.78  2019-12-31  0.000000       NaN      0.0\n",
      "1   16:00  3229.70  3230.78  2019-12-31  0.000334  16:11:14      1.0\n",
      "2   16:00  3229.70  3230.78  2019-12-31  0.000334  16:24:36     -1.0\n",
      "3   15:30  3224.16  3230.56  2019-12-31  0.001983  15:34:14      1.0\n",
      "4   15:30  3224.16  3230.56  2019-12-31  0.001983  15:38:59      1.0\n",
      "5   15:00  3219.74  3224.13  2019-12-31  0.001363  15:19:04      1.0\n",
      "6   15:00  3219.74  3224.13  2019-12-31  0.001363  15:19:07      1.0\n",
      "7   14:30  3220.34  3219.75  2019-12-31 -0.000183       NaN      0.0\n",
      "8   14:00  3219.38  3220.23  2019-12-31  0.000264  14:15:52     -1.0\n",
      "9   13:30  3217.33  3219.38  2019-12-31  0.000637  13:41:39      1.0\n",
      "10  13:30  3217.33  3219.38  2019-12-31  0.000637  13:41:42     -1.0\n",
      "11  13:00  3216.99  3217.33  2019-12-31  0.000106       NaN      0.0\n",
      "12  12:30  3216.70  3217.01  2019-12-31  0.000096       NaN      0.0\n",
      "13  12:00  3216.35  3216.70  2019-12-31  0.000109       NaN      0.0\n",
      "14  11:30  3215.34  3216.35  2019-12-31  0.000314  11:34:45      1.0\n",
      "15  11:30  3215.34  3216.35  2019-12-31  0.000314  11:42:51     -1.0\n",
      "16  11:00  3214.64  3215.37  2019-12-31  0.000227       NaN      0.0\n",
      "17  10:30  3217.86  3214.65  2019-12-31 -0.000998  10:51:51     -1.0\n",
      "18  10:00  3222.76  3217.85  2019-12-31 -0.001525       NaN      0.0\n",
      "19   9:30  3215.18  3222.73  2019-12-31  0.002345       NaN      0.0\n",
      "     Time     Open     Last        date    Return      time  outcome\n",
      "3   15:30  3224.16  3230.56  2019-12-31  0.001983  15:34:14      1.0\n",
      "4   15:30  3224.16  3230.56  2019-12-31  0.001983  15:38:59      1.0\n",
      "5   15:00  3219.74  3224.13  2019-12-31  0.001363  15:19:04      1.0\n",
      "6   15:00  3219.74  3224.13  2019-12-31  0.001363  15:19:07      1.0\n",
      "21  16:00  3221.81  3221.29  2019-12-30 -0.000161  16:23:04      1.0\n",
      "37  15:30  3241.17  3239.71  2019-12-27 -0.000451  15:51:41      1.0\n",
      "55  14:30  3234.05  3232.96  2019-12-26 -0.000337  14:41:48      1.0\n",
      "76  16:00  3224.02  3224.01  2019-12-23 -0.000003  16:13:01      1.0\n",
      "77  16:00  3224.02  3224.01  2019-12-23 -0.000003  16:13:02      1.0\n",
      "91  16:30  3221.22  3221.22  2019-12-20  0.000000  16:41:11      1.0\n",
      "      Time     Open     Last        date    Return      time  outcome\n",
      "8    14:00  3219.38  3220.23  2019-12-31  0.000264  14:15:52     -1.0\n",
      "17   10:30  3217.86  3214.65  2019-12-31 -0.000998  10:51:51     -1.0\n",
      "39   14:30  3241.92  3243.29  2019-12-27  0.000422  14:43:32     -1.0\n",
      "47   10:30  3241.41  3243.10  2019-12-27  0.000521  10:37:20     -1.0\n",
      "48   10:30  3241.41  3243.10  2019-12-27  0.000521  10:37:20     -1.0\n",
      "54   15:00  3232.95  3232.95  2019-12-26  0.000000  15:18:26     -1.0\n",
      "75   17:00  3224.01  3224.01  2019-12-23  0.000000  17:25:02     -1.0\n",
      "92   16:00  3220.92  3221.22  2019-12-20  0.000093  16:26:58     -1.0\n",
      "101  14:30  3221.85  3224.90  2019-12-20  0.000946  14:59:03     -1.0\n",
      "128  16:30  3191.14  3191.14  2019-12-18  0.000000  16:56:35     -1.0\n"
     ]
    }
   ],
   "source": [
    "print(spx_reg.head(20))\n",
    "print(spx_pos2.head(10))\n",
    "print(spx_neg2.head(10))\n"
   ]
  },
  {
   "cell_type": "code",
   "execution_count": 130,
   "metadata": {},
   "outputs": [
    {
     "name": "stderr",
     "output_type": "stream",
     "text": [
      "c:\\users\\elise nguyen\\appdata\\local\\programs\\python\\python37\\lib\\site-packages\\scipy\\stats\\_distn_infrastructure.py:1932: RuntimeWarning: invalid value encountered in less_equal\n",
      "  cond2 = cond0 & (x <= _a)\n",
      "c:\\users\\elise nguyen\\appdata\\local\\programs\\python\\python37\\lib\\site-packages\\scipy\\stats\\stats.py:1617: RuntimeWarning: invalid value encountered in sign\n",
      "  term2 = np.sign(denom) * np.where(denom == 0.0, np.nan,\n"
     ]
    },
    {
     "data": {
      "text/html": [
       "<table class=\"simpletable\">\n",
       "<caption>OLS Regression Results</caption>\n",
       "<tr>\n",
       "  <th>Dep. Variable:</th>         <td>Return</td>      <th>  R-squared (uncentered):</th>      <td>     nan</td>\n",
       "</tr>\n",
       "<tr>\n",
       "  <th>Model:</th>                   <td>OLS</td>       <th>  Adj. R-squared (uncentered):</th> <td>     nan</td>\n",
       "</tr>\n",
       "<tr>\n",
       "  <th>Method:</th>             <td>Least Squares</td>  <th>  F-statistic:       </th>          <td>     nan</td>\n",
       "</tr>\n",
       "<tr>\n",
       "  <th>Date:</th>             <td>Sat, 12 Dec 2020</td> <th>  Prob (F-statistic):</th>           <td>   nan</td> \n",
       "</tr>\n",
       "<tr>\n",
       "  <th>Time:</th>                 <td>22:59:49</td>     <th>  Log-Likelihood:    </th>          <td>     nan</td>\n",
       "</tr>\n",
       "<tr>\n",
       "  <th>No. Observations:</th>      <td>   749</td>      <th>  AIC:               </th>          <td>     nan</td>\n",
       "</tr>\n",
       "<tr>\n",
       "  <th>Df Residuals:</th>          <td>   748</td>      <th>  BIC:               </th>          <td>     nan</td>\n",
       "</tr>\n",
       "<tr>\n",
       "  <th>Df Model:</th>              <td>     1</td>      <th>                     </th>              <td> </td>   \n",
       "</tr>\n",
       "<tr>\n",
       "  <th>Covariance Type:</th>      <td>nonrobust</td>    <th>                     </th>              <td> </td>   \n",
       "</tr>\n",
       "</table>\n",
       "<table class=\"simpletable\">\n",
       "<tr>\n",
       "     <td></td>        <th>coef</th>     <th>std err</th>      <th>t</th>      <th>P>|t|</th>  <th>[0.025</th>    <th>0.975]</th>  \n",
       "</tr>\n",
       "<tr>\n",
       "  <th>outcome</th> <td>       nan</td> <td>      nan</td> <td>      nan</td> <td>   nan</td> <td>      nan</td> <td>      nan</td>\n",
       "</tr>\n",
       "</table>\n",
       "<table class=\"simpletable\">\n",
       "<tr>\n",
       "  <th>Omnibus:</th>       <td>   nan</td> <th>  Durbin-Watson:     </th> <td>     nan</td>\n",
       "</tr>\n",
       "<tr>\n",
       "  <th>Prob(Omnibus):</th> <td>   nan</td> <th>  Jarque-Bera (JB):  </th> <td>     nan</td>\n",
       "</tr>\n",
       "<tr>\n",
       "  <th>Skew:</th>          <td>   nan</td> <th>  Prob(JB):          </th> <td>     nan</td>\n",
       "</tr>\n",
       "<tr>\n",
       "  <th>Kurtosis:</th>      <td>   nan</td> <th>  Cond. No.          </th> <td>    1.00</td>\n",
       "</tr>\n",
       "</table><br/><br/>Notes:<br/>[1] R² is computed without centering (uncentered) since the model does not contain a constant.<br/>[2] Standard Errors assume that the covariance matrix of the errors is correctly specified."
      ],
      "text/plain": [
       "<class 'statsmodels.iolib.summary.Summary'>\n",
       "\"\"\"\n",
       "                                 OLS Regression Results                                \n",
       "=======================================================================================\n",
       "Dep. Variable:                 Return   R-squared (uncentered):                     nan\n",
       "Model:                            OLS   Adj. R-squared (uncentered):                nan\n",
       "Method:                 Least Squares   F-statistic:                                nan\n",
       "Date:                Sat, 12 Dec 2020   Prob (F-statistic):                         nan\n",
       "Time:                        22:59:49   Log-Likelihood:                             nan\n",
       "No. Observations:                 749   AIC:                                        nan\n",
       "Df Residuals:                     748   BIC:                                        nan\n",
       "Df Model:                           1                                                  \n",
       "Covariance Type:            nonrobust                                                  \n",
       "==============================================================================\n",
       "                 coef    std err          t      P>|t|      [0.025      0.975]\n",
       "------------------------------------------------------------------------------\n",
       "outcome           nan        nan        nan        nan         nan         nan\n",
       "==============================================================================\n",
       "Omnibus:                          nan   Durbin-Watson:                     nan\n",
       "Prob(Omnibus):                    nan   Jarque-Bera (JB):                  nan\n",
       "Skew:                             nan   Prob(JB):                          nan\n",
       "Kurtosis:                         nan   Cond. No.                         1.00\n",
       "==============================================================================\n",
       "\n",
       "Notes:\n",
       "[1] R² is computed without centering (uncentered) since the model does not contain a constant.\n",
       "[2] Standard Errors assume that the covariance matrix of the errors is correctly specified.\n",
       "\"\"\""
      ]
     },
     "execution_count": 130,
     "metadata": {},
     "output_type": "execute_result"
    },
    {
     "data": {
      "image/png": "[encoded data removed]",
      "text/plain": [
       "<Figure size 432x288 with 1 Axes>"
      ]
     },
     "metadata": {
      "needs_background": "light"
     },
     "output_type": "display_data"
    }
   ],
   "source": [
    "#Concatenating postive and neutral tweets \n",
    "spx_pos_reg = pd.concat([pd.DataFrame(spx_pos2), pd.DataFrame(spx_neutral)])\n",
    "\n",
    "#Try running regression for Time = 10.30 only\n",
    "spx_pos_reg = spx_pos_reg[spx_pos_reg['Time']=='10:00']\n",
    "# print(spx_pos_reg['Return'])\n",
    "# print(spx_pos_reg['outcome'])\n",
    "plt.scatter(spx_pos_reg['outcome'],spx_pos_reg['Return'])\n",
    "pos_model = sm.OLS(spx_pos_reg['Return'],spx_pos_reg['outcome']).fit()\n",
    "pos_model.summary()"
   ]
  },
  {
   "cell_type": "code",
   "execution_count": 133,
   "metadata": {},
   "outputs": [
    {
     "name": "stderr",
     "output_type": "stream",
     "text": [
      "c:\\users\\elise nguyen\\appdata\\local\\programs\\python\\python37\\lib\\site-packages\\scipy\\stats\\_distn_infrastructure.py:1932: RuntimeWarning: invalid value encountered in less_equal\n",
      "  cond2 = cond0 & (x <= _a)\n",
      "c:\\users\\elise nguyen\\appdata\\local\\programs\\python\\python37\\lib\\site-packages\\scipy\\stats\\stats.py:1617: RuntimeWarning: invalid value encountered in sign\n",
      "  term2 = np.sign(denom) * np.where(denom == 0.0, np.nan,\n"
     ]
    },
    {
     "data": {
      "text/html": [
       "<table class=\"simpletable\">\n",
       "<caption>OLS Regression Results</caption>\n",
       "<tr>\n",
       "  <th>Dep. Variable:</th>         <td>Return</td>      <th>  R-squared (uncentered):</th>      <td>     nan</td>\n",
       "</tr>\n",
       "<tr>\n",
       "  <th>Model:</th>                   <td>OLS</td>       <th>  Adj. R-squared (uncentered):</th> <td>     nan</td>\n",
       "</tr>\n",
       "<tr>\n",
       "  <th>Method:</th>             <td>Least Squares</td>  <th>  F-statistic:       </th>          <td>     nan</td>\n",
       "</tr>\n",
       "<tr>\n",
       "  <th>Date:</th>             <td>Sat, 12 Dec 2020</td> <th>  Prob (F-statistic):</th>           <td>   nan</td> \n",
       "</tr>\n",
       "<tr>\n",
       "  <th>Time:</th>                 <td>23:08:09</td>     <th>  Log-Likelihood:    </th>          <td>     nan</td>\n",
       "</tr>\n",
       "<tr>\n",
       "  <th>No. Observations:</th>      <td>   205</td>      <th>  AIC:               </th>          <td>     nan</td>\n",
       "</tr>\n",
       "<tr>\n",
       "  <th>Df Residuals:</th>          <td>   204</td>      <th>  BIC:               </th>          <td>     nan</td>\n",
       "</tr>\n",
       "<tr>\n",
       "  <th>Df Model:</th>              <td>     1</td>      <th>                     </th>              <td> </td>   \n",
       "</tr>\n",
       "<tr>\n",
       "  <th>Covariance Type:</th>      <td>nonrobust</td>    <th>                     </th>              <td> </td>   \n",
       "</tr>\n",
       "</table>\n",
       "<table class=\"simpletable\">\n",
       "<tr>\n",
       "     <td></td>        <th>coef</th>     <th>std err</th>      <th>t</th>      <th>P>|t|</th>  <th>[0.025</th>    <th>0.975]</th>  \n",
       "</tr>\n",
       "<tr>\n",
       "  <th>outcome</th> <td>       nan</td> <td>      nan</td> <td>      nan</td> <td>   nan</td> <td>      nan</td> <td>      nan</td>\n",
       "</tr>\n",
       "</table>\n",
       "<table class=\"simpletable\">\n",
       "<tr>\n",
       "  <th>Omnibus:</th>       <td>   nan</td> <th>  Durbin-Watson:     </th> <td>     nan</td>\n",
       "</tr>\n",
       "<tr>\n",
       "  <th>Prob(Omnibus):</th> <td>   nan</td> <th>  Jarque-Bera (JB):  </th> <td>     nan</td>\n",
       "</tr>\n",
       "<tr>\n",
       "  <th>Skew:</th>          <td>   nan</td> <th>  Prob(JB):          </th> <td>     nan</td>\n",
       "</tr>\n",
       "<tr>\n",
       "  <th>Kurtosis:</th>      <td>   nan</td> <th>  Cond. No.          </th> <td>    1.00</td>\n",
       "</tr>\n",
       "</table><br/><br/>Notes:<br/>[1] R² is computed without centering (uncentered) since the model does not contain a constant.<br/>[2] Standard Errors assume that the covariance matrix of the errors is correctly specified."
      ],
      "text/plain": [
       "<class 'statsmodels.iolib.summary.Summary'>\n",
       "\"\"\"\n",
       "                                 OLS Regression Results                                \n",
       "=======================================================================================\n",
       "Dep. Variable:                 Return   R-squared (uncentered):                     nan\n",
       "Model:                            OLS   Adj. R-squared (uncentered):                nan\n",
       "Method:                 Least Squares   F-statistic:                                nan\n",
       "Date:                Sat, 12 Dec 2020   Prob (F-statistic):                         nan\n",
       "Time:                        23:08:09   Log-Likelihood:                             nan\n",
       "No. Observations:                 205   AIC:                                        nan\n",
       "Df Residuals:                     204   BIC:                                        nan\n",
       "Df Model:                           1                                                  \n",
       "Covariance Type:            nonrobust                                                  \n",
       "==============================================================================\n",
       "                 coef    std err          t      P>|t|      [0.025      0.975]\n",
       "------------------------------------------------------------------------------\n",
       "outcome           nan        nan        nan        nan         nan         nan\n",
       "==============================================================================\n",
       "Omnibus:                          nan   Durbin-Watson:                     nan\n",
       "Prob(Omnibus):                    nan   Jarque-Bera (JB):                  nan\n",
       "Skew:                             nan   Prob(JB):                          nan\n",
       "Kurtosis:                         nan   Cond. No.                         1.00\n",
       "==============================================================================\n",
       "\n",
       "Notes:\n",
       "[1] R² is computed without centering (uncentered) since the model does not contain a constant.\n",
       "[2] Standard Errors assume that the covariance matrix of the errors is correctly specified.\n",
       "\"\"\""
      ]
     },
     "execution_count": 133,
     "metadata": {},
     "output_type": "execute_result"
    },
    {
     "data": {
      "image/png": "[encoded data removed]",
      "text/plain": [
       "<Figure size 432x288 with 1 Axes>"
      ]
     },
     "metadata": {
      "needs_background": "light"
     },
     "output_type": "display_data"
    }
   ],
   "source": [
    "#Concatenating postive and negative tweets \n",
    "spx_pos_neg = pd.concat([pd.DataFrame(spx_pos2), pd.DataFrame(spx_neg2)])\n",
    "\n",
    "#Try running regression for Time = 10.30 only\n",
    "spx_pos_neg = spx_pos_neg[spx_pos_neg['Time']=='10:00']\n",
    "# print(spx_pos_reg['Return'])\n",
    "# print(spx_pos_reg['outcome'])\n",
    "plt.scatter(spx_pos_neg['outcome'],spx_pos_neg['Return'])\n",
    "plt.xlabel('Sentiment'), plt.ylabel('Return'),plt.title('Tweet Sentiment vs. S&P Returns')\n",
    "model = sm.OLS(spx_pos_neg['Return'],spx_pos_neg['outcome']).fit()\n",
    "model.summary()"
   ]
  },
  {
   "cell_type": "code",
   "execution_count": null,
   "metadata": {},
   "outputs": [],
   "source": []
  }
 ],
 "metadata": {
  "kernelspec": {
   "display_name": "Python 3",
   "language": "python",
   "name": "python3"
  },
  "language_info": {
   "codemirror_mode": {
    "name": "ipython",
    "version": 3
   },
   "file_extension": ".py",
   "mimetype": "text/x-python",
   "name": "python",
   "nbconvert_exporter": "python",
   "pygments_lexer": "ipython3",
   "version": "3.7.4"
  }
 },
 "nbformat": 4,
 "nbformat_minor": 2
}
