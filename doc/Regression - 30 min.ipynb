{
 "cells": [
  {
   "cell_type": "markdown",
   "metadata": {},
   "source": [
    "# Import the necessary packages "
   ]
  },
  {
   "cell_type": "code",
   "execution_count": 1,
   "metadata": {},
   "outputs": [],
   "source": [
    "import pandas as pd\n",
    "import numpy as np\n",
    "#import pandas_datareader.data as web\n",
    "from datetime import date, datetime\n",
    "import matplotlib.pyplot as plt\n",
    "import statsmodels.api as sm\n",
    "from statsmodels.formula.api import ols \n",
    "from sklearn.linear_model import LogisticRegression"
   ]
  },
  {
   "cell_type": "markdown",
   "metadata": {},
   "source": [
    "# Load data sets & process data"
   ]
  },
  {
   "cell_type": "code",
   "execution_count": 2,
   "metadata": {},
   "outputs": [],
   "source": [
    "#Load S&P 500 & Shanghai Index data\n",
    "#spx is in EST\n",
    "spx = pd.read_csv('../data/input/$spx_intraday-30min.csv')\n",
    "\n",
    "#sse is in China time: GMT+8 --> need to subtract 13 hours to get EST\n",
    "sse = pd.read_csv('../data/input/shanghai_index_30min.csv')\n",
    "#baba is in EST\n",
    "baba = pd.read_csv('../data/input/baba_intraday-30min.csv')\n",
    "\n",
    "#Split Time into data and Time columns\n",
    "\n",
    "spx['Date'] = [datetime.strftime(datetime.strptime(x.split(' ')[0], '%m/%d/%Y'),'%m/%d/%Y') for x in spx['Time']]\n",
    "spx['Rounded_Time'] = [x.split(' ')[1] for x in spx['Time']]\n",
    "spx = spx.iloc[spx[spx['Date']=='12/31/2019'].index[0]: spx[spx['Date']=='01/02/2018'].index[0],:]\n",
    "\n",
    "sse['Date'] = [datetime.strftime(datetime.strptime(x.split(' ')[0], '%Y-%m-%d'),'%m/%d/%Y')for x in sse['trade_time']]\n",
    "sse['Rounded_Time'] = [x.split(' ')[1][:-3] for x in sse['trade_time']]\n",
    "sse = sse.iloc[sse[sse['Date']=='01/02/2018'].index[0]:sse[sse['Date']=='12/31/2019'].index[0],:]\n",
    "\n",
    "baba['Date'] = [datetime.strftime(datetime.strptime(x.split(' ')[0], '%m/%d/%Y'),'%m/%d/%Y') for x in baba['Time']]\n",
    "baba['Rounded_Time'] = [x.split(' ')[1] for x in baba['Time']]\n",
    "baba = baba.iloc[baba[baba['Date']=='12/31/2019'].index[0]: baba[baba['Date']=='01/02/2018'].index[0],:]\n"
   ]
  },
  {
   "cell_type": "code",
   "execution_count": 3,
   "metadata": {},
   "outputs": [],
   "source": [
    "#Calculate log Returns over 30 min increments\n",
    "spx['Return'] = np.log(spx['Last'])- np.log(spx['Open'])\n",
    "spx = spx.dropna()\n",
    "\n",
    "sse['Return'] = np.log(sse['close'])- np.log(sse['open'])\n",
    "sse = sse.dropna()\n",
    "\n",
    "baba['Return'] = np.log(baba['Last'])- np.log(baba['Open'])\n",
    "baba = baba.dropna()\n"
   ]
  },
  {
   "cell_type": "code",
   "execution_count": null,
   "metadata": {},
   "outputs": [],
   "source": []
  },
  {
   "cell_type": "code",
   "execution_count": 6,
   "metadata": {
    "scrolled": true
   },
   "outputs": [
    {
     "data": {
      "text/html": [
       "<div>\n",
       "<style scoped>\n",
       "    .dataframe tbody tr th:only-of-type {\n",
       "        vertical-align: middle;\n",
       "    }\n",
       "\n",
       "    .dataframe tbody tr th {\n",
       "        vertical-align: top;\n",
       "    }\n",
       "\n",
       "    .dataframe thead th {\n",
       "        text-align: right;\n",
       "    }\n",
       "</style>\n",
       "<table border=\"1\" class=\"dataframe\">\n",
       "  <thead>\n",
       "    <tr style=\"text-align: right;\">\n",
       "      <th></th>\n",
       "      <th>Date</th>\n",
       "      <th>Time</th>\n",
       "      <th>Rounded_Time</th>\n",
       "      <th>outcome</th>\n",
       "    </tr>\n",
       "  </thead>\n",
       "  <tbody>\n",
       "    <tr>\n",
       "      <th>43</th>\n",
       "      <td>02/08/2018</td>\n",
       "      <td>12:44</td>\n",
       "      <td>7:30</td>\n",
       "      <td>-1</td>\n",
       "    </tr>\n",
       "    <tr>\n",
       "      <th>44</th>\n",
       "      <td>02/18/2018</td>\n",
       "      <td>6:33</td>\n",
       "      <td>1:30</td>\n",
       "      <td>1</td>\n",
       "    </tr>\n",
       "    <tr>\n",
       "      <th>45</th>\n",
       "      <td>03/07/2018</td>\n",
       "      <td>9:10</td>\n",
       "      <td>4:00</td>\n",
       "      <td>1</td>\n",
       "    </tr>\n",
       "    <tr>\n",
       "      <th>46</th>\n",
       "      <td>03/10/2018</td>\n",
       "      <td>10:15</td>\n",
       "      <td>5:00</td>\n",
       "      <td>-1</td>\n",
       "    </tr>\n",
       "    <tr>\n",
       "      <th>47</th>\n",
       "      <td>03/28/2018</td>\n",
       "      <td>5:16</td>\n",
       "      <td>0:00</td>\n",
       "      <td>1</td>\n",
       "    </tr>\n",
       "  </tbody>\n",
       "</table>\n",
       "</div>"
      ],
      "text/plain": [
       "          Date   Time Rounded_Time  outcome\n",
       "43  02/08/2018  12:44         7:30       -1\n",
       "44  02/18/2018   6:33         1:30        1\n",
       "45  03/07/2018   9:10         4:00        1\n",
       "46  03/10/2018  10:15         5:00       -1\n",
       "47  03/28/2018   5:16         0:00        1"
      ]
     },
     "execution_count": 6,
     "metadata": {},
     "output_type": "execute_result"
    }
   ],
   "source": [
    "#Load lstm balanced data set\n",
    "#lstm_bal is in GMT/UTC time --> need to convert to EST time to regress against S&P prices\n",
    "lstm_bal = pd.read_csv('../output/results/LSTM_balanced_results.csv',index_col=0)\n",
    "\n",
    "#Rounding time to the closest half hour\n",
    "def round_time(time):\n",
    "    if int(time.split(':')[1])<30:\n",
    "        return str(int(time.split(':')[0])-5)+':00'\n",
    "    else:\n",
    "        return str(int(time.split(':')[0])-5)+':30'\n",
    "    \n",
    "lstm_bal['Date'] = [datetime.strftime(datetime.strptime(x.split(' ')[0], '%Y-%m-%d'),'%m/%d/%Y') for x in lstm_bal['Date']]\n",
    "lstm_bal['Rounded_Time'] = [round_time(x) for x in lstm_bal['Time']]\n",
    "\n",
    "lstm_bal = lstm_bal[['Date','Time','Rounded_Time','outcome']]\n",
    "lstm_bal.head(5)\n"
   ]
  },
  {
   "cell_type": "code",
   "execution_count": 324,
   "metadata": {},
   "outputs": [
    {
     "data": {
      "text/html": [
       "<div>\n",
       "<style scoped>\n",
       "    .dataframe tbody tr th:only-of-type {\n",
       "        vertical-align: middle;\n",
       "    }\n",
       "\n",
       "    .dataframe tbody tr th {\n",
       "        vertical-align: top;\n",
       "    }\n",
       "\n",
       "    .dataframe thead th {\n",
       "        text-align: right;\n",
       "    }\n",
       "</style>\n",
       "<table border=\"1\" class=\"dataframe\">\n",
       "  <thead>\n",
       "    <tr style=\"text-align: right;\">\n",
       "      <th></th>\n",
       "      <th>Date</th>\n",
       "      <th>Time</th>\n",
       "      <th>Rounded_Time</th>\n",
       "      <th>sentiment</th>\n",
       "    </tr>\n",
       "  </thead>\n",
       "  <tbody>\n",
       "    <tr>\n",
       "      <th>43</th>\n",
       "      <td>02/08/2018</td>\n",
       "      <td>12:44</td>\n",
       "      <td>12:30</td>\n",
       "      <td>0</td>\n",
       "    </tr>\n",
       "    <tr>\n",
       "      <th>44</th>\n",
       "      <td>02/18/2018</td>\n",
       "      <td>6:33</td>\n",
       "      <td>6:30</td>\n",
       "      <td>1</td>\n",
       "    </tr>\n",
       "    <tr>\n",
       "      <th>45</th>\n",
       "      <td>03/07/2018</td>\n",
       "      <td>9:10</td>\n",
       "      <td>9:00</td>\n",
       "      <td>1</td>\n",
       "    </tr>\n",
       "    <tr>\n",
       "      <th>46</th>\n",
       "      <td>03/10/2018</td>\n",
       "      <td>10:15</td>\n",
       "      <td>10:00</td>\n",
       "      <td>0</td>\n",
       "    </tr>\n",
       "    <tr>\n",
       "      <th>47</th>\n",
       "      <td>03/28/2018</td>\n",
       "      <td>5:16</td>\n",
       "      <td>5:00</td>\n",
       "      <td>-1</td>\n",
       "    </tr>\n",
       "  </tbody>\n",
       "</table>\n",
       "</div>"
      ],
      "text/plain": [
       "          Date   Time Rounded_Time  sentiment\n",
       "43  02/08/2018  12:44        12:30          0\n",
       "44  02/18/2018   6:33         6:30          1\n",
       "45  03/07/2018   9:10         9:00          1\n",
       "46  03/10/2018  10:15        10:00          0\n",
       "47  03/28/2018   5:16         5:00         -1"
      ]
     },
     "execution_count": 324,
     "metadata": {},
     "output_type": "execute_result"
    }
   ],
   "source": [
    "#Load textblob data set\n",
    "textblob = pd.read_csv('../output/results/textblob_prediction_data.csv',index_col=0)\n",
    "   \n",
    "textblob['Date'] = [datetime.strftime(datetime.strptime(x.split(' ')[0], '%m/%d/%Y'),'%m/%d/%Y') for x in textblob['date']]\n",
    "textblob['Time'] = [x.split(' ')[1] for x in textblob['date']]\n",
    "textblob['Rounded_Time'] = [round_time(x) for x in textblob['Time']]\n",
    "\n",
    "textblob = textblob[['Date','Time','Rounded_Time','sentiment']]\n",
    "textblob.head(5)"
   ]
  },
  {
   "cell_type": "code",
   "execution_count": 328,
   "metadata": {},
   "outputs": [],
   "source": [
    "#Separate lstm_bal data set into Positive (positive tweets), & negative (negative tweets)\n",
    "lstm_pos = lstm_bal[lstm_bal['outcome']==1]\n",
    "lstm_neg = lstm_bal[lstm_bal['outcome']==-1]\n"
   ]
  },
  {
   "cell_type": "code",
   "execution_count": 311,
   "metadata": {},
   "outputs": [],
   "source": [
    "#Separate textblob data set into Positive (positive tweets), & negative (negative tweets)\n",
    "textblob_pos = textblob[textblob['sentiment']==1]\n",
    "textblob_neg = textblob[textblob['sentiment']==-1]\n"
   ]
  },
  {
   "cell_type": "code",
   "execution_count": 329,
   "metadata": {},
   "outputs": [],
   "source": [
    "#Commented out because the code takes long to run \n",
    "#Drop duplicates\n",
    "lstm_neg = lstm_neg.drop_duplicates(subset=['Date', 'Rounded_Time'], keep='first')\n",
    "lstm_pos = lstm_pos.drop_duplicates(subset=['Date', 'Rounded_Time'], keep='first')\n",
    "\n",
    "#Drop rows of 30 min with conflicting sentiment tweets (both + and - in the same 30 min)\n",
    "neg_drop_index = []\n",
    "pos_drop_index = []\n",
    "\n",
    "for i in range(0,lstm_neg.shape[0]):\n",
    "    for j in range(0,lstm_pos.shape[0]):\n",
    "        if lstm_neg.iloc[i,0]== lstm_pos.iloc[j,0] and lstm_neg.iloc[i,2]== lstm_pos.iloc[j,2]:\n",
    "            neg_drop_index.append(i)\n",
    "            pos_drop_index.append(j)\n",
    "\n",
    "lstm_neg2 = lstm_neg.drop(lstm_neg.index[neg_drop_index])\n",
    "lstm_pos2 = lstm_pos.drop(lstm_pos.index[pos_drop_index])\n",
    "\n",
    "#Concatenating postive and negative tweets \n",
    "lstm_merged = pd.concat([lstm_neg2,lstm_pos2])\n",
    "lstm_merged.to_csv('../output/results/lstm_merged.csv')"
   ]
  },
  {
   "cell_type": "code",
   "execution_count": 330,
   "metadata": {},
   "outputs": [],
   "source": [
    "# Load lstm_merged data set\n",
    "lstm_merged = pd.read_csv('../output/results/lstm_merged.csv')"
   ]
  },
  {
   "cell_type": "code",
   "execution_count": 312,
   "metadata": {},
   "outputs": [],
   "source": [
    "#Commented out because the code takes long to run \n",
    "#Drop duplicates\n",
    "textblob_neg = textblob_neg.drop_duplicates(subset=['Date', 'Rounded_Time'], keep='first')\n",
    "textblob_pos = textblob_pos.drop_duplicates(subset=['Date', 'Rounded_Time'], keep='first')\n",
    "\n",
    "#Drop rows of 30 min with conflicting sentiment tweets (both + and - in the same 30 min)\n",
    "neg_drop_index = []\n",
    "pos_drop_index = []\n",
    "\n",
    "for i in range(0,textblob_neg.shape[0]):\n",
    "    for j in range(0,textblob_pos.shape[0]):\n",
    "        if textblob_neg.iloc[i,0]== textblob_pos.iloc[j,0] and textblob_neg.iloc[i,2]== textblob_pos.iloc[j,2]:\n",
    "            neg_drop_index.append(i)\n",
    "            pos_drop_index.append(j)\n",
    "\n",
    "textblob_neg2 = textblob_neg.drop(textblob_neg.index[neg_drop_index])\n",
    "textblob_pos2 = textblob_pos.drop(textblob_pos.index[pos_drop_index])\n",
    "\n",
    "#Concatenating postive and negative tweets \n",
    "textblob_merged = pd.concat([textblob_neg2,textblob_pos2])\n",
    "textblob_merged.to_csv('../output/results/textblob_merged.csv')"
   ]
  },
  {
   "cell_type": "code",
   "execution_count": 313,
   "metadata": {},
   "outputs": [],
   "source": [
    "# Load textblob_merged data set\n",
    "textblob_merged = pd.read_csv('../output/results/textblob_merged.csv')"
   ]
  },
  {
   "cell_type": "markdown",
   "metadata": {},
   "source": [
    "# Merging financial data with sentiment data"
   ]
  },
  {
   "cell_type": "markdown",
   "metadata": {},
   "source": [
    "## 1. Merging S&P 500 with lstm data set"
   ]
  },
  {
   "cell_type": "code",
   "execution_count": 360,
   "metadata": {
    "scrolled": false
   },
   "outputs": [
    {
     "name": "stdout",
     "output_type": "stream",
     "text": [
      "           Date Rounded_Time    Return  Positive  Negative\n",
      "12   12/31/2019        10:30 -0.000998         1         0\n",
      "87   12/20/2019        15:00 -0.000623         0         1\n",
      "436  11/18/2019        10:00 -0.000922         1         0\n",
      "588  11/01/2019        16:00 -0.000013         1         0\n",
      "616  10/31/2019         9:30 -0.002827         1         0\n"
     ]
    },
    {
     "data": {
      "image/png": "[encoded data removed]",
      "text/plain": [
       "<Figure size 432x288 with 1 Axes>"
      ]
     },
     "metadata": {
      "needs_background": "light"
     },
     "output_type": "display_data"
    }
   ],
   "source": [
    "spx_reg = spx.merge(lstm_merged, how = 'outer', on = ['Date','Rounded_Time'])\n",
    "\n",
    "#Drop unnecessary columns\n",
    "spx_reg = spx_reg.drop(['High','Low','Volume','Change'],axis = 1)\n",
    "spx_reg['outcome'] = spx_reg['outcome'].fillna(0)\n",
    "spx_reg['Return'] = spx_reg['Return'].fillna(0)\n",
    "#Drop rows with no change in price (0 Return) or with no tweet\n",
    "spx_reg = spx_reg.drop(spx_reg[spx_reg['Return'] == 0].index)\n",
    "\n",
    "plt.scatter( spx_reg['outcome'],spx_reg['Return'])\n",
    "\n",
    "# fit_logit_pos = LogisticRegression()\n",
    "# x = spx_reg['Return']\n",
    "# y = spx_reg['outcome']\n",
    "# fit_logit_pos.fit(x,y) \n",
    "# print(fit_logit_pos.summary())\n",
    "\n",
    "#Assign Neutral to half hours with no tweet\n",
    "spx_reg['Positive'] = (spx_reg['outcome'] == 1)\n",
    "spx_reg['Negative'] = (spx_reg['outcome'] == -1)\n",
    "#spx_reg['Neutral'] = (spx_reg['outcome'] == 0)\n",
    "\n",
    "spx_reg = spx_reg[['Date','Rounded_Time','Return','Positive','Negative']]\n",
    "\n",
    "spx_reg = spx_reg.drop(spx_reg[(spx_reg['Positive'] == 0) & (spx_reg['Negative']==0)].index)\n",
    "spx_reg['Positive'] = [int(x==True) for x in spx_reg['Positive']]\n",
    "spx_reg['Negative'] = [int(x==True) for x in spx_reg['Negative']]\n",
    "#spx_reg['Neutral'] = [int(x==True) for x in spx_reg['Neutral']]\n",
    "\n",
    "spx_reg.to_csv('../output/results/spx_reg.csv')\n",
    "print(spx_reg.head(5))"
   ]
  },
  {
   "cell_type": "code",
   "execution_count": null,
   "metadata": {},
   "outputs": [],
   "source": []
  },
  {
   "cell_type": "markdown",
   "metadata": {},
   "source": [
    "## 2. Merging S&P 500 with textblob data set"
   ]
  },
  {
   "cell_type": "code",
   "execution_count": 332,
   "metadata": {},
   "outputs": [],
   "source": [
    "spx_textblob = spx.merge(textblob_merged, how = 'outer', on = ['Date','Rounded_Time'])\n",
    "\n",
    "#Drop unnecessary columns\n",
    "spx_textblob = spx_textblob.drop(['High','Low','Volume','Change'],axis = 1)\n",
    "spx_textblob['sentiment'] = spx_textblob['sentiment'].fillna(0)\n",
    "spx_textblob['Return'] = spx_textblob['Return'].fillna(0)\n",
    "spx_textblob = spx_textblob.drop(spx_textblob[spx_textblob['Return'] == 0].index)\n",
    "\n",
    "#Assign Neutral to half hours with no tweet\n",
    "spx_textblob['Positive'] = (spx_textblob['sentiment'] == 1)\n",
    "spx_textblob['Negative'] = (spx_textblob['sentiment'] == -1)\n",
    "#spx_textblob['Neutral'] = (spx_textblob['Sentiment'] == 0)\n",
    "\n",
    "spx_textblob = spx_textblob[['Date','Rounded_Time','Return','Positive','Negative']]\n",
    "\n",
    "spx_textblob = spx_textblob.drop(spx_textblob[(spx_textblob['Positive'] == 0) & (spx_textblob['Negative']==0)].index)\n",
    "spx_textblob['Positive'] = [int(x==True) for x in spx_textblob['Positive']]\n",
    "spx_textblob['Negative'] = [int(x==True) for x in spx_textblob['Negative']]\n",
    "#spx_textblob['Neutral'] = [int(x==True) for x in spx_textblob['Neutral']]\n",
    "\n",
    "spx_textblob.to_csv('../output/results/spx_textblob.csv')\n"
   ]
  },
  {
   "cell_type": "markdown",
   "metadata": {},
   "source": [
    "## 3. Merging Shanghai Composite Index with lstm data set"
   ]
  },
  {
   "cell_type": "code",
   "execution_count": 333,
   "metadata": {},
   "outputs": [],
   "source": [
    "sse_reg = sse.merge(lstm_merged, how = 'outer', on = ['Date','Rounded_Time'])\n",
    "\n",
    "#Drop unnecessary columns\n",
    "sse_reg = sse_reg.drop(['high','low','volume','money'],axis = 1)\n",
    "sse_reg['outcome'] = sse_reg['outcome'].fillna(0)\n",
    "sse_reg['Return'] = sse_reg['Return'].fillna(0)\n",
    "sse_reg = sse_reg.drop(sse_reg[sse_reg['Return'] == 0].index)\n",
    "\n",
    "\n",
    "#Assign Neutral to half hours with no tweet\n",
    "sse_reg['Positive'] = (sse_reg['outcome'] == 1)\n",
    "sse_reg['Negative'] = (sse_reg['outcome'] == -1)\n",
    "#sse_reg['Neutral'] = (sse_reg['outcome'] == 0)\n",
    "\n",
    "sse_reg = sse_reg[['Date','Rounded_Time','Return','Positive','Negative']]\n",
    "\n",
    "sse_reg = sse_reg.drop(sse_reg[(sse_reg['Positive'] == 0) & (sse_reg['Negative']==0)].index)\n",
    "sse_reg['Positive'] = [int(x==True) for x in sse_reg['Positive']]\n",
    "sse_reg['Negative'] = [int(x==True) for x in sse_reg['Negative']]\n",
    "#sse_reg['Neutral'] = [int(x==True) for x in sse_reg['Neutral']]\n",
    "\n",
    "sse_reg.to_csv('../output/results/sse_reg.csv')\n"
   ]
  },
  {
   "cell_type": "markdown",
   "metadata": {},
   "source": [
    "## 4. Merging Shanghai Composite Index with textblob data set"
   ]
  },
  {
   "cell_type": "code",
   "execution_count": 349,
   "metadata": {},
   "outputs": [
    {
     "data": {
      "text/html": [
       "<div>\n",
       "<style scoped>\n",
       "    .dataframe tbody tr th:only-of-type {\n",
       "        vertical-align: middle;\n",
       "    }\n",
       "\n",
       "    .dataframe tbody tr th {\n",
       "        vertical-align: top;\n",
       "    }\n",
       "\n",
       "    .dataframe thead th {\n",
       "        text-align: right;\n",
       "    }\n",
       "</style>\n",
       "<table border=\"1\" class=\"dataframe\">\n",
       "  <thead>\n",
       "    <tr style=\"text-align: right;\">\n",
       "      <th></th>\n",
       "      <th>Date</th>\n",
       "      <th>Rounded_Time</th>\n",
       "      <th>Return</th>\n",
       "      <th>Positive</th>\n",
       "      <th>Negative</th>\n",
       "    </tr>\n",
       "  </thead>\n",
       "  <tbody>\n",
       "    <tr>\n",
       "      <th>198</th>\n",
       "      <td>02/05/2018</td>\n",
       "      <td>14:30</td>\n",
       "      <td>0.000198</td>\n",
       "      <td>1</td>\n",
       "      <td>0</td>\n",
       "    </tr>\n",
       "    <tr>\n",
       "      <th>420</th>\n",
       "      <td>03/22/2018</td>\n",
       "      <td>13:30</td>\n",
       "      <td>0.001090</td>\n",
       "      <td>1</td>\n",
       "      <td>0</td>\n",
       "    </tr>\n",
       "    <tr>\n",
       "      <th>450</th>\n",
       "      <td>03/28/2018</td>\n",
       "      <td>11:00</td>\n",
       "      <td>-0.000941</td>\n",
       "      <td>0</td>\n",
       "      <td>1</td>\n",
       "    </tr>\n",
       "    <tr>\n",
       "      <th>508</th>\n",
       "      <td>04/10/2018</td>\n",
       "      <td>13:30</td>\n",
       "      <td>-0.001987</td>\n",
       "      <td>1</td>\n",
       "      <td>0</td>\n",
       "    </tr>\n",
       "    <tr>\n",
       "      <th>525</th>\n",
       "      <td>04/12/2018</td>\n",
       "      <td>14:00</td>\n",
       "      <td>-0.002173</td>\n",
       "      <td>1</td>\n",
       "      <td>0</td>\n",
       "    </tr>\n",
       "  </tbody>\n",
       "</table>\n",
       "</div>"
      ],
      "text/plain": [
       "           Date Rounded_Time    Return  Positive  Negative\n",
       "198  02/05/2018        14:30  0.000198         1         0\n",
       "420  03/22/2018        13:30  0.001090         1         0\n",
       "450  03/28/2018        11:00 -0.000941         0         1\n",
       "508  04/10/2018        13:30 -0.001987         1         0\n",
       "525  04/12/2018        14:00 -0.002173         1         0"
      ]
     },
     "execution_count": 349,
     "metadata": {},
     "output_type": "execute_result"
    }
   ],
   "source": [
    "sse_textblob = sse.merge(textblob_merged, how = 'outer', on = ['Date','Rounded_Time'])\n",
    "\n",
    "#Drop unnecessary columns\n",
    "sse_textblob = sse_textblob.drop(['high','low','volume','money'],axis = 1)\n",
    "sse_textblob['sentiment'] = sse_textblob['sentiment'].fillna(0)\n",
    "sse_textblob['Return'] = sse_textblob['Return'].fillna(0)\n",
    "sse_textblob = sse_textblob.drop(sse_textblob[sse_textblob['Return'] == 0].index)\n",
    "\n",
    "\n",
    "#Assign Neutral to half hours with no tweet\n",
    "sse_textblob['Positive'] = (sse_textblob['sentiment'] == 1)\n",
    "sse_textblob['Negative'] = (sse_textblob['sentiment'] == -1)\n",
    "#sse_textblob['Neutral'] = (sse_textblob['sentiment'] == 0)\n",
    "\n",
    "sse_textblob = sse_textblob[['Date','Rounded_Time','Return','Positive','Negative']]\n",
    "\n",
    "sse_textblob = sse_textblob.drop(sse_textblob[(sse_textblob['Positive'] == 0) & (sse_textblob['Negative']==0)].index)\n",
    "sse_textblob['Positive'] = [int(x==True) for x in sse_textblob['Positive']]\n",
    "sse_textblob['Negative'] = [int(x==True) for x in sse_textblob['Negative']]\n",
    "#sse_textblob['Neutral'] = [int(x==True) for x in sse_textblob['Neutral']]\n",
    "\n",
    "sse_textblob.to_csv('../output/results/sse_textblob.csv')\n",
    "sse_textblob.head(5)"
   ]
  },
  {
   "cell_type": "markdown",
   "metadata": {},
   "source": [
    "## 5. Merging Alibaba with lstm data set"
   ]
  },
  {
   "cell_type": "code",
   "execution_count": 341,
   "metadata": {},
   "outputs": [],
   "source": [
    "baba_lstm = sse.merge(lstm_merged, how = 'outer', on = ['Date','Rounded_Time'])\n",
    "\n",
    "#Drop unnecessary columns\n",
    "baba_lstm = baba_lstm.drop(['high','low','volume','money'],axis = 1)\n",
    "baba_lstm['outcome'] = baba_lstm['outcome'].fillna(0)\n",
    "baba_lstm['Return'] = baba_lstm['Return'].fillna(0)\n",
    "baba_lstm = baba_lstm.drop(baba_lstm[baba_lstm['Return'] == 0].index)\n",
    "\n",
    "\n",
    "#Assign Neutral to half hours with no tweet\n",
    "baba_lstm['Positive'] = (baba_lstm['outcome'] == 1)\n",
    "baba_lstm['Negative'] = (baba_lstm['outcome'] == -1)\n",
    "#baba_lstm['Neutral'] = (baba_lstm['outcome'] == 0)\n",
    "\n",
    "baba_lstm = baba_lstm[['Date','Rounded_Time','Return','Positive','Negative']]\n",
    "\n",
    "baba_lstm = baba_lstm.drop(baba_lstm[(baba_lstm['Positive'] == 0) & (baba_lstm['Negative']==0)].index)\n",
    "baba_lstm['Positive'] = [int(x==True) for x in baba_lstm['Positive']]\n",
    "baba_lstm['Negative'] = [int(x==True) for x in baba_lstm['Negative']]\n",
    "#baba_lstm['Neutral'] = [int(x==True) for x in baba_lstm['Neutral']]\n",
    "\n",
    "baba_lstm.to_csv('../output/results/baba_lstm.csv')"
   ]
  },
  {
   "cell_type": "markdown",
   "metadata": {},
   "source": [
    "## 6. Merging Alibaba with textblob data set¶"
   ]
  },
  {
   "cell_type": "code",
   "execution_count": 346,
   "metadata": {},
   "outputs": [],
   "source": [
    "baba_textblob = baba.merge(textblob_merged, how = 'outer', on = ['Date','Rounded_Time'])\n",
    "\n",
    "#Drop unnecessary columns\n",
    "baba_textblob = baba_textblob.drop(['High','Low','Volume','Change'],axis = 1)\n",
    "baba_textblob['sentiment'] = baba_textblob['sentiment'].fillna(0)\n",
    "baba_textblob['Return'] = baba_textblob['Return'].fillna(0)\n",
    "baba_textblob = baba_textblob.drop(baba_textblob[baba_textblob['Return'] == 0].index)\n",
    "\n",
    "#Assign Neutral to half hours with no tweet\n",
    "baba_textblob['Positive'] = (baba_textblob['sentiment'] == 1)\n",
    "baba_textblob['Negative'] = (baba_textblob['sentiment'] == -1)\n",
    "#baba_textblob['Neutral'] = (baba_textblob['Sentiment'] == 0)\n",
    "\n",
    "baba_textblob = baba_textblob[['Date','Rounded_Time','Return','Positive','Negative']]\n",
    "\n",
    "baba_textblob = baba_textblob.drop(baba_textblob[(baba_textblob['Positive'] == 0) & (baba_textblob['Negative']==0)].index)\n",
    "baba_textblob['Positive'] = [int(x==True) for x in baba_textblob['Positive']]\n",
    "baba_textblob['Negative'] = [int(x==True) for x in baba_textblob['Negative']]\n",
    "#baba_textblob['Neutral'] = [int(x==True) for x in baba_textblob['Neutral']]\n",
    "\n",
    "baba_textblob.to_csv('../output/results/baba_textblob.csv')\n"
   ]
  },
  {
   "cell_type": "markdown",
   "metadata": {},
   "source": [
    "# Run Regression on merged data set"
   ]
  },
  {
   "cell_type": "markdown",
   "metadata": {},
   "source": [
    "## 1. S&P 500 vs. lstm sentiment"
   ]
  },
  {
   "cell_type": "code",
   "execution_count": 359,
   "metadata": {
    "scrolled": false
   },
   "outputs": [
    {
     "name": "stdout",
     "output_type": "stream",
     "text": [
      "                            OLS Regression Results                            \n",
      "==============================================================================\n",
      "Dep. Variable:                 Return   R-squared:                       0.005\n",
      "Model:                            OLS   Adj. R-squared:                 -0.004\n",
      "Method:                 Least Squares   F-statistic:                    0.5978\n",
      "Date:                Tue, 15 Dec 2020   Prob (F-statistic):              0.441\n",
      "Time:                        17:49:05   Log-Likelihood:                 525.44\n",
      "No. Observations:                 111   AIC:                            -1047.\n",
      "Df Residuals:                     109   BIC:                            -1041.\n",
      "Df Model:                           1                                         \n",
      "Covariance Type:            nonrobust                                         \n",
      "====================================================================================\n",
      "                       coef    std err          t      P>|t|      [0.025      0.975]\n",
      "------------------------------------------------------------------------------------\n",
      "Intercept           -0.0002      0.000     -0.602      0.548      -0.001       0.000\n",
      "C(Positive)[T.1]    -0.0003      0.000     -0.773      0.441      -0.001       0.001\n",
      "==============================================================================\n",
      "Omnibus:                       35.174   Durbin-Watson:                   1.770\n",
      "Prob(Omnibus):                  0.000   Jarque-Bera (JB):               76.309\n",
      "Skew:                          -1.250   Prob(JB):                     2.69e-17\n",
      "Kurtosis:                       6.202   Cond. No.                         2.87\n",
      "==============================================================================\n",
      "\n",
      "Notes:\n",
      "[1] Standard Errors assume that the covariance matrix of the errors is correctly specified.\n",
      "                            OLS Regression Results                            \n",
      "==============================================================================\n",
      "Dep. Variable:                 Return   R-squared:                       0.005\n",
      "Model:                            OLS   Adj. R-squared:                 -0.004\n",
      "Method:                 Least Squares   F-statistic:                    0.5978\n",
      "Date:                Tue, 15 Dec 2020   Prob (F-statistic):              0.441\n",
      "Time:                        17:49:05   Log-Likelihood:                 525.44\n",
      "No. Observations:                 111   AIC:                            -1047.\n",
      "Df Residuals:                     109   BIC:                            -1041.\n",
      "Df Model:                           1                                         \n",
      "Covariance Type:            nonrobust                                         \n",
      "====================================================================================\n",
      "                       coef    std err          t      P>|t|      [0.025      0.975]\n",
      "------------------------------------------------------------------------------------\n",
      "Intercept           -0.0005      0.000     -1.917      0.058      -0.001    1.73e-05\n",
      "C(Negative)[T.1]     0.0003      0.000      0.773      0.441      -0.001       0.001\n",
      "==============================================================================\n",
      "Omnibus:                       35.174   Durbin-Watson:                   1.770\n",
      "Prob(Omnibus):                  0.000   Jarque-Bera (JB):               76.309\n",
      "Skew:                          -1.250   Prob(JB):                     2.69e-17\n",
      "Kurtosis:                       6.202   Cond. No.                         2.47\n",
      "==============================================================================\n",
      "\n",
      "Notes:\n",
      "[1] Standard Errors assume that the covariance matrix of the errors is correctly specified.\n"
     ]
    }
   ],
   "source": [
    "fit_pos = ols('Return ~ C(Positive)', data=spx_reg).fit() \n",
    "print(fit_pos.summary())\n",
    "\n",
    "# fit_neutral = ols('Return ~ C(Neutral)', data=spx_reg).fit() \n",
    "# print(fit_neutral.summary())"
   ]
  },
  {
   "cell_type": "code",
   "execution_count": 8,
   "metadata": {},
   "outputs": [
    {
     "ename": "NameError",
     "evalue": "name 'spx_reg' is not defined",
     "output_type": "error",
     "traceback": [
      "\u001b[1;31m---------------------------------------------------------------------------\u001b[0m",
      "\u001b[1;31mNameError\u001b[0m                                 Traceback (most recent call last)",
      "\u001b[1;32m<ipython-input-8-f0ab78968ed2>\u001b[0m in \u001b[0;36m<module>\u001b[1;34m\u001b[0m\n\u001b[1;32m----> 1\u001b[1;33m \u001b[0mx\u001b[0m \u001b[1;33m=\u001b[0m \u001b[0mspx_reg\u001b[0m\u001b[1;33m[\u001b[0m\u001b[1;34m'Return'\u001b[0m\u001b[1;33m]\u001b[0m\u001b[1;33m\u001b[0m\u001b[1;33m\u001b[0m\u001b[0m\n\u001b[0m\u001b[0;32m      2\u001b[0m \u001b[0my\u001b[0m \u001b[1;33m=\u001b[0m \u001b[0mspx_reg\u001b[0m\u001b[1;33m[\u001b[0m\u001b[1;34m'Positive'\u001b[0m\u001b[1;33m]\u001b[0m\u001b[1;33m\u001b[0m\u001b[1;33m\u001b[0m\u001b[0m\n\u001b[0;32m      3\u001b[0m \u001b[0mstd_x\u001b[0m \u001b[1;33m=\u001b[0m \u001b[0mnp\u001b[0m\u001b[1;33m.\u001b[0m\u001b[0mstd\u001b[0m\u001b[1;33m(\u001b[0m\u001b[0mx\u001b[0m\u001b[1;33m)\u001b[0m\u001b[1;33m\u001b[0m\u001b[1;33m\u001b[0m\u001b[0m\n\u001b[0;32m      4\u001b[0m \u001b[0mM1\u001b[0m \u001b[1;33m=\u001b[0m \u001b[0mnp\u001b[0m\u001b[1;33m.\u001b[0m\u001b[0mmean\u001b[0m\u001b[1;33m(\u001b[0m\u001b[0mspx_reg\u001b[0m\u001b[1;33m[\u001b[0m\u001b[0mspx_reg\u001b[0m\u001b[1;33m[\u001b[0m\u001b[1;34m'Positive'\u001b[0m\u001b[1;33m]\u001b[0m\u001b[1;33m==\u001b[0m\u001b[1;36m1\u001b[0m\u001b[1;33m]\u001b[0m\u001b[1;33m[\u001b[0m\u001b[1;34m'Return'\u001b[0m\u001b[1;33m]\u001b[0m\u001b[1;33m)\u001b[0m\u001b[1;33m\u001b[0m\u001b[1;33m\u001b[0m\u001b[0m\n\u001b[0;32m      5\u001b[0m \u001b[0mn1\u001b[0m \u001b[1;33m=\u001b[0m \u001b[0mspx_reg\u001b[0m\u001b[1;33m[\u001b[0m\u001b[0mspx_reg\u001b[0m\u001b[1;33m[\u001b[0m\u001b[1;34m'Positive'\u001b[0m\u001b[1;33m]\u001b[0m\u001b[1;33m==\u001b[0m\u001b[1;36m1\u001b[0m\u001b[1;33m]\u001b[0m\u001b[1;33m.\u001b[0m\u001b[0mshape\u001b[0m\u001b[1;33m[\u001b[0m\u001b[1;36m0\u001b[0m\u001b[1;33m]\u001b[0m\u001b[1;33m\u001b[0m\u001b[1;33m\u001b[0m\u001b[0m\n",
      "\u001b[1;31mNameError\u001b[0m: name 'spx_reg' is not defined"
     ]
    }
   ],
   "source": [
    "x = spx_reg['Return']\n",
    "y = spx_reg['Positive']\n",
    "std_x = np.std(x)\n",
    "M1 = np.mean(spx_reg[spx_reg['Positive']==1]['Return'])\n",
    "n1 = spx_reg[spx_reg['Positive']==1].shape[0]\n",
    "M0 = np.mean(spx_reg[spx_reg['Negative']==1]['Return'])\n",
    "n0 = spx_reg[spx_reg['Negative']==1].shape[0]\n",
    "n = n1+n0\n",
    "rpb = (M1-M0)*np.sqrt(n1*n0/(n*(n-1)))/std_x\n",
    "print(M1,n1,M2,n2,std_x,rpb)\n",
    "\n"
   ]
  },
  {
   "cell_type": "markdown",
   "metadata": {},
   "source": [
    "## 2. S&P 500 vs. textblob sentiment"
   ]
  },
  {
   "cell_type": "code",
   "execution_count": 336,
   "metadata": {},
   "outputs": [
    {
     "name": "stdout",
     "output_type": "stream",
     "text": [
      "                            OLS Regression Results                            \n",
      "==============================================================================\n",
      "Dep. Variable:                 Return   R-squared:                       0.000\n",
      "Model:                            OLS   Adj. R-squared:                 -0.011\n",
      "Method:                 Least Squares   F-statistic:                  0.001995\n",
      "Date:                Mon, 14 Dec 2020   Prob (F-statistic):              0.964\n",
      "Time:                        22:11:52   Log-Likelihood:                 435.04\n",
      "No. Observations:                  91   AIC:                            -866.1\n",
      "Df Residuals:                      89   BIC:                            -861.1\n",
      "Df Model:                           1                                         \n",
      "Covariance Type:            nonrobust                                         \n",
      "====================================================================================\n",
      "                       coef    std err          t      P>|t|      [0.025      0.975]\n",
      "------------------------------------------------------------------------------------\n",
      "Intercept           -0.0005      0.000     -1.194      0.236      -0.001       0.000\n",
      "C(Positive)[T.1]  2.083e-05      0.000      0.045      0.964      -0.001       0.001\n",
      "==============================================================================\n",
      "Omnibus:                       45.454   Durbin-Watson:                   2.078\n",
      "Prob(Omnibus):                  0.000   Jarque-Bera (JB):              120.109\n",
      "Skew:                          -1.795   Prob(JB):                     8.29e-27\n",
      "Kurtosis:                       7.334   Cond. No.                         3.37\n",
      "==============================================================================\n",
      "\n",
      "Notes:\n",
      "[1] Standard Errors assume that the covariance matrix of the errors is correctly specified.\n",
      "                            OLS Regression Results                            \n",
      "==============================================================================\n",
      "Dep. Variable:                 Return   R-squared:                       0.000\n",
      "Model:                            OLS   Adj. R-squared:                 -0.011\n",
      "Method:                 Least Squares   F-statistic:                  0.001995\n",
      "Date:                Mon, 14 Dec 2020   Prob (F-statistic):              0.964\n",
      "Time:                        22:11:52   Log-Likelihood:                 435.04\n",
      "No. Observations:                  91   AIC:                            -866.1\n",
      "Df Residuals:                      89   BIC:                            -861.1\n",
      "Df Model:                           1                                         \n",
      "Covariance Type:            nonrobust                                         \n",
      "====================================================================================\n",
      "                       coef    std err          t      P>|t|      [0.025      0.975]\n",
      "------------------------------------------------------------------------------------\n",
      "Intercept           -0.0004      0.000     -1.710      0.091      -0.001    7.16e-05\n",
      "C(Negative)[T.1] -2.083e-05      0.000     -0.045      0.964      -0.001       0.001\n",
      "==============================================================================\n",
      "Omnibus:                       45.454   Durbin-Watson:                   2.078\n",
      "Prob(Omnibus):                  0.000   Jarque-Bera (JB):              120.109\n",
      "Skew:                          -1.795   Prob(JB):                     8.29e-27\n",
      "Kurtosis:                       7.334   Cond. No.                         2.42\n",
      "==============================================================================\n",
      "\n",
      "Notes:\n",
      "[1] Standard Errors assume that the covariance matrix of the errors is correctly specified.\n"
     ]
    }
   ],
   "source": [
    "fit_spx_textblob_pos = ols('Return ~ C(Positive)', data=spx_textblob).fit() \n",
    "print(fit_spx_textblob_pos.summary())\n",
    "fit_spx_textblob_neg = ols('Return ~ C(Negative)', data=spx_textblob).fit() \n",
    "print(fit_spx_textblob_neg.summary())"
   ]
  },
  {
   "cell_type": "code",
   "execution_count": 369,
   "metadata": {},
   "outputs": [
    {
     "name": "stdout",
     "output_type": "stream",
     "text": [
      "Optimization terminated successfully.\n",
      "         Current function value: 0.690020\n",
      "         Iterations 5\n",
      "                           Logit Regression Results                           \n",
      "==============================================================================\n",
      "Dep. Variable:               Positive   No. Observations:                   91\n",
      "Model:                          Logit   Df Residuals:                       90\n",
      "Method:                           MLE   Df Model:                            0\n",
      "Date:                Tue, 15 Dec 2020   Pseudo R-squ.:                 -0.1179\n",
      "Time:                        17:59:40   Log-Likelihood:                -62.792\n",
      "converged:                       True   LL-Null:                       -56.169\n",
      "Covariance Type:            nonrobust   LLR p-value:                       nan\n",
      "==============================================================================\n",
      "                 coef    std err          z      P>|z|      [0.025      0.975]\n",
      "------------------------------------------------------------------------------\n",
      "Return       -77.0741    103.493     -0.745      0.456    -279.916     125.768\n",
      "==============================================================================\n"
     ]
    }
   ],
   "source": [
    "logit_model=sm.Logit(spx_textblob['Positive'],spx_textblob['Return'])\n",
    "result=logit_model.fit()\n",
    "print(result.summary())"
   ]
  },
  {
   "cell_type": "markdown",
   "metadata": {},
   "source": [
    "## 3. Shanghai Composite Index vs. lstm"
   ]
  },
  {
   "cell_type": "code",
   "execution_count": 337,
   "metadata": {},
   "outputs": [
    {
     "name": "stdout",
     "output_type": "stream",
     "text": [
      "                            OLS Regression Results                            \n",
      "==============================================================================\n",
      "Dep. Variable:                 Return   R-squared:                       0.008\n",
      "Model:                            OLS   Adj. R-squared:                 -0.012\n",
      "Method:                 Least Squares   F-statistic:                    0.4107\n",
      "Date:                Mon, 14 Dec 2020   Prob (F-statistic):              0.525\n",
      "Time:                        22:11:57   Log-Likelihood:                 232.66\n",
      "No. Observations:                  52   AIC:                            -461.3\n",
      "Df Residuals:                      50   BIC:                            -457.4\n",
      "Df Model:                           1                                         \n",
      "Covariance Type:            nonrobust                                         \n",
      "====================================================================================\n",
      "                       coef    std err          t      P>|t|      [0.025      0.975]\n",
      "------------------------------------------------------------------------------------\n",
      "Intercept        -6.274e-05      0.001     -0.089      0.929      -0.001       0.001\n",
      "C(Positive)[T.1]     0.0005      0.001      0.641      0.525      -0.001       0.002\n",
      "==============================================================================\n",
      "Omnibus:                       12.033   Durbin-Watson:                   1.847\n",
      "Prob(Omnibus):                  0.002   Jarque-Bera (JB):               15.599\n",
      "Skew:                           0.799   Prob(JB):                     0.000410\n",
      "Kurtosis:                       5.156   Cond. No.                         3.37\n",
      "==============================================================================\n",
      "\n",
      "Notes:\n",
      "[1] Standard Errors assume that the covariance matrix of the errors is correctly specified.\n",
      "                            OLS Regression Results                            \n",
      "==============================================================================\n",
      "Dep. Variable:                 Return   R-squared:                       0.008\n",
      "Model:                            OLS   Adj. R-squared:                 -0.012\n",
      "Method:                 Least Squares   F-statistic:                    0.4107\n",
      "Date:                Mon, 14 Dec 2020   Prob (F-statistic):              0.525\n",
      "Time:                        22:11:57   Log-Likelihood:                 232.66\n",
      "No. Observations:                  52   AIC:                            -461.3\n",
      "Df Residuals:                      50   BIC:                            -457.4\n",
      "Df Model:                           1                                         \n",
      "Covariance Type:            nonrobust                                         \n",
      "====================================================================================\n",
      "                       coef    std err          t      P>|t|      [0.025      0.975]\n",
      "------------------------------------------------------------------------------------\n",
      "Intercept            0.0005      0.000      1.021      0.312      -0.000       0.001\n",
      "C(Negative)[T.1]    -0.0005      0.001     -0.641      0.525      -0.002       0.001\n",
      "==============================================================================\n",
      "Omnibus:                       12.033   Durbin-Watson:                   1.847\n",
      "Prob(Omnibus):                  0.002   Jarque-Bera (JB):               15.599\n",
      "Skew:                           0.799   Prob(JB):                     0.000410\n",
      "Kurtosis:                       5.156   Cond. No.                         2.42\n",
      "==============================================================================\n",
      "\n",
      "Notes:\n",
      "[1] Standard Errors assume that the covariance matrix of the errors is correctly specified.\n"
     ]
    }
   ],
   "source": [
    "fit_sse_pos = ols('Return ~ C(Positive)', data=sse_reg).fit() \n",
    "print(fit_sse_pos.summary())\n",
    "fit_sse_neg = ols('Return ~ C(Negative)', data=sse_reg).fit() \n",
    "print(fit_sse_neg.summary())"
   ]
  },
  {
   "cell_type": "markdown",
   "metadata": {},
   "source": [
    "## 4. Shanghai Composite Index vs. textblob sentiment"
   ]
  },
  {
   "cell_type": "code",
   "execution_count": 321,
   "metadata": {
    "scrolled": false
   },
   "outputs": [
    {
     "name": "stdout",
     "output_type": "stream",
     "text": [
      "                            OLS Regression Results                            \n",
      "==============================================================================\n",
      "Dep. Variable:                 Return   R-squared:                       0.032\n",
      "Model:                            OLS   Adj. R-squared:                  0.009\n",
      "Method:                 Least Squares   F-statistic:                     1.410\n",
      "Date:                Mon, 14 Dec 2020   Prob (F-statistic):              0.242\n",
      "Time:                        21:00:58   Log-Likelihood:                 194.73\n",
      "No. Observations:                  44   AIC:                            -385.5\n",
      "Df Residuals:                      42   BIC:                            -381.9\n",
      "Df Model:                           1                                         \n",
      "Covariance Type:            nonrobust                                         \n",
      "====================================================================================\n",
      "                       coef    std err          t      P>|t|      [0.025      0.975]\n",
      "------------------------------------------------------------------------------------\n",
      "Intercept            0.0009      0.001      1.210      0.233      -0.001       0.002\n",
      "C(Positive)[T.1]    -0.0011      0.001     -1.187      0.242      -0.003       0.001\n",
      "==============================================================================\n",
      "Omnibus:                       11.618   Durbin-Watson:                   1.472\n",
      "Prob(Omnibus):                  0.003   Jarque-Bera (JB):               14.562\n",
      "Skew:                           0.828   Prob(JB):                     0.000688\n",
      "Kurtosis:                       5.280   Cond. No.                         3.19\n",
      "==============================================================================\n",
      "\n",
      "Notes:\n",
      "[1] Standard Errors assume that the covariance matrix of the errors is correctly specified.\n",
      "                            OLS Regression Results                            \n",
      "==============================================================================\n",
      "Dep. Variable:                 Return   R-squared:                       0.032\n",
      "Model:                            OLS   Adj. R-squared:                  0.009\n",
      "Method:                 Least Squares   F-statistic:                     1.410\n",
      "Date:                Mon, 14 Dec 2020   Prob (F-statistic):              0.242\n",
      "Time:                        21:00:58   Log-Likelihood:                 194.73\n",
      "No. Observations:                  44   AIC:                            -385.5\n",
      "Df Residuals:                      42   BIC:                            -381.9\n",
      "Df Model:                           1                                         \n",
      "Covariance Type:            nonrobust                                         \n",
      "====================================================================================\n",
      "                       coef    std err          t      P>|t|      [0.025      0.975]\n",
      "------------------------------------------------------------------------------------\n",
      "Intercept           -0.0002      0.001     -0.351      0.728      -0.001       0.001\n",
      "C(Negative)[T.1]     0.0011      0.001      1.187      0.242      -0.001       0.003\n",
      "==============================================================================\n",
      "Omnibus:                       11.618   Durbin-Watson:                   1.472\n",
      "Prob(Omnibus):                  0.003   Jarque-Bera (JB):               14.562\n",
      "Skew:                           0.828   Prob(JB):                     0.000688\n",
      "Kurtosis:                       5.280   Cond. No.                         2.41\n",
      "==============================================================================\n",
      "\n",
      "Notes:\n",
      "[1] Standard Errors assume that the covariance matrix of the errors is correctly specified.\n"
     ]
    }
   ],
   "source": [
    "fit_sse_textblob_pos = ols('Return ~ C(Positive)', data=sse_textblob).fit() \n",
    "print(fit_sse_textblob_pos.summary())\n",
    "fit_sse_textblob_neg = ols('Return ~ C(Negative)', data=sse_textblob).fit() \n",
    "print(fit_sse_textblob_neg.summary())"
   ]
  },
  {
   "cell_type": "markdown",
   "metadata": {},
   "source": [
    "## 5. Alibaba vs. lstm"
   ]
  },
  {
   "cell_type": "code",
   "execution_count": 343,
   "metadata": {},
   "outputs": [
    {
     "name": "stdout",
     "output_type": "stream",
     "text": [
      "                            OLS Regression Results                            \n",
      "==============================================================================\n",
      "Dep. Variable:                 Return   R-squared:                       0.008\n",
      "Model:                            OLS   Adj. R-squared:                 -0.012\n",
      "Method:                 Least Squares   F-statistic:                    0.4107\n",
      "Date:                Mon, 14 Dec 2020   Prob (F-statistic):              0.525\n",
      "Time:                        23:12:31   Log-Likelihood:                 232.66\n",
      "No. Observations:                  52   AIC:                            -461.3\n",
      "Df Residuals:                      50   BIC:                            -457.4\n",
      "Df Model:                           1                                         \n",
      "Covariance Type:            nonrobust                                         \n",
      "====================================================================================\n",
      "                       coef    std err          t      P>|t|      [0.025      0.975]\n",
      "------------------------------------------------------------------------------------\n",
      "Intercept        -6.274e-05      0.001     -0.089      0.929      -0.001       0.001\n",
      "C(Positive)[T.1]     0.0005      0.001      0.641      0.525      -0.001       0.002\n",
      "==============================================================================\n",
      "Omnibus:                       12.033   Durbin-Watson:                   1.847\n",
      "Prob(Omnibus):                  0.002   Jarque-Bera (JB):               15.599\n",
      "Skew:                           0.799   Prob(JB):                     0.000410\n",
      "Kurtosis:                       5.156   Cond. No.                         3.37\n",
      "==============================================================================\n",
      "\n",
      "Notes:\n",
      "[1] Standard Errors assume that the covariance matrix of the errors is correctly specified.\n",
      "                            OLS Regression Results                            \n",
      "==============================================================================\n",
      "Dep. Variable:                 Return   R-squared:                       0.008\n",
      "Model:                            OLS   Adj. R-squared:                 -0.012\n",
      "Method:                 Least Squares   F-statistic:                    0.4107\n",
      "Date:                Mon, 14 Dec 2020   Prob (F-statistic):              0.525\n",
      "Time:                        23:12:31   Log-Likelihood:                 232.66\n",
      "No. Observations:                  52   AIC:                            -461.3\n",
      "Df Residuals:                      50   BIC:                            -457.4\n",
      "Df Model:                           1                                         \n",
      "Covariance Type:            nonrobust                                         \n",
      "====================================================================================\n",
      "                       coef    std err          t      P>|t|      [0.025      0.975]\n",
      "------------------------------------------------------------------------------------\n",
      "Intercept            0.0005      0.000      1.021      0.312      -0.000       0.001\n",
      "C(Negative)[T.1]    -0.0005      0.001     -0.641      0.525      -0.002       0.001\n",
      "==============================================================================\n",
      "Omnibus:                       12.033   Durbin-Watson:                   1.847\n",
      "Prob(Omnibus):                  0.002   Jarque-Bera (JB):               15.599\n",
      "Skew:                           0.799   Prob(JB):                     0.000410\n",
      "Kurtosis:                       5.156   Cond. No.                         2.42\n",
      "==============================================================================\n",
      "\n",
      "Notes:\n",
      "[1] Standard Errors assume that the covariance matrix of the errors is correctly specified.\n"
     ]
    }
   ],
   "source": [
    "fit_baba_pos = ols('Return ~ C(Positive)', data=baba_lstm).fit() \n",
    "print(fit_baba_pos.summary())\n",
    "fit_baba_neg = ols('Return ~ C(Negative)', data=baba_lstm).fit() \n",
    "print(fit_baba_neg.summary())"
   ]
  },
  {
   "cell_type": "markdown",
   "metadata": {},
   "source": [
    "## 5. Alibaba vs. textblob"
   ]
  },
  {
   "cell_type": "code",
   "execution_count": 347,
   "metadata": {},
   "outputs": [
    {
     "name": "stdout",
     "output_type": "stream",
     "text": [
      "                            OLS Regression Results                            \n",
      "==============================================================================\n",
      "Dep. Variable:                 Return   R-squared:                       0.005\n",
      "Model:                            OLS   Adj. R-squared:                  0.002\n",
      "Method:                 Least Squares   F-statistic:                     1.626\n",
      "Date:                Mon, 14 Dec 2020   Prob (F-statistic):              0.203\n",
      "Time:                        23:20:03   Log-Likelihood:                 1322.9\n",
      "No. Observations:                 315   AIC:                            -2642.\n",
      "Df Residuals:                     313   BIC:                            -2634.\n",
      "Df Model:                           1                                         \n",
      "Covariance Type:            nonrobust                                         \n",
      "====================================================================================\n",
      "                       coef    std err          t      P>|t|      [0.025      0.975]\n",
      "------------------------------------------------------------------------------------\n",
      "Intercept           -0.0006      0.000     -1.587      0.113      -0.001       0.000\n",
      "C(Positive)[T.1]     0.0006      0.000      1.275      0.203      -0.000       0.001\n",
      "==============================================================================\n",
      "Omnibus:                       86.888   Durbin-Watson:                   2.099\n",
      "Prob(Omnibus):                  0.000   Jarque-Bera (JB):              842.119\n",
      "Skew:                           0.814   Prob(JB):                    1.37e-183\n",
      "Kurtosis:                      10.843   Cond. No.                         3.43\n",
      "==============================================================================\n",
      "\n",
      "Notes:\n",
      "[1] Standard Errors assume that the covariance matrix of the errors is correctly specified.\n",
      "                            OLS Regression Results                            \n",
      "==============================================================================\n",
      "Dep. Variable:                 Return   R-squared:                       0.005\n",
      "Model:                            OLS   Adj. R-squared:                  0.002\n",
      "Method:                 Least Squares   F-statistic:                     1.626\n",
      "Date:                Mon, 14 Dec 2020   Prob (F-statistic):              0.203\n",
      "Time:                        23:20:03   Log-Likelihood:                 1322.9\n",
      "No. Observations:                 315   AIC:                            -2642.\n",
      "Df Residuals:                     313   BIC:                            -2634.\n",
      "Df Model:                           1                                         \n",
      "Covariance Type:            nonrobust                                         \n",
      "====================================================================================\n",
      "                       coef    std err          t      P>|t|      [0.025      0.975]\n",
      "------------------------------------------------------------------------------------\n",
      "Intercept        -2.442e-05      0.000     -0.100      0.921      -0.001       0.000\n",
      "C(Negative)[T.1]    -0.0006      0.000     -1.275      0.203      -0.001       0.000\n",
      "==============================================================================\n",
      "Omnibus:                       86.888   Durbin-Watson:                   2.099\n",
      "Prob(Omnibus):                  0.000   Jarque-Bera (JB):              842.119\n",
      "Skew:                           0.814   Prob(JB):                    1.37e-183\n",
      "Kurtosis:                      10.843   Cond. No.                         2.43\n",
      "==============================================================================\n",
      "\n",
      "Notes:\n",
      "[1] Standard Errors assume that the covariance matrix of the errors is correctly specified.\n"
     ]
    }
   ],
   "source": [
    "fit_baba_textblob_pos = ols('Return ~ C(Positive)', data=baba_textblob).fit() \n",
    "print(fit_baba_textblob_pos.summary())\n",
    "fit_baba_textblob_neg = ols('Return ~ C(Negative)', data=baba_textblob).fit() \n",
    "print(fit_baba_textblob_neg.summary())"
   ]
  },
  {
   "cell_type": "code",
   "execution_count": null,
   "metadata": {},
   "outputs": [],
   "source": []
  }
 ],
 "metadata": {
  "kernelspec": {
   "display_name": "Python 3",
   "language": "python",
   "name": "python3"
  },
  "language_info": {
   "codemirror_mode": {
    "name": "ipython",
    "version": 3
   },
   "file_extension": ".py",
   "mimetype": "text/x-python",
   "name": "python",
   "nbconvert_exporter": "python",
   "pygments_lexer": "ipython3",
   "version": "3.7.4"
  }
 },
 "nbformat": 4,
 "nbformat_minor": 4
}
