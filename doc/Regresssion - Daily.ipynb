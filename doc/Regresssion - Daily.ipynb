{
 "cells": [
  {
   "cell_type": "markdown",
   "metadata": {},
   "source": [
    "# Import the necessary packages "
   ]
  },
  {
   "cell_type": "markdown",
   "metadata": {},
   "source": [
    "### Run pip install statsmodels and pip install pandas-datareader if not already installed"
   ]
  },
  {
   "cell_type": "code",
   "execution_count": 201,
   "metadata": {},
   "outputs": [],
   "source": [
    "import pandas as pd\n",
    "import numpy as np\n",
    "from datetime import date, datetime\n",
    "import matplotlib.pyplot as plt\n",
    "import statsmodels.api as sm\n",
    "from statsmodels.formula.api import ols \n",
    "from sklearn.linear_model import LogisticRegression\n",
    "import pandas_datareader.data as web"
   ]
  },
  {
   "cell_type": "markdown",
   "metadata": {},
   "source": [
    "# Load data sets & process data"
   ]
  },
  {
   "cell_type": "markdown",
   "metadata": {},
   "source": [
    "### Load S&P 500, Shanghai Composite Index & iShares China large-cap ETF data from 1/2/2018 to 12/31/2019 (trade war period)"
   ]
  },
  {
   "cell_type": "code",
   "execution_count": 202,
   "metadata": {
    "scrolled": false
   },
   "outputs": [],
   "source": [
    "start_date = '2018-01-02'\n",
    "end_date = '2019-12-31'\n",
    "\n",
    "#S&P is traded in EST time: 9.30 a.m. to 4p.m.\n",
    "spx = web.DataReader('^GSPC', data_source = 'yahoo', start = start_date, end = end_date)\n",
    "spx = spx.reset_index()\n",
    "\n",
    "#Shanghai Composite Index is in China time: GMT+8\n",
    "sse = web.DataReader('000001.SS', data_source = 'yahoo', start = start_date, end = end_date)\n",
    "sse = sse.reset_index()\n",
    "\n",
    "#FXI: iShares China large-cap ETF, traded in EST\n",
    "fxi = web.DataReader('FXI', data_source = 'yahoo', start = start_date, end = end_date)\n",
    "fxi = fxi.reset_index()\n"
   ]
  },
  {
   "cell_type": "markdown",
   "metadata": {},
   "source": [
    "### Calculate change in prices between Close (previous day) to Open, then Open - Close (same day)"
   ]
  },
  {
   "cell_type": "code",
   "execution_count": 203,
   "metadata": {},
   "outputs": [
    {
     "name": "stdout",
     "output_type": "stream",
     "text": [
      "        Date         High          Low         Open        Close      Volume  \\\n",
      "1 2018-01-03  2714.370117  2697.770020  2697.850098  2713.060059  3538660000   \n",
      "2 2018-01-04  2729.290039  2719.070068  2719.310059  2723.989990  3695260000   \n",
      "3 2018-01-05  2743.449951  2727.919922  2731.330078  2743.149902  3236620000   \n",
      "4 2018-01-08  2748.510010  2737.600098  2742.669922  2747.709961  3242650000   \n",
      "5 2018-01-09  2759.139893  2747.860107  2751.149902  2751.290039  3453480000   \n",
      "\n",
      "     Adj Close  CloseOpen  OpenClose  \n",
      "1  2713.060059   0.000756   0.005622  \n",
      "2  2723.989990   0.002301   0.001720  \n",
      "3  2743.149902   0.002691   0.004318  \n",
      "4  2747.709961  -0.000175   0.001836  \n",
      "5  2751.290039   0.001251   0.000051  \n",
      "        Date         High          Low         Open        Close    Volume  \\\n",
      "1 2018-01-03  3379.915039  3345.289062  3347.742920  3369.107910  213800.0   \n",
      "2 2018-01-04  3392.825928  3365.294922  3371.000000  3385.709961  207000.0   \n",
      "3 2018-01-05  3402.069092  3380.245117  3386.464111  3391.750000  213100.0   \n",
      "4 2018-01-08  3412.730957  3384.559082  3391.552979  3409.479980  236200.0   \n",
      "5 2018-01-09  3417.228027  3403.586914  3406.112061  3413.899902  191500.0   \n",
      "\n",
      "     Adj Close  CloseOpen  OpenClose  \n",
      "1  3369.107910  -0.000174   0.006362  \n",
      "2  3385.709961   0.000561   0.004354  \n",
      "3  3391.750000   0.000223   0.001560  \n",
      "4  3409.479980  -0.000058   0.005272  \n",
      "5  3413.899902  -0.000988   0.002284  \n"
     ]
    }
   ],
   "source": [
    "spx['CloseOpen'] = np.log(spx['Open']) - np.log(spx['Close'].shift(1))\n",
    "spx['OpenClose'] = np.log(spx['Close'])- np.log(spx['Open'])\n",
    "spx = spx.dropna()\n",
    "print(spx.head(5))\n",
    "\n",
    "sse['CloseOpen'] = np.log(sse['Open']) - np.log(sse['Close'].shift(1))\n",
    "sse['OpenClose'] = np.log(sse['Close'])- np.log(sse['Open'])\n",
    "sse = sse.dropna()\n",
    "print(sse.head(5))\n",
    "\n",
    "fxi['CloseOpen'] = np.log(fxi['Open']) - np.log(fxi['Close'].shift(1))\n",
    "fxi['OpenClose'] = np.log(fxi['Close'])- np.log(fxi['Open'])\n",
    "fxi = fxi.dropna()\n",
    "\n"
   ]
  },
  {
   "cell_type": "markdown",
   "metadata": {},
   "source": [
    "### Load lstm balanced data set: data set of Trump's Trade war related tweets with sentiment categorized using LSTM algorithm: 1 being positive and -1 being negative sentiment"
   ]
  },
  {
   "cell_type": "code",
   "execution_count": 205,
   "metadata": {
    "scrolled": false
   },
   "outputs": [],
   "source": [
    "lstm_bal = pd.read_csv('../output/results/LSTM_balanced_spm_results.csv')    \n",
    "lstm_bal['Date'] = [datetime.strptime(x,'%Y-%m-%d') for x in lstm_bal['real_Date']]\n",
    "\n",
    "lstm_sse = pd.read_csv('../output/results/LSTM_balanced_sse_results.csv')    \n",
    "lstm_sse['Date'] = [datetime.strptime(x,'%Y-%m-%d') for x in lstm_sse['real_Date']]\n",
    "\n",
    "# A is sentiment aggregated over Open-Close, B is  sentiment aggregated over Close-Open "
   ]
  },
  {
   "cell_type": "markdown",
   "metadata": {},
   "source": [
    "### Load textblob balanced data set: data set of Trump's tweets Trade war related tweets with sentiment categorized using textblob algorithm: 1 being positive, -1 being negative, and 0 being neutral sentiment"
   ]
  },
  {
   "cell_type": "code",
   "execution_count": 206,
   "metadata": {},
   "outputs": [
    {
     "name": "stdout",
     "output_type": "stream",
     "text": [
      "    real_Date    A    B       Date\n",
      "0  2018-01-02  1.0  NaN 2018-01-02\n",
      "1  2018-01-04  NaN  0.0 2018-01-04\n",
      "2  2018-01-07  1.0  NaN 2018-01-07\n",
      "3  2018-01-09  NaN  1.0 2018-01-09\n",
      "4  2018-01-11  1.0  NaN 2018-01-11\n"
     ]
    }
   ],
   "source": [
    "textblob_spm = pd.read_csv('../output/results/textblob_prediction_data_spm.csv', index_col = 0)\n",
    "textblob_spm['Date'] = [datetime.strptime(x,'%Y-%m-%d') for x in textblob_spm['real_Date']]\n",
    "\n",
    "textblob_sse = pd.read_csv('../output/results/textblob_prediction_data_sse.csv', index_col = 0)\n",
    "textblob_sse['Date'] = [datetime.strptime(x,'%Y-%m-%d') for x in textblob_sse['real_Date']]\n",
    "\n",
    "textblob_spm.head(5)\n",
    "# A is sentiment aggregated over Open-Close, B is  sentiment aggregated over Close-Open \n",
    "print(textblob_sse.head(5))"
   ]
  },
  {
   "cell_type": "markdown",
   "metadata": {},
   "source": [
    "# Merging financial data with sentiment data (neutral sentiments are dropped)"
   ]
  },
  {
   "cell_type": "markdown",
   "metadata": {},
   "source": [
    "#### Neutral sentiments are dropped, along with periods of Open-Close or Close-Open with no tweets"
   ]
  },
  {
   "cell_type": "markdown",
   "metadata": {},
   "source": [
    "## 1. Merging S&P 500 with lstm data set"
   ]
  },
  {
   "cell_type": "code",
   "execution_count": 207,
   "metadata": {
    "scrolled": false
   },
   "outputs": [
    {
     "name": "stdout",
     "output_type": "stream",
     "text": [
      "         Date  CloseOpen    B  Positive  Negative\n",
      "7  2018-01-11   0.001723  1.0         1         0\n",
      "11 2018-01-18  -0.000057  1.0         1         0\n",
      "15 2018-01-24   0.002213  1.0         1         0\n",
      "21 2018-02-01  -0.002610  1.0         1         0\n",
      "22 2018-02-02  -0.004639  1.0         1         0\n",
      "        Date  OpenClose    A  Positive  Negative\n",
      "0 2018-01-03   0.005622  0.0         0         0\n",
      "1 2018-01-04   0.001720  1.0         1         0\n",
      "3 2018-01-08   0.001836  1.0         1         0\n",
      "5 2018-01-10   0.000976  1.0         1         0\n",
      "6 2018-01-11   0.005286  0.0         0         0\n"
     ]
    }
   ],
   "source": [
    "spx_reg = spx.merge(lstm_bal, how = 'outer', on = ['Date'])\n",
    "\n",
    "#Split data set into Close-Open and Open-Close\n",
    "spx_reg_CO = spx_reg[['Date','CloseOpen','B']]\n",
    "spx_reg_CO = spx_reg_CO.dropna()\n",
    "\n",
    "spx_reg_OC = spx_reg[['Date','OpenClose','A']]\n",
    "spx_reg_OC = spx_reg_OC.dropna()\n",
    "\n",
    "#Sort into Positive and Negative Columns\n",
    "spx_reg_CO['Positive'] = (spx_reg_CO['B'] == 1)\n",
    "spx_reg_CO['Negative'] = (spx_reg_CO['B'] == -1)\n",
    "spx_reg_OC['Positive'] = (spx_reg_OC['A'] == 1)\n",
    "spx_reg_OC['Negative'] = (spx_reg_OC['A'] == -1)\n",
    "spx_reg_CO['Positive'] = [int(x==True) for x in spx_reg_CO['Positive']]\n",
    "spx_reg_CO['Negative'] = [int(x==True) for x in spx_reg_CO['Negative']]\n",
    "spx_reg_OC['Positive'] = [int(x==True) for x in spx_reg_OC['Positive']]\n",
    "spx_reg_OC['Negative'] = [int(x==True) for x in spx_reg_OC['Negative']]\n",
    "print(spx_reg_CO.head(5))\n",
    "print(spx_reg_OC.head(5))"
   ]
  },
  {
   "cell_type": "markdown",
   "metadata": {},
   "source": [
    "## 2. Merging S&P 500 with textblob data set"
   ]
  },
  {
   "cell_type": "code",
   "execution_count": 208,
   "metadata": {},
   "outputs": [
    {
     "name": "stdout",
     "output_type": "stream",
     "text": [
      "         Date  CloseOpen    B  Positive  Negative\n",
      "7  2018-01-11   0.001723  1.0         1         0\n",
      "11 2018-01-18  -0.000057 -1.0         0         1\n",
      "15 2018-01-24   0.002213 -1.0         0         1\n",
      "21 2018-02-01  -0.002610  1.0         1         0\n",
      "22 2018-02-02  -0.004639  1.0         1         0\n",
      "         Date  OpenClose    A  Positive  Negative\n",
      "0  2018-01-03   0.005622  0.0         0         0\n",
      "3  2018-01-08   0.001836  1.0         1         0\n",
      "5  2018-01-10   0.000976  1.0         1         0\n",
      "6  2018-01-11   0.005286  1.0         1         0\n",
      "10 2018-01-17   0.006289  1.0         1         0\n"
     ]
    }
   ],
   "source": [
    "spx_textblob = spx.merge(textblob_spm, how = 'outer', on = ['Date'])\n",
    "\n",
    "#Split data set into Close-Open and Open-Close\n",
    "spx_textblob_CO = spx_textblob[['Date','CloseOpen','B']]\n",
    "spx_textblob_CO = spx_textblob_CO.dropna()\n",
    "\n",
    "spx_textblob_OC = spx_textblob[['Date','OpenClose','A']]\n",
    "spx_textblob_OC = spx_textblob_OC.dropna()\n",
    "\n",
    "#Sort into Positive and Negative Columns\n",
    "spx_textblob_CO['Positive'] = (spx_textblob_CO['B'] == 1)\n",
    "spx_textblob_CO['Negative'] = (spx_textblob_CO['B'] == -1)\n",
    "spx_textblob_OC['Positive'] = (spx_textblob_OC['A'] == 1)\n",
    "spx_textblob_OC['Negative'] = (spx_textblob_OC['A'] == -1)\n",
    "spx_textblob_CO['Positive'] = [int(x==True) for x in spx_textblob_CO['Positive']]\n",
    "spx_textblob_CO['Negative'] = [int(x==True) for x in spx_textblob_CO['Negative']]\n",
    "spx_textblob_OC['Positive'] = [int(x==True) for x in spx_textblob_OC['Positive']]\n",
    "spx_textblob_OC['Negative'] = [int(x==True) for x in spx_textblob_OC['Negative']]\n",
    "print(spx_textblob_CO.head(5))\n",
    "print(spx_textblob_OC.head(5))\n"
   ]
  },
  {
   "cell_type": "markdown",
   "metadata": {},
   "source": [
    "## 3. Merging Shanghai Composite Index with lstm data set"
   ]
  },
  {
   "cell_type": "code",
   "execution_count": 209,
   "metadata": {},
   "outputs": [
    {
     "name": "stdout",
     "output_type": "stream",
     "text": [
      "        Date  CloseOpen    B  Positive  Negative\n",
      "1 2018-01-04   0.000561  0.0         0         0\n",
      "2 2018-01-05   0.000223  1.0         1         0\n",
      "4 2018-01-09  -0.000988  1.0         1         0\n",
      "7 2018-01-11  -0.001828  1.0         1         0\n",
      "8 2018-01-12  -0.000428  0.0         0         0\n",
      "         Date  OpenClose    A  Positive  Negative\n",
      "6  2018-01-11   0.002853  1.0         1         0\n",
      "12 2018-01-18   0.007184  1.0         1         0\n",
      "24 2018-02-02   0.012456  1.0         1         0\n",
      "25 2018-02-05   0.021982 -1.0         0         1\n",
      "28 2018-02-08  -0.005806  1.0         1         0\n"
     ]
    }
   ],
   "source": [
    "sse_reg = sse.merge(lstm_sse, how = 'outer', on = ['Date'])\n",
    "sse_reg_CO = sse_reg[['Date','CloseOpen','B']]\n",
    "sse_reg_CO = sse_reg_CO.dropna()\n",
    "\n",
    "sse_reg_OC = sse_reg[['Date','OpenClose','A']]\n",
    "sse_reg_OC = sse_reg_OC.dropna()\n",
    "\n",
    "sse_reg_CO['Positive'] = (sse_reg_CO['B'] == 1)\n",
    "sse_reg_CO['Negative'] = (sse_reg_CO['B'] == -1)\n",
    "sse_reg_OC['Positive'] = (sse_reg_OC['A'] == 1)\n",
    "sse_reg_OC['Negative'] = (sse_reg_OC['A'] == -1)\n",
    "sse_reg_CO['Positive'] = [int(x==True) for x in sse_reg_CO['Positive']]\n",
    "sse_reg_CO['Negative'] = [int(x==True) for x in sse_reg_CO['Negative']]\n",
    "sse_reg_OC['Positive'] = [int(x==True) for x in sse_reg_OC['Positive']]\n",
    "sse_reg_OC['Negative'] = [int(x==True) for x in sse_reg_OC['Negative']]\n",
    "print(sse_reg_CO.head(5))\n",
    "print(sse_reg_OC.head(5))"
   ]
  },
  {
   "cell_type": "markdown",
   "metadata": {},
   "source": [
    "## 4. Merging Shanghai Composite Index with textblob data set"
   ]
  },
  {
   "cell_type": "code",
   "execution_count": 210,
   "metadata": {},
   "outputs": [
    {
     "name": "stdout",
     "output_type": "stream",
     "text": [
      "         Date  CloseOpen    B  Positive  Negative\n",
      "1  2018-01-04   0.000561  0.0         0         0\n",
      "4  2018-01-09  -0.000988  1.0         1         0\n",
      "7  2018-01-11  -0.001828  1.0         1         0\n",
      "8  2018-01-12  -0.000428  1.0         1         0\n",
      "12 2018-01-18   0.001511  0.0         0         0\n",
      "         Date  OpenClose    A  Positive  Negative\n",
      "6  2018-01-11   0.002853  1.0         1         0\n",
      "23 2018-02-02   0.012456  1.0         1         0\n",
      "24 2018-02-05   0.021982 -1.0         0         1\n",
      "27 2018-02-08  -0.005806  0.0         0         0\n",
      "37 2018-03-01   0.011881  1.0         1         0\n"
     ]
    }
   ],
   "source": [
    "sse_textblob = sse.merge(textblob_sse, how = 'outer', on = ['Date'])\n",
    "sse_textblob_CO = sse_textblob[['Date','CloseOpen','B']]\n",
    "sse_textblob_CO = sse_textblob_CO.dropna()\n",
    "\n",
    "sse_textblob_OC = sse_textblob[['Date','OpenClose','A']]\n",
    "sse_textblob_OC = sse_textblob_OC.dropna()\n",
    "\n",
    "sse_textblob_CO['Positive'] = (sse_textblob_CO['B'] == 1)\n",
    "sse_textblob_CO['Negative'] = (sse_textblob_CO['B'] == -1)\n",
    "sse_textblob_OC['Positive'] = (sse_textblob_OC['A'] == 1)\n",
    "sse_textblob_OC['Negative'] = (sse_textblob_OC['A'] == -1)\n",
    "sse_textblob_CO['Positive'] = [int(x==True) for x in sse_textblob_CO['Positive']]\n",
    "sse_textblob_CO['Negative'] = [int(x==True) for x in sse_textblob_CO['Negative']]\n",
    "sse_textblob_OC['Positive'] = [int(x==True) for x in sse_textblob_OC['Positive']]\n",
    "sse_textblob_OC['Negative'] = [int(x==True) for x in sse_textblob_OC['Negative']]\n",
    "print(sse_textblob_CO.head(5))\n",
    "print(sse_textblob_OC.head(5))\n"
   ]
  },
  {
   "cell_type": "markdown",
   "metadata": {},
   "source": [
    "## 5. Merging FXI with lstm data set"
   ]
  },
  {
   "cell_type": "code",
   "execution_count": 211,
   "metadata": {},
   "outputs": [
    {
     "name": "stdout",
     "output_type": "stream",
     "text": [
      "         Date  CloseOpen    B  Positive  Negative\n",
      "7  2018-01-11  -0.000617  1.0         1         0\n",
      "11 2018-01-18   0.003543  1.0         1         0\n",
      "15 2018-01-24   0.007140  1.0         1         0\n",
      "21 2018-02-01  -0.011649  1.0         1         0\n",
      "22 2018-02-02   0.002309  1.0         1         0\n",
      "        Date  OpenClose    A  Positive  Negative\n",
      "0 2018-01-03   0.006873  0.0         0         0\n",
      "1 2018-01-04  -0.000207  1.0         1         0\n",
      "3 2018-01-08   0.005146  1.0         1         0\n",
      "5 2018-01-10   0.000206  1.0         1         0\n",
      "6 2018-01-11   0.007586  0.0         0         0\n"
     ]
    }
   ],
   "source": [
    "fxi_reg = fxi.merge(lstm_bal, how = 'outer', on = ['Date'])\n",
    "fxi_reg_CO = fxi_reg[['Date','CloseOpen','B']]\n",
    "fxi_reg_CO = fxi_reg_CO.dropna()\n",
    "\n",
    "fxi_reg_OC = fxi_reg[['Date','OpenClose','A']]\n",
    "fxi_reg_OC = fxi_reg_OC.dropna()\n",
    "\n",
    "fxi_reg_CO['Positive'] = (fxi_reg_CO['B'] == 1)\n",
    "fxi_reg_CO['Negative'] = (fxi_reg_CO['B'] == -1)\n",
    "fxi_reg_OC['Positive'] = (fxi_reg_OC['A'] == 1)\n",
    "fxi_reg_OC['Negative'] = (fxi_reg_OC['A'] == -1)\n",
    "fxi_reg_CO['Positive'] = [int(x==True) for x in fxi_reg_CO['Positive']]\n",
    "fxi_reg_CO['Negative'] = [int(x==True) for x in fxi_reg_CO['Negative']]\n",
    "fxi_reg_OC['Positive'] = [int(x==True) for x in fxi_reg_OC['Positive']]\n",
    "fxi_reg_OC['Negative'] = [int(x==True) for x in fxi_reg_OC['Negative']]\n",
    "print(fxi_reg_CO.head(5))\n",
    "print(fxi_reg_OC.head(5))"
   ]
  },
  {
   "cell_type": "markdown",
   "metadata": {},
   "source": [
    "\n",
    "## 6. Merging FXI with textblob data set¶"
   ]
  },
  {
   "cell_type": "code",
   "execution_count": 180,
   "metadata": {},
   "outputs": [
    {
     "name": "stdout",
     "output_type": "stream",
     "text": [
      "         Date  CloseOpen    B  Positive  Negative\n",
      "7  2018-01-11  -0.000617  1.0         1         0\n",
      "11 2018-01-18   0.003543 -1.0         0         1\n",
      "15 2018-01-24   0.007140 -1.0         0         1\n",
      "21 2018-02-01  -0.011649  1.0         1         0\n",
      "22 2018-02-02   0.002309  1.0         1         0\n",
      "         Date  OpenClose    A  Positive  Negative\n",
      "0  2018-01-03   0.006873  0.0         0         0\n",
      "3  2018-01-08   0.005146  1.0         1         0\n",
      "5  2018-01-10   0.000206  1.0         1         0\n",
      "6  2018-01-11   0.007586  1.0         1         0\n",
      "10 2018-01-17   0.007123  1.0         1         0\n"
     ]
    }
   ],
   "source": [
    "fxi_textblob = fxi.merge(textblob_spm, how = 'outer', on = ['Date'])\n",
    "fxi_textblob_CO = fxi_textblob[['Date','CloseOpen','B']]\n",
    "fxi_textblob_CO = fxi_textblob_CO.dropna()\n",
    "\n",
    "fxi_textblob_OC = fxi_textblob[['Date','OpenClose','A']]\n",
    "fxi_textblob_OC = fxi_textblob_OC.dropna()\n",
    "\n",
    "fxi_textblob_CO['Positive'] = (fxi_textblob_CO['B'] == 1)\n",
    "fxi_textblob_CO['Negative'] = (fxi_textblob_CO['B'] == -1)\n",
    "fxi_textblob_OC['Positive'] = (fxi_textblob_OC['A'] == 1)\n",
    "fxi_textblob_OC['Negative'] = (fxi_textblob_OC['A'] == -1)\n",
    "fxi_textblob_CO['Positive'] = [int(x==True) for x in fxi_textblob_CO['Positive']]\n",
    "fxi_textblob_CO['Negative'] = [int(x==True) for x in fxi_textblob_CO['Negative']]\n",
    "fxi_textblob_OC['Positive'] = [int(x==True) for x in fxi_textblob_OC['Positive']]\n",
    "fxi_textblob_OC['Negative'] = [int(x==True) for x in fxi_textblob_OC['Negative']]\n",
    "print(fxi_textblob_CO.head(5))\n",
    "print(fxi_textblob_OC.head(5))"
   ]
  },
  {
   "cell_type": "markdown",
   "metadata": {},
   "source": [
    "# Run Regression & Calculate Point-biserial correlation coefficient on merged data set"
   ]
  },
  {
   "cell_type": "markdown",
   "metadata": {},
   "source": [
    "### Point-biserial correlation coefficient:\n",
    "The point biserial correlation coefficient (rpb) is a correlation coefficient used when one variable (e.g. Y) is dichotomous. The point-biserial correlation is mathematically equivalent to the Pearson (product moment) correlation, that is, if we have one continuously measured variable X and a dichotomous variable Y, rXY = rpb."
   ]
  },
  {
   "cell_type": "markdown",
   "metadata": {},
   "source": [
    "$$ r_{pb} = \\frac{M_1-M_0}{S_n}*\\sqrt{\\frac{n_1*n_0}{n^2}}$$"
   ]
  },
  {
   "cell_type": "markdown",
   "metadata": {},
   "source": [
    "## 1. S&P 500 vs. lstm sentiment"
   ]
  },
  {
   "cell_type": "markdown",
   "metadata": {},
   "source": [
    "### a. Regression"
   ]
  },
  {
   "cell_type": "markdown",
   "metadata": {},
   "source": [
    "Close-Open"
   ]
  },
  {
   "cell_type": "code",
   "execution_count": 212,
   "metadata": {
    "scrolled": false
   },
   "outputs": [
    {
     "name": "stdout",
     "output_type": "stream",
     "text": [
      "                            OLS Regression Results                            \n",
      "==============================================================================\n",
      "Dep. Variable:              CloseOpen   R-squared:                       0.001\n",
      "Model:                            OLS   Adj. R-squared:                 -0.003\n",
      "Method:                 Least Squares   F-statistic:                    0.2204\n",
      "Date:                Wed, 16 Dec 2020   Prob (F-statistic):              0.639\n",
      "Time:                        17:50:35   Log-Likelihood:                 1098.2\n",
      "No. Observations:                 271   AIC:                            -2192.\n",
      "Df Residuals:                     269   BIC:                            -2185.\n",
      "Df Model:                           1                                         \n",
      "Covariance Type:            nonrobust                                         \n",
      "====================================================================================\n",
      "                       coef    std err          t      P>|t|      [0.025      0.975]\n",
      "------------------------------------------------------------------------------------\n",
      "Intercept            0.0004      0.000      1.198      0.232      -0.000       0.001\n",
      "C(Positive)[T.1]    -0.0002      0.001     -0.470      0.639      -0.001       0.001\n",
      "==============================================================================\n",
      "Omnibus:                       28.822   Durbin-Watson:                   2.144\n",
      "Prob(Omnibus):                  0.000   Jarque-Bera (JB):               42.000\n",
      "Skew:                          -0.682   Prob(JB):                     7.58e-10\n",
      "Kurtosis:                       4.363   Cond. No.                         2.69\n",
      "==============================================================================\n",
      "\n",
      "Notes:\n",
      "[1] Standard Errors assume that the covariance matrix of the errors is correctly specified.\n"
     ]
    }
   ],
   "source": [
    "fit_spx_CO = ols('CloseOpen ~ C(Positive)', data=spx_reg_CO).fit() \n",
    "print(fit_spx_CO.summary())"
   ]
  },
  {
   "cell_type": "markdown",
   "metadata": {},
   "source": [
    "Open-Close"
   ]
  },
  {
   "cell_type": "code",
   "execution_count": 213,
   "metadata": {},
   "outputs": [
    {
     "name": "stdout",
     "output_type": "stream",
     "text": [
      "                            OLS Regression Results                            \n",
      "==============================================================================\n",
      "Dep. Variable:              OpenClose   R-squared:                       0.000\n",
      "Model:                            OLS   Adj. R-squared:                 -0.008\n",
      "Method:                 Least Squares   F-statistic:                   0.05105\n",
      "Date:                Wed, 16 Dec 2020   Prob (F-statistic):              0.822\n",
      "Time:                        17:50:39   Log-Likelihood:                 421.03\n",
      "No. Observations:                 125   AIC:                            -838.1\n",
      "Df Residuals:                     123   BIC:                            -832.4\n",
      "Df Model:                           1                                         \n",
      "Covariance Type:            nonrobust                                         \n",
      "====================================================================================\n",
      "                       coef    std err          t      P>|t|      [0.025      0.975]\n",
      "------------------------------------------------------------------------------------\n",
      "Intercept           -0.0008      0.001     -0.632      0.529      -0.003       0.002\n",
      "C(Positive)[T.1]    -0.0003      0.002     -0.226      0.822      -0.003       0.003\n",
      "==============================================================================\n",
      "Omnibus:                       34.583   Durbin-Watson:                   2.273\n",
      "Prob(Omnibus):                  0.000   Jarque-Bera (JB):               62.282\n",
      "Skew:                          -1.232   Prob(JB):                     2.99e-14\n",
      "Kurtosis:                       5.427   Cond. No.                         2.99\n",
      "==============================================================================\n",
      "\n",
      "Notes:\n",
      "[1] Standard Errors assume that the covariance matrix of the errors is correctly specified.\n"
     ]
    }
   ],
   "source": [
    "fit_spx_OC = ols('OpenClose ~ C(Positive)', data=spx_reg_OC).fit() \n",
    "print(fit_spx_OC.summary())"
   ]
  },
  {
   "cell_type": "markdown",
   "metadata": {},
   "source": [
    "### b. Calculate Point-biserial correlation coefficient"
   ]
  },
  {
   "cell_type": "code",
   "execution_count": 214,
   "metadata": {},
   "outputs": [
    {
     "name": "stdout",
     "output_type": "stream",
     "text": [
      "Point-biserial correlation coefficient for Close-Open is: -0.004854826222243691\n"
     ]
    }
   ],
   "source": [
    "x = spx_reg_CO['CloseOpen']\n",
    "y = spx_reg_CO['Positive']\n",
    "std_x = np.std(x)\n",
    "M1 = np.mean(spx_reg_CO[spx_reg_CO['Positive']==1]['CloseOpen'])\n",
    "n1 = spx_reg_CO[spx_reg_CO['Positive']==1].shape[0]\n",
    "M0 = np.mean(spx_reg_CO[spx_reg_CO['Negative']==1]['CloseOpen'])\n",
    "n0 = spx_reg_CO[spx_reg_CO['Negative']==1].shape[0]\n",
    "n = n1+n0\n",
    "rpb = (M1-M0)*np.sqrt(n1*n0/(n*(n-1)))/std_x\n",
    "print('Point-biserial correlation coefficient for Close-Open is:', rpb)\n",
    "\n"
   ]
  },
  {
   "cell_type": "code",
   "execution_count": 215,
   "metadata": {},
   "outputs": [
    {
     "name": "stdout",
     "output_type": "stream",
     "text": [
      "Point-biserial correlation coefficient for Open-Close is: -0.019320563119210717\n"
     ]
    }
   ],
   "source": [
    "x = spx_reg_OC['OpenClose']\n",
    "y = spx_reg_OC['Positive']\n",
    "std_x = np.std(x)\n",
    "M1 = np.mean(spx_reg_OC[spx_reg_OC['Positive']==1]['OpenClose'])\n",
    "n1 = spx_reg_OC[spx_reg_OC['Positive']==1].shape[0]\n",
    "M0 = np.mean(spx_reg_OC[spx_reg_OC['Negative']==1]['OpenClose'])\n",
    "n0 = spx_reg_OC[spx_reg_OC['Negative']==1].shape[0]\n",
    "n = n1+n0\n",
    "rpb = (M1-M0)*np.sqrt(n1*n0/(n*(n-1)))/std_x\n",
    "print('Point-biserial correlation coefficient for Open-Close is:', rpb)"
   ]
  },
  {
   "cell_type": "markdown",
   "metadata": {},
   "source": [
    "## 2. S&P 500 vs. textblob sentiment"
   ]
  },
  {
   "cell_type": "markdown",
   "metadata": {},
   "source": [
    "### a. Regression"
   ]
  },
  {
   "cell_type": "markdown",
   "metadata": {},
   "source": [
    "Close-Open"
   ]
  },
  {
   "cell_type": "code",
   "execution_count": 216,
   "metadata": {},
   "outputs": [
    {
     "name": "stdout",
     "output_type": "stream",
     "text": [
      "                            OLS Regression Results                            \n",
      "==============================================================================\n",
      "Dep. Variable:              CloseOpen   R-squared:                       0.000\n",
      "Model:                            OLS   Adj. R-squared:                 -0.004\n",
      "Method:                 Least Squares   F-statistic:                   0.06211\n",
      "Date:                Wed, 16 Dec 2020   Prob (F-statistic):              0.803\n",
      "Time:                        17:50:51   Log-Likelihood:                 909.04\n",
      "No. Observations:                 227   AIC:                            -1814.\n",
      "Df Residuals:                     225   BIC:                            -1807.\n",
      "Df Model:                           1                                         \n",
      "Covariance Type:            nonrobust                                         \n",
      "====================================================================================\n",
      "                       coef    std err          t      P>|t|      [0.025      0.975]\n",
      "------------------------------------------------------------------------------------\n",
      "Intercept            0.0002      0.000      0.486      0.627      -0.001       0.001\n",
      "C(Positive)[T.1]    -0.0001      0.001     -0.249      0.803      -0.001       0.001\n",
      "==============================================================================\n",
      "Omnibus:                       20.040   Durbin-Watson:                   2.252\n",
      "Prob(Omnibus):                  0.000   Jarque-Bera (JB):               25.740\n",
      "Skew:                          -0.616   Prob(JB):                     2.57e-06\n",
      "Kurtosis:                       4.096   Cond. No.                         2.84\n",
      "==============================================================================\n",
      "\n",
      "Notes:\n",
      "[1] Standard Errors assume that the covariance matrix of the errors is correctly specified.\n"
     ]
    }
   ],
   "source": [
    "fit_spx_textblob_CO = ols('CloseOpen ~ C(Positive)', data=spx_textblob_CO).fit() \n",
    "print(fit_spx_textblob_CO.summary())\n"
   ]
  },
  {
   "cell_type": "markdown",
   "metadata": {},
   "source": [
    "Open-Close"
   ]
  },
  {
   "cell_type": "code",
   "execution_count": 217,
   "metadata": {},
   "outputs": [
    {
     "name": "stdout",
     "output_type": "stream",
     "text": [
      "                            OLS Regression Results                            \n",
      "==============================================================================\n",
      "Dep. Variable:              OpenClose   R-squared:                       0.005\n",
      "Model:                            OLS   Adj. R-squared:                 -0.005\n",
      "Method:                 Least Squares   F-statistic:                    0.5259\n",
      "Date:                Wed, 16 Dec 2020   Prob (F-statistic):              0.470\n",
      "Time:                        17:50:52   Log-Likelihood:                 324.17\n",
      "No. Observations:                  98   AIC:                            -644.3\n",
      "Df Residuals:                      96   BIC:                            -639.2\n",
      "Df Model:                           1                                         \n",
      "Covariance Type:            nonrobust                                         \n",
      "====================================================================================\n",
      "                       coef    std err          t      P>|t|      [0.025      0.975]\n",
      "------------------------------------------------------------------------------------\n",
      "Intercept           -0.0003      0.001     -0.237      0.813      -0.003       0.002\n",
      "C(Positive)[T.1]    -0.0013      0.002     -0.725      0.470      -0.005       0.002\n",
      "==============================================================================\n",
      "Omnibus:                       26.030   Durbin-Watson:                   2.177\n",
      "Prob(Omnibus):                  0.000   Jarque-Bera (JB):               40.024\n",
      "Skew:                          -1.183   Prob(JB):                     2.04e-09\n",
      "Kurtosis:                       5.051   Cond. No.                         2.89\n",
      "==============================================================================\n",
      "\n",
      "Notes:\n",
      "[1] Standard Errors assume that the covariance matrix of the errors is correctly specified.\n"
     ]
    }
   ],
   "source": [
    "fit_spx_textblob_OC = ols('OpenClose ~ C(Positive)', data=spx_textblob_OC).fit() \n",
    "print(fit_spx_textblob_OC.summary())\n"
   ]
  },
  {
   "cell_type": "markdown",
   "metadata": {},
   "source": [
    "### b. Calculate Point-biserial correlation coefficient"
   ]
  },
  {
   "cell_type": "code",
   "execution_count": 218,
   "metadata": {},
   "outputs": [
    {
     "name": "stdout",
     "output_type": "stream",
     "text": [
      "Point-biserial correlation coefficient for Close-Open is: 0.02775719450696116\n"
     ]
    }
   ],
   "source": [
    "x = spx_textblob_CO['CloseOpen']\n",
    "y = spx_textblob_CO['Positive']\n",
    "std_x = np.std(x)\n",
    "M1 = np.mean(spx_textblob_CO[spx_textblob_CO['Positive']==1]['CloseOpen'])\n",
    "n1 = spx_textblob_CO[spx_textblob_CO['Positive']==1].shape[0]\n",
    "M0 = np.mean(spx_textblob_CO[spx_textblob_CO['Negative']==1]['CloseOpen'])\n",
    "n0 = spx_textblob_CO[spx_textblob_CO['Negative']==1].shape[0]\n",
    "n = n1+n0\n",
    "rpb = (M1-M0)*np.sqrt(n1*n0/(n*(n-1)))/std_x\n",
    "print('Point-biserial correlation coefficient for Close-Open is:', rpb)\n",
    "\n"
   ]
  },
  {
   "cell_type": "code",
   "execution_count": 219,
   "metadata": {},
   "outputs": [
    {
     "name": "stdout",
     "output_type": "stream",
     "text": [
      "Point-biserial correlation coefficient for Open-Close is: 0.013366760182372414\n"
     ]
    }
   ],
   "source": [
    "x = spx_textblob_OC['OpenClose']\n",
    "y = spx_textblob_OC['Positive']\n",
    "std_x = np.std(x)\n",
    "M1 = np.mean(spx_textblob_OC[spx_textblob_OC['Positive']==1]['OpenClose'])\n",
    "n1 = spx_textblob_OC[spx_textblob_OC['Positive']==1].shape[0]\n",
    "M0 = np.mean(spx_textblob_OC[spx_textblob_OC['Negative']==1]['OpenClose'])\n",
    "n0 = spx_textblob_OC[spx_textblob_OC['Negative']==1].shape[0]\n",
    "n = n1+n0\n",
    "rpb = (M1-M0)*np.sqrt(n1*n0/(n*(n-1)))/std_x\n",
    "print('Point-biserial correlation coefficient for Open-Close is:', rpb)"
   ]
  },
  {
   "cell_type": "markdown",
   "metadata": {},
   "source": [
    "## 3. Shanghai Composite Index vs. lstm"
   ]
  },
  {
   "cell_type": "markdown",
   "metadata": {},
   "source": [
    "### a. Regression"
   ]
  },
  {
   "cell_type": "markdown",
   "metadata": {},
   "source": [
    "Close-Open"
   ]
  },
  {
   "cell_type": "code",
   "execution_count": 220,
   "metadata": {},
   "outputs": [
    {
     "name": "stdout",
     "output_type": "stream",
     "text": [
      "                            OLS Regression Results                            \n",
      "==============================================================================\n",
      "Dep. Variable:              CloseOpen   R-squared:                       0.000\n",
      "Model:                            OLS   Adj. R-squared:                 -0.006\n",
      "Method:                 Least Squares   F-statistic:                   0.02554\n",
      "Date:                Wed, 16 Dec 2020   Prob (F-statistic):              0.873\n",
      "Time:                        17:50:58   Log-Likelihood:                 626.36\n",
      "No. Observations:                 170   AIC:                            -1249.\n",
      "Df Residuals:                     168   BIC:                            -1242.\n",
      "Df Model:                           1                                         \n",
      "Covariance Type:            nonrobust                                         \n",
      "====================================================================================\n",
      "                       coef    std err          t      P>|t|      [0.025      0.975]\n",
      "------------------------------------------------------------------------------------\n",
      "Intercept           -0.0010      0.001     -1.299      0.196      -0.003       0.001\n",
      "C(Positive)[T.1]     0.0002      0.001      0.160      0.873      -0.002       0.002\n",
      "==============================================================================\n",
      "Omnibus:                       51.207   Durbin-Watson:                   1.848\n",
      "Prob(Omnibus):                  0.000   Jarque-Bera (JB):              292.448\n",
      "Skew:                          -0.939   Prob(JB):                     3.13e-64\n",
      "Kurtosis:                       9.145   Cond. No.                         3.10\n",
      "==============================================================================\n",
      "\n",
      "Notes:\n",
      "[1] Standard Errors assume that the covariance matrix of the errors is correctly specified.\n"
     ]
    }
   ],
   "source": [
    "fit_sse_CO = ols('CloseOpen ~ C(Positive)', data=sse_reg_CO).fit() \n",
    "print(fit_sse_CO.summary())\n"
   ]
  },
  {
   "cell_type": "markdown",
   "metadata": {},
   "source": [
    "Open-Close"
   ]
  },
  {
   "cell_type": "code",
   "execution_count": 221,
   "metadata": {},
   "outputs": [
    {
     "name": "stdout",
     "output_type": "stream",
     "text": [
      "                            OLS Regression Results                            \n",
      "==============================================================================\n",
      "Dep. Variable:              OpenClose   R-squared:                       0.003\n",
      "Model:                            OLS   Adj. R-squared:                 -0.002\n",
      "Method:                 Least Squares   F-statistic:                    0.6628\n",
      "Date:                Wed, 16 Dec 2020   Prob (F-statistic):              0.416\n",
      "Time:                        17:50:59   Log-Likelihood:                 703.43\n",
      "No. Observations:                 221   AIC:                            -1403.\n",
      "Df Residuals:                     219   BIC:                            -1396.\n",
      "Df Model:                           1                                         \n",
      "Covariance Type:            nonrobust                                         \n",
      "====================================================================================\n",
      "                       coef    std err          t      P>|t|      [0.025      0.975]\n",
      "------------------------------------------------------------------------------------\n",
      "Intercept            0.0020      0.001      2.070      0.040    9.62e-05       0.004\n",
      "C(Positive)[T.1]    -0.0011      0.001     -0.814      0.416      -0.004       0.002\n",
      "==============================================================================\n",
      "Omnibus:                        3.785   Durbin-Watson:                   2.043\n",
      "Prob(Omnibus):                  0.151   Jarque-Bera (JB):                3.935\n",
      "Skew:                           0.159   Prob(JB):                        0.140\n",
      "Kurtosis:                       3.571   Cond. No.                         2.66\n",
      "==============================================================================\n",
      "\n",
      "Notes:\n",
      "[1] Standard Errors assume that the covariance matrix of the errors is correctly specified.\n"
     ]
    }
   ],
   "source": [
    "fit_sse_OC = ols('OpenClose ~ C(Positive)', data=sse_reg_OC).fit() \n",
    "print(fit_sse_OC.summary())\n"
   ]
  },
  {
   "cell_type": "markdown",
   "metadata": {},
   "source": [
    "### b. Calculate Point-biserial correlation coefficient"
   ]
  },
  {
   "cell_type": "code",
   "execution_count": 222,
   "metadata": {},
   "outputs": [
    {
     "name": "stdout",
     "output_type": "stream",
     "text": [
      "Point-biserial correlation coefficient for Close-Open is: 0.018178598827927814\n"
     ]
    }
   ],
   "source": [
    "x = sse_reg_CO['CloseOpen']\n",
    "y = sse_reg_CO['Positive']\n",
    "std_x = np.std(x)\n",
    "M1 = np.mean(sse_reg_CO[sse_reg_CO['Positive']==1]['CloseOpen'])\n",
    "n1 = sse_reg_CO[sse_reg_CO['Positive']==1].shape[0]\n",
    "M0 = np.mean(sse_reg_CO[sse_reg_CO['Negative']==1]['CloseOpen'])\n",
    "n0 = sse_reg_CO[sse_reg_CO['Negative']==1].shape[0]\n",
    "n = n1+n0\n",
    "rpb = (M1-M0)*np.sqrt(n1*n0/(n*(n-1)))/std_x\n",
    "print('Point-biserial correlation coefficient for Close-Open is:', rpb)\n"
   ]
  },
  {
   "cell_type": "code",
   "execution_count": 223,
   "metadata": {},
   "outputs": [
    {
     "name": "stdout",
     "output_type": "stream",
     "text": [
      "Point-biserial correlation coefficient for Open-Close is: -0.07985055685344608\n"
     ]
    }
   ],
   "source": [
    "x = sse_reg_OC['OpenClose']\n",
    "y = sse_reg_OC['Positive']\n",
    "std_x = np.std(x)\n",
    "M1 = np.mean(sse_reg_OC[sse_reg_OC['Positive']==1]['OpenClose'])\n",
    "n1 = sse_reg_OC[sse_reg_OC['Positive']==1].shape[0]\n",
    "M0 = np.mean(sse_reg_OC[sse_reg_OC['Negative']==1]['OpenClose'])\n",
    "n0 = sse_reg_OC[sse_reg_OC['Negative']==1].shape[0]\n",
    "n = n1+n0\n",
    "rpb = (M1-M0)*np.sqrt(n1*n0/(n*(n-1)))/std_x\n",
    "print('Point-biserial correlation coefficient for Open-Close is:', rpb)\n"
   ]
  },
  {
   "cell_type": "markdown",
   "metadata": {},
   "source": [
    "## 4. Shanghai Composite Index vs. textblob sentiment"
   ]
  },
  {
   "cell_type": "markdown",
   "metadata": {},
   "source": [
    "### a. Regression"
   ]
  },
  {
   "cell_type": "markdown",
   "metadata": {},
   "source": [
    "Close-Open"
   ]
  },
  {
   "cell_type": "code",
   "execution_count": 224,
   "metadata": {
    "scrolled": false
   },
   "outputs": [
    {
     "name": "stdout",
     "output_type": "stream",
     "text": [
      "                            OLS Regression Results                            \n",
      "==============================================================================\n",
      "Dep. Variable:              CloseOpen   R-squared:                       0.035\n",
      "Model:                            OLS   Adj. R-squared:                  0.027\n",
      "Method:                 Least Squares   F-statistic:                     4.659\n",
      "Date:                Wed, 16 Dec 2020   Prob (F-statistic):             0.0327\n",
      "Time:                        17:51:02   Log-Likelihood:                 489.99\n",
      "No. Observations:                 132   AIC:                            -976.0\n",
      "Df Residuals:                     130   BIC:                            -970.2\n",
      "Df Model:                           1                                         \n",
      "Covariance Type:            nonrobust                                         \n",
      "====================================================================================\n",
      "                       coef    std err          t      P>|t|      [0.025      0.975]\n",
      "------------------------------------------------------------------------------------\n",
      "Intercept            0.0006      0.001      0.702      0.484      -0.001       0.002\n",
      "C(Positive)[T.1]    -0.0023      0.001     -2.159      0.033      -0.004      -0.000\n",
      "==============================================================================\n",
      "Omnibus:                       11.255   Durbin-Watson:                   2.009\n",
      "Prob(Omnibus):                  0.004   Jarque-Bera (JB):               28.330\n",
      "Skew:                          -0.130   Prob(JB):                     7.05e-07\n",
      "Kurtosis:                       5.255   Cond. No.                         2.95\n",
      "==============================================================================\n",
      "\n",
      "Notes:\n",
      "[1] Standard Errors assume that the covariance matrix of the errors is correctly specified.\n"
     ]
    }
   ],
   "source": [
    "fit_sse_textblob_CO = ols('CloseOpen ~ C(Positive)', data=sse_textblob_CO).fit() \n",
    "print(fit_sse_textblob_CO.summary())\n"
   ]
  },
  {
   "cell_type": "markdown",
   "metadata": {},
   "source": [
    "Open-Close"
   ]
  },
  {
   "cell_type": "code",
   "execution_count": 194,
   "metadata": {},
   "outputs": [
    {
     "name": "stdout",
     "output_type": "stream",
     "text": [
      "                            OLS Regression Results                            \n",
      "==============================================================================\n",
      "Dep. Variable:              OpenClose   R-squared:                       0.000\n",
      "Model:                            OLS   Adj. R-squared:                 -0.005\n",
      "Method:                 Least Squares   F-statistic:                   0.02868\n",
      "Date:                Wed, 16 Dec 2020   Prob (F-statistic):              0.866\n",
      "Time:                        17:34:47   Log-Likelihood:                 585.38\n",
      "No. Observations:                 182   AIC:                            -1167.\n",
      "Df Residuals:                     180   BIC:                            -1160.\n",
      "Df Model:                           1                                         \n",
      "Covariance Type:            nonrobust                                         \n",
      "====================================================================================\n",
      "                       coef    std err          t      P>|t|      [0.025      0.975]\n",
      "------------------------------------------------------------------------------------\n",
      "Intercept            0.0016      0.001      1.427      0.155      -0.001       0.004\n",
      "C(Positive)[T.1]    -0.0002      0.001     -0.169      0.866      -0.003       0.003\n",
      "==============================================================================\n",
      "Omnibus:                        1.398   Durbin-Watson:                   1.933\n",
      "Prob(Omnibus):                  0.497   Jarque-Bera (JB):                1.064\n",
      "Skew:                           0.025   Prob(JB):                        0.587\n",
      "Kurtosis:                       3.371   Cond. No.                         2.86\n",
      "==============================================================================\n",
      "\n",
      "Notes:\n",
      "[1] Standard Errors assume that the covariance matrix of the errors is correctly specified.\n"
     ]
    }
   ],
   "source": [
    "fit_sse_textblob_OC = ols('OpenClose ~ C(Positive)', data=sse_textblob_OC).fit() \n",
    "print(fit_sse_textblob_OC.summary())"
   ]
  },
  {
   "cell_type": "markdown",
   "metadata": {},
   "source": [
    "### b. Calculate Point-biserial correlation coefficient"
   ]
  },
  {
   "cell_type": "code",
   "execution_count": 225,
   "metadata": {},
   "outputs": [
    {
     "name": "stdout",
     "output_type": "stream",
     "text": [
      "Point-biserial correlation coefficient for Close-Open is: -0.07790471887144576\n"
     ]
    }
   ],
   "source": [
    "x = sse_textblob_CO['CloseOpen']\n",
    "y = sse_textblob_CO['Positive']\n",
    "std_x = np.std(x)\n",
    "M1 = np.mean(sse_textblob_CO[sse_textblob_CO['Positive']==1]['CloseOpen'])\n",
    "n1 = sse_textblob_CO[sse_textblob_CO['Positive']==1].shape[0]\n",
    "M0 = np.mean(sse_textblob_CO[sse_textblob_CO['Negative']==1]['CloseOpen'])\n",
    "n0 = sse_textblob_CO[sse_textblob_CO['Negative']==1].shape[0]\n",
    "n = n1+n0\n",
    "rpb = (M1-M0)*np.sqrt(n1*n0/(n*(n-1)))/std_x\n",
    "print('Point-biserial correlation coefficient for Close-Open is:', rpb)\n"
   ]
  },
  {
   "cell_type": "code",
   "execution_count": 226,
   "metadata": {},
   "outputs": [
    {
     "name": "stdout",
     "output_type": "stream",
     "text": [
      "Point-biserial correlation coefficient for Open-Close is: -0.027915412009342024\n"
     ]
    }
   ],
   "source": [
    "x = sse_textblob_OC['OpenClose']\n",
    "y = sse_textblob_OC['Positive']\n",
    "std_x = np.std(x)\n",
    "M1 = np.mean(sse_textblob_OC[sse_textblob_OC['Positive']==1]['OpenClose'])\n",
    "n1 = sse_textblob_OC[sse_textblob_OC['Positive']==1].shape[0]\n",
    "M0 = np.mean(sse_textblob_OC[sse_textblob_OC['Negative']==1]['OpenClose'])\n",
    "n0 = sse_textblob_OC[sse_textblob_OC['Negative']==1].shape[0]\n",
    "n = n1+n0\n",
    "rpb = (M1-M0)*np.sqrt(n1*n0/(n*(n-1)))/std_x\n",
    "print('Point-biserial correlation coefficient for Open-Close is:', rpb)"
   ]
  },
  {
   "cell_type": "markdown",
   "metadata": {},
   "source": [
    "## 5. FXI vs. lstm"
   ]
  },
  {
   "cell_type": "markdown",
   "metadata": {},
   "source": [
    "### a. Regression"
   ]
  },
  {
   "cell_type": "markdown",
   "metadata": {},
   "source": [
    "Close-Open"
   ]
  },
  {
   "cell_type": "code",
   "execution_count": 227,
   "metadata": {},
   "outputs": [
    {
     "name": "stdout",
     "output_type": "stream",
     "text": [
      "                            OLS Regression Results                            \n",
      "==============================================================================\n",
      "Dep. Variable:              CloseOpen   R-squared:                       0.000\n",
      "Model:                            OLS   Adj. R-squared:                 -0.004\n",
      "Method:                 Least Squares   F-statistic:                   0.03736\n",
      "Date:                Wed, 16 Dec 2020   Prob (F-statistic):              0.847\n",
      "Time:                        17:51:06   Log-Likelihood:                 813.27\n",
      "No. Observations:                 271   AIC:                            -1623.\n",
      "Df Residuals:                     269   BIC:                            -1615.\n",
      "Df Model:                           1                                         \n",
      "Covariance Type:            nonrobust                                         \n",
      "====================================================================================\n",
      "                       coef    std err          t      P>|t|      [0.025      0.975]\n",
      "------------------------------------------------------------------------------------\n",
      "Intercept            0.0002      0.001      0.182      0.856      -0.002       0.002\n",
      "C(Positive)[T.1]     0.0003      0.001      0.193      0.847      -0.003       0.003\n",
      "==============================================================================\n",
      "Omnibus:                       10.804   Durbin-Watson:                   2.108\n",
      "Prob(Omnibus):                  0.005   Jarque-Bera (JB):               11.157\n",
      "Skew:                          -0.433   Prob(JB):                      0.00378\n",
      "Kurtosis:                       3.489   Cond. No.                         2.69\n",
      "==============================================================================\n",
      "\n",
      "Notes:\n",
      "[1] Standard Errors assume that the covariance matrix of the errors is correctly specified.\n"
     ]
    }
   ],
   "source": [
    "fit_fxi_CO = ols('CloseOpen ~ C(Positive)', data=fxi_reg_CO).fit() \n",
    "print(fit_fxi_CO.summary())\n"
   ]
  },
  {
   "cell_type": "markdown",
   "metadata": {},
   "source": [
    "Open-Close"
   ]
  },
  {
   "cell_type": "code",
   "execution_count": 164,
   "metadata": {},
   "outputs": [
    {
     "name": "stdout",
     "output_type": "stream",
     "text": [
      "                            OLS Regression Results                            \n",
      "==============================================================================\n",
      "Dep. Variable:              OpenClose   R-squared:                       0.003\n",
      "Model:                            OLS   Adj. R-squared:                 -0.005\n",
      "Method:                 Least Squares   F-statistic:                    0.3923\n",
      "Date:                Wed, 16 Dec 2020   Prob (F-statistic):              0.532\n",
      "Time:                        17:25:29   Log-Likelihood:                 395.25\n",
      "No. Observations:                 115   AIC:                            -786.5\n",
      "Df Residuals:                     113   BIC:                            -781.0\n",
      "Df Model:                           1                                         \n",
      "Covariance Type:            nonrobust                                         \n",
      "====================================================================================\n",
      "                       coef    std err          t      P>|t|      [0.025      0.975]\n",
      "------------------------------------------------------------------------------------\n",
      "Intercept           -0.0017      0.001     -1.420      0.158      -0.004       0.001\n",
      "C(Positive)[T.1]     0.0009      0.002      0.626      0.532      -0.002       0.004\n",
      "==============================================================================\n",
      "Omnibus:                       17.496   Durbin-Watson:                   2.315\n",
      "Prob(Omnibus):                  0.000   Jarque-Bera (JB):               39.313\n",
      "Skew:                          -0.552   Prob(JB):                     2.91e-09\n",
      "Kurtosis:                       5.643   Cond. No.                         3.03\n",
      "==============================================================================\n",
      "\n",
      "Notes:\n",
      "[1] Standard Errors assume that the covariance matrix of the errors is correctly specified.\n"
     ]
    }
   ],
   "source": [
    "fit_fxi_OC = ols('OpenClose ~ C(Positive)', data=fxi_reg_OC).fit() \n",
    "print(fit_fxi_OC.summary())\n"
   ]
  },
  {
   "cell_type": "markdown",
   "metadata": {},
   "source": [
    "### b. Calculate Point-biserial correlation coefficient"
   ]
  },
  {
   "cell_type": "code",
   "execution_count": 228,
   "metadata": {},
   "outputs": [
    {
     "name": "stdout",
     "output_type": "stream",
     "text": [
      "Point-biserial correlation coefficient for Close-Open is: 0.02883862030036829\n"
     ]
    }
   ],
   "source": [
    "x = fxi_reg_CO['CloseOpen']\n",
    "y = fxi_reg_CO['Positive']\n",
    "std_x = np.std(x)\n",
    "M1 = np.mean(fxi_reg_CO[fxi_reg_CO['Positive']==1]['CloseOpen'])\n",
    "n1 = fxi_reg_CO[fxi_reg_CO['Positive']==1].shape[0]\n",
    "M0 = np.mean(fxi_reg_CO[fxi_reg_CO['Negative']==1]['CloseOpen'])\n",
    "n0 = fxi_reg_CO[fxi_reg_CO['Negative']==1].shape[0]\n",
    "n = n1+n0\n",
    "rpb = (M1-M0)*np.sqrt(n1*n0/(n*(n-1)))/std_x\n",
    "print('Point-biserial correlation coefficient for Close-Open is:', rpb)\n"
   ]
  },
  {
   "cell_type": "code",
   "execution_count": 229,
   "metadata": {},
   "outputs": [
    {
     "name": "stdout",
     "output_type": "stream",
     "text": [
      "Point-biserial correlation coefficient for Open-Close is: -0.07985055685344608\n"
     ]
    }
   ],
   "source": [
    "x = sse_reg_OC['OpenClose']\n",
    "y = sse_reg_OC['Positive']\n",
    "std_x = np.std(x)\n",
    "M1 = np.mean(sse_reg_OC[sse_reg_OC['Positive']==1]['OpenClose'])\n",
    "n1 = sse_reg_OC[sse_reg_OC['Positive']==1].shape[0]\n",
    "M0 = np.mean(sse_reg_OC[sse_reg_OC['Negative']==1]['OpenClose'])\n",
    "n0 = sse_reg_OC[sse_reg_OC['Negative']==1].shape[0]\n",
    "n = n1+n0\n",
    "rpb = (M1-M0)*np.sqrt(n1*n0/(n*(n-1)))/std_x\n",
    "print('Point-biserial correlation coefficient for Open-Close is:', rpb)\n"
   ]
  },
  {
   "cell_type": "markdown",
   "metadata": {},
   "source": [
    "## 6. FXI vs. textblob"
   ]
  },
  {
   "cell_type": "markdown",
   "metadata": {},
   "source": [
    "### a. Regression"
   ]
  },
  {
   "cell_type": "markdown",
   "metadata": {},
   "source": [
    "Close-Open"
   ]
  },
  {
   "cell_type": "code",
   "execution_count": 230,
   "metadata": {},
   "outputs": [
    {
     "name": "stdout",
     "output_type": "stream",
     "text": [
      "                            OLS Regression Results                            \n",
      "==============================================================================\n",
      "Dep. Variable:              CloseOpen   R-squared:                       0.002\n",
      "Model:                            OLS   Adj. R-squared:                 -0.003\n",
      "Method:                 Least Squares   F-statistic:                    0.3506\n",
      "Date:                Wed, 16 Dec 2020   Prob (F-statistic):              0.554\n",
      "Time:                        17:51:12   Log-Likelihood:                 680.48\n",
      "No. Observations:                 227   AIC:                            -1357.\n",
      "Df Residuals:                     225   BIC:                            -1350.\n",
      "Df Model:                           1                                         \n",
      "Covariance Type:            nonrobust                                         \n",
      "====================================================================================\n",
      "                       coef    std err          t      P>|t|      [0.025      0.975]\n",
      "------------------------------------------------------------------------------------\n",
      "Intercept            0.0009      0.001      0.693      0.489      -0.002       0.003\n",
      "C(Positive)[T.1]    -0.0010      0.002     -0.592      0.554      -0.004       0.002\n",
      "==============================================================================\n",
      "Omnibus:                       14.843   Durbin-Watson:                   2.127\n",
      "Prob(Omnibus):                  0.001   Jarque-Bera (JB):               16.551\n",
      "Skew:                          -0.552   Prob(JB):                     0.000255\n",
      "Kurtosis:                       3.729   Cond. No.                         2.84\n",
      "==============================================================================\n",
      "\n",
      "Notes:\n",
      "[1] Standard Errors assume that the covariance matrix of the errors is correctly specified.\n"
     ]
    }
   ],
   "source": [
    "fit_fxi_textblob_CO = ols('CloseOpen ~ C(Positive)', data=fxi_textblob_CO).fit() \n",
    "print(fit_fxi_textblob_CO.summary())\n"
   ]
  },
  {
   "cell_type": "markdown",
   "metadata": {},
   "source": [
    "Open-Close"
   ]
  },
  {
   "cell_type": "code",
   "execution_count": 231,
   "metadata": {},
   "outputs": [
    {
     "name": "stdout",
     "output_type": "stream",
     "text": [
      "                            OLS Regression Results                            \n",
      "==============================================================================\n",
      "Dep. Variable:              OpenClose   R-squared:                       0.011\n",
      "Model:                            OLS   Adj. R-squared:                  0.001\n",
      "Method:                 Least Squares   F-statistic:                     1.059\n",
      "Date:                Wed, 16 Dec 2020   Prob (F-statistic):              0.306\n",
      "Time:                        17:51:13   Log-Likelihood:                 330.08\n",
      "No. Observations:                  98   AIC:                            -656.2\n",
      "Df Residuals:                      96   BIC:                            -651.0\n",
      "Df Model:                           1                                         \n",
      "Covariance Type:            nonrobust                                         \n",
      "====================================================================================\n",
      "                       coef    std err          t      P>|t|      [0.025      0.975]\n",
      "------------------------------------------------------------------------------------\n",
      "Intercept            0.0004      0.001      0.263      0.793      -0.002       0.003\n",
      "C(Positive)[T.1]    -0.0018      0.002     -1.029      0.306      -0.005       0.002\n",
      "==============================================================================\n",
      "Omnibus:                       10.815   Durbin-Watson:                   2.263\n",
      "Prob(Omnibus):                  0.004   Jarque-Bera (JB):               23.084\n",
      "Skew:                          -0.297   Prob(JB):                     9.71e-06\n",
      "Kurtosis:                       5.302   Cond. No.                         2.89\n",
      "==============================================================================\n",
      "\n",
      "Notes:\n",
      "[1] Standard Errors assume that the covariance matrix of the errors is correctly specified.\n"
     ]
    }
   ],
   "source": [
    "fit_fxi_textblob_OC = ols('OpenClose ~ C(Positive)', data=fxi_textblob_OC).fit() \n",
    "print(fit_fxi_textblob_OC.summary())\n"
   ]
  },
  {
   "cell_type": "markdown",
   "metadata": {},
   "source": [
    "### b. Calculate Point-biserial correlation coefficient"
   ]
  },
  {
   "cell_type": "code",
   "execution_count": 232,
   "metadata": {},
   "outputs": [
    {
     "name": "stdout",
     "output_type": "stream",
     "text": [
      "Point-biserial correlation coefficient for Close-Open is: -0.044188713120793345\n"
     ]
    }
   ],
   "source": [
    "x = fxi_textblob_CO['CloseOpen']\n",
    "y = fxi_textblob_CO['Positive']\n",
    "std_x = np.std(x)\n",
    "M1 = np.mean(fxi_textblob_CO[fxi_textblob_CO['Positive']==1]['CloseOpen'])\n",
    "n1 = fxi_textblob_CO[fxi_textblob_CO['Positive']==1].shape[0]\n",
    "M0 = np.mean(fxi_textblob_CO[fxi_textblob_CO['Negative']==1]['CloseOpen'])\n",
    "n0 = fxi_textblob_CO[fxi_textblob_CO['Negative']==1].shape[0]\n",
    "n = n1+n0\n",
    "rpb = (M1-M0)*np.sqrt(n1*n0/(n*(n-1)))/std_x\n",
    "print('Point-biserial correlation coefficient for Close-Open is:', rpb)\n"
   ]
  },
  {
   "cell_type": "code",
   "execution_count": 233,
   "metadata": {},
   "outputs": [
    {
     "name": "stdout",
     "output_type": "stream",
     "text": [
      "Point-biserial correlation coefficient for Open-Close is: -0.016016097171625734\n"
     ]
    }
   ],
   "source": [
    "x = fxi_textblob_OC['OpenClose']\n",
    "y = fxi_textblob_OC['Positive']\n",
    "std_x = np.std(x)\n",
    "M1 = np.mean(fxi_textblob_OC[fxi_textblob_OC['Positive']==1]['OpenClose'])\n",
    "n1 = fxi_textblob_OC[fxi_textblob_OC['Positive']==1].shape[0]\n",
    "M0 = np.mean(fxi_textblob_OC[fxi_textblob_OC['Negative']==1]['OpenClose'])\n",
    "n0 = fxi_textblob_OC[fxi_textblob_OC['Negative']==1].shape[0]\n",
    "n = n1+n0\n",
    "rpb = (M1-M0)*np.sqrt(n1*n0/(n*(n-1)))/std_x\n",
    "print('Point-biserial correlation coefficient for Open-Close is:', rpb)"
   ]
  },
  {
   "cell_type": "markdown",
   "metadata": {},
   "source": [
    "# References"
   ]
  },
  {
   "cell_type": "markdown",
   "metadata": {},
   "source": [
    "https://medium.com/@outside2SDs/an-overview-of-correlation-measures-between-categorical-and-continuous-variables-4c7f85610365\n",
    "\n",
    "https://en.wikipedia.org/wiki/Point-biserial_correlation_coefficient\n",
    "\n",
    "https://topforeignstocks.com/foreign-adrs-list/the-full-list-of-chinese-adrs/\n",
    "\n",
    "https://finance.yahoo.com/\n",
    "\n",
    "https://www.barchart.com/"
   ]
  },
  {
   "cell_type": "code",
   "execution_count": null,
   "metadata": {},
   "outputs": [],
   "source": []
  }
 ],
 "metadata": {
  "kernelspec": {
   "display_name": "Python 3",
   "language": "python",
   "name": "python3"
  },
  "language_info": {
   "codemirror_mode": {
    "name": "ipython",
    "version": 3
   },
   "file_extension": ".py",
   "mimetype": "text/x-python",
   "name": "python",
   "nbconvert_exporter": "python",
   "pygments_lexer": "ipython3",
   "version": "3.7.4"
  }
 },
 "nbformat": 4,
 "nbformat_minor": 4
}
