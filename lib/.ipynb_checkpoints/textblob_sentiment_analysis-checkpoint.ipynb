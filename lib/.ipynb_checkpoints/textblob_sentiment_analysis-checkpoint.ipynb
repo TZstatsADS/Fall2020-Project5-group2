{
 "cells": [
  {
   "cell_type": "markdown",
   "metadata": {
    "id": "c6ljQazZssrd"
   },
   "source": [
    "# About the notebook\n",
    "\n",
    "Do exploratory data analysis and sentiment analysis \n",
    "\n",
    "# About the data\n",
    "\n",
    "Dataset consists of tweets of Trump.\n",
    "\n",
    "\n",
    "# About this Notebook\n",
    "\n",
    "- <a href =#1> 1. Import packages and libraries  </a>\n",
    "- <a href =#2> 2. Read the data </a>\n",
    "- <a href =#3> 3. Handle null values </a>\n",
    "- <a href =#4> 4. Exploratory data analysis </a>\n",
    "- <a href =#5> 5. Clean the data </a>\n",
    "- <a href =#6> 6. Apply data cleaning steps to data</a>\n",
    "- <a href =#7> 7. Visualize the most Common words in the tweets </a>\n",
    "- <a href =#8> 8.  Get the sentiment analysis of the tweets </a>\n",
    "- <a href =#9> 9.  Save the data </a>\n",
    "\n",
    "<br>\n",
    "Credit goes to:\n",
    "https://www.kaggle.com/shailaja4247/sentiment-analysis-of-tweets-wordclouds-textblob#About-the-data"
   ]
  },
  {
   "cell_type": "markdown",
   "metadata": {
    "id": "-wTBtI66ssre"
   },
   "source": [
    "<div id=1> <h2>  1. Import packages and libraries  </h2> </div> "
   ]
  },
  {
   "cell_type": "code",
   "execution_count": null,
   "metadata": {},
   "outputs": [],
   "source": [
    "pip install plotly"
   ]
  },
  {
   "cell_type": "code",
   "execution_count": 1,
   "metadata": {
    "colab": {
     "base_uri": "https://localhost:8080/"
    },
    "id": "GvkacneQssre",
    "outputId": "7ae71cce-b8f7-4afc-8e0f-f31de34ad557"
   },
   "outputs": [
    {
     "ename": "ModuleNotFoundError",
     "evalue": "No module named 'plotly'",
     "output_type": "error",
     "traceback": [
      "\u001b[1;31m---------------------------------------------------------------------------\u001b[0m",
      "\u001b[1;31mModuleNotFoundError\u001b[0m                       Traceback (most recent call last)",
      "\u001b[1;32m<ipython-input-1-f8e8e879668e>\u001b[0m in \u001b[0;36m<module>\u001b[1;34m\u001b[0m\n\u001b[0;32m      7\u001b[0m \u001b[1;32mimport\u001b[0m \u001b[0mseaborn\u001b[0m \u001b[1;32mas\u001b[0m \u001b[0msns\u001b[0m\u001b[1;33m\u001b[0m\u001b[1;33m\u001b[0m\u001b[0m\n\u001b[0;32m      8\u001b[0m \u001b[0mget_ipython\u001b[0m\u001b[1;33m(\u001b[0m\u001b[1;33m)\u001b[0m\u001b[1;33m.\u001b[0m\u001b[0mrun_line_magic\u001b[0m\u001b[1;33m(\u001b[0m\u001b[1;34m'matplotlib'\u001b[0m\u001b[1;33m,\u001b[0m \u001b[1;34m'inline'\u001b[0m\u001b[1;33m)\u001b[0m\u001b[1;33m\u001b[0m\u001b[1;33m\u001b[0m\u001b[0m\n\u001b[1;32m----> 9\u001b[1;33m \u001b[1;32mfrom\u001b[0m \u001b[0mplotly\u001b[0m \u001b[1;32mimport\u001b[0m \u001b[0mgraph_objs\u001b[0m \u001b[1;32mas\u001b[0m \u001b[0mgo\u001b[0m\u001b[1;33m\u001b[0m\u001b[1;33m\u001b[0m\u001b[0m\n\u001b[0m\u001b[0;32m     10\u001b[0m \u001b[1;32mimport\u001b[0m \u001b[0mplotly\u001b[0m\u001b[1;33m.\u001b[0m\u001b[0mexpress\u001b[0m \u001b[1;32mas\u001b[0m \u001b[0mpx\u001b[0m\u001b[1;33m\u001b[0m\u001b[1;33m\u001b[0m\u001b[0m\n\u001b[0;32m     11\u001b[0m \u001b[1;32mimport\u001b[0m \u001b[0mplotly\u001b[0m\u001b[1;33m.\u001b[0m\u001b[0mfigure_factory\u001b[0m \u001b[1;32mas\u001b[0m \u001b[0mff\u001b[0m\u001b[1;33m\u001b[0m\u001b[1;33m\u001b[0m\u001b[0m\n",
      "\u001b[1;31mModuleNotFoundError\u001b[0m: No module named 'plotly'"
     ]
    }
   ],
   "source": [
    "import re\n",
    "import string\n",
    "import numpy as np \n",
    "import random\n",
    "import pandas as pd \n",
    "import matplotlib.pyplot as plt\n",
    "import seaborn as sns\n",
    "%matplotlib inline\n",
    "from plotly import graph_objs as go\n",
    "import plotly.express as px\n",
    "import plotly.figure_factory as ff\n",
    "from collections import Counter\n",
    "\n",
    "from PIL import Image\n",
    "from wordcloud import WordCloud, STOPWORDS, ImageColorGenerator\n",
    "\n",
    "\n",
    "import nltk\n",
    "from nltk.corpus import stopwords\n",
    "nltk.download('stopwords')\n",
    "nltk.download('punkt')\n",
    "nltk.download('wordnet')\n",
    "nltk.download('punkit')\n",
    "\n",
    "from tqdm import tqdm\n",
    "import os\n",
    "import nltk\n",
    "import spacy\n",
    "import random\n",
    "from spacy.util import compounding\n",
    "from spacy.util import minibatch\n",
    "\n",
    "import warnings\n",
    "warnings.filterwarnings(\"ignore\")\n",
    "\n",
    "import os"
   ]
  },
  {
   "cell_type": "markdown",
   "metadata": {
    "id": "9QtwlyKIssrf"
   },
   "source": [
    "**Below is a helper Function which generates random colors which can be used to give different colors to your plots.Feel free to use it**"
   ]
  },
  {
   "cell_type": "markdown",
   "metadata": {
    "id": "nMU9oH_Tssrf"
   },
   "source": [
    "<div id=2> <h2> 2. Read the data  </h2></div> "
   ]
  },
  {
   "cell_type": "code",
   "execution_count": 2,
   "metadata": {
    "id": "XjAg6i71ssrg"
   },
   "outputs": [],
   "source": [
    "import pandas as pd\n",
    "import numpy as np\n",
    "train=pd.read_csv('./data/input/realdonaldtrump_20170120-20191231.csv')"
   ]
  },
  {
   "cell_type": "code",
   "execution_count": 3,
   "metadata": {
    "colab": {
     "base_uri": "https://localhost:8080/"
    },
    "id": "yqsA7IMessrg",
    "outputId": "5ebe9a17-d34b-4d3c-8a43-edd267133a26"
   },
   "outputs": [
    {
     "name": "stdout",
     "output_type": "stream",
     "text": [
      "(9690, 8)\n"
     ]
    }
   ],
   "source": [
    "print(train.shape)"
   ]
  },
  {
   "cell_type": "code",
   "execution_count": 4,
   "metadata": {
    "colab": {
     "base_uri": "https://localhost:8080/",
     "height": 284
    },
    "id": "VqX1grvAssrg",
    "outputId": "0efdd95d-3e46-485d-e90f-cd02b003ab37"
   },
   "outputs": [
    {
     "data": {
      "text/html": [
       "<div>\n",
       "<style scoped>\n",
       "    .dataframe tbody tr th:only-of-type {\n",
       "        vertical-align: middle;\n",
       "    }\n",
       "\n",
       "    .dataframe tbody tr th {\n",
       "        vertical-align: top;\n",
       "    }\n",
       "\n",
       "    .dataframe thead th {\n",
       "        text-align: right;\n",
       "    }\n",
       "</style>\n",
       "<table border=\"1\" class=\"dataframe\">\n",
       "  <thead>\n",
       "    <tr style=\"text-align: right;\">\n",
       "      <th></th>\n",
       "      <th>id</th>\n",
       "      <th>retweets</th>\n",
       "      <th>favorites</th>\n",
       "    </tr>\n",
       "  </thead>\n",
       "  <tbody>\n",
       "    <tr>\n",
       "      <th>count</th>\n",
       "      <td>9.690000e+03</td>\n",
       "      <td>9690.000000</td>\n",
       "      <td>9690.000000</td>\n",
       "    </tr>\n",
       "    <tr>\n",
       "      <th>mean</th>\n",
       "      <td>1.055627e+18</td>\n",
       "      <td>17968.644066</td>\n",
       "      <td>79928.356347</td>\n",
       "    </tr>\n",
       "    <tr>\n",
       "      <th>std</th>\n",
       "      <td>1.103727e+17</td>\n",
       "      <td>10248.538428</td>\n",
       "      <td>39531.033392</td>\n",
       "    </tr>\n",
       "    <tr>\n",
       "      <th>min</th>\n",
       "      <td>8.224210e+17</td>\n",
       "      <td>535.000000</td>\n",
       "      <td>2317.000000</td>\n",
       "    </tr>\n",
       "    <tr>\n",
       "      <th>25%</th>\n",
       "      <td>9.675642e+17</td>\n",
       "      <td>12113.000000</td>\n",
       "      <td>55761.500000</td>\n",
       "    </tr>\n",
       "    <tr>\n",
       "      <th>50%</th>\n",
       "      <td>1.069730e+18</td>\n",
       "      <td>16155.500000</td>\n",
       "      <td>72963.500000</td>\n",
       "    </tr>\n",
       "    <tr>\n",
       "      <th>75%</th>\n",
       "      <td>1.155308e+18</td>\n",
       "      <td>21364.000000</td>\n",
       "      <td>95168.250000</td>\n",
       "    </tr>\n",
       "    <tr>\n",
       "      <th>max</th>\n",
       "      <td>1.212210e+18</td>\n",
       "      <td>302269.000000</td>\n",
       "      <td>835575.000000</td>\n",
       "    </tr>\n",
       "  </tbody>\n",
       "</table>\n",
       "</div>"
      ],
      "text/plain": [
       "                 id       retweets      favorites\n",
       "count  9.690000e+03    9690.000000    9690.000000\n",
       "mean   1.055627e+18   17968.644066   79928.356347\n",
       "std    1.103727e+17   10248.538428   39531.033392\n",
       "min    8.224210e+17     535.000000    2317.000000\n",
       "25%    9.675642e+17   12113.000000   55761.500000\n",
       "50%    1.069730e+18   16155.500000   72963.500000\n",
       "75%    1.155308e+18   21364.000000   95168.250000\n",
       "max    1.212210e+18  302269.000000  835575.000000"
      ]
     },
     "execution_count": 4,
     "metadata": {
      "tags": []
     },
     "output_type": "execute_result"
    }
   ],
   "source": [
    "train.describe()"
   ]
  },
  {
   "cell_type": "code",
   "execution_count": 5,
   "metadata": {
    "colab": {
     "base_uri": "https://localhost:8080/"
    },
    "id": "T1g160kRssrh",
    "outputId": "c3f1bcd7-b066-4778-c907-a9c500cde7a5"
   },
   "outputs": [
    {
     "data": {
      "text/plain": [
       "id              0\n",
       "link            0\n",
       "content         0\n",
       "date            0\n",
       "retweets        0\n",
       "favorites       0\n",
       "mentions     7850\n",
       "hashtags     8911\n",
       "dtype: int64"
      ]
     },
     "execution_count": 5,
     "metadata": {
      "tags": []
     },
     "output_type": "execute_result"
    }
   ],
   "source": [
    "train.isna().sum()"
   ]
  },
  {
   "cell_type": "markdown",
   "metadata": {
    "id": "-oav1R_7ssrh"
   },
   "source": [
    "hashtags have lot of null values, mentions also have lot of null values."
   ]
  },
  {
   "cell_type": "markdown",
   "metadata": {
    "id": "L9a4B0s0ssrh"
   },
   "source": [
    "<div id=3> <h2> 3. Handle null values </h2> </div>"
   ]
  },
  {
   "cell_type": "code",
   "execution_count": 6,
   "metadata": {
    "colab": {
     "base_uri": "https://localhost:8080/"
    },
    "id": "4xsve9Eissrh",
    "outputId": "823f86ea-c118-4c67-a4c7-4ff6f76ab99b"
   },
   "outputs": [
    {
     "data": {
      "text/plain": [
       "array([nan, '#InaugurationDay', '#AmericaFirst', '#InaugurationDay,#MAGA',\n",
       "       '#MAGA', '#MarchForLife', '#NeverForgetpic', '#SuperBowl', '#1',\n",
       "       '#AmericaFirstpic'], dtype=object)"
      ]
     },
     "execution_count": 6,
     "metadata": {
      "tags": []
     },
     "output_type": "execute_result"
    }
   ],
   "source": [
    "train['hashtags'].unique()[:10]"
   ]
  },
  {
   "cell_type": "code",
   "execution_count": 7,
   "metadata": {
    "colab": {
     "base_uri": "https://localhost:8080/"
    },
    "id": "J0Rmsoz_ssrh",
    "outputId": "7e9afae8-4dee-450e-de22-b3740478ca4c"
   },
   "outputs": [
    {
     "data": {
      "text/plain": [
       "array([nan, '@FoxNews', '@WhiteHouse', '@FoxNews,@CNN', '@DavidMuir,@ABC',\n",
       "       '@DHSgov', '@romoabcnews,@DavidMuir,@POTUS,@ABCWorldNews,@ABC2020',\n",
       "       '@ABC', '@GOP,@VP,@SenateMajLdr,@SpeakerRyan',\n",
       "       '@SeanHannity,@FoxNews'], dtype=object)"
      ]
     },
     "execution_count": 7,
     "metadata": {
      "tags": []
     },
     "output_type": "execute_result"
    }
   ],
   "source": [
    "train['mentions'].unique()[:10]"
   ]
  },
  {
   "cell_type": "markdown",
   "metadata": {
    "id": "1qo044jnssrh"
   },
   "source": [
    "1. hashtags: This column does not have something very significant for us to analyse. We have mostly words like #ixzz4 etc which make no sense and we wont be able to analyse their sentiment. So we can get rid of this column\n",
    "2. mentions usually mention another person and we wont really get any sentiment by analysing that. mentions too does not have anything siginificant for us to analyse. Hence we can do away with that too. Let us drop columns which dont have any siginificantly useful information. "
   ]
  },
  {
   "cell_type": "code",
   "execution_count": 8,
   "metadata": {
    "id": "A4shjdXjssri"
   },
   "outputs": [],
   "source": [
    "train=train.drop(['link','mentions','hashtags'], axis=1)"
   ]
  },
  {
   "cell_type": "markdown",
   "metadata": {
    "id": "2EhoEpXpssri"
   },
   "source": [
    "<div id=4> <h2> 4. EDA (Exploratory data analysis)  </h2></div>"
   ]
  },
  {
   "cell_type": "code",
   "execution_count": 9,
   "metadata": {
    "colab": {
     "base_uri": "https://localhost:8080/",
     "height": 195
    },
    "id": "782e6oY_ssri",
    "outputId": "d44f50a0-0e87-4847-cf46-77c68a35c005"
   },
   "outputs": [
    {
     "data": {
      "text/html": [
       "<div>\n",
       "<style scoped>\n",
       "    .dataframe tbody tr th:only-of-type {\n",
       "        vertical-align: middle;\n",
       "    }\n",
       "\n",
       "    .dataframe tbody tr th {\n",
       "        vertical-align: top;\n",
       "    }\n",
       "\n",
       "    .dataframe thead th {\n",
       "        text-align: right;\n",
       "    }\n",
       "</style>\n",
       "<table border=\"1\" class=\"dataframe\">\n",
       "  <thead>\n",
       "    <tr style=\"text-align: right;\">\n",
       "      <th></th>\n",
       "      <th>id</th>\n",
       "      <th>content</th>\n",
       "      <th>date</th>\n",
       "      <th>retweets</th>\n",
       "      <th>favorites</th>\n",
       "    </tr>\n",
       "  </thead>\n",
       "  <tbody>\n",
       "    <tr>\n",
       "      <th>0</th>\n",
       "      <td>8.224210e+17</td>\n",
       "      <td>It all begins today! I will see you at 11:00 A...</td>\n",
       "      <td>1/20/2017 6:31</td>\n",
       "      <td>59617</td>\n",
       "      <td>238180</td>\n",
       "    </tr>\n",
       "    <tr>\n",
       "      <th>1</th>\n",
       "      <td>8.225020e+17</td>\n",
       "      <td>Today we are not merely transferring power fro...</td>\n",
       "      <td>1/20/2017 11:51</td>\n",
       "      <td>17022</td>\n",
       "      <td>97230</td>\n",
       "    </tr>\n",
       "    <tr>\n",
       "      <th>2</th>\n",
       "      <td>8.225020e+17</td>\n",
       "      <td>power from Washington, D.C. and giving it back...</td>\n",
       "      <td>1/20/2017 11:51</td>\n",
       "      <td>15441</td>\n",
       "      <td>80281</td>\n",
       "    </tr>\n",
       "    <tr>\n",
       "      <th>3</th>\n",
       "      <td>8.225020e+17</td>\n",
       "      <td>What truly matters is not which party controls...</td>\n",
       "      <td>1/20/2017 11:52</td>\n",
       "      <td>36987</td>\n",
       "      <td>161112</td>\n",
       "    </tr>\n",
       "    <tr>\n",
       "      <th>4</th>\n",
       "      <td>8.225020e+17</td>\n",
       "      <td>January 20th 2017, will be remembered as the d...</td>\n",
       "      <td>1/20/2017 11:53</td>\n",
       "      <td>56418</td>\n",
       "      <td>201434</td>\n",
       "    </tr>\n",
       "  </tbody>\n",
       "</table>\n",
       "</div>"
      ],
      "text/plain": [
       "             id  ... favorites\n",
       "0  8.224210e+17  ...    238180\n",
       "1  8.225020e+17  ...     97230\n",
       "2  8.225020e+17  ...     80281\n",
       "3  8.225020e+17  ...    161112\n",
       "4  8.225020e+17  ...    201434\n",
       "\n",
       "[5 rows x 5 columns]"
      ]
     },
     "execution_count": 9,
     "metadata": {
      "tags": []
     },
     "output_type": "execute_result"
    }
   ],
   "source": [
    "train.head()"
   ]
  },
  {
   "cell_type": "markdown",
   "metadata": {
    "id": "Xu3B5kHjssri"
   },
   "source": [
    "Lets look at the distribution of reviews in the train set"
   ]
  },
  {
   "cell_type": "markdown",
   "metadata": {
    "id": "Y-zm7s4ossri"
   },
   "source": [
    "<div id=5> <h2>5. Data Preprocessing </h2> </div>\n",
    "\n",
    "Let's first clean the data, remove stopwords etc and perform basic pre-processing"
   ]
  },
  {
   "cell_type": "markdown",
   "metadata": {
    "id": "Gd-SKmL1ssri"
   },
   "source": [
    "**Removing weird spaces**"
   ]
  },
  {
   "cell_type": "code",
   "execution_count": 10,
   "metadata": {
    "id": "UVcRi0SXssrj"
   },
   "outputs": [],
   "source": [
    "def remove_spaces(text):\n",
    "    text=text.strip()\n",
    "    text=text.split()\n",
    "    return ' '.join(text)"
   ]
  },
  {
   "cell_type": "markdown",
   "metadata": {
    "id": "4nQhjBTFssrj"
   },
   "source": [
    "<b> Spelling Correction </b>"
   ]
  },
  {
   "cell_type": "code",
   "execution_count": 11,
   "metadata": {
    "id": "lxR8A_JSssrj"
   },
   "outputs": [],
   "source": [
    "def edits1(word):\n",
    "    letters='abcdefghijklmnopqrstuvwxyz'\n",
    "    splits=[(word[:i], word[i:]) for i in range(len(word)+1)]\n",
    "    deletes=[L+R[1:] for L,R in splits if R]\n",
    "    transposes=[L+R[1] +R[0] + R[2:] for L,R in splits if len(R)>1]\n",
    "    replaces = [L+c+R[1:] for L,R in splits if R for c in letters]\n",
    "    inserts = [L+c+ R for L,R in splits for c in letters]\n",
    "    return set(deletes+transposes+replaces+inserts)\n",
    "def edits2(word):\n",
    "    return(e2 for e1 in edits1(word) for e2 in edits1(e1))"
   ]
  },
  {
   "cell_type": "markdown",
   "metadata": {
    "id": "QRa7XFxossrj"
   },
   "source": [
    "<b> Contraction </b>"
   ]
  },
  {
   "cell_type": "code",
   "execution_count": 12,
   "metadata": {
    "id": "582aA1I2ssrj"
   },
   "outputs": [],
   "source": [
    "contraction = {'cause':'because',\n",
    "              'aint': 'am not',\n",
    "              'aren\\'t': 'are not'}\n",
    "\n",
    "def mapping_replacer(x,dic):\n",
    "    for words in dic.keys():\n",
    "        if ' ' + words + ' ' in x:\n",
    "            x=x.replace(' '+ words +' ' ,' '+dic[words]+' ' )\n",
    "    return x"
   ]
  },
  {
   "cell_type": "markdown",
   "metadata": {
    "id": "12W489AHssrj"
   },
   "source": [
    "<b> Stemming, lemmetisation and tokenisation\n",
    "</b>"
   ]
  },
  {
   "cell_type": "code",
   "execution_count": 13,
   "metadata": {
    "id": "Iv62FQxTssrk"
   },
   "outputs": [],
   "source": [
    "from nltk.tokenize import word_tokenize\n",
    "from nltk.stem.wordnet import WordNetLemmatizer\n",
    "from nltk.stem.lancaster import LancasterStemmer\n",
    "\n",
    "nltk.LancasterStemmer\n",
    "ls = LancasterStemmer()\n",
    "lem = WordNetLemmatizer()\n",
    "def lexicon_normalization(text):\n",
    "    words = word_tokenize(text) \n",
    "    \n",
    "    \n",
    "    # 1- Stemming\n",
    "    words_stem = [ls.stem(w) for w in words]\n",
    "    \n",
    "    # 2- Lemmatization\n",
    "    words_lem = [lem.lemmatize(w) for w in words_stem]\n",
    "    return words_lem"
   ]
  },
  {
   "cell_type": "markdown",
   "metadata": {
    "id": "7N-zfx81ssrk"
   },
   "source": [
    "<b> Handling emojis </b>"
   ]
  },
  {
   "cell_type": "code",
   "execution_count": 14,
   "metadata": {
    "id": "X1VeR2Missrk"
   },
   "outputs": [],
   "source": [
    "import emoji\n",
    "import re \n",
    "#from emot.emo_unicode import UNICODE_EMO\n",
    "def convert_emojis(text):\n",
    "    for emot in emoji.UNICODE_EMOJI:\n",
    "        text = re.sub(r'('+emot+')', \"_\".join(emoji.UNICODE_EMOJI[emot].replace(\",\",\"\").replace(\":\",\"\").split()), text)\n",
    "    return text"
   ]
  },
  {
   "cell_type": "markdown",
   "metadata": {
    "id": "ZN6Gbwaassrk"
   },
   "source": [
    "<b>Removing links, brackets, numbers, punctuations etc. </b>\n"
   ]
  },
  {
   "cell_type": "code",
   "execution_count": 15,
   "metadata": {
    "id": "2HZ5uKZdssrk"
   },
   "outputs": [],
   "source": [
    "def clean_text(text):\n",
    "    '''Make text lowercase, remove text in square brackets,remove links,remove punctuation\n",
    "    and remove words containing numbers.'''\n",
    "    text = str(text).lower()\n",
    "    text = re.sub('\\[.*?\\]', '', text)\n",
    "    text = re.sub('https?://\\S+|www\\.\\S+', '', text)\n",
    "    text = re.sub('<.*?>+', '', text)\n",
    "    text = re.sub('[%s]' % re.escape(string.punctuation), '', text)\n",
    "    text = re.sub('\\n', '', text)\n",
    "    text = re.sub('\\w*\\d\\w*', '', text)\n",
    "    text = re.sub('\\'','', text)\n",
    "    \n",
    "    return text"
   ]
  },
  {
   "cell_type": "markdown",
   "metadata": {
    "id": "nIuaW_Oessrk"
   },
   "source": [
    "<b> Handling stopwords </b>"
   ]
  },
  {
   "cell_type": "code",
   "execution_count": 16,
   "metadata": {
    "id": "nPhDQl9issrl"
   },
   "outputs": [],
   "source": [
    "from collections import Counter\n",
    "def remove_stopword(text):\n",
    "    stop_words = stopwords.words('english')\n",
    "    stopwords_dict = Counter(stop_words)\n",
    "    text = ' '.join([word for word in text.split() if word not in stopwords_dict])\n",
    "    return text"
   ]
  },
  {
   "cell_type": "markdown",
   "metadata": {
    "id": "OXlttikyssrl"
   },
   "source": [
    "<b> Tokenisation </b>"
   ]
  },
  {
   "cell_type": "code",
   "execution_count": 17,
   "metadata": {
    "id": "Wwf-4RWMssrl"
   },
   "outputs": [],
   "source": [
    "def tokenise(text):\n",
    "    words = word_tokenize(text) \n",
    "    return words\n"
   ]
  },
  {
   "cell_type": "markdown",
   "metadata": {
    "id": "n57qddVPssrl"
   },
   "source": [
    "<div id = 6> <h2> 6. Apply data cleaning steps to data </h2> </div>"
   ]
  },
  {
   "cell_type": "markdown",
   "metadata": {
    "id": "zC9UoBo9ssrl"
   },
   "source": [
    "Cleaning Regex Expressions from data"
   ]
  },
  {
   "cell_type": "code",
   "execution_count": 18,
   "metadata": {
    "id": "sSAAuz1qssrm"
   },
   "outputs": [],
   "source": [
    "import re\n",
    "train['content'] = train['content'].map(lambda x: re.sub(r'\\W+', ' ', x))\n",
    "train['content'] = train['content'].replace(r'\\W+', ' ', regex=True)\n"
   ]
  },
  {
   "cell_type": "code",
   "execution_count": 19,
   "metadata": {
    "colab": {
     "base_uri": "https://localhost:8080/",
     "height": 195
    },
    "id": "8oPhPwHtssrm",
    "outputId": "701c672c-ebea-41bf-ca27-6937608425c6"
   },
   "outputs": [
    {
     "data": {
      "text/html": [
       "<div>\n",
       "<style scoped>\n",
       "    .dataframe tbody tr th:only-of-type {\n",
       "        vertical-align: middle;\n",
       "    }\n",
       "\n",
       "    .dataframe tbody tr th {\n",
       "        vertical-align: top;\n",
       "    }\n",
       "\n",
       "    .dataframe thead th {\n",
       "        text-align: right;\n",
       "    }\n",
       "</style>\n",
       "<table border=\"1\" class=\"dataframe\">\n",
       "  <thead>\n",
       "    <tr style=\"text-align: right;\">\n",
       "      <th></th>\n",
       "      <th>id</th>\n",
       "      <th>content</th>\n",
       "      <th>date</th>\n",
       "      <th>retweets</th>\n",
       "      <th>favorites</th>\n",
       "    </tr>\n",
       "  </thead>\n",
       "  <tbody>\n",
       "    <tr>\n",
       "      <th>0</th>\n",
       "      <td>8.224210e+17</td>\n",
       "      <td>It all begins today I will see you at 11 00 A ...</td>\n",
       "      <td>1/20/2017 6:31</td>\n",
       "      <td>59617</td>\n",
       "      <td>238180</td>\n",
       "    </tr>\n",
       "    <tr>\n",
       "      <th>1</th>\n",
       "      <td>8.225020e+17</td>\n",
       "      <td>Today we are not merely transferring power fro...</td>\n",
       "      <td>1/20/2017 11:51</td>\n",
       "      <td>17022</td>\n",
       "      <td>97230</td>\n",
       "    </tr>\n",
       "    <tr>\n",
       "      <th>2</th>\n",
       "      <td>8.225020e+17</td>\n",
       "      <td>power from Washington D C and giving it back t...</td>\n",
       "      <td>1/20/2017 11:51</td>\n",
       "      <td>15441</td>\n",
       "      <td>80281</td>\n",
       "    </tr>\n",
       "    <tr>\n",
       "      <th>3</th>\n",
       "      <td>8.225020e+17</td>\n",
       "      <td>What truly matters is not which party controls...</td>\n",
       "      <td>1/20/2017 11:52</td>\n",
       "      <td>36987</td>\n",
       "      <td>161112</td>\n",
       "    </tr>\n",
       "    <tr>\n",
       "      <th>4</th>\n",
       "      <td>8.225020e+17</td>\n",
       "      <td>January 20th 2017 will be remembered as the da...</td>\n",
       "      <td>1/20/2017 11:53</td>\n",
       "      <td>56418</td>\n",
       "      <td>201434</td>\n",
       "    </tr>\n",
       "  </tbody>\n",
       "</table>\n",
       "</div>"
      ],
      "text/plain": [
       "             id  ... favorites\n",
       "0  8.224210e+17  ...    238180\n",
       "1  8.225020e+17  ...     97230\n",
       "2  8.225020e+17  ...     80281\n",
       "3  8.225020e+17  ...    161112\n",
       "4  8.225020e+17  ...    201434\n",
       "\n",
       "[5 rows x 5 columns]"
      ]
     },
     "execution_count": 19,
     "metadata": {
      "tags": []
     },
     "output_type": "execute_result"
    }
   ],
   "source": [
    "train.head()"
   ]
  },
  {
   "cell_type": "code",
   "execution_count": 20,
   "metadata": {
    "id": "iYm-Cldgssrm"
   },
   "outputs": [],
   "source": [
    "train['content']=train['content'].apply(lambda x: mapping_replacer(x, contraction))"
   ]
  },
  {
   "cell_type": "code",
   "execution_count": 21,
   "metadata": {
    "id": "uOzFIeXLssrm"
   },
   "outputs": [],
   "source": [
    "train['content'] = train['content'].apply(lambda x:clean_text(x))"
   ]
  },
  {
   "cell_type": "code",
   "execution_count": 22,
   "metadata": {
    "id": "JboCBusessrm"
   },
   "outputs": [],
   "source": [
    "train['content']=train['content'].apply(lambda x: remove_stopword(x))\n"
   ]
  },
  {
   "cell_type": "code",
   "execution_count": 23,
   "metadata": {
    "id": "QRf_1nMHssrm"
   },
   "outputs": [],
   "source": [
    "train['content']=train['content'].apply(lambda x: lexicon_normalization(x))"
   ]
  },
  {
   "cell_type": "code",
   "execution_count": 24,
   "metadata": {
    "colab": {
     "base_uri": "https://localhost:8080/",
     "height": 195
    },
    "id": "5QHFEgc4ssrn",
    "outputId": "fc26a3d5-ba86-4c04-c9a9-7c32f2a1c9cc"
   },
   "outputs": [
    {
     "data": {
      "text/html": [
       "<div>\n",
       "<style scoped>\n",
       "    .dataframe tbody tr th:only-of-type {\n",
       "        vertical-align: middle;\n",
       "    }\n",
       "\n",
       "    .dataframe tbody tr th {\n",
       "        vertical-align: top;\n",
       "    }\n",
       "\n",
       "    .dataframe thead th {\n",
       "        text-align: right;\n",
       "    }\n",
       "</style>\n",
       "<table border=\"1\" class=\"dataframe\">\n",
       "  <thead>\n",
       "    <tr style=\"text-align: right;\">\n",
       "      <th></th>\n",
       "      <th>id</th>\n",
       "      <th>content</th>\n",
       "      <th>date</th>\n",
       "      <th>retweets</th>\n",
       "      <th>favorites</th>\n",
       "    </tr>\n",
       "  </thead>\n",
       "  <tbody>\n",
       "    <tr>\n",
       "      <th>0</th>\n",
       "      <td>8.224210e+17</td>\n",
       "      <td>[begin, today, see, swear, mov, continu, work,...</td>\n",
       "      <td>1/20/2017 6:31</td>\n",
       "      <td>59617</td>\n",
       "      <td>238180</td>\n",
       "    </tr>\n",
       "    <tr>\n",
       "      <th>1</th>\n",
       "      <td>8.225020e+17</td>\n",
       "      <td>[today, mer, transfer, pow, on, admin, anoth, ...</td>\n",
       "      <td>1/20/2017 11:51</td>\n",
       "      <td>17022</td>\n",
       "      <td>97230</td>\n",
       "    </tr>\n",
       "    <tr>\n",
       "      <th>2</th>\n",
       "      <td>8.225020e+17</td>\n",
       "      <td>[pow, washington, c, giv, back, am, peopl, ina...</td>\n",
       "      <td>1/20/2017 11:51</td>\n",
       "      <td>15441</td>\n",
       "      <td>80281</td>\n",
       "    </tr>\n",
       "    <tr>\n",
       "      <th>3</th>\n",
       "      <td>8.225020e+17</td>\n",
       "      <td>[tru, mat, party, control, govern, wheth, gove...</td>\n",
       "      <td>1/20/2017 11:52</td>\n",
       "      <td>36987</td>\n",
       "      <td>161112</td>\n",
       "    </tr>\n",
       "    <tr>\n",
       "      <th>4</th>\n",
       "      <td>8.225020e+17</td>\n",
       "      <td>[janu, rememb, day, peopl, becam, rul, nat]</td>\n",
       "      <td>1/20/2017 11:53</td>\n",
       "      <td>56418</td>\n",
       "      <td>201434</td>\n",
       "    </tr>\n",
       "  </tbody>\n",
       "</table>\n",
       "</div>"
      ],
      "text/plain": [
       "             id  ... favorites\n",
       "0  8.224210e+17  ...    238180\n",
       "1  8.225020e+17  ...     97230\n",
       "2  8.225020e+17  ...     80281\n",
       "3  8.225020e+17  ...    161112\n",
       "4  8.225020e+17  ...    201434\n",
       "\n",
       "[5 rows x 5 columns]"
      ]
     },
     "execution_count": 24,
     "metadata": {
      "tags": []
     },
     "output_type": "execute_result"
    }
   ],
   "source": [
    "train.head()"
   ]
  },
  {
   "cell_type": "markdown",
   "metadata": {
    "id": "QMSAcEubssrn"
   },
   "source": [
    "<div id=7><h2>7. Visualize the most Common words in the tweets </h2></div>"
   ]
  },
  {
   "cell_type": "code",
   "execution_count": 25,
   "metadata": {
    "colab": {
     "base_uri": "https://localhost:8080/",
     "height": 438
    },
    "id": "_2Wmb7H1ssrn",
    "outputId": "c32bc8b4-2e43-4dad-e8e3-29f162514be2"
   },
   "outputs": [
    {
     "data": {
      "text/html": [
       "<style  type=\"text/css\" >\n",
       "#T_10ae98fe_3cd5_11eb_9e8c_0242ac1c0002row0_col1{\n",
       "            background-color:  #08306b;\n",
       "            color:  #f1f1f1;\n",
       "        }#T_10ae98fe_3cd5_11eb_9e8c_0242ac1c0002row1_col1{\n",
       "            background-color:  #2c7cba;\n",
       "            color:  #000000;\n",
       "        }#T_10ae98fe_3cd5_11eb_9e8c_0242ac1c0002row2_col1{\n",
       "            background-color:  #3989c1;\n",
       "            color:  #000000;\n",
       "        }#T_10ae98fe_3cd5_11eb_9e8c_0242ac1c0002row3_col1{\n",
       "            background-color:  #8cc0dd;\n",
       "            color:  #000000;\n",
       "        }#T_10ae98fe_3cd5_11eb_9e8c_0242ac1c0002row4_col1,#T_10ae98fe_3cd5_11eb_9e8c_0242ac1c0002row5_col1{\n",
       "            background-color:  #bed8ec;\n",
       "            color:  #000000;\n",
       "        }#T_10ae98fe_3cd5_11eb_9e8c_0242ac1c0002row6_col1{\n",
       "            background-color:  #c7dbef;\n",
       "            color:  #000000;\n",
       "        }#T_10ae98fe_3cd5_11eb_9e8c_0242ac1c0002row7_col1{\n",
       "            background-color:  #c8dcf0;\n",
       "            color:  #000000;\n",
       "        }#T_10ae98fe_3cd5_11eb_9e8c_0242ac1c0002row8_col1{\n",
       "            background-color:  #d0e1f2;\n",
       "            color:  #000000;\n",
       "        }#T_10ae98fe_3cd5_11eb_9e8c_0242ac1c0002row9_col1{\n",
       "            background-color:  #d6e6f4;\n",
       "            color:  #000000;\n",
       "        }#T_10ae98fe_3cd5_11eb_9e8c_0242ac1c0002row10_col1{\n",
       "            background-color:  #d7e6f5;\n",
       "            color:  #000000;\n",
       "        }#T_10ae98fe_3cd5_11eb_9e8c_0242ac1c0002row11_col1{\n",
       "            background-color:  #deebf7;\n",
       "            color:  #000000;\n",
       "        }#T_10ae98fe_3cd5_11eb_9e8c_0242ac1c0002row12_col1{\n",
       "            background-color:  #eaf2fb;\n",
       "            color:  #000000;\n",
       "        }#T_10ae98fe_3cd5_11eb_9e8c_0242ac1c0002row13_col1{\n",
       "            background-color:  #eef5fc;\n",
       "            color:  #000000;\n",
       "        }#T_10ae98fe_3cd5_11eb_9e8c_0242ac1c0002row14_col1,#T_10ae98fe_3cd5_11eb_9e8c_0242ac1c0002row15_col1{\n",
       "            background-color:  #eff6fc;\n",
       "            color:  #000000;\n",
       "        }#T_10ae98fe_3cd5_11eb_9e8c_0242ac1c0002row16_col1{\n",
       "            background-color:  #f4f9fe;\n",
       "            color:  #000000;\n",
       "        }#T_10ae98fe_3cd5_11eb_9e8c_0242ac1c0002row17_col1{\n",
       "            background-color:  #f5f9fe;\n",
       "            color:  #000000;\n",
       "        }#T_10ae98fe_3cd5_11eb_9e8c_0242ac1c0002row18_col1{\n",
       "            background-color:  #f5fafe;\n",
       "            color:  #000000;\n",
       "        }#T_10ae98fe_3cd5_11eb_9e8c_0242ac1c0002row19_col1{\n",
       "            background-color:  #f7fbff;\n",
       "            color:  #000000;\n",
       "        }</style><table id=\"T_10ae98fe_3cd5_11eb_9e8c_0242ac1c0002\" ><thead>    <tr>        <th class=\"blank level0\" ></th>        <th class=\"col_heading level0 col0\" >Common_words</th>        <th class=\"col_heading level0 col1\" >count</th>    </tr></thead><tbody>\n",
       "                <tr>\n",
       "                        <th id=\"T_10ae98fe_3cd5_11eb_9e8c_0242ac1c0002level0_row0\" class=\"row_heading level0 row0\" >0</th>\n",
       "                        <td id=\"T_10ae98fe_3cd5_11eb_9e8c_0242ac1c0002row0_col0\" class=\"data row0 col0\" >com</td>\n",
       "                        <td id=\"T_10ae98fe_3cd5_11eb_9e8c_0242ac1c0002row0_col1\" class=\"data row0 col1\" >3154</td>\n",
       "            </tr>\n",
       "            <tr>\n",
       "                        <th id=\"T_10ae98fe_3cd5_11eb_9e8c_0242ac1c0002level0_row1\" class=\"row_heading level0 row1\" >1</th>\n",
       "                        <td id=\"T_10ae98fe_3cd5_11eb_9e8c_0242ac1c0002row1_col0\" class=\"data row1 col0\" >twit</td>\n",
       "                        <td id=\"T_10ae98fe_3cd5_11eb_9e8c_0242ac1c0002row1_col1\" class=\"data row1 col1\" >2456</td>\n",
       "            </tr>\n",
       "            <tr>\n",
       "                        <th id=\"T_10ae98fe_3cd5_11eb_9e8c_0242ac1c0002level0_row2\" class=\"row_heading level0 row2\" >2</th>\n",
       "                        <td id=\"T_10ae98fe_3cd5_11eb_9e8c_0242ac1c0002row2_col0\" class=\"data row2 col0\" >gre</td>\n",
       "                        <td id=\"T_10ae98fe_3cd5_11eb_9e8c_0242ac1c0002row2_col1\" class=\"data row2 col1\" >2332</td>\n",
       "            </tr>\n",
       "            <tr>\n",
       "                        <th id=\"T_10ae98fe_3cd5_11eb_9e8c_0242ac1c0002level0_row3\" class=\"row_heading level0 row3\" >3</th>\n",
       "                        <td id=\"T_10ae98fe_3cd5_11eb_9e8c_0242ac1c0002row3_col0\" class=\"data row3 col0\" >stat</td>\n",
       "                        <td id=\"T_10ae98fe_3cd5_11eb_9e8c_0242ac1c0002row3_col1\" class=\"data row3 col1\" >1760</td>\n",
       "            </tr>\n",
       "            <tr>\n",
       "                        <th id=\"T_10ae98fe_3cd5_11eb_9e8c_0242ac1c0002level0_row4\" class=\"row_heading level0 row4\" >4</th>\n",
       "                        <td id=\"T_10ae98fe_3cd5_11eb_9e8c_0242ac1c0002row4_col0\" class=\"data row4 col0\" >new</td>\n",
       "                        <td id=\"T_10ae98fe_3cd5_11eb_9e8c_0242ac1c0002row4_col1\" class=\"data row4 col1\" >1404</td>\n",
       "            </tr>\n",
       "            <tr>\n",
       "                        <th id=\"T_10ae98fe_3cd5_11eb_9e8c_0242ac1c0002level0_row5\" class=\"row_heading level0 row5\" >5</th>\n",
       "                        <td id=\"T_10ae98fe_3cd5_11eb_9e8c_0242ac1c0002row5_col0\" class=\"data row5 col0\" >u</td>\n",
       "                        <td id=\"T_10ae98fe_3cd5_11eb_9e8c_0242ac1c0002row5_col1\" class=\"data row5 col1\" >1404</td>\n",
       "            </tr>\n",
       "            <tr>\n",
       "                        <th id=\"T_10ae98fe_3cd5_11eb_9e8c_0242ac1c0002level0_row6\" class=\"row_heading level0 row6\" >6</th>\n",
       "                        <td id=\"T_10ae98fe_3cd5_11eb_9e8c_0242ac1c0002row6_col0\" class=\"data row6 col0\" >http</td>\n",
       "                        <td id=\"T_10ae98fe_3cd5_11eb_9e8c_0242ac1c0002row6_col1\" class=\"data row6 col1\" >1344</td>\n",
       "            </tr>\n",
       "            <tr>\n",
       "                        <th id=\"T_10ae98fe_3cd5_11eb_9e8c_0242ac1c0002level0_row7\" class=\"row_heading level0 row7\" >7</th>\n",
       "                        <td id=\"T_10ae98fe_3cd5_11eb_9e8c_0242ac1c0002row7_col0\" class=\"data row7 col0\" >pic</td>\n",
       "                        <td id=\"T_10ae98fe_3cd5_11eb_9e8c_0242ac1c0002row7_col1\" class=\"data row7 col1\" >1327</td>\n",
       "            </tr>\n",
       "            <tr>\n",
       "                        <th id=\"T_10ae98fe_3cd5_11eb_9e8c_0242ac1c0002level0_row8\" class=\"row_heading level0 row8\" >8</th>\n",
       "                        <td id=\"T_10ae98fe_3cd5_11eb_9e8c_0242ac1c0002row8_col0\" class=\"data row8 col0\" >presid</td>\n",
       "                        <td id=\"T_10ae98fe_3cd5_11eb_9e8c_0242ac1c0002row8_col1\" class=\"data row8 col1\" >1231</td>\n",
       "            </tr>\n",
       "            <tr>\n",
       "                        <th id=\"T_10ae98fe_3cd5_11eb_9e8c_0242ac1c0002level0_row9\" class=\"row_heading level0 row9\" >9</th>\n",
       "                        <td id=\"T_10ae98fe_3cd5_11eb_9e8c_0242ac1c0002row9_col0\" class=\"data row9 col0\" >peopl</td>\n",
       "                        <td id=\"T_10ae98fe_3cd5_11eb_9e8c_0242ac1c0002row9_col1\" class=\"data row9 col1\" >1143</td>\n",
       "            </tr>\n",
       "            <tr>\n",
       "                        <th id=\"T_10ae98fe_3cd5_11eb_9e8c_0242ac1c0002level0_row10\" class=\"row_heading level0 row10\" >10</th>\n",
       "                        <td id=\"T_10ae98fe_3cd5_11eb_9e8c_0242ac1c0002row10_col0\" class=\"data row10 col0\" >democr</td>\n",
       "                        <td id=\"T_10ae98fe_3cd5_11eb_9e8c_0242ac1c0002row10_col1\" class=\"data row10 col1\" >1134</td>\n",
       "            </tr>\n",
       "            <tr>\n",
       "                        <th id=\"T_10ae98fe_3cd5_11eb_9e8c_0242ac1c0002level0_row11\" class=\"row_heading level0 row11\" >11</th>\n",
       "                        <td id=\"T_10ae98fe_3cd5_11eb_9e8c_0242ac1c0002row11_col0\" class=\"data row11 col0\" >country</td>\n",
       "                        <td id=\"T_10ae98fe_3cd5_11eb_9e8c_0242ac1c0002row11_col1\" class=\"data row11 col1\" >1050</td>\n",
       "            </tr>\n",
       "            <tr>\n",
       "                        <th id=\"T_10ae98fe_3cd5_11eb_9e8c_0242ac1c0002level0_row12\" class=\"row_heading level0 row12\" >12</th>\n",
       "                        <td id=\"T_10ae98fe_3cd5_11eb_9e8c_0242ac1c0002row12_col0\" class=\"data row12 col0\" >ev</td>\n",
       "                        <td id=\"T_10ae98fe_3cd5_11eb_9e8c_0242ac1c0002row12_col1\" class=\"data row12 col1\" >911</td>\n",
       "            </tr>\n",
       "            <tr>\n",
       "                        <th id=\"T_10ae98fe_3cd5_11eb_9e8c_0242ac1c0002level0_row13\" class=\"row_heading level0 row13\" >13</th>\n",
       "                        <td id=\"T_10ae98fe_3cd5_11eb_9e8c_0242ac1c0002row13_col0\" class=\"data row13 col0\" >trump</td>\n",
       "                        <td id=\"T_10ae98fe_3cd5_11eb_9e8c_0242ac1c0002row13_col1\" class=\"data row13 col1\" >858</td>\n",
       "            </tr>\n",
       "            <tr>\n",
       "                        <th id=\"T_10ae98fe_3cd5_11eb_9e8c_0242ac1c0002level0_row14\" class=\"row_heading level0 row14\" >14</th>\n",
       "                        <td id=\"T_10ae98fe_3cd5_11eb_9e8c_0242ac1c0002row14_col0\" class=\"data row14 col0\" >get</td>\n",
       "                        <td id=\"T_10ae98fe_3cd5_11eb_9e8c_0242ac1c0002row14_col1\" class=\"data row14 col1\" >846</td>\n",
       "            </tr>\n",
       "            <tr>\n",
       "                        <th id=\"T_10ae98fe_3cd5_11eb_9e8c_0242ac1c0002level0_row15\" class=\"row_heading level0 row15\" >15</th>\n",
       "                        <td id=\"T_10ae98fe_3cd5_11eb_9e8c_0242ac1c0002row15_col0\" class=\"data row15 col0\" >thank</td>\n",
       "                        <td id=\"T_10ae98fe_3cd5_11eb_9e8c_0242ac1c0002row15_col1\" class=\"data row15 col1\" >844</td>\n",
       "            </tr>\n",
       "            <tr>\n",
       "                        <th id=\"T_10ae98fe_3cd5_11eb_9e8c_0242ac1c0002level0_row16\" class=\"row_heading level0 row16\" >16</th>\n",
       "                        <td id=\"T_10ae98fe_3cd5_11eb_9e8c_0242ac1c0002row16_col0\" class=\"data row16 col0\" >year</td>\n",
       "                        <td id=\"T_10ae98fe_3cd5_11eb_9e8c_0242ac1c0002row16_col1\" class=\"data row16 col1\" >788</td>\n",
       "            </tr>\n",
       "            <tr>\n",
       "                        <th id=\"T_10ae98fe_3cd5_11eb_9e8c_0242ac1c0002level0_row17\" class=\"row_heading level0 row17\" >17</th>\n",
       "                        <td id=\"T_10ae98fe_3cd5_11eb_9e8c_0242ac1c0002row17_col0\" class=\"data row17 col0\" >big</td>\n",
       "                        <td id=\"T_10ae98fe_3cd5_11eb_9e8c_0242ac1c0002row17_col1\" class=\"data row17 col1\" >777</td>\n",
       "            </tr>\n",
       "            <tr>\n",
       "                        <th id=\"T_10ae98fe_3cd5_11eb_9e8c_0242ac1c0002level0_row18\" class=\"row_heading level0 row18\" >18</th>\n",
       "                        <td id=\"T_10ae98fe_3cd5_11eb_9e8c_0242ac1c0002row18_col0\" class=\"data row18 col0\" >bord</td>\n",
       "                        <td id=\"T_10ae98fe_3cd5_11eb_9e8c_0242ac1c0002row18_col1\" class=\"data row18 col1\" >766</td>\n",
       "            </tr>\n",
       "            <tr>\n",
       "                        <th id=\"T_10ae98fe_3cd5_11eb_9e8c_0242ac1c0002level0_row19\" class=\"row_heading level0 row19\" >19</th>\n",
       "                        <td id=\"T_10ae98fe_3cd5_11eb_9e8c_0242ac1c0002row19_col0\" class=\"data row19 col0\" >work</td>\n",
       "                        <td id=\"T_10ae98fe_3cd5_11eb_9e8c_0242ac1c0002row19_col1\" class=\"data row19 col1\" >744</td>\n",
       "            </tr>\n",
       "    </tbody></table>"
      ],
      "text/plain": [
       "<pandas.io.formats.style.Styler at 0x7fc53cc99eb8>"
      ]
     },
     "execution_count": 25,
     "metadata": {
      "tags": []
     },
     "output_type": "execute_result"
    }
   ],
   "source": [
    "top = Counter([item for sublist in train['content'] for item in sublist])\n",
    "temp = pd.DataFrame(top.most_common(20))\n",
    "temp.columns = ['Common_words','count']\n",
    "temp.style.background_gradient(cmap='Blues')"
   ]
  },
  {
   "cell_type": "code",
   "execution_count": 26,
   "metadata": {
    "id": "oR6voq9wssrn"
   },
   "outputs": [],
   "source": [
    "blacklist = ['http','https','www','com', 'ev','u','ly','pic','would']\n",
    "\n",
    "def remove_words(text):\n",
    "    text = [i for i in text if (i not in blacklist)]\n",
    "    return text"
   ]
  },
  {
   "cell_type": "code",
   "execution_count": 27,
   "metadata": {
    "id": "i4KgnECnssrn"
   },
   "outputs": [],
   "source": [
    "#train['content']=remove_words(train['content'])\n",
    "\n",
    "train['content'] = train['content'].apply(lambda x: [i for i in x if i not in blacklist])"
   ]
  },
  {
   "cell_type": "code",
   "execution_count": 28,
   "metadata": {
    "colab": {
     "base_uri": "https://localhost:8080/",
     "height": 717
    },
    "id": "feESViNDssrn",
    "outputId": "321d2e79-e246-41c4-9fb4-27cbf2c95fea"
   },
   "outputs": [
    {
     "data": {
      "text/html": [
       "<html>\n",
       "<head><meta charset=\"utf-8\" /></head>\n",
       "<body>\n",
       "    <div>\n",
       "            <script src=\"https://cdnjs.cloudflare.com/ajax/libs/mathjax/2.7.5/MathJax.js?config=TeX-AMS-MML_SVG\"></script><script type=\"text/javascript\">if (window.MathJax) {MathJax.Hub.Config({SVG: {font: \"STIX-Web\"}});}</script>\n",
       "                <script type=\"text/javascript\">window.PlotlyConfig = {MathJaxConfig: 'local'};</script>\n",
       "        <script src=\"https://cdn.plot.ly/plotly-latest.min.js\"></script>    \n",
       "            <div id=\"104f27d1-e2f1-4b2c-9fa6-1a3e663b6b01\" class=\"plotly-graph-div\" style=\"height:700px; width:700px;\"></div>\n",
       "            <script type=\"text/javascript\">\n",
       "                \n",
       "                    window.PLOTLYENV=window.PLOTLYENV || {};\n",
       "                    \n",
       "                if (document.getElementById(\"104f27d1-e2f1-4b2c-9fa6-1a3e663b6b01\")) {\n",
       "                    Plotly.newPlot(\n",
       "                        '104f27d1-e2f1-4b2c-9fa6-1a3e663b6b01',\n",
       "                        [{\"alignmentgroup\": \"True\", \"hoverlabel\": {\"namelength\": 0}, \"hovertemplate\": \"Common_words=%{y}<br>count=%{x}\", \"legendgroup\": \"Common_words=com\", \"marker\": {\"color\": \"#636efa\"}, \"name\": \"Common_words=com\", \"offsetgroup\": \"Common_words=com\", \"orientation\": \"h\", \"showlegend\": true, \"textposition\": \"auto\", \"type\": \"bar\", \"x\": [3154], \"xaxis\": \"x\", \"y\": [\"com\"], \"yaxis\": \"y\"}, {\"alignmentgroup\": \"True\", \"hoverlabel\": {\"namelength\": 0}, \"hovertemplate\": \"Common_words=%{y}<br>count=%{x}\", \"legendgroup\": \"Common_words=twit\", \"marker\": {\"color\": \"#EF553B\"}, \"name\": \"Common_words=twit\", \"offsetgroup\": \"Common_words=twit\", \"orientation\": \"h\", \"showlegend\": true, \"textposition\": \"auto\", \"type\": \"bar\", \"x\": [2456], \"xaxis\": \"x\", \"y\": [\"twit\"], \"yaxis\": \"y\"}, {\"alignmentgroup\": \"True\", \"hoverlabel\": {\"namelength\": 0}, \"hovertemplate\": \"Common_words=%{y}<br>count=%{x}\", \"legendgroup\": \"Common_words=gre\", \"marker\": {\"color\": \"#00cc96\"}, \"name\": \"Common_words=gre\", \"offsetgroup\": \"Common_words=gre\", \"orientation\": \"h\", \"showlegend\": true, \"textposition\": \"auto\", \"type\": \"bar\", \"x\": [2332], \"xaxis\": \"x\", \"y\": [\"gre\"], \"yaxis\": \"y\"}, {\"alignmentgroup\": \"True\", \"hoverlabel\": {\"namelength\": 0}, \"hovertemplate\": \"Common_words=%{y}<br>count=%{x}\", \"legendgroup\": \"Common_words=stat\", \"marker\": {\"color\": \"#ab63fa\"}, \"name\": \"Common_words=stat\", \"offsetgroup\": \"Common_words=stat\", \"orientation\": \"h\", \"showlegend\": true, \"textposition\": \"auto\", \"type\": \"bar\", \"x\": [1760], \"xaxis\": \"x\", \"y\": [\"stat\"], \"yaxis\": \"y\"}, {\"alignmentgroup\": \"True\", \"hoverlabel\": {\"namelength\": 0}, \"hovertemplate\": \"Common_words=%{y}<br>count=%{x}\", \"legendgroup\": \"Common_words=new\", \"marker\": {\"color\": \"#FFA15A\"}, \"name\": \"Common_words=new\", \"offsetgroup\": \"Common_words=new\", \"orientation\": \"h\", \"showlegend\": true, \"textposition\": \"auto\", \"type\": \"bar\", \"x\": [1404], \"xaxis\": \"x\", \"y\": [\"new\"], \"yaxis\": \"y\"}, {\"alignmentgroup\": \"True\", \"hoverlabel\": {\"namelength\": 0}, \"hovertemplate\": \"Common_words=%{y}<br>count=%{x}\", \"legendgroup\": \"Common_words=u\", \"marker\": {\"color\": \"#19d3f3\"}, \"name\": \"Common_words=u\", \"offsetgroup\": \"Common_words=u\", \"orientation\": \"h\", \"showlegend\": true, \"textposition\": \"auto\", \"type\": \"bar\", \"x\": [1404], \"xaxis\": \"x\", \"y\": [\"u\"], \"yaxis\": \"y\"}, {\"alignmentgroup\": \"True\", \"hoverlabel\": {\"namelength\": 0}, \"hovertemplate\": \"Common_words=%{y}<br>count=%{x}\", \"legendgroup\": \"Common_words=http\", \"marker\": {\"color\": \"#FF6692\"}, \"name\": \"Common_words=http\", \"offsetgroup\": \"Common_words=http\", \"orientation\": \"h\", \"showlegend\": true, \"textposition\": \"auto\", \"type\": \"bar\", \"x\": [1344], \"xaxis\": \"x\", \"y\": [\"http\"], \"yaxis\": \"y\"}, {\"alignmentgroup\": \"True\", \"hoverlabel\": {\"namelength\": 0}, \"hovertemplate\": \"Common_words=%{y}<br>count=%{x}\", \"legendgroup\": \"Common_words=pic\", \"marker\": {\"color\": \"#B6E880\"}, \"name\": \"Common_words=pic\", \"offsetgroup\": \"Common_words=pic\", \"orientation\": \"h\", \"showlegend\": true, \"textposition\": \"auto\", \"type\": \"bar\", \"x\": [1327], \"xaxis\": \"x\", \"y\": [\"pic\"], \"yaxis\": \"y\"}, {\"alignmentgroup\": \"True\", \"hoverlabel\": {\"namelength\": 0}, \"hovertemplate\": \"Common_words=%{y}<br>count=%{x}\", \"legendgroup\": \"Common_words=presid\", \"marker\": {\"color\": \"#FF97FF\"}, \"name\": \"Common_words=presid\", \"offsetgroup\": \"Common_words=presid\", \"orientation\": \"h\", \"showlegend\": true, \"textposition\": \"auto\", \"type\": \"bar\", \"x\": [1231], \"xaxis\": \"x\", \"y\": [\"presid\"], \"yaxis\": \"y\"}, {\"alignmentgroup\": \"True\", \"hoverlabel\": {\"namelength\": 0}, \"hovertemplate\": \"Common_words=%{y}<br>count=%{x}\", \"legendgroup\": \"Common_words=peopl\", \"marker\": {\"color\": \"#FECB52\"}, \"name\": \"Common_words=peopl\", \"offsetgroup\": \"Common_words=peopl\", \"orientation\": \"h\", \"showlegend\": true, \"textposition\": \"auto\", \"type\": \"bar\", \"x\": [1143], \"xaxis\": \"x\", \"y\": [\"peopl\"], \"yaxis\": \"y\"}, {\"alignmentgroup\": \"True\", \"hoverlabel\": {\"namelength\": 0}, \"hovertemplate\": \"Common_words=%{y}<br>count=%{x}\", \"legendgroup\": \"Common_words=democr\", \"marker\": {\"color\": \"#636efa\"}, \"name\": \"Common_words=democr\", \"offsetgroup\": \"Common_words=democr\", \"orientation\": \"h\", \"showlegend\": true, \"textposition\": \"auto\", \"type\": \"bar\", \"x\": [1134], \"xaxis\": \"x\", \"y\": [\"democr\"], \"yaxis\": \"y\"}, {\"alignmentgroup\": \"True\", \"hoverlabel\": {\"namelength\": 0}, \"hovertemplate\": \"Common_words=%{y}<br>count=%{x}\", \"legendgroup\": \"Common_words=country\", \"marker\": {\"color\": \"#EF553B\"}, \"name\": \"Common_words=country\", \"offsetgroup\": \"Common_words=country\", \"orientation\": \"h\", \"showlegend\": true, \"textposition\": \"auto\", \"type\": \"bar\", \"x\": [1050], \"xaxis\": \"x\", \"y\": [\"country\"], \"yaxis\": \"y\"}, {\"alignmentgroup\": \"True\", \"hoverlabel\": {\"namelength\": 0}, \"hovertemplate\": \"Common_words=%{y}<br>count=%{x}\", \"legendgroup\": \"Common_words=ev\", \"marker\": {\"color\": \"#00cc96\"}, \"name\": \"Common_words=ev\", \"offsetgroup\": \"Common_words=ev\", \"orientation\": \"h\", \"showlegend\": true, \"textposition\": \"auto\", \"type\": \"bar\", \"x\": [911], \"xaxis\": \"x\", \"y\": [\"ev\"], \"yaxis\": \"y\"}, {\"alignmentgroup\": \"True\", \"hoverlabel\": {\"namelength\": 0}, \"hovertemplate\": \"Common_words=%{y}<br>count=%{x}\", \"legendgroup\": \"Common_words=trump\", \"marker\": {\"color\": \"#ab63fa\"}, \"name\": \"Common_words=trump\", \"offsetgroup\": \"Common_words=trump\", \"orientation\": \"h\", \"showlegend\": true, \"textposition\": \"auto\", \"type\": \"bar\", \"x\": [858], \"xaxis\": \"x\", \"y\": [\"trump\"], \"yaxis\": \"y\"}, {\"alignmentgroup\": \"True\", \"hoverlabel\": {\"namelength\": 0}, \"hovertemplate\": \"Common_words=%{y}<br>count=%{x}\", \"legendgroup\": \"Common_words=get\", \"marker\": {\"color\": \"#FFA15A\"}, \"name\": \"Common_words=get\", \"offsetgroup\": \"Common_words=get\", \"orientation\": \"h\", \"showlegend\": true, \"textposition\": \"auto\", \"type\": \"bar\", \"x\": [846], \"xaxis\": \"x\", \"y\": [\"get\"], \"yaxis\": \"y\"}, {\"alignmentgroup\": \"True\", \"hoverlabel\": {\"namelength\": 0}, \"hovertemplate\": \"Common_words=%{y}<br>count=%{x}\", \"legendgroup\": \"Common_words=thank\", \"marker\": {\"color\": \"#19d3f3\"}, \"name\": \"Common_words=thank\", \"offsetgroup\": \"Common_words=thank\", \"orientation\": \"h\", \"showlegend\": true, \"textposition\": \"auto\", \"type\": \"bar\", \"x\": [844], \"xaxis\": \"x\", \"y\": [\"thank\"], \"yaxis\": \"y\"}, {\"alignmentgroup\": \"True\", \"hoverlabel\": {\"namelength\": 0}, \"hovertemplate\": \"Common_words=%{y}<br>count=%{x}\", \"legendgroup\": \"Common_words=year\", \"marker\": {\"color\": \"#FF6692\"}, \"name\": \"Common_words=year\", \"offsetgroup\": \"Common_words=year\", \"orientation\": \"h\", \"showlegend\": true, \"textposition\": \"auto\", \"type\": \"bar\", \"x\": [788], \"xaxis\": \"x\", \"y\": [\"year\"], \"yaxis\": \"y\"}, {\"alignmentgroup\": \"True\", \"hoverlabel\": {\"namelength\": 0}, \"hovertemplate\": \"Common_words=%{y}<br>count=%{x}\", \"legendgroup\": \"Common_words=big\", \"marker\": {\"color\": \"#B6E880\"}, \"name\": \"Common_words=big\", \"offsetgroup\": \"Common_words=big\", \"orientation\": \"h\", \"showlegend\": true, \"textposition\": \"auto\", \"type\": \"bar\", \"x\": [777], \"xaxis\": \"x\", \"y\": [\"big\"], \"yaxis\": \"y\"}, {\"alignmentgroup\": \"True\", \"hoverlabel\": {\"namelength\": 0}, \"hovertemplate\": \"Common_words=%{y}<br>count=%{x}\", \"legendgroup\": \"Common_words=bord\", \"marker\": {\"color\": \"#FF97FF\"}, \"name\": \"Common_words=bord\", \"offsetgroup\": \"Common_words=bord\", \"orientation\": \"h\", \"showlegend\": true, \"textposition\": \"auto\", \"type\": \"bar\", \"x\": [766], \"xaxis\": \"x\", \"y\": [\"bord\"], \"yaxis\": \"y\"}, {\"alignmentgroup\": \"True\", \"hoverlabel\": {\"namelength\": 0}, \"hovertemplate\": \"Common_words=%{y}<br>count=%{x}\", \"legendgroup\": \"Common_words=work\", \"marker\": {\"color\": \"#FECB52\"}, \"name\": \"Common_words=work\", \"offsetgroup\": \"Common_words=work\", \"orientation\": \"h\", \"showlegend\": true, \"textposition\": \"auto\", \"type\": \"bar\", \"x\": [744], \"xaxis\": \"x\", \"y\": [\"work\"], \"yaxis\": \"y\"}],\n",
       "                        {\"barmode\": \"relative\", \"height\": 700, \"legend\": {\"tracegroupgap\": 0}, \"template\": {\"data\": {\"bar\": [{\"error_x\": {\"color\": \"#2a3f5f\"}, \"error_y\": {\"color\": \"#2a3f5f\"}, \"marker\": {\"line\": {\"color\": \"#E5ECF6\", \"width\": 0.5}}, \"type\": \"bar\"}], \"barpolar\": [{\"marker\": {\"line\": {\"color\": \"#E5ECF6\", \"width\": 0.5}}, \"type\": \"barpolar\"}], \"carpet\": [{\"aaxis\": {\"endlinecolor\": \"#2a3f5f\", \"gridcolor\": \"white\", \"linecolor\": \"white\", \"minorgridcolor\": \"white\", \"startlinecolor\": \"#2a3f5f\"}, \"baxis\": {\"endlinecolor\": \"#2a3f5f\", \"gridcolor\": \"white\", \"linecolor\": \"white\", \"minorgridcolor\": \"white\", \"startlinecolor\": \"#2a3f5f\"}, \"type\": \"carpet\"}], \"choropleth\": [{\"colorbar\": {\"outlinewidth\": 0, \"ticks\": \"\"}, \"type\": \"choropleth\"}], \"contour\": [{\"colorbar\": {\"outlinewidth\": 0, \"ticks\": \"\"}, \"colorscale\": [[0.0, \"#0d0887\"], [0.1111111111111111, \"#46039f\"], [0.2222222222222222, \"#7201a8\"], [0.3333333333333333, \"#9c179e\"], [0.4444444444444444, \"#bd3786\"], [0.5555555555555556, \"#d8576b\"], [0.6666666666666666, \"#ed7953\"], [0.7777777777777778, \"#fb9f3a\"], [0.8888888888888888, \"#fdca26\"], [1.0, \"#f0f921\"]], \"type\": \"contour\"}], \"contourcarpet\": [{\"colorbar\": {\"outlinewidth\": 0, \"ticks\": \"\"}, \"type\": \"contourcarpet\"}], \"heatmap\": [{\"colorbar\": {\"outlinewidth\": 0, \"ticks\": \"\"}, \"colorscale\": [[0.0, \"#0d0887\"], [0.1111111111111111, \"#46039f\"], [0.2222222222222222, \"#7201a8\"], [0.3333333333333333, \"#9c179e\"], [0.4444444444444444, \"#bd3786\"], [0.5555555555555556, \"#d8576b\"], [0.6666666666666666, \"#ed7953\"], [0.7777777777777778, \"#fb9f3a\"], [0.8888888888888888, \"#fdca26\"], [1.0, \"#f0f921\"]], \"type\": \"heatmap\"}], \"heatmapgl\": [{\"colorbar\": {\"outlinewidth\": 0, \"ticks\": \"\"}, \"colorscale\": [[0.0, \"#0d0887\"], [0.1111111111111111, \"#46039f\"], [0.2222222222222222, \"#7201a8\"], [0.3333333333333333, \"#9c179e\"], [0.4444444444444444, \"#bd3786\"], [0.5555555555555556, \"#d8576b\"], [0.6666666666666666, \"#ed7953\"], [0.7777777777777778, \"#fb9f3a\"], [0.8888888888888888, \"#fdca26\"], [1.0, \"#f0f921\"]], \"type\": \"heatmapgl\"}], \"histogram\": [{\"marker\": {\"colorbar\": {\"outlinewidth\": 0, \"ticks\": \"\"}}, \"type\": \"histogram\"}], \"histogram2d\": [{\"colorbar\": {\"outlinewidth\": 0, \"ticks\": \"\"}, \"colorscale\": [[0.0, \"#0d0887\"], [0.1111111111111111, \"#46039f\"], [0.2222222222222222, \"#7201a8\"], [0.3333333333333333, \"#9c179e\"], [0.4444444444444444, \"#bd3786\"], [0.5555555555555556, \"#d8576b\"], [0.6666666666666666, \"#ed7953\"], [0.7777777777777778, \"#fb9f3a\"], [0.8888888888888888, \"#fdca26\"], [1.0, \"#f0f921\"]], \"type\": \"histogram2d\"}], \"histogram2dcontour\": [{\"colorbar\": {\"outlinewidth\": 0, \"ticks\": \"\"}, \"colorscale\": [[0.0, \"#0d0887\"], [0.1111111111111111, \"#46039f\"], [0.2222222222222222, \"#7201a8\"], [0.3333333333333333, \"#9c179e\"], [0.4444444444444444, \"#bd3786\"], [0.5555555555555556, \"#d8576b\"], [0.6666666666666666, \"#ed7953\"], [0.7777777777777778, \"#fb9f3a\"], [0.8888888888888888, \"#fdca26\"], [1.0, \"#f0f921\"]], \"type\": \"histogram2dcontour\"}], \"mesh3d\": [{\"colorbar\": {\"outlinewidth\": 0, \"ticks\": \"\"}, \"type\": \"mesh3d\"}], \"parcoords\": [{\"line\": {\"colorbar\": {\"outlinewidth\": 0, \"ticks\": \"\"}}, \"type\": \"parcoords\"}], \"pie\": [{\"automargin\": true, \"type\": \"pie\"}], \"scatter\": [{\"marker\": {\"colorbar\": {\"outlinewidth\": 0, \"ticks\": \"\"}}, \"type\": \"scatter\"}], \"scatter3d\": [{\"line\": {\"colorbar\": {\"outlinewidth\": 0, \"ticks\": \"\"}}, \"marker\": {\"colorbar\": {\"outlinewidth\": 0, \"ticks\": \"\"}}, \"type\": \"scatter3d\"}], \"scattercarpet\": [{\"marker\": {\"colorbar\": {\"outlinewidth\": 0, \"ticks\": \"\"}}, \"type\": \"scattercarpet\"}], \"scattergeo\": [{\"marker\": {\"colorbar\": {\"outlinewidth\": 0, \"ticks\": \"\"}}, \"type\": \"scattergeo\"}], \"scattergl\": [{\"marker\": {\"colorbar\": {\"outlinewidth\": 0, \"ticks\": \"\"}}, \"type\": \"scattergl\"}], \"scattermapbox\": [{\"marker\": {\"colorbar\": {\"outlinewidth\": 0, \"ticks\": \"\"}}, \"type\": \"scattermapbox\"}], \"scatterpolar\": [{\"marker\": {\"colorbar\": {\"outlinewidth\": 0, \"ticks\": \"\"}}, \"type\": \"scatterpolar\"}], \"scatterpolargl\": [{\"marker\": {\"colorbar\": {\"outlinewidth\": 0, \"ticks\": \"\"}}, \"type\": \"scatterpolargl\"}], \"scatterternary\": [{\"marker\": {\"colorbar\": {\"outlinewidth\": 0, \"ticks\": \"\"}}, \"type\": \"scatterternary\"}], \"surface\": [{\"colorbar\": {\"outlinewidth\": 0, \"ticks\": \"\"}, \"colorscale\": [[0.0, \"#0d0887\"], [0.1111111111111111, \"#46039f\"], [0.2222222222222222, \"#7201a8\"], [0.3333333333333333, \"#9c179e\"], [0.4444444444444444, \"#bd3786\"], [0.5555555555555556, \"#d8576b\"], [0.6666666666666666, \"#ed7953\"], [0.7777777777777778, \"#fb9f3a\"], [0.8888888888888888, \"#fdca26\"], [1.0, \"#f0f921\"]], \"type\": \"surface\"}], \"table\": [{\"cells\": {\"fill\": {\"color\": \"#EBF0F8\"}, \"line\": {\"color\": \"white\"}}, \"header\": {\"fill\": {\"color\": \"#C8D4E3\"}, \"line\": {\"color\": \"white\"}}, \"type\": \"table\"}]}, \"layout\": {\"annotationdefaults\": {\"arrowcolor\": \"#2a3f5f\", \"arrowhead\": 0, \"arrowwidth\": 1}, \"coloraxis\": {\"colorbar\": {\"outlinewidth\": 0, \"ticks\": \"\"}}, \"colorscale\": {\"diverging\": [[0, \"#8e0152\"], [0.1, \"#c51b7d\"], [0.2, \"#de77ae\"], [0.3, \"#f1b6da\"], [0.4, \"#fde0ef\"], [0.5, \"#f7f7f7\"], [0.6, \"#e6f5d0\"], [0.7, \"#b8e186\"], [0.8, \"#7fbc41\"], [0.9, \"#4d9221\"], [1, \"#276419\"]], \"sequential\": [[0.0, \"#0d0887\"], [0.1111111111111111, \"#46039f\"], [0.2222222222222222, \"#7201a8\"], [0.3333333333333333, \"#9c179e\"], [0.4444444444444444, \"#bd3786\"], [0.5555555555555556, \"#d8576b\"], [0.6666666666666666, \"#ed7953\"], [0.7777777777777778, \"#fb9f3a\"], [0.8888888888888888, \"#fdca26\"], [1.0, \"#f0f921\"]], \"sequentialminus\": [[0.0, \"#0d0887\"], [0.1111111111111111, \"#46039f\"], [0.2222222222222222, \"#7201a8\"], [0.3333333333333333, \"#9c179e\"], [0.4444444444444444, \"#bd3786\"], [0.5555555555555556, \"#d8576b\"], [0.6666666666666666, \"#ed7953\"], [0.7777777777777778, \"#fb9f3a\"], [0.8888888888888888, \"#fdca26\"], [1.0, \"#f0f921\"]]}, \"colorway\": [\"#636efa\", \"#EF553B\", \"#00cc96\", \"#ab63fa\", \"#FFA15A\", \"#19d3f3\", \"#FF6692\", \"#B6E880\", \"#FF97FF\", \"#FECB52\"], \"font\": {\"color\": \"#2a3f5f\"}, \"geo\": {\"bgcolor\": \"white\", \"lakecolor\": \"white\", \"landcolor\": \"#E5ECF6\", \"showlakes\": true, \"showland\": true, \"subunitcolor\": \"white\"}, \"hoverlabel\": {\"align\": \"left\"}, \"hovermode\": \"closest\", \"mapbox\": {\"style\": \"light\"}, \"paper_bgcolor\": \"white\", \"plot_bgcolor\": \"#E5ECF6\", \"polar\": {\"angularaxis\": {\"gridcolor\": \"white\", \"linecolor\": \"white\", \"ticks\": \"\"}, \"bgcolor\": \"#E5ECF6\", \"radialaxis\": {\"gridcolor\": \"white\", \"linecolor\": \"white\", \"ticks\": \"\"}}, \"scene\": {\"xaxis\": {\"backgroundcolor\": \"#E5ECF6\", \"gridcolor\": \"white\", \"gridwidth\": 2, \"linecolor\": \"white\", \"showbackground\": true, \"ticks\": \"\", \"zerolinecolor\": \"white\"}, \"yaxis\": {\"backgroundcolor\": \"#E5ECF6\", \"gridcolor\": \"white\", \"gridwidth\": 2, \"linecolor\": \"white\", \"showbackground\": true, \"ticks\": \"\", \"zerolinecolor\": \"white\"}, \"zaxis\": {\"backgroundcolor\": \"#E5ECF6\", \"gridcolor\": \"white\", \"gridwidth\": 2, \"linecolor\": \"white\", \"showbackground\": true, \"ticks\": \"\", \"zerolinecolor\": \"white\"}}, \"shapedefaults\": {\"line\": {\"color\": \"#2a3f5f\"}}, \"ternary\": {\"aaxis\": {\"gridcolor\": \"white\", \"linecolor\": \"white\", \"ticks\": \"\"}, \"baxis\": {\"gridcolor\": \"white\", \"linecolor\": \"white\", \"ticks\": \"\"}, \"bgcolor\": \"#E5ECF6\", \"caxis\": {\"gridcolor\": \"white\", \"linecolor\": \"white\", \"ticks\": \"\"}}, \"title\": {\"x\": 0.05}, \"xaxis\": {\"automargin\": true, \"gridcolor\": \"white\", \"linecolor\": \"white\", \"ticks\": \"\", \"title\": {\"standoff\": 15}, \"zerolinecolor\": \"white\", \"zerolinewidth\": 2}, \"yaxis\": {\"automargin\": true, \"gridcolor\": \"white\", \"linecolor\": \"white\", \"ticks\": \"\", \"title\": {\"standoff\": 15}, \"zerolinecolor\": \"white\", \"zerolinewidth\": 2}}}, \"title\": {\"text\": \"Commmon Words in Selected Text\"}, \"width\": 700, \"xaxis\": {\"anchor\": \"y\", \"domain\": [0.0, 1.0], \"title\": {\"text\": \"count\"}}, \"yaxis\": {\"anchor\": \"x\", \"categoryarray\": [\"work\", \"bord\", \"big\", \"year\", \"thank\", \"get\", \"trump\", \"ev\", \"country\", \"democr\", \"peopl\", \"presid\", \"pic\", \"http\", \"u\", \"new\", \"stat\", \"gre\", \"twit\", \"com\"], \"categoryorder\": \"array\", \"domain\": [0.0, 1.0], \"title\": {\"text\": \"Common_words\"}}},\n",
       "                        {\"responsive\": true}\n",
       "                    ).then(function(){\n",
       "                            \n",
       "var gd = document.getElementById('104f27d1-e2f1-4b2c-9fa6-1a3e663b6b01');\n",
       "var x = new MutationObserver(function (mutations, observer) {{\n",
       "        var display = window.getComputedStyle(gd).display;\n",
       "        if (!display || display === 'none') {{\n",
       "            console.log([gd, 'removed!']);\n",
       "            Plotly.purge(gd);\n",
       "            observer.disconnect();\n",
       "        }}\n",
       "}});\n",
       "\n",
       "// Listen for the removal of the full notebook cells\n",
       "var notebookContainer = gd.closest('#notebook-container');\n",
       "if (notebookContainer) {{\n",
       "    x.observe(notebookContainer, {childList: true});\n",
       "}}\n",
       "\n",
       "// Listen for the clearing of the current output cell\n",
       "var outputEl = gd.closest('.output');\n",
       "if (outputEl) {{\n",
       "    x.observe(outputEl, {childList: true});\n",
       "}}\n",
       "\n",
       "                        })\n",
       "                };\n",
       "                \n",
       "            </script>\n",
       "        </div>\n",
       "</body>\n",
       "</html>"
      ]
     },
     "metadata": {
      "tags": []
     },
     "output_type": "display_data"
    }
   ],
   "source": [
    "fig = px.bar(temp, x=\"count\", y=\"Common_words\", title='Commmon Words in Selected Text', orientation='h', \n",
    "             width=700, height=700,color='Common_words')\n",
    "fig.show()"
   ]
  },
  {
   "cell_type": "code",
   "execution_count": 29,
   "metadata": {
    "colab": {
     "base_uri": "https://localhost:8080/",
     "height": 418
    },
    "id": "ktLXwcTJssro",
    "outputId": "5c1e7b3b-2a6b-41fb-9fd2-14e646e0ea23"
   },
   "outputs": [
    {
     "data": {
      "text/html": [
       "<style  type=\"text/css\" >\n",
       "#T_278a679c_3cd5_11eb_9e8c_0242ac1c0002row0_col1{\n",
       "            background-color:  #3f007d;\n",
       "            color:  #f1f1f1;\n",
       "        }#T_278a679c_3cd5_11eb_9e8c_0242ac1c0002row1_col1{\n",
       "            background-color:  #7b72b4;\n",
       "            color:  #000000;\n",
       "        }#T_278a679c_3cd5_11eb_9e8c_0242ac1c0002row2_col1{\n",
       "            background-color:  #acaad1;\n",
       "            color:  #000000;\n",
       "        }#T_278a679c_3cd5_11eb_9e8c_0242ac1c0002row3_col1{\n",
       "            background-color:  #c5c6e1;\n",
       "            color:  #000000;\n",
       "        }#T_278a679c_3cd5_11eb_9e8c_0242ac1c0002row4_col1{\n",
       "            background-color:  #d2d2e7;\n",
       "            color:  #000000;\n",
       "        }#T_278a679c_3cd5_11eb_9e8c_0242ac1c0002row5_col1{\n",
       "            background-color:  #d3d3e8;\n",
       "            color:  #000000;\n",
       "        }#T_278a679c_3cd5_11eb_9e8c_0242ac1c0002row6_col1{\n",
       "            background-color:  #dedded;\n",
       "            color:  #000000;\n",
       "        }#T_278a679c_3cd5_11eb_9e8c_0242ac1c0002row7_col1,#T_278a679c_3cd5_11eb_9e8c_0242ac1c0002row8_col1{\n",
       "            background-color:  #f1eff6;\n",
       "            color:  #000000;\n",
       "        }#T_278a679c_3cd5_11eb_9e8c_0242ac1c0002row9_col1{\n",
       "            background-color:  #f1f0f6;\n",
       "            color:  #000000;\n",
       "        }#T_278a679c_3cd5_11eb_9e8c_0242ac1c0002row10_col1{\n",
       "            background-color:  #f5f3f8;\n",
       "            color:  #000000;\n",
       "        }#T_278a679c_3cd5_11eb_9e8c_0242ac1c0002row11_col1{\n",
       "            background-color:  #f5f4f9;\n",
       "            color:  #000000;\n",
       "        }#T_278a679c_3cd5_11eb_9e8c_0242ac1c0002row12_col1{\n",
       "            background-color:  #f6f5f9;\n",
       "            color:  #000000;\n",
       "        }#T_278a679c_3cd5_11eb_9e8c_0242ac1c0002row13_col1{\n",
       "            background-color:  #f8f6fa;\n",
       "            color:  #000000;\n",
       "        }#T_278a679c_3cd5_11eb_9e8c_0242ac1c0002row14_col1,#T_278a679c_3cd5_11eb_9e8c_0242ac1c0002row15_col1,#T_278a679c_3cd5_11eb_9e8c_0242ac1c0002row16_col1{\n",
       "            background-color:  #f8f7fb;\n",
       "            color:  #000000;\n",
       "        }#T_278a679c_3cd5_11eb_9e8c_0242ac1c0002row17_col1{\n",
       "            background-color:  #fbfafc;\n",
       "            color:  #000000;\n",
       "        }#T_278a679c_3cd5_11eb_9e8c_0242ac1c0002row18_col1{\n",
       "            background-color:  #fcfbfd;\n",
       "            color:  #000000;\n",
       "        }</style><table id=\"T_278a679c_3cd5_11eb_9e8c_0242ac1c0002\" ><thead>    <tr>        <th class=\"blank level0\" ></th>        <th class=\"col_heading level0 col0\" >Common_words</th>        <th class=\"col_heading level0 col1\" >count</th>    </tr></thead><tbody>\n",
       "                <tr>\n",
       "                        <th id=\"T_278a679c_3cd5_11eb_9e8c_0242ac1c0002level0_row0\" class=\"row_heading level0 row0\" >1</th>\n",
       "                        <td id=\"T_278a679c_3cd5_11eb_9e8c_0242ac1c0002row0_col0\" class=\"data row0 col0\" >gre</td>\n",
       "                        <td id=\"T_278a679c_3cd5_11eb_9e8c_0242ac1c0002row0_col1\" class=\"data row0 col1\" >2332</td>\n",
       "            </tr>\n",
       "            <tr>\n",
       "                        <th id=\"T_278a679c_3cd5_11eb_9e8c_0242ac1c0002level0_row1\" class=\"row_heading level0 row1\" >2</th>\n",
       "                        <td id=\"T_278a679c_3cd5_11eb_9e8c_0242ac1c0002row1_col0\" class=\"data row1 col0\" >stat</td>\n",
       "                        <td id=\"T_278a679c_3cd5_11eb_9e8c_0242ac1c0002row1_col1\" class=\"data row1 col1\" >1760</td>\n",
       "            </tr>\n",
       "            <tr>\n",
       "                        <th id=\"T_278a679c_3cd5_11eb_9e8c_0242ac1c0002level0_row2\" class=\"row_heading level0 row2\" >3</th>\n",
       "                        <td id=\"T_278a679c_3cd5_11eb_9e8c_0242ac1c0002row2_col0\" class=\"data row2 col0\" >new</td>\n",
       "                        <td id=\"T_278a679c_3cd5_11eb_9e8c_0242ac1c0002row2_col1\" class=\"data row2 col1\" >1404</td>\n",
       "            </tr>\n",
       "            <tr>\n",
       "                        <th id=\"T_278a679c_3cd5_11eb_9e8c_0242ac1c0002level0_row3\" class=\"row_heading level0 row3\" >4</th>\n",
       "                        <td id=\"T_278a679c_3cd5_11eb_9e8c_0242ac1c0002row3_col0\" class=\"data row3 col0\" >presid</td>\n",
       "                        <td id=\"T_278a679c_3cd5_11eb_9e8c_0242ac1c0002row3_col1\" class=\"data row3 col1\" >1231</td>\n",
       "            </tr>\n",
       "            <tr>\n",
       "                        <th id=\"T_278a679c_3cd5_11eb_9e8c_0242ac1c0002level0_row4\" class=\"row_heading level0 row4\" >5</th>\n",
       "                        <td id=\"T_278a679c_3cd5_11eb_9e8c_0242ac1c0002row4_col0\" class=\"data row4 col0\" >peopl</td>\n",
       "                        <td id=\"T_278a679c_3cd5_11eb_9e8c_0242ac1c0002row4_col1\" class=\"data row4 col1\" >1143</td>\n",
       "            </tr>\n",
       "            <tr>\n",
       "                        <th id=\"T_278a679c_3cd5_11eb_9e8c_0242ac1c0002level0_row5\" class=\"row_heading level0 row5\" >6</th>\n",
       "                        <td id=\"T_278a679c_3cd5_11eb_9e8c_0242ac1c0002row5_col0\" class=\"data row5 col0\" >democr</td>\n",
       "                        <td id=\"T_278a679c_3cd5_11eb_9e8c_0242ac1c0002row5_col1\" class=\"data row5 col1\" >1134</td>\n",
       "            </tr>\n",
       "            <tr>\n",
       "                        <th id=\"T_278a679c_3cd5_11eb_9e8c_0242ac1c0002level0_row6\" class=\"row_heading level0 row6\" >7</th>\n",
       "                        <td id=\"T_278a679c_3cd5_11eb_9e8c_0242ac1c0002row6_col0\" class=\"data row6 col0\" >country</td>\n",
       "                        <td id=\"T_278a679c_3cd5_11eb_9e8c_0242ac1c0002row6_col1\" class=\"data row6 col1\" >1050</td>\n",
       "            </tr>\n",
       "            <tr>\n",
       "                        <th id=\"T_278a679c_3cd5_11eb_9e8c_0242ac1c0002level0_row7\" class=\"row_heading level0 row7\" >8</th>\n",
       "                        <td id=\"T_278a679c_3cd5_11eb_9e8c_0242ac1c0002row7_col0\" class=\"data row7 col0\" >trump</td>\n",
       "                        <td id=\"T_278a679c_3cd5_11eb_9e8c_0242ac1c0002row7_col1\" class=\"data row7 col1\" >858</td>\n",
       "            </tr>\n",
       "            <tr>\n",
       "                        <th id=\"T_278a679c_3cd5_11eb_9e8c_0242ac1c0002level0_row8\" class=\"row_heading level0 row8\" >9</th>\n",
       "                        <td id=\"T_278a679c_3cd5_11eb_9e8c_0242ac1c0002row8_col0\" class=\"data row8 col0\" >get</td>\n",
       "                        <td id=\"T_278a679c_3cd5_11eb_9e8c_0242ac1c0002row8_col1\" class=\"data row8 col1\" >846</td>\n",
       "            </tr>\n",
       "            <tr>\n",
       "                        <th id=\"T_278a679c_3cd5_11eb_9e8c_0242ac1c0002level0_row9\" class=\"row_heading level0 row9\" >10</th>\n",
       "                        <td id=\"T_278a679c_3cd5_11eb_9e8c_0242ac1c0002row9_col0\" class=\"data row9 col0\" >thank</td>\n",
       "                        <td id=\"T_278a679c_3cd5_11eb_9e8c_0242ac1c0002row9_col1\" class=\"data row9 col1\" >844</td>\n",
       "            </tr>\n",
       "            <tr>\n",
       "                        <th id=\"T_278a679c_3cd5_11eb_9e8c_0242ac1c0002level0_row10\" class=\"row_heading level0 row10\" >11</th>\n",
       "                        <td id=\"T_278a679c_3cd5_11eb_9e8c_0242ac1c0002row10_col0\" class=\"data row10 col0\" >year</td>\n",
       "                        <td id=\"T_278a679c_3cd5_11eb_9e8c_0242ac1c0002row10_col1\" class=\"data row10 col1\" >788</td>\n",
       "            </tr>\n",
       "            <tr>\n",
       "                        <th id=\"T_278a679c_3cd5_11eb_9e8c_0242ac1c0002level0_row11\" class=\"row_heading level0 row11\" >12</th>\n",
       "                        <td id=\"T_278a679c_3cd5_11eb_9e8c_0242ac1c0002row11_col0\" class=\"data row11 col0\" >big</td>\n",
       "                        <td id=\"T_278a679c_3cd5_11eb_9e8c_0242ac1c0002row11_col1\" class=\"data row11 col1\" >777</td>\n",
       "            </tr>\n",
       "            <tr>\n",
       "                        <th id=\"T_278a679c_3cd5_11eb_9e8c_0242ac1c0002level0_row12\" class=\"row_heading level0 row12\" >13</th>\n",
       "                        <td id=\"T_278a679c_3cd5_11eb_9e8c_0242ac1c0002row12_col0\" class=\"data row12 col0\" >bord</td>\n",
       "                        <td id=\"T_278a679c_3cd5_11eb_9e8c_0242ac1c0002row12_col1\" class=\"data row12 col1\" >766</td>\n",
       "            </tr>\n",
       "            <tr>\n",
       "                        <th id=\"T_278a679c_3cd5_11eb_9e8c_0242ac1c0002level0_row13\" class=\"row_heading level0 row13\" >14</th>\n",
       "                        <td id=\"T_278a679c_3cd5_11eb_9e8c_0242ac1c0002row13_col0\" class=\"data row13 col0\" >work</td>\n",
       "                        <td id=\"T_278a679c_3cd5_11eb_9e8c_0242ac1c0002row13_col1\" class=\"data row13 col1\" >744</td>\n",
       "            </tr>\n",
       "            <tr>\n",
       "                        <th id=\"T_278a679c_3cd5_11eb_9e8c_0242ac1c0002level0_row14\" class=\"row_heading level0 row14\" >15</th>\n",
       "                        <td id=\"T_278a679c_3cd5_11eb_9e8c_0242ac1c0002row14_col0\" class=\"data row14 col0\" >job</td>\n",
       "                        <td id=\"T_278a679c_3cd5_11eb_9e8c_0242ac1c0002row14_col1\" class=\"data row14 col1\" >734</td>\n",
       "            </tr>\n",
       "            <tr>\n",
       "                        <th id=\"T_278a679c_3cd5_11eb_9e8c_0242ac1c0002level0_row15\" class=\"row_heading level0 row15\" >16</th>\n",
       "                        <td id=\"T_278a679c_3cd5_11eb_9e8c_0242ac1c0002row15_col0\" class=\"data row15 col0\" >tim</td>\n",
       "                        <td id=\"T_278a679c_3cd5_11eb_9e8c_0242ac1c0002row15_col1\" class=\"data row15 col1\" >734</td>\n",
       "            </tr>\n",
       "            <tr>\n",
       "                        <th id=\"T_278a679c_3cd5_11eb_9e8c_0242ac1c0002level0_row16\" class=\"row_heading level0 row16\" >17</th>\n",
       "                        <td id=\"T_278a679c_3cd5_11eb_9e8c_0242ac1c0002row16_col0\" class=\"data row16 col0\" >fak</td>\n",
       "                        <td id=\"T_278a679c_3cd5_11eb_9e8c_0242ac1c0002row16_col1\" class=\"data row16 col1\" >731</td>\n",
       "            </tr>\n",
       "            <tr>\n",
       "                        <th id=\"T_278a679c_3cd5_11eb_9e8c_0242ac1c0002level0_row17\" class=\"row_heading level0 row17\" >18</th>\n",
       "                        <td id=\"T_278a679c_3cd5_11eb_9e8c_0242ac1c0002row17_col0\" class=\"data row17 col0\" >want</td>\n",
       "                        <td id=\"T_278a679c_3cd5_11eb_9e8c_0242ac1c0002row17_col1\" class=\"data row17 col1\" >686</td>\n",
       "            </tr>\n",
       "            <tr>\n",
       "                        <th id=\"T_278a679c_3cd5_11eb_9e8c_0242ac1c0002level0_row18\" class=\"row_heading level0 row18\" >19</th>\n",
       "                        <td id=\"T_278a679c_3cd5_11eb_9e8c_0242ac1c0002row18_col0\" class=\"data row18 col0\" >many</td>\n",
       "                        <td id=\"T_278a679c_3cd5_11eb_9e8c_0242ac1c0002row18_col1\" class=\"data row18 col1\" >670</td>\n",
       "            </tr>\n",
       "    </tbody></table>"
      ],
      "text/plain": [
       "<pandas.io.formats.style.Styler at 0x7fc53d79cda0>"
      ]
     },
     "execution_count": 29,
     "metadata": {
      "tags": []
     },
     "output_type": "execute_result"
    }
   ],
   "source": [
    "top = Counter([item for sublist in train['content'] for item in sublist])\n",
    "temp = pd.DataFrame(top.most_common(20))\n",
    "temp = temp.iloc[1:,:]\n",
    "temp.columns = ['Common_words','count']\n",
    "temp.style.background_gradient(cmap='Purples')"
   ]
  },
  {
   "cell_type": "markdown",
   "metadata": {
    "id": "xb4L5XOtssro"
   },
   "source": [
    "<div id = 8><h2>8. Get the sentiment analysis of the tweets</h2></div>\n",
    "\n",
    "Let's look at the most common words in different sentiments"
   ]
  },
  {
   "cell_type": "code",
   "execution_count": 31,
   "metadata": {
    "id": "6wBZFSOassro"
   },
   "outputs": [],
   "source": [
    "from wordcloud import WordCloud, STOPWORDS , ImageColorGenerator\n",
    "\n",
    "from textblob import TextBlob\n",
    "\n",
    "def get_tweet_sentiment(tweet): \n",
    "    ''' \n",
    "    Utility function to classify sentiment of passed tweet \n",
    "    using textblob's sentiment method \n",
    "    '''\n",
    "    # create TextBlob object of passed tweet text \n",
    "    analysis = TextBlob(tweet) \n",
    "    \n",
    "    # set sentiment \n",
    "    if analysis.sentiment.polarity > 0:\n",
    "        return '+1'\n",
    "    elif analysis.sentiment.polarity == 0: \n",
    "        return '0'\n",
    "    else: \n",
    "        return '-1'\n",
    "    # return analysis.sentiment.polarity"
   ]
  },
  {
   "cell_type": "code",
   "execution_count": 32,
   "metadata": {
    "id": "JUJlh7ekssro"
   },
   "outputs": [],
   "source": [
    "train['sentiment']=train['content'].apply(lambda x: get_tweet_sentiment(' '.join(x)))"
   ]
  },
  {
   "cell_type": "code",
   "execution_count": 33,
   "metadata": {
    "colab": {
     "base_uri": "https://localhost:8080/",
     "height": 195
    },
    "id": "GH8aRghCssro",
    "outputId": "0ef09787-ea48-4ac5-ab63-b21806cfc297"
   },
   "outputs": [
    {
     "data": {
      "text/html": [
       "<div>\n",
       "<style scoped>\n",
       "    .dataframe tbody tr th:only-of-type {\n",
       "        vertical-align: middle;\n",
       "    }\n",
       "\n",
       "    .dataframe tbody tr th {\n",
       "        vertical-align: top;\n",
       "    }\n",
       "\n",
       "    .dataframe thead th {\n",
       "        text-align: right;\n",
       "    }\n",
       "</style>\n",
       "<table border=\"1\" class=\"dataframe\">\n",
       "  <thead>\n",
       "    <tr style=\"text-align: right;\">\n",
       "      <th></th>\n",
       "      <th>id</th>\n",
       "      <th>content</th>\n",
       "      <th>date</th>\n",
       "      <th>retweets</th>\n",
       "      <th>favorites</th>\n",
       "      <th>sentiment</th>\n",
       "    </tr>\n",
       "  </thead>\n",
       "  <tbody>\n",
       "    <tr>\n",
       "      <th>0</th>\n",
       "      <td>8.224210e+17</td>\n",
       "      <td>[begin, today, see, swear, mov, continu, work,...</td>\n",
       "      <td>1/20/2017 6:31</td>\n",
       "      <td>59617</td>\n",
       "      <td>238180</td>\n",
       "      <td>0</td>\n",
       "    </tr>\n",
       "    <tr>\n",
       "      <th>1</th>\n",
       "      <td>8.225020e+17</td>\n",
       "      <td>[today, mer, transfer, pow, on, admin, anoth, ...</td>\n",
       "      <td>1/20/2017 11:51</td>\n",
       "      <td>17022</td>\n",
       "      <td>97230</td>\n",
       "      <td>0</td>\n",
       "    </tr>\n",
       "    <tr>\n",
       "      <th>2</th>\n",
       "      <td>8.225020e+17</td>\n",
       "      <td>[pow, washington, c, giv, back, am, peopl, ina...</td>\n",
       "      <td>1/20/2017 11:51</td>\n",
       "      <td>15441</td>\n",
       "      <td>80281</td>\n",
       "      <td>0</td>\n",
       "    </tr>\n",
       "    <tr>\n",
       "      <th>3</th>\n",
       "      <td>8.225020e+17</td>\n",
       "      <td>[tru, mat, party, control, govern, wheth, gove...</td>\n",
       "      <td>1/20/2017 11:52</td>\n",
       "      <td>36987</td>\n",
       "      <td>161112</td>\n",
       "      <td>0</td>\n",
       "    </tr>\n",
       "    <tr>\n",
       "      <th>4</th>\n",
       "      <td>8.225020e+17</td>\n",
       "      <td>[janu, rememb, day, peopl, becam, rul, nat]</td>\n",
       "      <td>1/20/2017 11:53</td>\n",
       "      <td>56418</td>\n",
       "      <td>201434</td>\n",
       "      <td>0</td>\n",
       "    </tr>\n",
       "  </tbody>\n",
       "</table>\n",
       "</div>"
      ],
      "text/plain": [
       "             id  ... sentiment\n",
       "0  8.224210e+17  ...         0\n",
       "1  8.225020e+17  ...         0\n",
       "2  8.225020e+17  ...         0\n",
       "3  8.225020e+17  ...         0\n",
       "4  8.225020e+17  ...         0\n",
       "\n",
       "[5 rows x 6 columns]"
      ]
     },
     "execution_count": 33,
     "metadata": {
      "tags": []
     },
     "output_type": "execute_result"
    }
   ],
   "source": [
    "train.head()"
   ]
  },
  {
   "cell_type": "code",
   "execution_count": 34,
   "metadata": {
    "id": "rgcIleFjssro"
   },
   "outputs": [],
   "source": [
    "Positive_sent = train[train['sentiment']=='+1']\n",
    "Negative_sent = train[train['sentiment']=='0']\n",
    "Neutral_sent = train[train['sentiment']=='-1']"
   ]
  },
  {
   "cell_type": "markdown",
   "metadata": {
    "id": "_0O-sJu8ssrp"
   },
   "source": [
    "<b> Overall tweet sentiment </b>"
   ]
  },
  {
   "cell_type": "code",
   "execution_count": 35,
   "metadata": {
    "colab": {
     "base_uri": "https://localhost:8080/"
    },
    "id": "tUINn--ussrp",
    "outputId": "5e6f3ff7-a320-4a72-d918-e3fc7387ec22"
   },
   "outputs": [
    {
     "name": "stdout",
     "output_type": "stream",
     "text": [
      "Number of tweets with positive sentiment 4038\n",
      "Number of tweets with negative sentiment 3375\n",
      "Number of tweets with neutral sentiment 2277\n"
     ]
    }
   ],
   "source": [
    "print('Number of tweets with positive sentiment', Positive_sent['sentiment'].count())\n",
    "print('Number of tweets with negative sentiment', Negative_sent['sentiment'].count())\n",
    "print('Number of tweets with neutral sentiment', Neutral_sent['sentiment'].count())\n"
   ]
  },
  {
   "cell_type": "markdown",
   "metadata": {
    "id": "A3TdyQnCssrp"
   },
   "source": [
    "<b><i>So we see that overall the tweets are neutral in nature, followed by positive sentiment for the time in which they are analysed.</i></b>"
   ]
  },
  {
   "cell_type": "markdown",
   "metadata": {
    "id": "n995xAcuX-7H"
   },
   "source": [
    "<div id = 9><h2>9. Save the data </h2></div>"
   ]
  },
  {
   "cell_type": "code",
   "execution_count": null,
   "metadata": {
    "id": "oHYxlKoEX3WG"
   },
   "outputs": [],
   "source": [
    "df.to_csv('./output/results/textblob_prediction_data.csv')"
   ]
  }
 ],
 "metadata": {
  "colab": {
   "name": "textblob_sentiment_analysis.ipynb",
   "provenance": []
  },
  "kernelspec": {
   "display_name": "Python 3",
   "language": "python",
   "name": "python3"
  },
  "language_info": {
   "codemirror_mode": {
    "name": "ipython",
    "version": 3
   },
   "file_extension": ".py",
   "mimetype": "text/x-python",
   "name": "python",
   "nbconvert_exporter": "python",
   "pygments_lexer": "ipython3",
   "version": "3.8.3"
  }
 },
 "nbformat": 4,
 "nbformat_minor": 1
}
