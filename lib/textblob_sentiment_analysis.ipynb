{
 "cells": [
  {
   "cell_type": "markdown",
   "metadata": {
    "id": "c6ljQazZssrd"
   },
   "source": [
    "# About the notebook\n",
    "\n",
    "Do exploratory data analysis and sentiment analysis \n",
    "\n",
    "# About the data\n",
    "\n",
    "Dataset consists of tweets of Trump.\n",
    "\n",
    "\n",
    "# About this Notebook\n",
    "\n",
    "- <a href =#1> 1. Import packages and libraries  </a>\n",
    "- <a href =#2> 2. Read the data </a>\n",
    "- <a href =#3> 3. Handle null values </a>\n",
    "- <a href =#4> 4. Exploratory data analysis </a>\n",
    "- <a href =#5> 5. Clean the data </a>\n",
    "- <a href =#6> 6. Apply data cleaning steps to data</a>\n",
    "- <a href =#7> 7. Visualize the most Common words in the tweets </a>\n",
    "- <a href =#8> 8.  Get the sentiment analysis of the tweets </a>\n",
    "- <a href =#9> 9.  Save the data </a>\n",
    "\n",
    "<br>\n",
    "Credit goes to:\n",
    "https://www.kaggle.com/shailaja4247/sentiment-analysis-of-tweets-wordclouds-textblob#About-the-data"
   ]
  },
  {
   "cell_type": "markdown",
   "metadata": {
    "id": "-wTBtI66ssre"
   },
   "source": [
    "<div id=1> <h2>  1. Import packages and libraries  </h2> </div> "
   ]
  },
  {
   "cell_type": "code",
   "execution_count": 3,
   "metadata": {},
   "outputs": [
    {
     "name": "stdout",
     "output_type": "stream",
     "text": [
      "Collecting plotly\n",
      "  Downloading plotly-4.14.1-py2.py3-none-any.whl (13.2 MB)\n",
      "Requirement already satisfied: six in d:\\users\\54546\\anaconda3\\lib\\site-packages (from plotly) (1.15.0)\n",
      "Collecting retrying>=1.3.3\n",
      "  Downloading retrying-1.3.3.tar.gz (10 kB)\n",
      "Building wheels for collected packages: retrying\n",
      "  Building wheel for retrying (setup.py): started\n",
      "  Building wheel for retrying (setup.py): finished with status 'done'\n",
      "  Created wheel for retrying: filename=retrying-1.3.3-py3-none-any.whl size=11435 sha256=538a8e6f4a108b55a199e5b1bfc4c7ee91c98f3d3fcc189ae5b6da9389d85a62\n",
      "  Stored in directory: c:\\users\\54546\\appdata\\local\\pip\\cache\\wheels\\c4\\a7\\48\\0a434133f6d56e878ca511c0e6c38326907c0792f67b476e56\n",
      "Successfully built retrying\n",
      "Installing collected packages: retrying, plotly\n",
      "Successfully installed plotly-4.14.1 retrying-1.3.3\n",
      "Collecting plotly\n",
      "  Using cached plotly-4.14.1-py2.py3-none-any.whl (13.2 MB)\n",
      "Requirement already satisfied: six in d:\\users\\54546\\anaconda3\\lib\\site-packages (from plotly) (1.15.0)\n",
      "Requirement already satisfied: retrying>=1.3.3 in d:\\users\\54546\\anaconda3\\lib\\site-packages (from plotly) (1.3.3)\n",
      "Installing collected packages: plotly\n",
      "Successfully installed plotly-4.14.1\n"
     ]
    }
   ],
   "source": [
    "! pip install plotly"
   ]
  },
  {
   "cell_type": "code",
   "execution_count": 24,
   "metadata": {},
   "outputs": [
    {
     "name": "stdout",
     "output_type": "stream",
     "text": [
      "Collecting emoji\n",
      "  Downloading emoji-0.6.0.tar.gz (51 kB)\n",
      "Building wheels for collected packages: emoji\n",
      "  Building wheel for emoji (setup.py): started\n",
      "  Building wheel for emoji (setup.py): finished with status 'done'\n",
      "  Created wheel for emoji: filename=emoji-0.6.0-py3-none-any.whl size=49720 sha256=4bbaaea2bb28ac8824a0faa680544a5ab5b57ee8bc556afae1d05aa38f63baef\n",
      "  Stored in directory: c:\\users\\54546\\appdata\\local\\pip\\cache\\wheels\\43\\3d\\82\\e7baffa5e86346c6178d7750dba6e8ef063282a37fc563f8f8\n",
      "Successfully built emoji\n",
      "Installing collected packages: emoji\n",
      "Successfully installed emoji-0.6.0\n"
     ]
    }
   ],
   "source": [
    "! pip install emoji"
   ]
  },
  {
   "cell_type": "code",
   "execution_count": 44,
   "metadata": {},
   "outputs": [
    {
     "name": "stdout",
     "output_type": "stream",
     "text": [
      "Collecting textblob\n",
      "  Downloading textblob-0.15.3-py2.py3-none-any.whl (636 kB)\n",
      "Requirement already satisfied: nltk>=3.1 in d:\\users\\54546\\anaconda3\\lib\\site-packages (from textblob) (3.5)\n",
      "Requirement already satisfied: regex in d:\\users\\54546\\anaconda3\\lib\\site-packages (from nltk>=3.1->textblob) (2020.6.8)\n",
      "Requirement already satisfied: click in d:\\users\\54546\\anaconda3\\lib\\site-packages (from nltk>=3.1->textblob) (7.1.2)\n",
      "Requirement already satisfied: tqdm in d:\\users\\54546\\anaconda3\\lib\\site-packages (from nltk>=3.1->textblob) (4.47.0)\n",
      "Requirement already satisfied: joblib in d:\\users\\54546\\anaconda3\\lib\\site-packages (from nltk>=3.1->textblob) (0.16.0)\n",
      "Installing collected packages: textblob\n",
      "Successfully installed textblob-0.15.3\n"
     ]
    }
   ],
   "source": [
    "! pip install textblob"
   ]
  },
  {
   "cell_type": "code",
   "execution_count": 102,
   "metadata": {
    "colab": {
     "base_uri": "https://localhost:8080/"
    },
    "id": "GvkacneQssre",
    "outputId": "7ae71cce-b8f7-4afc-8e0f-f31de34ad557"
   },
   "outputs": [
    {
     "name": "stderr",
     "output_type": "stream",
     "text": [
      "[nltk_data] Downloading package stopwords to\n",
      "[nltk_data]     C:\\Users\\54546\\AppData\\Roaming\\nltk_data...\n",
      "[nltk_data]   Package stopwords is already up-to-date!\n",
      "[nltk_data] Downloading package punkt to\n",
      "[nltk_data]     C:\\Users\\54546\\AppData\\Roaming\\nltk_data...\n",
      "[nltk_data]   Package punkt is already up-to-date!\n",
      "[nltk_data] Downloading package wordnet to\n",
      "[nltk_data]     C:\\Users\\54546\\AppData\\Roaming\\nltk_data...\n",
      "[nltk_data]   Package wordnet is already up-to-date!\n",
      "[nltk_data] Error loading punkit: Package 'punkit' not found in index\n"
     ]
    }
   ],
   "source": [
    "import re\n",
    "import string\n",
    "import numpy as np \n",
    "import random\n",
    "import pandas as pd \n",
    "import matplotlib.pyplot as plt\n",
    "import seaborn as sns\n",
    "%matplotlib inline\n",
    "from plotly import graph_objs as go\n",
    "import plotly.express as px\n",
    "import plotly.figure_factory as ff\n",
    "from collections import Counter\n",
    "\n",
    "from PIL import Image\n",
    "\n",
    "import nltk\n",
    "from nltk.corpus import stopwords\n",
    "nltk.download('stopwords')\n",
    "nltk.download('punkt')\n",
    "nltk.download('wordnet')\n",
    "nltk.download('punkit')\n",
    "\n",
    "from tqdm import tqdm\n",
    "import os\n",
    "import nltk\n",
    "import random\n",
    "\n",
    "import warnings\n",
    "warnings.filterwarnings(\"ignore\")\n",
    "\n",
    "import os"
   ]
  },
  {
   "cell_type": "markdown",
   "metadata": {
    "id": "9QtwlyKIssrf"
   },
   "source": [
    "**Below is a helper Function which generates random colors which can be used to give different colors to your plots.Feel free to use it**"
   ]
  },
  {
   "cell_type": "markdown",
   "metadata": {
    "id": "nMU9oH_Tssrf"
   },
   "source": [
    "<div id=2> <h2> 2. Read the data  </h2></div> "
   ]
  },
  {
   "cell_type": "code",
   "execution_count": 103,
   "metadata": {
    "id": "XjAg6i71ssrg"
   },
   "outputs": [],
   "source": [
    "import pandas as pd\n",
    "import numpy as np\n",
    "train=pd.read_csv('../data/input/realdonaldtrump_20170120-20191231.csv')"
   ]
  },
  {
   "cell_type": "code",
   "execution_count": 104,
   "metadata": {
    "colab": {
     "base_uri": "https://localhost:8080/"
    },
    "id": "yqsA7IMessrg",
    "outputId": "5ebe9a17-d34b-4d3c-8a43-edd267133a26"
   },
   "outputs": [
    {
     "name": "stdout",
     "output_type": "stream",
     "text": [
      "(9690, 8)\n"
     ]
    }
   ],
   "source": [
    "print(train.shape)"
   ]
  },
  {
   "cell_type": "code",
   "execution_count": 105,
   "metadata": {
    "colab": {
     "base_uri": "https://localhost:8080/",
     "height": 284
    },
    "id": "VqX1grvAssrg",
    "outputId": "0efdd95d-3e46-485d-e90f-cd02b003ab37"
   },
   "outputs": [
    {
     "data": {
      "text/html": [
       "<div>\n",
       "<style scoped>\n",
       "    .dataframe tbody tr th:only-of-type {\n",
       "        vertical-align: middle;\n",
       "    }\n",
       "\n",
       "    .dataframe tbody tr th {\n",
       "        vertical-align: top;\n",
       "    }\n",
       "\n",
       "    .dataframe thead th {\n",
       "        text-align: right;\n",
       "    }\n",
       "</style>\n",
       "<table border=\"1\" class=\"dataframe\">\n",
       "  <thead>\n",
       "    <tr style=\"text-align: right;\">\n",
       "      <th></th>\n",
       "      <th>id</th>\n",
       "      <th>retweets</th>\n",
       "      <th>favorites</th>\n",
       "    </tr>\n",
       "  </thead>\n",
       "  <tbody>\n",
       "    <tr>\n",
       "      <th>count</th>\n",
       "      <td>9.690000e+03</td>\n",
       "      <td>9690.000000</td>\n",
       "      <td>9690.000000</td>\n",
       "    </tr>\n",
       "    <tr>\n",
       "      <th>mean</th>\n",
       "      <td>1.055627e+18</td>\n",
       "      <td>17968.644066</td>\n",
       "      <td>79928.356347</td>\n",
       "    </tr>\n",
       "    <tr>\n",
       "      <th>std</th>\n",
       "      <td>1.103727e+17</td>\n",
       "      <td>10248.538428</td>\n",
       "      <td>39531.033392</td>\n",
       "    </tr>\n",
       "    <tr>\n",
       "      <th>min</th>\n",
       "      <td>8.224210e+17</td>\n",
       "      <td>535.000000</td>\n",
       "      <td>2317.000000</td>\n",
       "    </tr>\n",
       "    <tr>\n",
       "      <th>25%</th>\n",
       "      <td>9.675642e+17</td>\n",
       "      <td>12113.000000</td>\n",
       "      <td>55761.500000</td>\n",
       "    </tr>\n",
       "    <tr>\n",
       "      <th>50%</th>\n",
       "      <td>1.069730e+18</td>\n",
       "      <td>16155.500000</td>\n",
       "      <td>72963.500000</td>\n",
       "    </tr>\n",
       "    <tr>\n",
       "      <th>75%</th>\n",
       "      <td>1.155308e+18</td>\n",
       "      <td>21364.000000</td>\n",
       "      <td>95168.250000</td>\n",
       "    </tr>\n",
       "    <tr>\n",
       "      <th>max</th>\n",
       "      <td>1.212210e+18</td>\n",
       "      <td>302269.000000</td>\n",
       "      <td>835575.000000</td>\n",
       "    </tr>\n",
       "  </tbody>\n",
       "</table>\n",
       "</div>"
      ],
      "text/plain": [
       "                 id       retweets      favorites\n",
       "count  9.690000e+03    9690.000000    9690.000000\n",
       "mean   1.055627e+18   17968.644066   79928.356347\n",
       "std    1.103727e+17   10248.538428   39531.033392\n",
       "min    8.224210e+17     535.000000    2317.000000\n",
       "25%    9.675642e+17   12113.000000   55761.500000\n",
       "50%    1.069730e+18   16155.500000   72963.500000\n",
       "75%    1.155308e+18   21364.000000   95168.250000\n",
       "max    1.212210e+18  302269.000000  835575.000000"
      ]
     },
     "execution_count": 105,
     "metadata": {},
     "output_type": "execute_result"
    }
   ],
   "source": [
    "train.describe()"
   ]
  },
  {
   "cell_type": "code",
   "execution_count": 106,
   "metadata": {
    "colab": {
     "base_uri": "https://localhost:8080/"
    },
    "id": "T1g160kRssrh",
    "outputId": "c3f1bcd7-b066-4778-c907-a9c500cde7a5"
   },
   "outputs": [
    {
     "data": {
      "text/plain": [
       "id              0\n",
       "link            0\n",
       "content         0\n",
       "date            0\n",
       "retweets        0\n",
       "favorites       0\n",
       "mentions     7850\n",
       "hashtags     8911\n",
       "dtype: int64"
      ]
     },
     "execution_count": 106,
     "metadata": {},
     "output_type": "execute_result"
    }
   ],
   "source": [
    "train.isna().sum()"
   ]
  },
  {
   "cell_type": "markdown",
   "metadata": {
    "id": "-oav1R_7ssrh"
   },
   "source": [
    "hashtags have lot of null values, mentions also have lot of null values."
   ]
  },
  {
   "cell_type": "markdown",
   "metadata": {
    "id": "L9a4B0s0ssrh"
   },
   "source": [
    "<div id=3> <h2> 3. Handle null values </h2> </div>"
   ]
  },
  {
   "cell_type": "code",
   "execution_count": 107,
   "metadata": {
    "colab": {
     "base_uri": "https://localhost:8080/"
    },
    "id": "4xsve9Eissrh",
    "outputId": "823f86ea-c118-4c67-a4c7-4ff6f76ab99b"
   },
   "outputs": [
    {
     "data": {
      "text/plain": [
       "array([nan, '#InaugurationDay', '#AmericaFirst', '#InaugurationDay,#MAGA',\n",
       "       '#MAGA', '#MarchForLife', '#NeverForgetpic', '#SuperBowl', '#1',\n",
       "       '#AmericaFirstpic'], dtype=object)"
      ]
     },
     "execution_count": 107,
     "metadata": {},
     "output_type": "execute_result"
    }
   ],
   "source": [
    "train['hashtags'].unique()[:10]"
   ]
  },
  {
   "cell_type": "code",
   "execution_count": 108,
   "metadata": {
    "colab": {
     "base_uri": "https://localhost:8080/"
    },
    "id": "J0Rmsoz_ssrh",
    "outputId": "7e9afae8-4dee-450e-de22-b3740478ca4c"
   },
   "outputs": [
    {
     "data": {
      "text/plain": [
       "array([nan, '@FoxNews', '@WhiteHouse', '@FoxNews,@CNN', '@DavidMuir,@ABC',\n",
       "       '@DHSgov', '@romoabcnews,@DavidMuir,@POTUS,@ABCWorldNews,@ABC2020',\n",
       "       '@ABC', '@GOP,@VP,@SenateMajLdr,@SpeakerRyan',\n",
       "       '@SeanHannity,@FoxNews'], dtype=object)"
      ]
     },
     "execution_count": 108,
     "metadata": {},
     "output_type": "execute_result"
    }
   ],
   "source": [
    "train['mentions'].unique()[:10]"
   ]
  },
  {
   "cell_type": "markdown",
   "metadata": {
    "id": "1qo044jnssrh"
   },
   "source": [
    "1. hashtags: This column does not have something very significant for us to analyse. We have mostly words like #ixzz4 etc which make no sense and we wont be able to analyse their sentiment. So we can get rid of this column\n",
    "2. mentions usually mention another person and we wont really get any sentiment by analysing that. mentions too does not have anything siginificant for us to analyse. Hence we can do away with that too. Let us drop columns which dont have any siginificantly useful information. "
   ]
  },
  {
   "cell_type": "code",
   "execution_count": 109,
   "metadata": {
    "id": "A4shjdXjssri"
   },
   "outputs": [],
   "source": [
    "train=train.drop(['link','mentions','hashtags'], axis=1)"
   ]
  },
  {
   "cell_type": "markdown",
   "metadata": {
    "id": "2EhoEpXpssri"
   },
   "source": [
    "<div id=4> <h2> 4. EDA (Exploratory data analysis)  </h2></div>"
   ]
  },
  {
   "cell_type": "code",
   "execution_count": 110,
   "metadata": {
    "colab": {
     "base_uri": "https://localhost:8080/",
     "height": 195
    },
    "id": "782e6oY_ssri",
    "outputId": "d44f50a0-0e87-4847-cf46-77c68a35c005"
   },
   "outputs": [
    {
     "data": {
      "text/html": [
       "<div>\n",
       "<style scoped>\n",
       "    .dataframe tbody tr th:only-of-type {\n",
       "        vertical-align: middle;\n",
       "    }\n",
       "\n",
       "    .dataframe tbody tr th {\n",
       "        vertical-align: top;\n",
       "    }\n",
       "\n",
       "    .dataframe thead th {\n",
       "        text-align: right;\n",
       "    }\n",
       "</style>\n",
       "<table border=\"1\" class=\"dataframe\">\n",
       "  <thead>\n",
       "    <tr style=\"text-align: right;\">\n",
       "      <th></th>\n",
       "      <th>id</th>\n",
       "      <th>content</th>\n",
       "      <th>date</th>\n",
       "      <th>retweets</th>\n",
       "      <th>favorites</th>\n",
       "    </tr>\n",
       "  </thead>\n",
       "  <tbody>\n",
       "    <tr>\n",
       "      <th>0</th>\n",
       "      <td>8.224210e+17</td>\n",
       "      <td>It all begins today! I will see you at 11:00 A...</td>\n",
       "      <td>1/20/2017 6:31</td>\n",
       "      <td>59617</td>\n",
       "      <td>238180</td>\n",
       "    </tr>\n",
       "    <tr>\n",
       "      <th>1</th>\n",
       "      <td>8.225020e+17</td>\n",
       "      <td>Today we are not merely transferring power fro...</td>\n",
       "      <td>1/20/2017 11:51</td>\n",
       "      <td>17022</td>\n",
       "      <td>97230</td>\n",
       "    </tr>\n",
       "    <tr>\n",
       "      <th>2</th>\n",
       "      <td>8.225020e+17</td>\n",
       "      <td>power from Washington, D.C. and giving it back...</td>\n",
       "      <td>1/20/2017 11:51</td>\n",
       "      <td>15441</td>\n",
       "      <td>80281</td>\n",
       "    </tr>\n",
       "    <tr>\n",
       "      <th>3</th>\n",
       "      <td>8.225020e+17</td>\n",
       "      <td>What truly matters is not which party controls...</td>\n",
       "      <td>1/20/2017 11:52</td>\n",
       "      <td>36987</td>\n",
       "      <td>161112</td>\n",
       "    </tr>\n",
       "    <tr>\n",
       "      <th>4</th>\n",
       "      <td>8.225020e+17</td>\n",
       "      <td>January 20th 2017, will be remembered as the d...</td>\n",
       "      <td>1/20/2017 11:53</td>\n",
       "      <td>56418</td>\n",
       "      <td>201434</td>\n",
       "    </tr>\n",
       "  </tbody>\n",
       "</table>\n",
       "</div>"
      ],
      "text/plain": [
       "             id                                            content  \\\n",
       "0  8.224210e+17  It all begins today! I will see you at 11:00 A...   \n",
       "1  8.225020e+17  Today we are not merely transferring power fro...   \n",
       "2  8.225020e+17  power from Washington, D.C. and giving it back...   \n",
       "3  8.225020e+17  What truly matters is not which party controls...   \n",
       "4  8.225020e+17  January 20th 2017, will be remembered as the d...   \n",
       "\n",
       "              date  retweets  favorites  \n",
       "0   1/20/2017 6:31     59617     238180  \n",
       "1  1/20/2017 11:51     17022      97230  \n",
       "2  1/20/2017 11:51     15441      80281  \n",
       "3  1/20/2017 11:52     36987     161112  \n",
       "4  1/20/2017 11:53     56418     201434  "
      ]
     },
     "execution_count": 110,
     "metadata": {},
     "output_type": "execute_result"
    }
   ],
   "source": [
    "train.head()"
   ]
  },
  {
   "cell_type": "markdown",
   "metadata": {
    "id": "Xu3B5kHjssri"
   },
   "source": [
    "Lets look at the distribution of reviews in the train set"
   ]
  },
  {
   "cell_type": "markdown",
   "metadata": {
    "id": "Y-zm7s4ossri"
   },
   "source": [
    "<div id=5> <h2>5. Data Preprocessing </h2> </div>\n",
    "\n",
    "Let's first clean the data, remove stopwords etc and perform basic pre-processing"
   ]
  },
  {
   "cell_type": "code",
   "execution_count": 111,
   "metadata": {},
   "outputs": [],
   "source": [
    "train[\"content\"] = train[\"content\"].str.lower()\n",
    "china_related_list = ['chinese', 'huawei', 'xi jinping', 'beijing', 'trade', 'tariff','tax']\n",
    "train_china_related = train.set_index('content').filter(like='china', axis=0)\n",
    "for word in china_related_list:\n",
    "    train_china_related = pd.concat([train_china_related, train.set_index('content').filter(like=word, axis=0)]).drop_duplicates()\n",
    "train_china_related.reset_index(inplace=True, drop=False)"
   ]
  },
  {
   "cell_type": "code",
   "execution_count": 112,
   "metadata": {},
   "outputs": [],
   "source": [
    "train_china_related[['Date','Time']] = train_china_related.date.str.split(\" \",expand = True,)\n",
    "col_list = train_china_related.columns\n",
    "train_china_related = train_china_related[[col_list[1], col_list[0], col_list[2],col_list[5], col_list[6], col_list[3], col_list[4]]]"
   ]
  },
  {
   "cell_type": "code",
   "execution_count": 113,
   "metadata": {},
   "outputs": [
    {
     "data": {
      "text/html": [
       "<div>\n",
       "<style scoped>\n",
       "    .dataframe tbody tr th:only-of-type {\n",
       "        vertical-align: middle;\n",
       "    }\n",
       "\n",
       "    .dataframe tbody tr th {\n",
       "        vertical-align: top;\n",
       "    }\n",
       "\n",
       "    .dataframe thead th {\n",
       "        text-align: right;\n",
       "    }\n",
       "</style>\n",
       "<table border=\"1\" class=\"dataframe\">\n",
       "  <thead>\n",
       "    <tr style=\"text-align: right;\">\n",
       "      <th></th>\n",
       "      <th>id</th>\n",
       "      <th>content</th>\n",
       "      <th>date</th>\n",
       "      <th>Date</th>\n",
       "      <th>Time</th>\n",
       "      <th>retweets</th>\n",
       "      <th>favorites</th>\n",
       "    </tr>\n",
       "  </thead>\n",
       "  <tbody>\n",
       "    <tr>\n",
       "      <th>0</th>\n",
       "      <td>8.300480e+17</td>\n",
       "      <td>the failing @ nytimes does major fake news chi...</td>\n",
       "      <td>2/10/2017 7:35</td>\n",
       "      <td>2/10/2017</td>\n",
       "      <td>7:35</td>\n",
       "      <td>19622</td>\n",
       "      <td>92478</td>\n",
       "    </tr>\n",
       "    <tr>\n",
       "      <th>1</th>\n",
       "      <td>8.427240e+17</td>\n",
       "      <td>north korea is behaving very badly. they have ...</td>\n",
       "      <td>3/17/2017 8:07</td>\n",
       "      <td>3/17/2017</td>\n",
       "      <td>8:07</td>\n",
       "      <td>17371</td>\n",
       "      <td>76787</td>\n",
       "    </tr>\n",
       "    <tr>\n",
       "      <th>2</th>\n",
       "      <td>8.475730e+17</td>\n",
       "      <td>the meeting next week with china will be a ver...</td>\n",
       "      <td>3/30/2017 17:16</td>\n",
       "      <td>3/30/2017</td>\n",
       "      <td>17:16</td>\n",
       "      <td>10038</td>\n",
       "      <td>49913</td>\n",
       "    </tr>\n",
       "    <tr>\n",
       "      <th>3</th>\n",
       "      <td>8.507230e+17</td>\n",
       "      <td>it was a great honor to have president xi jinp...</td>\n",
       "      <td>4/8/2017 9:50</td>\n",
       "      <td>4/8/2017</td>\n",
       "      <td>9:50</td>\n",
       "      <td>8768</td>\n",
       "      <td>58575</td>\n",
       "    </tr>\n",
       "    <tr>\n",
       "      <th>4</th>\n",
       "      <td>8.517670e+17</td>\n",
       "      <td>i explained to the president of china that a t...</td>\n",
       "      <td>4/11/2017 6:59</td>\n",
       "      <td>4/11/2017</td>\n",
       "      <td>6:59</td>\n",
       "      <td>15866</td>\n",
       "      <td>70405</td>\n",
       "    </tr>\n",
       "    <tr>\n",
       "      <th>...</th>\n",
       "      <td>...</td>\n",
       "      <td>...</td>\n",
       "      <td>...</td>\n",
       "      <td>...</td>\n",
       "      <td>...</td>\n",
       "      <td>...</td>\n",
       "      <td>...</td>\n",
       "    </tr>\n",
       "    <tr>\n",
       "      <th>917</th>\n",
       "      <td>1.197500e+18</td>\n",
       "      <td>bob mueller, after spending two years and 45 m...</td>\n",
       "      <td>11/21/2019 6:58</td>\n",
       "      <td>11/21/2019</td>\n",
       "      <td>6:58</td>\n",
       "      <td>16615</td>\n",
       "      <td>64749</td>\n",
       "    </tr>\n",
       "    <tr>\n",
       "      <th>918</th>\n",
       "      <td>1.205480e+18</td>\n",
       "      <td>how do you get impeached when you have done no...</td>\n",
       "      <td>12/13/2019 7:42</td>\n",
       "      <td>12/13/2019</td>\n",
       "      <td>7:42</td>\n",
       "      <td>29245</td>\n",
       "      <td>133255</td>\n",
       "    </tr>\n",
       "    <tr>\n",
       "      <th>919</th>\n",
       "      <td>1.207290e+18</td>\n",
       "      <td>....said, “i’m going to clean up washington, i...</td>\n",
       "      <td>12/18/2019 7:18</td>\n",
       "      <td>12/18/2019</td>\n",
       "      <td>7:18</td>\n",
       "      <td>7339</td>\n",
       "      <td>30729</td>\n",
       "    </tr>\n",
       "    <tr>\n",
       "      <th>920</th>\n",
       "      <td>1.208030e+18</td>\n",
       "      <td>i will be signing our 738 billion dollar defen...</td>\n",
       "      <td>12/20/2019 8:19</td>\n",
       "      <td>12/20/2019</td>\n",
       "      <td>8:19</td>\n",
       "      <td>32864</td>\n",
       "      <td>167191</td>\n",
       "    </tr>\n",
       "    <tr>\n",
       "      <th>921</th>\n",
       "      <td>1.208230e+18</td>\n",
       "      <td>honored to finally put an end to the “widow’s ...</td>\n",
       "      <td>12/20/2019 21:31</td>\n",
       "      <td>12/20/2019</td>\n",
       "      <td>21:31</td>\n",
       "      <td>27228</td>\n",
       "      <td>121808</td>\n",
       "    </tr>\n",
       "  </tbody>\n",
       "</table>\n",
       "<p>922 rows × 7 columns</p>\n",
       "</div>"
      ],
      "text/plain": [
       "               id                                            content  \\\n",
       "0    8.300480e+17  the failing @ nytimes does major fake news chi...   \n",
       "1    8.427240e+17  north korea is behaving very badly. they have ...   \n",
       "2    8.475730e+17  the meeting next week with china will be a ver...   \n",
       "3    8.507230e+17  it was a great honor to have president xi jinp...   \n",
       "4    8.517670e+17  i explained to the president of china that a t...   \n",
       "..            ...                                                ...   \n",
       "917  1.197500e+18  bob mueller, after spending two years and 45 m...   \n",
       "918  1.205480e+18  how do you get impeached when you have done no...   \n",
       "919  1.207290e+18  ....said, “i’m going to clean up washington, i...   \n",
       "920  1.208030e+18  i will be signing our 738 billion dollar defen...   \n",
       "921  1.208230e+18  honored to finally put an end to the “widow’s ...   \n",
       "\n",
       "                 date        Date   Time  retweets  favorites  \n",
       "0      2/10/2017 7:35   2/10/2017   7:35     19622      92478  \n",
       "1      3/17/2017 8:07   3/17/2017   8:07     17371      76787  \n",
       "2     3/30/2017 17:16   3/30/2017  17:16     10038      49913  \n",
       "3       4/8/2017 9:50    4/8/2017   9:50      8768      58575  \n",
       "4      4/11/2017 6:59   4/11/2017   6:59     15866      70405  \n",
       "..                ...         ...    ...       ...        ...  \n",
       "917   11/21/2019 6:58  11/21/2019   6:58     16615      64749  \n",
       "918   12/13/2019 7:42  12/13/2019   7:42     29245     133255  \n",
       "919   12/18/2019 7:18  12/18/2019   7:18      7339      30729  \n",
       "920   12/20/2019 8:19  12/20/2019   8:19     32864     167191  \n",
       "921  12/20/2019 21:31  12/20/2019  21:31     27228     121808  \n",
       "\n",
       "[922 rows x 7 columns]"
      ]
     },
     "execution_count": 113,
     "metadata": {},
     "output_type": "execute_result"
    }
   ],
   "source": [
    "train_china_related"
   ]
  },
  {
   "cell_type": "code",
   "execution_count": 114,
   "metadata": {},
   "outputs": [],
   "source": [
    "train_china_related['Date'] = pd.to_datetime(train_china_related['Date'])\n",
    "train_china_related = train_china_related[train_china_related['Date']> pd.to_datetime('1/1/2018')]"
   ]
  },
  {
   "cell_type": "code",
   "execution_count": 115,
   "metadata": {},
   "outputs": [],
   "source": [
    "train = train_china_related"
   ]
  },
  {
   "cell_type": "code",
   "execution_count": 116,
   "metadata": {},
   "outputs": [
    {
     "data": {
      "text/html": [
       "<div>\n",
       "<style scoped>\n",
       "    .dataframe tbody tr th:only-of-type {\n",
       "        vertical-align: middle;\n",
       "    }\n",
       "\n",
       "    .dataframe tbody tr th {\n",
       "        vertical-align: top;\n",
       "    }\n",
       "\n",
       "    .dataframe thead th {\n",
       "        text-align: right;\n",
       "    }\n",
       "</style>\n",
       "<table border=\"1\" class=\"dataframe\">\n",
       "  <thead>\n",
       "    <tr style=\"text-align: right;\">\n",
       "      <th></th>\n",
       "      <th>id</th>\n",
       "      <th>content</th>\n",
       "      <th>date</th>\n",
       "      <th>Date</th>\n",
       "      <th>Time</th>\n",
       "      <th>retweets</th>\n",
       "      <th>favorites</th>\n",
       "    </tr>\n",
       "  </thead>\n",
       "  <tbody>\n",
       "    <tr>\n",
       "      <th>43</th>\n",
       "      <td>9.616720e+17</td>\n",
       "      <td>i will be meeting with henry kissinger at 1:45...</td>\n",
       "      <td>2/8/2018 12:44</td>\n",
       "      <td>2018-02-08</td>\n",
       "      <td>12:44</td>\n",
       "      <td>11239</td>\n",
       "      <td>70357</td>\n",
       "    </tr>\n",
       "    <tr>\n",
       "      <th>44</th>\n",
       "      <td>9.652030e+17</td>\n",
       "      <td>i never said russia did not meddle in the elec...</td>\n",
       "      <td>2/18/2018 6:33</td>\n",
       "      <td>2018-02-18</td>\n",
       "      <td>6:33</td>\n",
       "      <td>26495</td>\n",
       "      <td>111426</td>\n",
       "    </tr>\n",
       "    <tr>\n",
       "      <th>45</th>\n",
       "      <td>9.714030e+17</td>\n",
       "      <td>china has been asked to develop a plan for the...</td>\n",
       "      <td>3/7/2018 9:10</td>\n",
       "      <td>2018-03-07</td>\n",
       "      <td>9:10</td>\n",
       "      <td>15544</td>\n",
       "      <td>75828</td>\n",
       "    </tr>\n",
       "    <tr>\n",
       "      <th>46</th>\n",
       "      <td>9.725060e+17</td>\n",
       "      <td>chinese president xi jinping and i spoke at le...</td>\n",
       "      <td>3/10/2018 10:15</td>\n",
       "      <td>2018-03-10</td>\n",
       "      <td>10:15</td>\n",
       "      <td>15895</td>\n",
       "      <td>80544</td>\n",
       "    </tr>\n",
       "    <tr>\n",
       "      <th>47</th>\n",
       "      <td>9.789390e+17</td>\n",
       "      <td>received message last night from xi jinping of...</td>\n",
       "      <td>3/28/2018 5:16</td>\n",
       "      <td>2018-03-28</td>\n",
       "      <td>5:16</td>\n",
       "      <td>19918</td>\n",
       "      <td>90508</td>\n",
       "    </tr>\n",
       "    <tr>\n",
       "      <th>...</th>\n",
       "      <td>...</td>\n",
       "      <td>...</td>\n",
       "      <td>...</td>\n",
       "      <td>...</td>\n",
       "      <td>...</td>\n",
       "      <td>...</td>\n",
       "      <td>...</td>\n",
       "    </tr>\n",
       "    <tr>\n",
       "      <th>917</th>\n",
       "      <td>1.197500e+18</td>\n",
       "      <td>bob mueller, after spending two years and 45 m...</td>\n",
       "      <td>11/21/2019 6:58</td>\n",
       "      <td>2019-11-21</td>\n",
       "      <td>6:58</td>\n",
       "      <td>16615</td>\n",
       "      <td>64749</td>\n",
       "    </tr>\n",
       "    <tr>\n",
       "      <th>918</th>\n",
       "      <td>1.205480e+18</td>\n",
       "      <td>how do you get impeached when you have done no...</td>\n",
       "      <td>12/13/2019 7:42</td>\n",
       "      <td>2019-12-13</td>\n",
       "      <td>7:42</td>\n",
       "      <td>29245</td>\n",
       "      <td>133255</td>\n",
       "    </tr>\n",
       "    <tr>\n",
       "      <th>919</th>\n",
       "      <td>1.207290e+18</td>\n",
       "      <td>....said, “i’m going to clean up washington, i...</td>\n",
       "      <td>12/18/2019 7:18</td>\n",
       "      <td>2019-12-18</td>\n",
       "      <td>7:18</td>\n",
       "      <td>7339</td>\n",
       "      <td>30729</td>\n",
       "    </tr>\n",
       "    <tr>\n",
       "      <th>920</th>\n",
       "      <td>1.208030e+18</td>\n",
       "      <td>i will be signing our 738 billion dollar defen...</td>\n",
       "      <td>12/20/2019 8:19</td>\n",
       "      <td>2019-12-20</td>\n",
       "      <td>8:19</td>\n",
       "      <td>32864</td>\n",
       "      <td>167191</td>\n",
       "    </tr>\n",
       "    <tr>\n",
       "      <th>921</th>\n",
       "      <td>1.208230e+18</td>\n",
       "      <td>honored to finally put an end to the “widow’s ...</td>\n",
       "      <td>12/20/2019 21:31</td>\n",
       "      <td>2019-12-20</td>\n",
       "      <td>21:31</td>\n",
       "      <td>27228</td>\n",
       "      <td>121808</td>\n",
       "    </tr>\n",
       "  </tbody>\n",
       "</table>\n",
       "<p>699 rows × 7 columns</p>\n",
       "</div>"
      ],
      "text/plain": [
       "               id                                            content  \\\n",
       "43   9.616720e+17  i will be meeting with henry kissinger at 1:45...   \n",
       "44   9.652030e+17  i never said russia did not meddle in the elec...   \n",
       "45   9.714030e+17  china has been asked to develop a plan for the...   \n",
       "46   9.725060e+17  chinese president xi jinping and i spoke at le...   \n",
       "47   9.789390e+17  received message last night from xi jinping of...   \n",
       "..            ...                                                ...   \n",
       "917  1.197500e+18  bob mueller, after spending two years and 45 m...   \n",
       "918  1.205480e+18  how do you get impeached when you have done no...   \n",
       "919  1.207290e+18  ....said, “i’m going to clean up washington, i...   \n",
       "920  1.208030e+18  i will be signing our 738 billion dollar defen...   \n",
       "921  1.208230e+18  honored to finally put an end to the “widow’s ...   \n",
       "\n",
       "                 date       Date   Time  retweets  favorites  \n",
       "43     2/8/2018 12:44 2018-02-08  12:44     11239      70357  \n",
       "44     2/18/2018 6:33 2018-02-18   6:33     26495     111426  \n",
       "45      3/7/2018 9:10 2018-03-07   9:10     15544      75828  \n",
       "46    3/10/2018 10:15 2018-03-10  10:15     15895      80544  \n",
       "47     3/28/2018 5:16 2018-03-28   5:16     19918      90508  \n",
       "..                ...        ...    ...       ...        ...  \n",
       "917   11/21/2019 6:58 2019-11-21   6:58     16615      64749  \n",
       "918   12/13/2019 7:42 2019-12-13   7:42     29245     133255  \n",
       "919   12/18/2019 7:18 2019-12-18   7:18      7339      30729  \n",
       "920   12/20/2019 8:19 2019-12-20   8:19     32864     167191  \n",
       "921  12/20/2019 21:31 2019-12-20  21:31     27228     121808  \n",
       "\n",
       "[699 rows x 7 columns]"
      ]
     },
     "execution_count": 116,
     "metadata": {},
     "output_type": "execute_result"
    }
   ],
   "source": [
    "train"
   ]
  },
  {
   "cell_type": "markdown",
   "metadata": {
    "id": "Gd-SKmL1ssri"
   },
   "source": [
    "**Removing weird spaces**"
   ]
  },
  {
   "cell_type": "code",
   "execution_count": 117,
   "metadata": {
    "id": "UVcRi0SXssrj"
   },
   "outputs": [],
   "source": [
    "def remove_spaces(text):\n",
    "    text=text.strip()\n",
    "    text=text.split()\n",
    "    return ' '.join(text)"
   ]
  },
  {
   "cell_type": "markdown",
   "metadata": {
    "id": "4nQhjBTFssrj"
   },
   "source": [
    "<b> Spelling Correction </b>"
   ]
  },
  {
   "cell_type": "code",
   "execution_count": 118,
   "metadata": {
    "id": "lxR8A_JSssrj"
   },
   "outputs": [],
   "source": [
    "def edits1(word):\n",
    "    letters='abcdefghijklmnopqrstuvwxyz'\n",
    "    splits=[(word[:i], word[i:]) for i in range(len(word)+1)]\n",
    "    deletes=[L+R[1:] for L,R in splits if R]\n",
    "    transposes=[L+R[1] +R[0] + R[2:] for L,R in splits if len(R)>1]\n",
    "    replaces = [L+c+R[1:] for L,R in splits if R for c in letters]\n",
    "    inserts = [L+c+ R for L,R in splits for c in letters]\n",
    "    return set(deletes+transposes+replaces+inserts)\n",
    "def edits2(word):\n",
    "    return(e2 for e1 in edits1(word) for e2 in edits1(e1))"
   ]
  },
  {
   "cell_type": "markdown",
   "metadata": {
    "id": "QRa7XFxossrj"
   },
   "source": [
    "<b> Contraction </b>"
   ]
  },
  {
   "cell_type": "code",
   "execution_count": 119,
   "metadata": {
    "id": "582aA1I2ssrj"
   },
   "outputs": [],
   "source": [
    "contraction = {'cause':'because',\n",
    "              'aint': 'am not',\n",
    "              'aren\\'t': 'are not'}\n",
    "\n",
    "def mapping_replacer(x,dic):\n",
    "    for words in dic.keys():\n",
    "        if ' ' + words + ' ' in x:\n",
    "            x=x.replace(' '+ words +' ' ,' '+dic[words]+' ' )\n",
    "    return x"
   ]
  },
  {
   "cell_type": "markdown",
   "metadata": {
    "id": "12W489AHssrj"
   },
   "source": [
    "<b> Stemming, lemmetisation and tokenisation\n",
    "</b>"
   ]
  },
  {
   "cell_type": "code",
   "execution_count": 120,
   "metadata": {
    "id": "Iv62FQxTssrk"
   },
   "outputs": [],
   "source": [
    "from nltk.tokenize import word_tokenize\n",
    "from nltk.stem.wordnet import WordNetLemmatizer\n",
    "from nltk.stem.lancaster import LancasterStemmer\n",
    "\n",
    "nltk.LancasterStemmer\n",
    "ls = LancasterStemmer()\n",
    "lem = WordNetLemmatizer()\n",
    "def lexicon_normalization(text):\n",
    "    words = word_tokenize(text) \n",
    "    \n",
    "    \n",
    "    # 1- Stemming\n",
    "    words_stem = [ls.stem(w) for w in words]\n",
    "    \n",
    "    # 2- Lemmatization\n",
    "    words_lem = [lem.lemmatize(w) for w in words_stem]\n",
    "    return words_lem"
   ]
  },
  {
   "cell_type": "markdown",
   "metadata": {
    "id": "7N-zfx81ssrk"
   },
   "source": [
    "<b> Handling emojis </b>"
   ]
  },
  {
   "cell_type": "code",
   "execution_count": 121,
   "metadata": {
    "id": "X1VeR2Missrk"
   },
   "outputs": [],
   "source": [
    "import emoji\n",
    "import re \n",
    "#from emot.emo_unicode import UNICODE_EMO\n",
    "def convert_emojis(text):\n",
    "    for emot in emoji.UNICODE_EMOJI:\n",
    "        text = re.sub(r'('+emot+')', \"_\".join(emoji.UNICODE_EMOJI[emot].replace(\",\",\"\").replace(\":\",\"\").split()), text)\n",
    "    return text"
   ]
  },
  {
   "cell_type": "markdown",
   "metadata": {
    "id": "ZN6Gbwaassrk"
   },
   "source": [
    "<b>Removing links, brackets, numbers, punctuations etc. </b>\n"
   ]
  },
  {
   "cell_type": "code",
   "execution_count": 122,
   "metadata": {
    "id": "2HZ5uKZdssrk"
   },
   "outputs": [],
   "source": [
    "def clean_text(text):\n",
    "    '''Make text lowercase, remove text in square brackets,remove links,remove punctuation\n",
    "    and remove words containing numbers.'''\n",
    "    text = str(text).lower()\n",
    "    text = re.sub('\\[.*?\\]', '', text)\n",
    "    text = re.sub('https?://\\S+|www\\.\\S+', '', text)\n",
    "    text = re.sub('<.*?>+', '', text)\n",
    "    text = re.sub('[%s]' % re.escape(string.punctuation), '', text)\n",
    "    text = re.sub('\\n', '', text)\n",
    "    text = re.sub('\\w*\\d\\w*', '', text)\n",
    "    text = re.sub('\\'','', text)\n",
    "    \n",
    "    return text"
   ]
  },
  {
   "cell_type": "markdown",
   "metadata": {
    "id": "nIuaW_Oessrk"
   },
   "source": [
    "<b> Handling stopwords </b>"
   ]
  },
  {
   "cell_type": "code",
   "execution_count": 123,
   "metadata": {
    "id": "nPhDQl9issrl"
   },
   "outputs": [],
   "source": [
    "from collections import Counter\n",
    "def remove_stopword(text):\n",
    "    stop_words = stopwords.words('english')\n",
    "    stopwords_dict = Counter(stop_words)\n",
    "    text = ' '.join([word for word in text.split() if word not in stopwords_dict])\n",
    "    return text"
   ]
  },
  {
   "cell_type": "markdown",
   "metadata": {
    "id": "OXlttikyssrl"
   },
   "source": [
    "<b> Tokenisation </b>"
   ]
  },
  {
   "cell_type": "code",
   "execution_count": 124,
   "metadata": {
    "id": "Wwf-4RWMssrl"
   },
   "outputs": [],
   "source": [
    "def tokenise(text):\n",
    "    words = word_tokenize(text) \n",
    "    return words\n"
   ]
  },
  {
   "cell_type": "markdown",
   "metadata": {
    "id": "n57qddVPssrl"
   },
   "source": [
    "<div id = 6> <h2> 6. Apply data cleaning steps to data </h2> </div>"
   ]
  },
  {
   "cell_type": "markdown",
   "metadata": {
    "id": "zC9UoBo9ssrl"
   },
   "source": [
    "Cleaning Regex Expressions from data"
   ]
  },
  {
   "cell_type": "code",
   "execution_count": 125,
   "metadata": {
    "id": "sSAAuz1qssrm"
   },
   "outputs": [],
   "source": [
    "import re\n",
    "train['content'] = train['content'].map(lambda x: re.sub(r'\\W+', ' ', x))\n",
    "train['content'] = train['content'].replace(r'\\W+', ' ', regex=True)\n"
   ]
  },
  {
   "cell_type": "code",
   "execution_count": 126,
   "metadata": {
    "colab": {
     "base_uri": "https://localhost:8080/",
     "height": 195
    },
    "id": "8oPhPwHtssrm",
    "outputId": "701c672c-ebea-41bf-ca27-6937608425c6"
   },
   "outputs": [
    {
     "data": {
      "text/html": [
       "<div>\n",
       "<style scoped>\n",
       "    .dataframe tbody tr th:only-of-type {\n",
       "        vertical-align: middle;\n",
       "    }\n",
       "\n",
       "    .dataframe tbody tr th {\n",
       "        vertical-align: top;\n",
       "    }\n",
       "\n",
       "    .dataframe thead th {\n",
       "        text-align: right;\n",
       "    }\n",
       "</style>\n",
       "<table border=\"1\" class=\"dataframe\">\n",
       "  <thead>\n",
       "    <tr style=\"text-align: right;\">\n",
       "      <th></th>\n",
       "      <th>id</th>\n",
       "      <th>content</th>\n",
       "      <th>date</th>\n",
       "      <th>Date</th>\n",
       "      <th>Time</th>\n",
       "      <th>retweets</th>\n",
       "      <th>favorites</th>\n",
       "    </tr>\n",
       "  </thead>\n",
       "  <tbody>\n",
       "    <tr>\n",
       "      <th>43</th>\n",
       "      <td>9.616720e+17</td>\n",
       "      <td>i will be meeting with henry kissinger at 1 45...</td>\n",
       "      <td>2/8/2018 12:44</td>\n",
       "      <td>2018-02-08</td>\n",
       "      <td>12:44</td>\n",
       "      <td>11239</td>\n",
       "      <td>70357</td>\n",
       "    </tr>\n",
       "    <tr>\n",
       "      <th>44</th>\n",
       "      <td>9.652030e+17</td>\n",
       "      <td>i never said russia did not meddle in the elec...</td>\n",
       "      <td>2/18/2018 6:33</td>\n",
       "      <td>2018-02-18</td>\n",
       "      <td>6:33</td>\n",
       "      <td>26495</td>\n",
       "      <td>111426</td>\n",
       "    </tr>\n",
       "    <tr>\n",
       "      <th>45</th>\n",
       "      <td>9.714030e+17</td>\n",
       "      <td>china has been asked to develop a plan for the...</td>\n",
       "      <td>3/7/2018 9:10</td>\n",
       "      <td>2018-03-07</td>\n",
       "      <td>9:10</td>\n",
       "      <td>15544</td>\n",
       "      <td>75828</td>\n",
       "    </tr>\n",
       "    <tr>\n",
       "      <th>46</th>\n",
       "      <td>9.725060e+17</td>\n",
       "      <td>chinese president xi jinping and i spoke at le...</td>\n",
       "      <td>3/10/2018 10:15</td>\n",
       "      <td>2018-03-10</td>\n",
       "      <td>10:15</td>\n",
       "      <td>15895</td>\n",
       "      <td>80544</td>\n",
       "    </tr>\n",
       "    <tr>\n",
       "      <th>47</th>\n",
       "      <td>9.789390e+17</td>\n",
       "      <td>received message last night from xi jinping of...</td>\n",
       "      <td>3/28/2018 5:16</td>\n",
       "      <td>2018-03-28</td>\n",
       "      <td>5:16</td>\n",
       "      <td>19918</td>\n",
       "      <td>90508</td>\n",
       "    </tr>\n",
       "  </tbody>\n",
       "</table>\n",
       "</div>"
      ],
      "text/plain": [
       "              id                                            content  \\\n",
       "43  9.616720e+17  i will be meeting with henry kissinger at 1 45...   \n",
       "44  9.652030e+17  i never said russia did not meddle in the elec...   \n",
       "45  9.714030e+17  china has been asked to develop a plan for the...   \n",
       "46  9.725060e+17  chinese president xi jinping and i spoke at le...   \n",
       "47  9.789390e+17  received message last night from xi jinping of...   \n",
       "\n",
       "               date       Date   Time  retweets  favorites  \n",
       "43   2/8/2018 12:44 2018-02-08  12:44     11239      70357  \n",
       "44   2/18/2018 6:33 2018-02-18   6:33     26495     111426  \n",
       "45    3/7/2018 9:10 2018-03-07   9:10     15544      75828  \n",
       "46  3/10/2018 10:15 2018-03-10  10:15     15895      80544  \n",
       "47   3/28/2018 5:16 2018-03-28   5:16     19918      90508  "
      ]
     },
     "execution_count": 126,
     "metadata": {},
     "output_type": "execute_result"
    }
   ],
   "source": [
    "train.head()"
   ]
  },
  {
   "cell_type": "code",
   "execution_count": 127,
   "metadata": {
    "id": "iYm-Cldgssrm"
   },
   "outputs": [],
   "source": [
    "train['content']=train['content'].apply(lambda x: mapping_replacer(x, contraction))"
   ]
  },
  {
   "cell_type": "code",
   "execution_count": 128,
   "metadata": {
    "id": "uOzFIeXLssrm"
   },
   "outputs": [],
   "source": [
    "train['content'] = train['content'].apply(lambda x:clean_text(x))"
   ]
  },
  {
   "cell_type": "code",
   "execution_count": 129,
   "metadata": {
    "id": "JboCBusessrm"
   },
   "outputs": [],
   "source": [
    "train['content']=train['content'].apply(lambda x: remove_stopword(x))\n"
   ]
  },
  {
   "cell_type": "code",
   "execution_count": 130,
   "metadata": {
    "id": "QRf_1nMHssrm"
   },
   "outputs": [],
   "source": [
    "train['content']=train['content'].apply(lambda x: lexicon_normalization(x))"
   ]
  },
  {
   "cell_type": "code",
   "execution_count": 131,
   "metadata": {
    "colab": {
     "base_uri": "https://localhost:8080/",
     "height": 195
    },
    "id": "5QHFEgc4ssrn",
    "outputId": "fc26a3d5-ba86-4c04-c9a9-7c32f2a1c9cc"
   },
   "outputs": [
    {
     "data": {
      "text/html": [
       "<div>\n",
       "<style scoped>\n",
       "    .dataframe tbody tr th:only-of-type {\n",
       "        vertical-align: middle;\n",
       "    }\n",
       "\n",
       "    .dataframe tbody tr th {\n",
       "        vertical-align: top;\n",
       "    }\n",
       "\n",
       "    .dataframe thead th {\n",
       "        text-align: right;\n",
       "    }\n",
       "</style>\n",
       "<table border=\"1\" class=\"dataframe\">\n",
       "  <thead>\n",
       "    <tr style=\"text-align: right;\">\n",
       "      <th></th>\n",
       "      <th>id</th>\n",
       "      <th>content</th>\n",
       "      <th>date</th>\n",
       "      <th>Date</th>\n",
       "      <th>Time</th>\n",
       "      <th>retweets</th>\n",
       "      <th>favorites</th>\n",
       "    </tr>\n",
       "  </thead>\n",
       "  <tbody>\n",
       "    <tr>\n",
       "      <th>43</th>\n",
       "      <td>9.616720e+17</td>\n",
       "      <td>[meet, henry, kiss, discus, nor, kore, chin, m...</td>\n",
       "      <td>2/8/2018 12:44</td>\n",
       "      <td>2018-02-08</td>\n",
       "      <td>12:44</td>\n",
       "      <td>11239</td>\n",
       "      <td>70357</td>\n",
       "    </tr>\n",
       "    <tr>\n",
       "      <th>44</th>\n",
       "      <td>9.652030e+17</td>\n",
       "      <td>[nev, said, rus, meddl, elect, said, may, rus,...</td>\n",
       "      <td>2/18/2018 6:33</td>\n",
       "      <td>2018-02-18</td>\n",
       "      <td>6:33</td>\n",
       "      <td>26495</td>\n",
       "      <td>111426</td>\n",
       "    </tr>\n",
       "    <tr>\n",
       "      <th>45</th>\n",
       "      <td>9.714030e+17</td>\n",
       "      <td>[chin, ask, develop, plan, year, on, bil, doll...</td>\n",
       "      <td>3/7/2018 9:10</td>\n",
       "      <td>2018-03-07</td>\n",
       "      <td>9:10</td>\n",
       "      <td>15544</td>\n",
       "      <td>75828</td>\n",
       "    </tr>\n",
       "    <tr>\n",
       "      <th>46</th>\n",
       "      <td>9.725060e+17</td>\n",
       "      <td>[chine, presid, xi, jinp, spok, leng, meet, ki...</td>\n",
       "      <td>3/10/2018 10:15</td>\n",
       "      <td>2018-03-10</td>\n",
       "      <td>10:15</td>\n",
       "      <td>15895</td>\n",
       "      <td>80544</td>\n",
       "    </tr>\n",
       "    <tr>\n",
       "      <th>47</th>\n",
       "      <td>9.789390e+17</td>\n",
       "      <td>[receiv, mess, last, night, xi, jinp, chin, me...</td>\n",
       "      <td>3/28/2018 5:16</td>\n",
       "      <td>2018-03-28</td>\n",
       "      <td>5:16</td>\n",
       "      <td>19918</td>\n",
       "      <td>90508</td>\n",
       "    </tr>\n",
       "  </tbody>\n",
       "</table>\n",
       "</div>"
      ],
      "text/plain": [
       "              id                                            content  \\\n",
       "43  9.616720e+17  [meet, henry, kiss, discus, nor, kore, chin, m...   \n",
       "44  9.652030e+17  [nev, said, rus, meddl, elect, said, may, rus,...   \n",
       "45  9.714030e+17  [chin, ask, develop, plan, year, on, bil, doll...   \n",
       "46  9.725060e+17  [chine, presid, xi, jinp, spok, leng, meet, ki...   \n",
       "47  9.789390e+17  [receiv, mess, last, night, xi, jinp, chin, me...   \n",
       "\n",
       "               date       Date   Time  retweets  favorites  \n",
       "43   2/8/2018 12:44 2018-02-08  12:44     11239      70357  \n",
       "44   2/18/2018 6:33 2018-02-18   6:33     26495     111426  \n",
       "45    3/7/2018 9:10 2018-03-07   9:10     15544      75828  \n",
       "46  3/10/2018 10:15 2018-03-10  10:15     15895      80544  \n",
       "47   3/28/2018 5:16 2018-03-28   5:16     19918      90508  "
      ]
     },
     "execution_count": 131,
     "metadata": {},
     "output_type": "execute_result"
    }
   ],
   "source": [
    "train.head()"
   ]
  },
  {
   "cell_type": "markdown",
   "metadata": {
    "id": "QMSAcEubssrn"
   },
   "source": [
    "<div id=7><h2>7. Visualize the most Common words in the tweets </h2></div>"
   ]
  },
  {
   "cell_type": "code",
   "execution_count": 132,
   "metadata": {
    "colab": {
     "base_uri": "https://localhost:8080/",
     "height": 438
    },
    "id": "_2Wmb7H1ssrn",
    "outputId": "c32bc8b4-2e43-4dad-e8e3-29f162514be2"
   },
   "outputs": [
    {
     "data": {
      "text/html": [
       "<style  type=\"text/css\" >\n",
       "    #T_eb2f952a_3e7e_11eb_9fc7_309c23d72eabrow0_col1 {\n",
       "            background-color:  #08306b;\n",
       "            color:  #f1f1f1;\n",
       "        }    #T_eb2f952a_3e7e_11eb_9fc7_309c23d72eabrow1_col1 {\n",
       "            background-color:  #084d96;\n",
       "            color:  #f1f1f1;\n",
       "        }    #T_eb2f952a_3e7e_11eb_9fc7_309c23d72eabrow2_col1 {\n",
       "            background-color:  #1460a8;\n",
       "            color:  #f1f1f1;\n",
       "        }    #T_eb2f952a_3e7e_11eb_9fc7_309c23d72eabrow3_col1 {\n",
       "            background-color:  #69add5;\n",
       "            color:  #000000;\n",
       "        }    #T_eb2f952a_3e7e_11eb_9fc7_309c23d72eabrow4_col1 {\n",
       "            background-color:  #6fb0d7;\n",
       "            color:  #000000;\n",
       "        }    #T_eb2f952a_3e7e_11eb_9fc7_309c23d72eabrow5_col1 {\n",
       "            background-color:  #87bddc;\n",
       "            color:  #000000;\n",
       "        }    #T_eb2f952a_3e7e_11eb_9fc7_309c23d72eabrow6_col1 {\n",
       "            background-color:  #a0cbe2;\n",
       "            color:  #000000;\n",
       "        }    #T_eb2f952a_3e7e_11eb_9fc7_309c23d72eabrow7_col1 {\n",
       "            background-color:  #afd1e7;\n",
       "            color:  #000000;\n",
       "        }    #T_eb2f952a_3e7e_11eb_9fc7_309c23d72eabrow8_col1 {\n",
       "            background-color:  #d8e7f5;\n",
       "            color:  #000000;\n",
       "        }    #T_eb2f952a_3e7e_11eb_9fc7_309c23d72eabrow9_col1 {\n",
       "            background-color:  #dce9f6;\n",
       "            color:  #000000;\n",
       "        }    #T_eb2f952a_3e7e_11eb_9fc7_309c23d72eabrow10_col1 {\n",
       "            background-color:  #ddeaf7;\n",
       "            color:  #000000;\n",
       "        }    #T_eb2f952a_3e7e_11eb_9fc7_309c23d72eabrow11_col1 {\n",
       "            background-color:  #e0ecf8;\n",
       "            color:  #000000;\n",
       "        }    #T_eb2f952a_3e7e_11eb_9fc7_309c23d72eabrow12_col1 {\n",
       "            background-color:  #e6f0f9;\n",
       "            color:  #000000;\n",
       "        }    #T_eb2f952a_3e7e_11eb_9fc7_309c23d72eabrow13_col1 {\n",
       "            background-color:  #e7f0fa;\n",
       "            color:  #000000;\n",
       "        }    #T_eb2f952a_3e7e_11eb_9fc7_309c23d72eabrow14_col1 {\n",
       "            background-color:  #eaf2fb;\n",
       "            color:  #000000;\n",
       "        }    #T_eb2f952a_3e7e_11eb_9fc7_309c23d72eabrow15_col1 {\n",
       "            background-color:  #eaf3fb;\n",
       "            color:  #000000;\n",
       "        }    #T_eb2f952a_3e7e_11eb_9fc7_309c23d72eabrow16_col1 {\n",
       "            background-color:  #eef5fc;\n",
       "            color:  #000000;\n",
       "        }    #T_eb2f952a_3e7e_11eb_9fc7_309c23d72eabrow17_col1 {\n",
       "            background-color:  #f4f9fe;\n",
       "            color:  #000000;\n",
       "        }    #T_eb2f952a_3e7e_11eb_9fc7_309c23d72eabrow18_col1 {\n",
       "            background-color:  #f7fbff;\n",
       "            color:  #000000;\n",
       "        }    #T_eb2f952a_3e7e_11eb_9fc7_309c23d72eabrow19_col1 {\n",
       "            background-color:  #f7fbff;\n",
       "            color:  #000000;\n",
       "        }</style><table id=\"T_eb2f952a_3e7e_11eb_9fc7_309c23d72eab\" ><thead>    <tr>        <th class=\"blank level0\" ></th>        <th class=\"col_heading level0 col0\" >Common_words</th>        <th class=\"col_heading level0 col1\" >count</th>    </tr></thead><tbody>\n",
       "                <tr>\n",
       "                        <th id=\"T_eb2f952a_3e7e_11eb_9fc7_309c23d72eablevel0_row0\" class=\"row_heading level0 row0\" >0</th>\n",
       "                        <td id=\"T_eb2f952a_3e7e_11eb_9fc7_309c23d72eabrow0_col0\" class=\"data row0 col0\" >chin</td>\n",
       "                        <td id=\"T_eb2f952a_3e7e_11eb_9fc7_309c23d72eabrow0_col1\" class=\"data row0 col1\" >358</td>\n",
       "            </tr>\n",
       "            <tr>\n",
       "                        <th id=\"T_eb2f952a_3e7e_11eb_9fc7_309c23d72eablevel0_row1\" class=\"row_heading level0 row1\" >1</th>\n",
       "                        <td id=\"T_eb2f952a_3e7e_11eb_9fc7_309c23d72eabrow1_col0\" class=\"data row1 col0\" >u</td>\n",
       "                        <td id=\"T_eb2f952a_3e7e_11eb_9fc7_309c23d72eabrow1_col1\" class=\"data row1 col1\" >328</td>\n",
       "            </tr>\n",
       "            <tr>\n",
       "                        <th id=\"T_eb2f952a_3e7e_11eb_9fc7_309c23d72eablevel0_row2\" class=\"row_heading level0 row2\" >2</th>\n",
       "                        <td id=\"T_eb2f952a_3e7e_11eb_9fc7_309c23d72eabrow2_col0\" class=\"data row2 col0\" >trad</td>\n",
       "                        <td id=\"T_eb2f952a_3e7e_11eb_9fc7_309c23d72eabrow2_col1\" class=\"data row2 col1\" >308</td>\n",
       "            </tr>\n",
       "            <tr>\n",
       "                        <th id=\"T_eb2f952a_3e7e_11eb_9fc7_309c23d72eablevel0_row3\" class=\"row_heading level0 row3\" >3</th>\n",
       "                        <td id=\"T_eb2f952a_3e7e_11eb_9fc7_309c23d72eabrow3_col0\" class=\"data row3 col0\" >tax</td>\n",
       "                        <td id=\"T_eb2f952a_3e7e_11eb_9fc7_309c23d72eabrow3_col1\" class=\"data row3 col1\" >226</td>\n",
       "            </tr>\n",
       "            <tr>\n",
       "                        <th id=\"T_eb2f952a_3e7e_11eb_9fc7_309c23d72eablevel0_row4\" class=\"row_heading level0 row4\" >4</th>\n",
       "                        <td id=\"T_eb2f952a_3e7e_11eb_9fc7_309c23d72eabrow4_col0\" class=\"data row4 col0\" >gre</td>\n",
       "                        <td id=\"T_eb2f952a_3e7e_11eb_9fc7_309c23d72eabrow4_col1\" class=\"data row4 col1\" >221</td>\n",
       "            </tr>\n",
       "            <tr>\n",
       "                        <th id=\"T_eb2f952a_3e7e_11eb_9fc7_309c23d72eablevel0_row5\" class=\"row_heading level0 row5\" >5</th>\n",
       "                        <td id=\"T_eb2f952a_3e7e_11eb_9fc7_309c23d72eabrow5_col0\" class=\"data row5 col0\" >tariff</td>\n",
       "                        <td id=\"T_eb2f952a_3e7e_11eb_9fc7_309c23d72eabrow5_col1\" class=\"data row5 col1\" >206</td>\n",
       "            </tr>\n",
       "            <tr>\n",
       "                        <th id=\"T_eb2f952a_3e7e_11eb_9fc7_309c23d72eablevel0_row6\" class=\"row_heading level0 row6\" >6</th>\n",
       "                        <td id=\"T_eb2f952a_3e7e_11eb_9fc7_309c23d72eabrow6_col0\" class=\"data row6 col0\" >deal</td>\n",
       "                        <td id=\"T_eb2f952a_3e7e_11eb_9fc7_309c23d72eabrow6_col1\" class=\"data row6 col1\" >189</td>\n",
       "            </tr>\n",
       "            <tr>\n",
       "                        <th id=\"T_eb2f952a_3e7e_11eb_9fc7_309c23d72eablevel0_row7\" class=\"row_heading level0 row7\" >7</th>\n",
       "                        <td id=\"T_eb2f952a_3e7e_11eb_9fc7_309c23d72eabrow7_col0\" class=\"data row7 col0\" >country</td>\n",
       "                        <td id=\"T_eb2f952a_3e7e_11eb_9fc7_309c23d72eabrow7_col1\" class=\"data row7 col1\" >176</td>\n",
       "            </tr>\n",
       "            <tr>\n",
       "                        <th id=\"T_eb2f952a_3e7e_11eb_9fc7_309c23d72eablevel0_row8\" class=\"row_heading level0 row8\" >8</th>\n",
       "                        <td id=\"T_eb2f952a_3e7e_11eb_9fc7_309c23d72eabrow8_col0\" class=\"data row8 col0\" >stat</td>\n",
       "                        <td id=\"T_eb2f952a_3e7e_11eb_9fc7_309c23d72eabrow8_col1\" class=\"data row8 col1\" >132</td>\n",
       "            </tr>\n",
       "            <tr>\n",
       "                        <th id=\"T_eb2f952a_3e7e_11eb_9fc7_309c23d72eablevel0_row9\" class=\"row_heading level0 row9\" >9</th>\n",
       "                        <td id=\"T_eb2f952a_3e7e_11eb_9fc7_309c23d72eabrow9_col0\" class=\"data row9 col0\" >year</td>\n",
       "                        <td id=\"T_eb2f952a_3e7e_11eb_9fc7_309c23d72eabrow9_col1\" class=\"data row9 col1\" >127</td>\n",
       "            </tr>\n",
       "            <tr>\n",
       "                        <th id=\"T_eb2f952a_3e7e_11eb_9fc7_309c23d72eablevel0_row10\" class=\"row_heading level0 row10\" >10</th>\n",
       "                        <td id=\"T_eb2f952a_3e7e_11eb_9fc7_309c23d72eabrow10_col0\" class=\"data row10 col0\" >bil</td>\n",
       "                        <td id=\"T_eb2f952a_3e7e_11eb_9fc7_309c23d72eabrow10_col1\" class=\"data row10 col1\" >125</td>\n",
       "            </tr>\n",
       "            <tr>\n",
       "                        <th id=\"T_eb2f952a_3e7e_11eb_9fc7_309c23d72eablevel0_row11\" class=\"row_heading level0 row11\" >11</th>\n",
       "                        <td id=\"T_eb2f952a_3e7e_11eb_9fc7_309c23d72eabrow11_col0\" class=\"data row11 col0\" >presid</td>\n",
       "                        <td id=\"T_eb2f952a_3e7e_11eb_9fc7_309c23d72eabrow11_col1\" class=\"data row11 col1\" >121</td>\n",
       "            </tr>\n",
       "            <tr>\n",
       "                        <th id=\"T_eb2f952a_3e7e_11eb_9fc7_309c23d72eablevel0_row12\" class=\"row_heading level0 row12\" >12</th>\n",
       "                        <td id=\"T_eb2f952a_3e7e_11eb_9fc7_309c23d72eabrow12_col0\" class=\"data row12 col0\" >com</td>\n",
       "                        <td id=\"T_eb2f952a_3e7e_11eb_9fc7_309c23d72eabrow12_col1\" class=\"data row12 col1\" >114</td>\n",
       "            </tr>\n",
       "            <tr>\n",
       "                        <th id=\"T_eb2f952a_3e7e_11eb_9fc7_309c23d72eablevel0_row13\" class=\"row_heading level0 row13\" >13</th>\n",
       "                        <td id=\"T_eb2f952a_3e7e_11eb_9fc7_309c23d72eabrow13_col0\" class=\"data row13 col0\" >big</td>\n",
       "                        <td id=\"T_eb2f952a_3e7e_11eb_9fc7_309c23d72eabrow13_col1\" class=\"data row13 col1\" >113</td>\n",
       "            </tr>\n",
       "            <tr>\n",
       "                        <th id=\"T_eb2f952a_3e7e_11eb_9fc7_309c23d72eablevel0_row14\" class=\"row_heading level0 row14\" >14</th>\n",
       "                        <td id=\"T_eb2f952a_3e7e_11eb_9fc7_309c23d72eabrow14_col0\" class=\"data row14 col0\" >cut</td>\n",
       "                        <td id=\"T_eb2f952a_3e7e_11eb_9fc7_309c23d72eabrow14_col1\" class=\"data row14 col1\" >108</td>\n",
       "            </tr>\n",
       "            <tr>\n",
       "                        <th id=\"T_eb2f952a_3e7e_11eb_9fc7_309c23d72eablevel0_row15\" class=\"row_heading level0 row15\" >15</th>\n",
       "                        <td id=\"T_eb2f952a_3e7e_11eb_9fc7_309c23d72eabrow15_col0\" class=\"data row15 col0\" >mak</td>\n",
       "                        <td id=\"T_eb2f952a_3e7e_11eb_9fc7_309c23d72eabrow15_col1\" class=\"data row15 col1\" >107</td>\n",
       "            </tr>\n",
       "            <tr>\n",
       "                        <th id=\"T_eb2f952a_3e7e_11eb_9fc7_309c23d72eablevel0_row16\" class=\"row_heading level0 row16\" >16</th>\n",
       "                        <td id=\"T_eb2f952a_3e7e_11eb_9fc7_309c23d72eabrow16_col0\" class=\"data row16 col0\" >many</td>\n",
       "                        <td id=\"T_eb2f952a_3e7e_11eb_9fc7_309c23d72eabrow16_col1\" class=\"data row16 col1\" >102</td>\n",
       "            </tr>\n",
       "            <tr>\n",
       "                        <th id=\"T_eb2f952a_3e7e_11eb_9fc7_309c23d72eablevel0_row17\" class=\"row_heading level0 row17\" >17</th>\n",
       "                        <td id=\"T_eb2f952a_3e7e_11eb_9fc7_309c23d72eabrow17_col0\" class=\"data row17 col0\" >get</td>\n",
       "                        <td id=\"T_eb2f952a_3e7e_11eb_9fc7_309c23d72eabrow17_col1\" class=\"data row17 col1\" >95</td>\n",
       "            </tr>\n",
       "            <tr>\n",
       "                        <th id=\"T_eb2f952a_3e7e_11eb_9fc7_309c23d72eablevel0_row18\" class=\"row_heading level0 row18\" >18</th>\n",
       "                        <td id=\"T_eb2f952a_3e7e_11eb_9fc7_309c23d72eabrow18_col0\" class=\"data row18 col0\" >new</td>\n",
       "                        <td id=\"T_eb2f952a_3e7e_11eb_9fc7_309c23d72eabrow18_col1\" class=\"data row18 col1\" >91</td>\n",
       "            </tr>\n",
       "            <tr>\n",
       "                        <th id=\"T_eb2f952a_3e7e_11eb_9fc7_309c23d72eablevel0_row19\" class=\"row_heading level0 row19\" >19</th>\n",
       "                        <td id=\"T_eb2f952a_3e7e_11eb_9fc7_309c23d72eabrow19_col0\" class=\"data row19 col0\" >econom</td>\n",
       "                        <td id=\"T_eb2f952a_3e7e_11eb_9fc7_309c23d72eabrow19_col1\" class=\"data row19 col1\" >90</td>\n",
       "            </tr>\n",
       "    </tbody></table>"
      ],
      "text/plain": [
       "<pandas.io.formats.style.Styler at 0x1e8c7051be0>"
      ]
     },
     "execution_count": 132,
     "metadata": {},
     "output_type": "execute_result"
    }
   ],
   "source": [
    "top = Counter([item for sublist in train['content'] for item in sublist])\n",
    "temp = pd.DataFrame(top.most_common(20))\n",
    "temp.columns = ['Common_words','count']\n",
    "temp.style.background_gradient(cmap='Blues')"
   ]
  },
  {
   "cell_type": "code",
   "execution_count": 133,
   "metadata": {
    "id": "oR6voq9wssrn"
   },
   "outputs": [],
   "source": [
    "blacklist = ['http','https','www','com', 'ev','u','ly','pic','would']\n",
    "\n",
    "def remove_words(text):\n",
    "    text = [i for i in text if (i not in blacklist)]\n",
    "    return text"
   ]
  },
  {
   "cell_type": "code",
   "execution_count": 134,
   "metadata": {
    "id": "i4KgnECnssrn"
   },
   "outputs": [],
   "source": [
    "#train['content']=remove_words(train['content'])\n",
    "\n",
    "train['content'] = train['content'].apply(lambda x: [i for i in x if i not in blacklist])"
   ]
  },
  {
   "cell_type": "code",
   "execution_count": 135,
   "metadata": {
    "colab": {
     "base_uri": "https://localhost:8080/",
     "height": 717
    },
    "id": "feESViNDssrn",
    "outputId": "321d2e79-e246-41c4-9fb4-27cbf2c95fea"
   },
   "outputs": [
    {
     "data": {
      "application/vnd.plotly.v1+json": {
       "config": {
        "plotlyServerURL": "https://plot.ly"
       },
       "data": [
        {
         "alignmentgroup": "True",
         "hovertemplate": "Common_words=%{y}<br>count=%{x}<extra></extra>",
         "legendgroup": "chin",
         "marker": {
          "color": "#636efa"
         },
         "name": "chin",
         "offsetgroup": "chin",
         "orientation": "h",
         "showlegend": true,
         "textposition": "auto",
         "type": "bar",
         "x": [
          358
         ],
         "xaxis": "x",
         "y": [
          "chin"
         ],
         "yaxis": "y"
        },
        {
         "alignmentgroup": "True",
         "hovertemplate": "Common_words=%{y}<br>count=%{x}<extra></extra>",
         "legendgroup": "u",
         "marker": {
          "color": "#EF553B"
         },
         "name": "u",
         "offsetgroup": "u",
         "orientation": "h",
         "showlegend": true,
         "textposition": "auto",
         "type": "bar",
         "x": [
          328
         ],
         "xaxis": "x",
         "y": [
          "u"
         ],
         "yaxis": "y"
        },
        {
         "alignmentgroup": "True",
         "hovertemplate": "Common_words=%{y}<br>count=%{x}<extra></extra>",
         "legendgroup": "trad",
         "marker": {
          "color": "#00cc96"
         },
         "name": "trad",
         "offsetgroup": "trad",
         "orientation": "h",
         "showlegend": true,
         "textposition": "auto",
         "type": "bar",
         "x": [
          308
         ],
         "xaxis": "x",
         "y": [
          "trad"
         ],
         "yaxis": "y"
        },
        {
         "alignmentgroup": "True",
         "hovertemplate": "Common_words=%{y}<br>count=%{x}<extra></extra>",
         "legendgroup": "tax",
         "marker": {
          "color": "#ab63fa"
         },
         "name": "tax",
         "offsetgroup": "tax",
         "orientation": "h",
         "showlegend": true,
         "textposition": "auto",
         "type": "bar",
         "x": [
          226
         ],
         "xaxis": "x",
         "y": [
          "tax"
         ],
         "yaxis": "y"
        },
        {
         "alignmentgroup": "True",
         "hovertemplate": "Common_words=%{y}<br>count=%{x}<extra></extra>",
         "legendgroup": "gre",
         "marker": {
          "color": "#FFA15A"
         },
         "name": "gre",
         "offsetgroup": "gre",
         "orientation": "h",
         "showlegend": true,
         "textposition": "auto",
         "type": "bar",
         "x": [
          221
         ],
         "xaxis": "x",
         "y": [
          "gre"
         ],
         "yaxis": "y"
        },
        {
         "alignmentgroup": "True",
         "hovertemplate": "Common_words=%{y}<br>count=%{x}<extra></extra>",
         "legendgroup": "tariff",
         "marker": {
          "color": "#19d3f3"
         },
         "name": "tariff",
         "offsetgroup": "tariff",
         "orientation": "h",
         "showlegend": true,
         "textposition": "auto",
         "type": "bar",
         "x": [
          206
         ],
         "xaxis": "x",
         "y": [
          "tariff"
         ],
         "yaxis": "y"
        },
        {
         "alignmentgroup": "True",
         "hovertemplate": "Common_words=%{y}<br>count=%{x}<extra></extra>",
         "legendgroup": "deal",
         "marker": {
          "color": "#FF6692"
         },
         "name": "deal",
         "offsetgroup": "deal",
         "orientation": "h",
         "showlegend": true,
         "textposition": "auto",
         "type": "bar",
         "x": [
          189
         ],
         "xaxis": "x",
         "y": [
          "deal"
         ],
         "yaxis": "y"
        },
        {
         "alignmentgroup": "True",
         "hovertemplate": "Common_words=%{y}<br>count=%{x}<extra></extra>",
         "legendgroup": "country",
         "marker": {
          "color": "#B6E880"
         },
         "name": "country",
         "offsetgroup": "country",
         "orientation": "h",
         "showlegend": true,
         "textposition": "auto",
         "type": "bar",
         "x": [
          176
         ],
         "xaxis": "x",
         "y": [
          "country"
         ],
         "yaxis": "y"
        },
        {
         "alignmentgroup": "True",
         "hovertemplate": "Common_words=%{y}<br>count=%{x}<extra></extra>",
         "legendgroup": "stat",
         "marker": {
          "color": "#FF97FF"
         },
         "name": "stat",
         "offsetgroup": "stat",
         "orientation": "h",
         "showlegend": true,
         "textposition": "auto",
         "type": "bar",
         "x": [
          132
         ],
         "xaxis": "x",
         "y": [
          "stat"
         ],
         "yaxis": "y"
        },
        {
         "alignmentgroup": "True",
         "hovertemplate": "Common_words=%{y}<br>count=%{x}<extra></extra>",
         "legendgroup": "year",
         "marker": {
          "color": "#FECB52"
         },
         "name": "year",
         "offsetgroup": "year",
         "orientation": "h",
         "showlegend": true,
         "textposition": "auto",
         "type": "bar",
         "x": [
          127
         ],
         "xaxis": "x",
         "y": [
          "year"
         ],
         "yaxis": "y"
        },
        {
         "alignmentgroup": "True",
         "hovertemplate": "Common_words=%{y}<br>count=%{x}<extra></extra>",
         "legendgroup": "bil",
         "marker": {
          "color": "#636efa"
         },
         "name": "bil",
         "offsetgroup": "bil",
         "orientation": "h",
         "showlegend": true,
         "textposition": "auto",
         "type": "bar",
         "x": [
          125
         ],
         "xaxis": "x",
         "y": [
          "bil"
         ],
         "yaxis": "y"
        },
        {
         "alignmentgroup": "True",
         "hovertemplate": "Common_words=%{y}<br>count=%{x}<extra></extra>",
         "legendgroup": "presid",
         "marker": {
          "color": "#EF553B"
         },
         "name": "presid",
         "offsetgroup": "presid",
         "orientation": "h",
         "showlegend": true,
         "textposition": "auto",
         "type": "bar",
         "x": [
          121
         ],
         "xaxis": "x",
         "y": [
          "presid"
         ],
         "yaxis": "y"
        },
        {
         "alignmentgroup": "True",
         "hovertemplate": "Common_words=%{y}<br>count=%{x}<extra></extra>",
         "legendgroup": "com",
         "marker": {
          "color": "#00cc96"
         },
         "name": "com",
         "offsetgroup": "com",
         "orientation": "h",
         "showlegend": true,
         "textposition": "auto",
         "type": "bar",
         "x": [
          114
         ],
         "xaxis": "x",
         "y": [
          "com"
         ],
         "yaxis": "y"
        },
        {
         "alignmentgroup": "True",
         "hovertemplate": "Common_words=%{y}<br>count=%{x}<extra></extra>",
         "legendgroup": "big",
         "marker": {
          "color": "#ab63fa"
         },
         "name": "big",
         "offsetgroup": "big",
         "orientation": "h",
         "showlegend": true,
         "textposition": "auto",
         "type": "bar",
         "x": [
          113
         ],
         "xaxis": "x",
         "y": [
          "big"
         ],
         "yaxis": "y"
        },
        {
         "alignmentgroup": "True",
         "hovertemplate": "Common_words=%{y}<br>count=%{x}<extra></extra>",
         "legendgroup": "cut",
         "marker": {
          "color": "#FFA15A"
         },
         "name": "cut",
         "offsetgroup": "cut",
         "orientation": "h",
         "showlegend": true,
         "textposition": "auto",
         "type": "bar",
         "x": [
          108
         ],
         "xaxis": "x",
         "y": [
          "cut"
         ],
         "yaxis": "y"
        },
        {
         "alignmentgroup": "True",
         "hovertemplate": "Common_words=%{y}<br>count=%{x}<extra></extra>",
         "legendgroup": "mak",
         "marker": {
          "color": "#19d3f3"
         },
         "name": "mak",
         "offsetgroup": "mak",
         "orientation": "h",
         "showlegend": true,
         "textposition": "auto",
         "type": "bar",
         "x": [
          107
         ],
         "xaxis": "x",
         "y": [
          "mak"
         ],
         "yaxis": "y"
        },
        {
         "alignmentgroup": "True",
         "hovertemplate": "Common_words=%{y}<br>count=%{x}<extra></extra>",
         "legendgroup": "many",
         "marker": {
          "color": "#FF6692"
         },
         "name": "many",
         "offsetgroup": "many",
         "orientation": "h",
         "showlegend": true,
         "textposition": "auto",
         "type": "bar",
         "x": [
          102
         ],
         "xaxis": "x",
         "y": [
          "many"
         ],
         "yaxis": "y"
        },
        {
         "alignmentgroup": "True",
         "hovertemplate": "Common_words=%{y}<br>count=%{x}<extra></extra>",
         "legendgroup": "get",
         "marker": {
          "color": "#B6E880"
         },
         "name": "get",
         "offsetgroup": "get",
         "orientation": "h",
         "showlegend": true,
         "textposition": "auto",
         "type": "bar",
         "x": [
          95
         ],
         "xaxis": "x",
         "y": [
          "get"
         ],
         "yaxis": "y"
        },
        {
         "alignmentgroup": "True",
         "hovertemplate": "Common_words=%{y}<br>count=%{x}<extra></extra>",
         "legendgroup": "new",
         "marker": {
          "color": "#FF97FF"
         },
         "name": "new",
         "offsetgroup": "new",
         "orientation": "h",
         "showlegend": true,
         "textposition": "auto",
         "type": "bar",
         "x": [
          91
         ],
         "xaxis": "x",
         "y": [
          "new"
         ],
         "yaxis": "y"
        },
        {
         "alignmentgroup": "True",
         "hovertemplate": "Common_words=%{y}<br>count=%{x}<extra></extra>",
         "legendgroup": "econom",
         "marker": {
          "color": "#FECB52"
         },
         "name": "econom",
         "offsetgroup": "econom",
         "orientation": "h",
         "showlegend": true,
         "textposition": "auto",
         "type": "bar",
         "x": [
          90
         ],
         "xaxis": "x",
         "y": [
          "econom"
         ],
         "yaxis": "y"
        }
       ],
       "layout": {
        "barmode": "relative",
        "height": 700,
        "legend": {
         "title": {
          "text": "Common_words"
         },
         "tracegroupgap": 0
        },
        "template": {
         "data": {
          "bar": [
           {
            "error_x": {
             "color": "#2a3f5f"
            },
            "error_y": {
             "color": "#2a3f5f"
            },
            "marker": {
             "line": {
              "color": "#E5ECF6",
              "width": 0.5
             }
            },
            "type": "bar"
           }
          ],
          "barpolar": [
           {
            "marker": {
             "line": {
              "color": "#E5ECF6",
              "width": 0.5
             }
            },
            "type": "barpolar"
           }
          ],
          "carpet": [
           {
            "aaxis": {
             "endlinecolor": "#2a3f5f",
             "gridcolor": "white",
             "linecolor": "white",
             "minorgridcolor": "white",
             "startlinecolor": "#2a3f5f"
            },
            "baxis": {
             "endlinecolor": "#2a3f5f",
             "gridcolor": "white",
             "linecolor": "white",
             "minorgridcolor": "white",
             "startlinecolor": "#2a3f5f"
            },
            "type": "carpet"
           }
          ],
          "choropleth": [
           {
            "colorbar": {
             "outlinewidth": 0,
             "ticks": ""
            },
            "type": "choropleth"
           }
          ],
          "contour": [
           {
            "colorbar": {
             "outlinewidth": 0,
             "ticks": ""
            },
            "colorscale": [
             [
              0,
              "#0d0887"
             ],
             [
              0.1111111111111111,
              "#46039f"
             ],
             [
              0.2222222222222222,
              "#7201a8"
             ],
             [
              0.3333333333333333,
              "#9c179e"
             ],
             [
              0.4444444444444444,
              "#bd3786"
             ],
             [
              0.5555555555555556,
              "#d8576b"
             ],
             [
              0.6666666666666666,
              "#ed7953"
             ],
             [
              0.7777777777777778,
              "#fb9f3a"
             ],
             [
              0.8888888888888888,
              "#fdca26"
             ],
             [
              1,
              "#f0f921"
             ]
            ],
            "type": "contour"
           }
          ],
          "contourcarpet": [
           {
            "colorbar": {
             "outlinewidth": 0,
             "ticks": ""
            },
            "type": "contourcarpet"
           }
          ],
          "heatmap": [
           {
            "colorbar": {
             "outlinewidth": 0,
             "ticks": ""
            },
            "colorscale": [
             [
              0,
              "#0d0887"
             ],
             [
              0.1111111111111111,
              "#46039f"
             ],
             [
              0.2222222222222222,
              "#7201a8"
             ],
             [
              0.3333333333333333,
              "#9c179e"
             ],
             [
              0.4444444444444444,
              "#bd3786"
             ],
             [
              0.5555555555555556,
              "#d8576b"
             ],
             [
              0.6666666666666666,
              "#ed7953"
             ],
             [
              0.7777777777777778,
              "#fb9f3a"
             ],
             [
              0.8888888888888888,
              "#fdca26"
             ],
             [
              1,
              "#f0f921"
             ]
            ],
            "type": "heatmap"
           }
          ],
          "heatmapgl": [
           {
            "colorbar": {
             "outlinewidth": 0,
             "ticks": ""
            },
            "colorscale": [
             [
              0,
              "#0d0887"
             ],
             [
              0.1111111111111111,
              "#46039f"
             ],
             [
              0.2222222222222222,
              "#7201a8"
             ],
             [
              0.3333333333333333,
              "#9c179e"
             ],
             [
              0.4444444444444444,
              "#bd3786"
             ],
             [
              0.5555555555555556,
              "#d8576b"
             ],
             [
              0.6666666666666666,
              "#ed7953"
             ],
             [
              0.7777777777777778,
              "#fb9f3a"
             ],
             [
              0.8888888888888888,
              "#fdca26"
             ],
             [
              1,
              "#f0f921"
             ]
            ],
            "type": "heatmapgl"
           }
          ],
          "histogram": [
           {
            "marker": {
             "colorbar": {
              "outlinewidth": 0,
              "ticks": ""
             }
            },
            "type": "histogram"
           }
          ],
          "histogram2d": [
           {
            "colorbar": {
             "outlinewidth": 0,
             "ticks": ""
            },
            "colorscale": [
             [
              0,
              "#0d0887"
             ],
             [
              0.1111111111111111,
              "#46039f"
             ],
             [
              0.2222222222222222,
              "#7201a8"
             ],
             [
              0.3333333333333333,
              "#9c179e"
             ],
             [
              0.4444444444444444,
              "#bd3786"
             ],
             [
              0.5555555555555556,
              "#d8576b"
             ],
             [
              0.6666666666666666,
              "#ed7953"
             ],
             [
              0.7777777777777778,
              "#fb9f3a"
             ],
             [
              0.8888888888888888,
              "#fdca26"
             ],
             [
              1,
              "#f0f921"
             ]
            ],
            "type": "histogram2d"
           }
          ],
          "histogram2dcontour": [
           {
            "colorbar": {
             "outlinewidth": 0,
             "ticks": ""
            },
            "colorscale": [
             [
              0,
              "#0d0887"
             ],
             [
              0.1111111111111111,
              "#46039f"
             ],
             [
              0.2222222222222222,
              "#7201a8"
             ],
             [
              0.3333333333333333,
              "#9c179e"
             ],
             [
              0.4444444444444444,
              "#bd3786"
             ],
             [
              0.5555555555555556,
              "#d8576b"
             ],
             [
              0.6666666666666666,
              "#ed7953"
             ],
             [
              0.7777777777777778,
              "#fb9f3a"
             ],
             [
              0.8888888888888888,
              "#fdca26"
             ],
             [
              1,
              "#f0f921"
             ]
            ],
            "type": "histogram2dcontour"
           }
          ],
          "mesh3d": [
           {
            "colorbar": {
             "outlinewidth": 0,
             "ticks": ""
            },
            "type": "mesh3d"
           }
          ],
          "parcoords": [
           {
            "line": {
             "colorbar": {
              "outlinewidth": 0,
              "ticks": ""
             }
            },
            "type": "parcoords"
           }
          ],
          "pie": [
           {
            "automargin": true,
            "type": "pie"
           }
          ],
          "scatter": [
           {
            "marker": {
             "colorbar": {
              "outlinewidth": 0,
              "ticks": ""
             }
            },
            "type": "scatter"
           }
          ],
          "scatter3d": [
           {
            "line": {
             "colorbar": {
              "outlinewidth": 0,
              "ticks": ""
             }
            },
            "marker": {
             "colorbar": {
              "outlinewidth": 0,
              "ticks": ""
             }
            },
            "type": "scatter3d"
           }
          ],
          "scattercarpet": [
           {
            "marker": {
             "colorbar": {
              "outlinewidth": 0,
              "ticks": ""
             }
            },
            "type": "scattercarpet"
           }
          ],
          "scattergeo": [
           {
            "marker": {
             "colorbar": {
              "outlinewidth": 0,
              "ticks": ""
             }
            },
            "type": "scattergeo"
           }
          ],
          "scattergl": [
           {
            "marker": {
             "colorbar": {
              "outlinewidth": 0,
              "ticks": ""
             }
            },
            "type": "scattergl"
           }
          ],
          "scattermapbox": [
           {
            "marker": {
             "colorbar": {
              "outlinewidth": 0,
              "ticks": ""
             }
            },
            "type": "scattermapbox"
           }
          ],
          "scatterpolar": [
           {
            "marker": {
             "colorbar": {
              "outlinewidth": 0,
              "ticks": ""
             }
            },
            "type": "scatterpolar"
           }
          ],
          "scatterpolargl": [
           {
            "marker": {
             "colorbar": {
              "outlinewidth": 0,
              "ticks": ""
             }
            },
            "type": "scatterpolargl"
           }
          ],
          "scatterternary": [
           {
            "marker": {
             "colorbar": {
              "outlinewidth": 0,
              "ticks": ""
             }
            },
            "type": "scatterternary"
           }
          ],
          "surface": [
           {
            "colorbar": {
             "outlinewidth": 0,
             "ticks": ""
            },
            "colorscale": [
             [
              0,
              "#0d0887"
             ],
             [
              0.1111111111111111,
              "#46039f"
             ],
             [
              0.2222222222222222,
              "#7201a8"
             ],
             [
              0.3333333333333333,
              "#9c179e"
             ],
             [
              0.4444444444444444,
              "#bd3786"
             ],
             [
              0.5555555555555556,
              "#d8576b"
             ],
             [
              0.6666666666666666,
              "#ed7953"
             ],
             [
              0.7777777777777778,
              "#fb9f3a"
             ],
             [
              0.8888888888888888,
              "#fdca26"
             ],
             [
              1,
              "#f0f921"
             ]
            ],
            "type": "surface"
           }
          ],
          "table": [
           {
            "cells": {
             "fill": {
              "color": "#EBF0F8"
             },
             "line": {
              "color": "white"
             }
            },
            "header": {
             "fill": {
              "color": "#C8D4E3"
             },
             "line": {
              "color": "white"
             }
            },
            "type": "table"
           }
          ]
         },
         "layout": {
          "annotationdefaults": {
           "arrowcolor": "#2a3f5f",
           "arrowhead": 0,
           "arrowwidth": 1
          },
          "autotypenumbers": "strict",
          "coloraxis": {
           "colorbar": {
            "outlinewidth": 0,
            "ticks": ""
           }
          },
          "colorscale": {
           "diverging": [
            [
             0,
             "#8e0152"
            ],
            [
             0.1,
             "#c51b7d"
            ],
            [
             0.2,
             "#de77ae"
            ],
            [
             0.3,
             "#f1b6da"
            ],
            [
             0.4,
             "#fde0ef"
            ],
            [
             0.5,
             "#f7f7f7"
            ],
            [
             0.6,
             "#e6f5d0"
            ],
            [
             0.7,
             "#b8e186"
            ],
            [
             0.8,
             "#7fbc41"
            ],
            [
             0.9,
             "#4d9221"
            ],
            [
             1,
             "#276419"
            ]
           ],
           "sequential": [
            [
             0,
             "#0d0887"
            ],
            [
             0.1111111111111111,
             "#46039f"
            ],
            [
             0.2222222222222222,
             "#7201a8"
            ],
            [
             0.3333333333333333,
             "#9c179e"
            ],
            [
             0.4444444444444444,
             "#bd3786"
            ],
            [
             0.5555555555555556,
             "#d8576b"
            ],
            [
             0.6666666666666666,
             "#ed7953"
            ],
            [
             0.7777777777777778,
             "#fb9f3a"
            ],
            [
             0.8888888888888888,
             "#fdca26"
            ],
            [
             1,
             "#f0f921"
            ]
           ],
           "sequentialminus": [
            [
             0,
             "#0d0887"
            ],
            [
             0.1111111111111111,
             "#46039f"
            ],
            [
             0.2222222222222222,
             "#7201a8"
            ],
            [
             0.3333333333333333,
             "#9c179e"
            ],
            [
             0.4444444444444444,
             "#bd3786"
            ],
            [
             0.5555555555555556,
             "#d8576b"
            ],
            [
             0.6666666666666666,
             "#ed7953"
            ],
            [
             0.7777777777777778,
             "#fb9f3a"
            ],
            [
             0.8888888888888888,
             "#fdca26"
            ],
            [
             1,
             "#f0f921"
            ]
           ]
          },
          "colorway": [
           "#636efa",
           "#EF553B",
           "#00cc96",
           "#ab63fa",
           "#FFA15A",
           "#19d3f3",
           "#FF6692",
           "#B6E880",
           "#FF97FF",
           "#FECB52"
          ],
          "font": {
           "color": "#2a3f5f"
          },
          "geo": {
           "bgcolor": "white",
           "lakecolor": "white",
           "landcolor": "#E5ECF6",
           "showlakes": true,
           "showland": true,
           "subunitcolor": "white"
          },
          "hoverlabel": {
           "align": "left"
          },
          "hovermode": "closest",
          "mapbox": {
           "style": "light"
          },
          "paper_bgcolor": "white",
          "plot_bgcolor": "#E5ECF6",
          "polar": {
           "angularaxis": {
            "gridcolor": "white",
            "linecolor": "white",
            "ticks": ""
           },
           "bgcolor": "#E5ECF6",
           "radialaxis": {
            "gridcolor": "white",
            "linecolor": "white",
            "ticks": ""
           }
          },
          "scene": {
           "xaxis": {
            "backgroundcolor": "#E5ECF6",
            "gridcolor": "white",
            "gridwidth": 2,
            "linecolor": "white",
            "showbackground": true,
            "ticks": "",
            "zerolinecolor": "white"
           },
           "yaxis": {
            "backgroundcolor": "#E5ECF6",
            "gridcolor": "white",
            "gridwidth": 2,
            "linecolor": "white",
            "showbackground": true,
            "ticks": "",
            "zerolinecolor": "white"
           },
           "zaxis": {
            "backgroundcolor": "#E5ECF6",
            "gridcolor": "white",
            "gridwidth": 2,
            "linecolor": "white",
            "showbackground": true,
            "ticks": "",
            "zerolinecolor": "white"
           }
          },
          "shapedefaults": {
           "line": {
            "color": "#2a3f5f"
           }
          },
          "ternary": {
           "aaxis": {
            "gridcolor": "white",
            "linecolor": "white",
            "ticks": ""
           },
           "baxis": {
            "gridcolor": "white",
            "linecolor": "white",
            "ticks": ""
           },
           "bgcolor": "#E5ECF6",
           "caxis": {
            "gridcolor": "white",
            "linecolor": "white",
            "ticks": ""
           }
          },
          "title": {
           "x": 0.05
          },
          "xaxis": {
           "automargin": true,
           "gridcolor": "white",
           "linecolor": "white",
           "ticks": "",
           "title": {
            "standoff": 15
           },
           "zerolinecolor": "white",
           "zerolinewidth": 2
          },
          "yaxis": {
           "automargin": true,
           "gridcolor": "white",
           "linecolor": "white",
           "ticks": "",
           "title": {
            "standoff": 15
           },
           "zerolinecolor": "white",
           "zerolinewidth": 2
          }
         }
        },
        "title": {
         "text": "Commmon Words in Selected Text"
        },
        "width": 700,
        "xaxis": {
         "anchor": "y",
         "domain": [
          0,
          1
         ],
         "title": {
          "text": "count"
         }
        },
        "yaxis": {
         "anchor": "x",
         "categoryarray": [
          "econom",
          "new",
          "get",
          "many",
          "mak",
          "cut",
          "big",
          "com",
          "presid",
          "bil",
          "year",
          "stat",
          "country",
          "deal",
          "tariff",
          "gre",
          "tax",
          "trad",
          "u",
          "chin"
         ],
         "categoryorder": "array",
         "domain": [
          0,
          1
         ],
         "title": {
          "text": "Common_words"
         }
        }
       }
      },
      "text/html": [
       "<div>                            <div id=\"9b40fc97-111d-4e0f-a25c-300c72afd77e\" class=\"plotly-graph-div\" style=\"height:700px; width:700px;\"></div>            <script type=\"text/javascript\">                require([\"plotly\"], function(Plotly) {                    window.PLOTLYENV=window.PLOTLYENV || {};                                    if (document.getElementById(\"9b40fc97-111d-4e0f-a25c-300c72afd77e\")) {                    Plotly.newPlot(                        \"9b40fc97-111d-4e0f-a25c-300c72afd77e\",                        [{\"alignmentgroup\": \"True\", \"hovertemplate\": \"Common_words=%{y}<br>count=%{x}<extra></extra>\", \"legendgroup\": \"chin\", \"marker\": {\"color\": \"#636efa\"}, \"name\": \"chin\", \"offsetgroup\": \"chin\", \"orientation\": \"h\", \"showlegend\": true, \"textposition\": \"auto\", \"type\": \"bar\", \"x\": [358], \"xaxis\": \"x\", \"y\": [\"chin\"], \"yaxis\": \"y\"}, {\"alignmentgroup\": \"True\", \"hovertemplate\": \"Common_words=%{y}<br>count=%{x}<extra></extra>\", \"legendgroup\": \"u\", \"marker\": {\"color\": \"#EF553B\"}, \"name\": \"u\", \"offsetgroup\": \"u\", \"orientation\": \"h\", \"showlegend\": true, \"textposition\": \"auto\", \"type\": \"bar\", \"x\": [328], \"xaxis\": \"x\", \"y\": [\"u\"], \"yaxis\": \"y\"}, {\"alignmentgroup\": \"True\", \"hovertemplate\": \"Common_words=%{y}<br>count=%{x}<extra></extra>\", \"legendgroup\": \"trad\", \"marker\": {\"color\": \"#00cc96\"}, \"name\": \"trad\", \"offsetgroup\": \"trad\", \"orientation\": \"h\", \"showlegend\": true, \"textposition\": \"auto\", \"type\": \"bar\", \"x\": [308], \"xaxis\": \"x\", \"y\": [\"trad\"], \"yaxis\": \"y\"}, {\"alignmentgroup\": \"True\", \"hovertemplate\": \"Common_words=%{y}<br>count=%{x}<extra></extra>\", \"legendgroup\": \"tax\", \"marker\": {\"color\": \"#ab63fa\"}, \"name\": \"tax\", \"offsetgroup\": \"tax\", \"orientation\": \"h\", \"showlegend\": true, \"textposition\": \"auto\", \"type\": \"bar\", \"x\": [226], \"xaxis\": \"x\", \"y\": [\"tax\"], \"yaxis\": \"y\"}, {\"alignmentgroup\": \"True\", \"hovertemplate\": \"Common_words=%{y}<br>count=%{x}<extra></extra>\", \"legendgroup\": \"gre\", \"marker\": {\"color\": \"#FFA15A\"}, \"name\": \"gre\", \"offsetgroup\": \"gre\", \"orientation\": \"h\", \"showlegend\": true, \"textposition\": \"auto\", \"type\": \"bar\", \"x\": [221], \"xaxis\": \"x\", \"y\": [\"gre\"], \"yaxis\": \"y\"}, {\"alignmentgroup\": \"True\", \"hovertemplate\": \"Common_words=%{y}<br>count=%{x}<extra></extra>\", \"legendgroup\": \"tariff\", \"marker\": {\"color\": \"#19d3f3\"}, \"name\": \"tariff\", \"offsetgroup\": \"tariff\", \"orientation\": \"h\", \"showlegend\": true, \"textposition\": \"auto\", \"type\": \"bar\", \"x\": [206], \"xaxis\": \"x\", \"y\": [\"tariff\"], \"yaxis\": \"y\"}, {\"alignmentgroup\": \"True\", \"hovertemplate\": \"Common_words=%{y}<br>count=%{x}<extra></extra>\", \"legendgroup\": \"deal\", \"marker\": {\"color\": \"#FF6692\"}, \"name\": \"deal\", \"offsetgroup\": \"deal\", \"orientation\": \"h\", \"showlegend\": true, \"textposition\": \"auto\", \"type\": \"bar\", \"x\": [189], \"xaxis\": \"x\", \"y\": [\"deal\"], \"yaxis\": \"y\"}, {\"alignmentgroup\": \"True\", \"hovertemplate\": \"Common_words=%{y}<br>count=%{x}<extra></extra>\", \"legendgroup\": \"country\", \"marker\": {\"color\": \"#B6E880\"}, \"name\": \"country\", \"offsetgroup\": \"country\", \"orientation\": \"h\", \"showlegend\": true, \"textposition\": \"auto\", \"type\": \"bar\", \"x\": [176], \"xaxis\": \"x\", \"y\": [\"country\"], \"yaxis\": \"y\"}, {\"alignmentgroup\": \"True\", \"hovertemplate\": \"Common_words=%{y}<br>count=%{x}<extra></extra>\", \"legendgroup\": \"stat\", \"marker\": {\"color\": \"#FF97FF\"}, \"name\": \"stat\", \"offsetgroup\": \"stat\", \"orientation\": \"h\", \"showlegend\": true, \"textposition\": \"auto\", \"type\": \"bar\", \"x\": [132], \"xaxis\": \"x\", \"y\": [\"stat\"], \"yaxis\": \"y\"}, {\"alignmentgroup\": \"True\", \"hovertemplate\": \"Common_words=%{y}<br>count=%{x}<extra></extra>\", \"legendgroup\": \"year\", \"marker\": {\"color\": \"#FECB52\"}, \"name\": \"year\", \"offsetgroup\": \"year\", \"orientation\": \"h\", \"showlegend\": true, \"textposition\": \"auto\", \"type\": \"bar\", \"x\": [127], \"xaxis\": \"x\", \"y\": [\"year\"], \"yaxis\": \"y\"}, {\"alignmentgroup\": \"True\", \"hovertemplate\": \"Common_words=%{y}<br>count=%{x}<extra></extra>\", \"legendgroup\": \"bil\", \"marker\": {\"color\": \"#636efa\"}, \"name\": \"bil\", \"offsetgroup\": \"bil\", \"orientation\": \"h\", \"showlegend\": true, \"textposition\": \"auto\", \"type\": \"bar\", \"x\": [125], \"xaxis\": \"x\", \"y\": [\"bil\"], \"yaxis\": \"y\"}, {\"alignmentgroup\": \"True\", \"hovertemplate\": \"Common_words=%{y}<br>count=%{x}<extra></extra>\", \"legendgroup\": \"presid\", \"marker\": {\"color\": \"#EF553B\"}, \"name\": \"presid\", \"offsetgroup\": \"presid\", \"orientation\": \"h\", \"showlegend\": true, \"textposition\": \"auto\", \"type\": \"bar\", \"x\": [121], \"xaxis\": \"x\", \"y\": [\"presid\"], \"yaxis\": \"y\"}, {\"alignmentgroup\": \"True\", \"hovertemplate\": \"Common_words=%{y}<br>count=%{x}<extra></extra>\", \"legendgroup\": \"com\", \"marker\": {\"color\": \"#00cc96\"}, \"name\": \"com\", \"offsetgroup\": \"com\", \"orientation\": \"h\", \"showlegend\": true, \"textposition\": \"auto\", \"type\": \"bar\", \"x\": [114], \"xaxis\": \"x\", \"y\": [\"com\"], \"yaxis\": \"y\"}, {\"alignmentgroup\": \"True\", \"hovertemplate\": \"Common_words=%{y}<br>count=%{x}<extra></extra>\", \"legendgroup\": \"big\", \"marker\": {\"color\": \"#ab63fa\"}, \"name\": \"big\", \"offsetgroup\": \"big\", \"orientation\": \"h\", \"showlegend\": true, \"textposition\": \"auto\", \"type\": \"bar\", \"x\": [113], \"xaxis\": \"x\", \"y\": [\"big\"], \"yaxis\": \"y\"}, {\"alignmentgroup\": \"True\", \"hovertemplate\": \"Common_words=%{y}<br>count=%{x}<extra></extra>\", \"legendgroup\": \"cut\", \"marker\": {\"color\": \"#FFA15A\"}, \"name\": \"cut\", \"offsetgroup\": \"cut\", \"orientation\": \"h\", \"showlegend\": true, \"textposition\": \"auto\", \"type\": \"bar\", \"x\": [108], \"xaxis\": \"x\", \"y\": [\"cut\"], \"yaxis\": \"y\"}, {\"alignmentgroup\": \"True\", \"hovertemplate\": \"Common_words=%{y}<br>count=%{x}<extra></extra>\", \"legendgroup\": \"mak\", \"marker\": {\"color\": \"#19d3f3\"}, \"name\": \"mak\", \"offsetgroup\": \"mak\", \"orientation\": \"h\", \"showlegend\": true, \"textposition\": \"auto\", \"type\": \"bar\", \"x\": [107], \"xaxis\": \"x\", \"y\": [\"mak\"], \"yaxis\": \"y\"}, {\"alignmentgroup\": \"True\", \"hovertemplate\": \"Common_words=%{y}<br>count=%{x}<extra></extra>\", \"legendgroup\": \"many\", \"marker\": {\"color\": \"#FF6692\"}, \"name\": \"many\", \"offsetgroup\": \"many\", \"orientation\": \"h\", \"showlegend\": true, \"textposition\": \"auto\", \"type\": \"bar\", \"x\": [102], \"xaxis\": \"x\", \"y\": [\"many\"], \"yaxis\": \"y\"}, {\"alignmentgroup\": \"True\", \"hovertemplate\": \"Common_words=%{y}<br>count=%{x}<extra></extra>\", \"legendgroup\": \"get\", \"marker\": {\"color\": \"#B6E880\"}, \"name\": \"get\", \"offsetgroup\": \"get\", \"orientation\": \"h\", \"showlegend\": true, \"textposition\": \"auto\", \"type\": \"bar\", \"x\": [95], \"xaxis\": \"x\", \"y\": [\"get\"], \"yaxis\": \"y\"}, {\"alignmentgroup\": \"True\", \"hovertemplate\": \"Common_words=%{y}<br>count=%{x}<extra></extra>\", \"legendgroup\": \"new\", \"marker\": {\"color\": \"#FF97FF\"}, \"name\": \"new\", \"offsetgroup\": \"new\", \"orientation\": \"h\", \"showlegend\": true, \"textposition\": \"auto\", \"type\": \"bar\", \"x\": [91], \"xaxis\": \"x\", \"y\": [\"new\"], \"yaxis\": \"y\"}, {\"alignmentgroup\": \"True\", \"hovertemplate\": \"Common_words=%{y}<br>count=%{x}<extra></extra>\", \"legendgroup\": \"econom\", \"marker\": {\"color\": \"#FECB52\"}, \"name\": \"econom\", \"offsetgroup\": \"econom\", \"orientation\": \"h\", \"showlegend\": true, \"textposition\": \"auto\", \"type\": \"bar\", \"x\": [90], \"xaxis\": \"x\", \"y\": [\"econom\"], \"yaxis\": \"y\"}],                        {\"barmode\": \"relative\", \"height\": 700, \"legend\": {\"title\": {\"text\": \"Common_words\"}, \"tracegroupgap\": 0}, \"template\": {\"data\": {\"bar\": [{\"error_x\": {\"color\": \"#2a3f5f\"}, \"error_y\": {\"color\": \"#2a3f5f\"}, \"marker\": {\"line\": {\"color\": \"#E5ECF6\", \"width\": 0.5}}, \"type\": \"bar\"}], \"barpolar\": [{\"marker\": {\"line\": {\"color\": \"#E5ECF6\", \"width\": 0.5}}, \"type\": \"barpolar\"}], \"carpet\": [{\"aaxis\": {\"endlinecolor\": \"#2a3f5f\", \"gridcolor\": \"white\", \"linecolor\": \"white\", \"minorgridcolor\": \"white\", \"startlinecolor\": \"#2a3f5f\"}, \"baxis\": {\"endlinecolor\": \"#2a3f5f\", \"gridcolor\": \"white\", \"linecolor\": \"white\", \"minorgridcolor\": \"white\", \"startlinecolor\": \"#2a3f5f\"}, \"type\": \"carpet\"}], \"choropleth\": [{\"colorbar\": {\"outlinewidth\": 0, \"ticks\": \"\"}, \"type\": \"choropleth\"}], \"contour\": [{\"colorbar\": {\"outlinewidth\": 0, \"ticks\": \"\"}, \"colorscale\": [[0.0, \"#0d0887\"], [0.1111111111111111, \"#46039f\"], [0.2222222222222222, \"#7201a8\"], [0.3333333333333333, \"#9c179e\"], [0.4444444444444444, \"#bd3786\"], [0.5555555555555556, \"#d8576b\"], [0.6666666666666666, \"#ed7953\"], [0.7777777777777778, \"#fb9f3a\"], [0.8888888888888888, \"#fdca26\"], [1.0, \"#f0f921\"]], \"type\": \"contour\"}], \"contourcarpet\": [{\"colorbar\": {\"outlinewidth\": 0, \"ticks\": \"\"}, \"type\": \"contourcarpet\"}], \"heatmap\": [{\"colorbar\": {\"outlinewidth\": 0, \"ticks\": \"\"}, \"colorscale\": [[0.0, \"#0d0887\"], [0.1111111111111111, \"#46039f\"], [0.2222222222222222, \"#7201a8\"], [0.3333333333333333, \"#9c179e\"], [0.4444444444444444, \"#bd3786\"], [0.5555555555555556, \"#d8576b\"], [0.6666666666666666, \"#ed7953\"], [0.7777777777777778, \"#fb9f3a\"], [0.8888888888888888, \"#fdca26\"], [1.0, \"#f0f921\"]], \"type\": \"heatmap\"}], \"heatmapgl\": [{\"colorbar\": {\"outlinewidth\": 0, \"ticks\": \"\"}, \"colorscale\": [[0.0, \"#0d0887\"], [0.1111111111111111, \"#46039f\"], [0.2222222222222222, \"#7201a8\"], [0.3333333333333333, \"#9c179e\"], [0.4444444444444444, \"#bd3786\"], [0.5555555555555556, \"#d8576b\"], [0.6666666666666666, \"#ed7953\"], [0.7777777777777778, \"#fb9f3a\"], [0.8888888888888888, \"#fdca26\"], [1.0, \"#f0f921\"]], \"type\": \"heatmapgl\"}], \"histogram\": [{\"marker\": {\"colorbar\": {\"outlinewidth\": 0, \"ticks\": \"\"}}, \"type\": \"histogram\"}], \"histogram2d\": [{\"colorbar\": {\"outlinewidth\": 0, \"ticks\": \"\"}, \"colorscale\": [[0.0, \"#0d0887\"], [0.1111111111111111, \"#46039f\"], [0.2222222222222222, \"#7201a8\"], [0.3333333333333333, \"#9c179e\"], [0.4444444444444444, \"#bd3786\"], [0.5555555555555556, \"#d8576b\"], [0.6666666666666666, \"#ed7953\"], [0.7777777777777778, \"#fb9f3a\"], [0.8888888888888888, \"#fdca26\"], [1.0, \"#f0f921\"]], \"type\": \"histogram2d\"}], \"histogram2dcontour\": [{\"colorbar\": {\"outlinewidth\": 0, \"ticks\": \"\"}, \"colorscale\": [[0.0, \"#0d0887\"], [0.1111111111111111, \"#46039f\"], [0.2222222222222222, \"#7201a8\"], [0.3333333333333333, \"#9c179e\"], [0.4444444444444444, \"#bd3786\"], [0.5555555555555556, \"#d8576b\"], [0.6666666666666666, \"#ed7953\"], [0.7777777777777778, \"#fb9f3a\"], [0.8888888888888888, \"#fdca26\"], [1.0, \"#f0f921\"]], \"type\": \"histogram2dcontour\"}], \"mesh3d\": [{\"colorbar\": {\"outlinewidth\": 0, \"ticks\": \"\"}, \"type\": \"mesh3d\"}], \"parcoords\": [{\"line\": {\"colorbar\": {\"outlinewidth\": 0, \"ticks\": \"\"}}, \"type\": \"parcoords\"}], \"pie\": [{\"automargin\": true, \"type\": \"pie\"}], \"scatter\": [{\"marker\": {\"colorbar\": {\"outlinewidth\": 0, \"ticks\": \"\"}}, \"type\": \"scatter\"}], \"scatter3d\": [{\"line\": {\"colorbar\": {\"outlinewidth\": 0, \"ticks\": \"\"}}, \"marker\": {\"colorbar\": {\"outlinewidth\": 0, \"ticks\": \"\"}}, \"type\": \"scatter3d\"}], \"scattercarpet\": [{\"marker\": {\"colorbar\": {\"outlinewidth\": 0, \"ticks\": \"\"}}, \"type\": \"scattercarpet\"}], \"scattergeo\": [{\"marker\": {\"colorbar\": {\"outlinewidth\": 0, \"ticks\": \"\"}}, \"type\": \"scattergeo\"}], \"scattergl\": [{\"marker\": {\"colorbar\": {\"outlinewidth\": 0, \"ticks\": \"\"}}, \"type\": \"scattergl\"}], \"scattermapbox\": [{\"marker\": {\"colorbar\": {\"outlinewidth\": 0, \"ticks\": \"\"}}, \"type\": \"scattermapbox\"}], \"scatterpolar\": [{\"marker\": {\"colorbar\": {\"outlinewidth\": 0, \"ticks\": \"\"}}, \"type\": \"scatterpolar\"}], \"scatterpolargl\": [{\"marker\": {\"colorbar\": {\"outlinewidth\": 0, \"ticks\": \"\"}}, \"type\": \"scatterpolargl\"}], \"scatterternary\": [{\"marker\": {\"colorbar\": {\"outlinewidth\": 0, \"ticks\": \"\"}}, \"type\": \"scatterternary\"}], \"surface\": [{\"colorbar\": {\"outlinewidth\": 0, \"ticks\": \"\"}, \"colorscale\": [[0.0, \"#0d0887\"], [0.1111111111111111, \"#46039f\"], [0.2222222222222222, \"#7201a8\"], [0.3333333333333333, \"#9c179e\"], [0.4444444444444444, \"#bd3786\"], [0.5555555555555556, \"#d8576b\"], [0.6666666666666666, \"#ed7953\"], [0.7777777777777778, \"#fb9f3a\"], [0.8888888888888888, \"#fdca26\"], [1.0, \"#f0f921\"]], \"type\": \"surface\"}], \"table\": [{\"cells\": {\"fill\": {\"color\": \"#EBF0F8\"}, \"line\": {\"color\": \"white\"}}, \"header\": {\"fill\": {\"color\": \"#C8D4E3\"}, \"line\": {\"color\": \"white\"}}, \"type\": \"table\"}]}, \"layout\": {\"annotationdefaults\": {\"arrowcolor\": \"#2a3f5f\", \"arrowhead\": 0, \"arrowwidth\": 1}, \"autotypenumbers\": \"strict\", \"coloraxis\": {\"colorbar\": {\"outlinewidth\": 0, \"ticks\": \"\"}}, \"colorscale\": {\"diverging\": [[0, \"#8e0152\"], [0.1, \"#c51b7d\"], [0.2, \"#de77ae\"], [0.3, \"#f1b6da\"], [0.4, \"#fde0ef\"], [0.5, \"#f7f7f7\"], [0.6, \"#e6f5d0\"], [0.7, \"#b8e186\"], [0.8, \"#7fbc41\"], [0.9, \"#4d9221\"], [1, \"#276419\"]], \"sequential\": [[0.0, \"#0d0887\"], [0.1111111111111111, \"#46039f\"], [0.2222222222222222, \"#7201a8\"], [0.3333333333333333, \"#9c179e\"], [0.4444444444444444, \"#bd3786\"], [0.5555555555555556, \"#d8576b\"], [0.6666666666666666, \"#ed7953\"], [0.7777777777777778, \"#fb9f3a\"], [0.8888888888888888, \"#fdca26\"], [1.0, \"#f0f921\"]], \"sequentialminus\": [[0.0, \"#0d0887\"], [0.1111111111111111, \"#46039f\"], [0.2222222222222222, \"#7201a8\"], [0.3333333333333333, \"#9c179e\"], [0.4444444444444444, \"#bd3786\"], [0.5555555555555556, \"#d8576b\"], [0.6666666666666666, \"#ed7953\"], [0.7777777777777778, \"#fb9f3a\"], [0.8888888888888888, \"#fdca26\"], [1.0, \"#f0f921\"]]}, \"colorway\": [\"#636efa\", \"#EF553B\", \"#00cc96\", \"#ab63fa\", \"#FFA15A\", \"#19d3f3\", \"#FF6692\", \"#B6E880\", \"#FF97FF\", \"#FECB52\"], \"font\": {\"color\": \"#2a3f5f\"}, \"geo\": {\"bgcolor\": \"white\", \"lakecolor\": \"white\", \"landcolor\": \"#E5ECF6\", \"showlakes\": true, \"showland\": true, \"subunitcolor\": \"white\"}, \"hoverlabel\": {\"align\": \"left\"}, \"hovermode\": \"closest\", \"mapbox\": {\"style\": \"light\"}, \"paper_bgcolor\": \"white\", \"plot_bgcolor\": \"#E5ECF6\", \"polar\": {\"angularaxis\": {\"gridcolor\": \"white\", \"linecolor\": \"white\", \"ticks\": \"\"}, \"bgcolor\": \"#E5ECF6\", \"radialaxis\": {\"gridcolor\": \"white\", \"linecolor\": \"white\", \"ticks\": \"\"}}, \"scene\": {\"xaxis\": {\"backgroundcolor\": \"#E5ECF6\", \"gridcolor\": \"white\", \"gridwidth\": 2, \"linecolor\": \"white\", \"showbackground\": true, \"ticks\": \"\", \"zerolinecolor\": \"white\"}, \"yaxis\": {\"backgroundcolor\": \"#E5ECF6\", \"gridcolor\": \"white\", \"gridwidth\": 2, \"linecolor\": \"white\", \"showbackground\": true, \"ticks\": \"\", \"zerolinecolor\": \"white\"}, \"zaxis\": {\"backgroundcolor\": \"#E5ECF6\", \"gridcolor\": \"white\", \"gridwidth\": 2, \"linecolor\": \"white\", \"showbackground\": true, \"ticks\": \"\", \"zerolinecolor\": \"white\"}}, \"shapedefaults\": {\"line\": {\"color\": \"#2a3f5f\"}}, \"ternary\": {\"aaxis\": {\"gridcolor\": \"white\", \"linecolor\": \"white\", \"ticks\": \"\"}, \"baxis\": {\"gridcolor\": \"white\", \"linecolor\": \"white\", \"ticks\": \"\"}, \"bgcolor\": \"#E5ECF6\", \"caxis\": {\"gridcolor\": \"white\", \"linecolor\": \"white\", \"ticks\": \"\"}}, \"title\": {\"x\": 0.05}, \"xaxis\": {\"automargin\": true, \"gridcolor\": \"white\", \"linecolor\": \"white\", \"ticks\": \"\", \"title\": {\"standoff\": 15}, \"zerolinecolor\": \"white\", \"zerolinewidth\": 2}, \"yaxis\": {\"automargin\": true, \"gridcolor\": \"white\", \"linecolor\": \"white\", \"ticks\": \"\", \"title\": {\"standoff\": 15}, \"zerolinecolor\": \"white\", \"zerolinewidth\": 2}}}, \"title\": {\"text\": \"Commmon Words in Selected Text\"}, \"width\": 700, \"xaxis\": {\"anchor\": \"y\", \"domain\": [0.0, 1.0], \"title\": {\"text\": \"count\"}}, \"yaxis\": {\"anchor\": \"x\", \"categoryarray\": [\"econom\", \"new\", \"get\", \"many\", \"mak\", \"cut\", \"big\", \"com\", \"presid\", \"bil\", \"year\", \"stat\", \"country\", \"deal\", \"tariff\", \"gre\", \"tax\", \"trad\", \"u\", \"chin\"], \"categoryorder\": \"array\", \"domain\": [0.0, 1.0], \"title\": {\"text\": \"Common_words\"}}},                        {\"responsive\": true}                    ).then(function(){\n",
       "                            \n",
       "var gd = document.getElementById('9b40fc97-111d-4e0f-a25c-300c72afd77e');\n",
       "var x = new MutationObserver(function (mutations, observer) {{\n",
       "        var display = window.getComputedStyle(gd).display;\n",
       "        if (!display || display === 'none') {{\n",
       "            console.log([gd, 'removed!']);\n",
       "            Plotly.purge(gd);\n",
       "            observer.disconnect();\n",
       "        }}\n",
       "}});\n",
       "\n",
       "// Listen for the removal of the full notebook cells\n",
       "var notebookContainer = gd.closest('#notebook-container');\n",
       "if (notebookContainer) {{\n",
       "    x.observe(notebookContainer, {childList: true});\n",
       "}}\n",
       "\n",
       "// Listen for the clearing of the current output cell\n",
       "var outputEl = gd.closest('.output');\n",
       "if (outputEl) {{\n",
       "    x.observe(outputEl, {childList: true});\n",
       "}}\n",
       "\n",
       "                        })                };                });            </script>        </div>"
      ]
     },
     "metadata": {},
     "output_type": "display_data"
    }
   ],
   "source": [
    "fig = px.bar(temp, x=\"count\", y=\"Common_words\", title='Commmon Words in Selected Text', orientation='h', \n",
    "             width=700, height=700,color='Common_words')\n",
    "fig.show()"
   ]
  },
  {
   "cell_type": "code",
   "execution_count": 136,
   "metadata": {
    "colab": {
     "base_uri": "https://localhost:8080/",
     "height": 418
    },
    "id": "ktLXwcTJssro",
    "outputId": "5c1e7b3b-2a6b-41fb-9fd2-14e646e0ea23"
   },
   "outputs": [
    {
     "data": {
      "text/html": [
       "<style  type=\"text/css\" >\n",
       "    #T_ebe4a073_3e7e_11eb_b232_309c23d72eabrow0_col1 {\n",
       "            background-color:  #3f007d;\n",
       "            color:  #f1f1f1;\n",
       "        }    #T_ebe4a073_3e7e_11eb_b232_309c23d72eabrow1_col1 {\n",
       "            background-color:  #807cba;\n",
       "            color:  #000000;\n",
       "        }    #T_ebe4a073_3e7e_11eb_b232_309c23d72eabrow2_col1 {\n",
       "            background-color:  #8582bc;\n",
       "            color:  #000000;\n",
       "        }    #T_ebe4a073_3e7e_11eb_b232_309c23d72eabrow3_col1 {\n",
       "            background-color:  #9692c4;\n",
       "            color:  #000000;\n",
       "        }    #T_ebe4a073_3e7e_11eb_b232_309c23d72eabrow4_col1 {\n",
       "            background-color:  #a9a7cf;\n",
       "            color:  #000000;\n",
       "        }    #T_ebe4a073_3e7e_11eb_b232_309c23d72eabrow5_col1 {\n",
       "            background-color:  #b7b7d9;\n",
       "            color:  #000000;\n",
       "        }    #T_ebe4a073_3e7e_11eb_b232_309c23d72eabrow6_col1 {\n",
       "            background-color:  #e3e2ef;\n",
       "            color:  #000000;\n",
       "        }    #T_ebe4a073_3e7e_11eb_b232_309c23d72eabrow7_col1 {\n",
       "            background-color:  #e7e6f1;\n",
       "            color:  #000000;\n",
       "        }    #T_ebe4a073_3e7e_11eb_b232_309c23d72eabrow8_col1 {\n",
       "            background-color:  #e8e7f2;\n",
       "            color:  #000000;\n",
       "        }    #T_ebe4a073_3e7e_11eb_b232_309c23d72eabrow9_col1 {\n",
       "            background-color:  #eceaf3;\n",
       "            color:  #000000;\n",
       "        }    #T_ebe4a073_3e7e_11eb_b232_309c23d72eabrow10_col1 {\n",
       "            background-color:  #f1eff6;\n",
       "            color:  #000000;\n",
       "        }    #T_ebe4a073_3e7e_11eb_b232_309c23d72eabrow11_col1 {\n",
       "            background-color:  #f3f1f7;\n",
       "            color:  #000000;\n",
       "        }    #T_ebe4a073_3e7e_11eb_b232_309c23d72eabrow12_col1 {\n",
       "            background-color:  #f3f2f8;\n",
       "            color:  #000000;\n",
       "        }    #T_ebe4a073_3e7e_11eb_b232_309c23d72eabrow13_col1 {\n",
       "            background-color:  #f6f4f9;\n",
       "            color:  #000000;\n",
       "        }    #T_ebe4a073_3e7e_11eb_b232_309c23d72eabrow14_col1 {\n",
       "            background-color:  #f9f8fb;\n",
       "            color:  #000000;\n",
       "        }    #T_ebe4a073_3e7e_11eb_b232_309c23d72eabrow15_col1 {\n",
       "            background-color:  #fbfafc;\n",
       "            color:  #000000;\n",
       "        }    #T_ebe4a073_3e7e_11eb_b232_309c23d72eabrow16_col1 {\n",
       "            background-color:  #fcfbfd;\n",
       "            color:  #000000;\n",
       "        }    #T_ebe4a073_3e7e_11eb_b232_309c23d72eabrow17_col1 {\n",
       "            background-color:  #fcfbfd;\n",
       "            color:  #000000;\n",
       "        }    #T_ebe4a073_3e7e_11eb_b232_309c23d72eabrow18_col1 {\n",
       "            background-color:  #fcfbfd;\n",
       "            color:  #000000;\n",
       "        }</style><table id=\"T_ebe4a073_3e7e_11eb_b232_309c23d72eab\" ><thead>    <tr>        <th class=\"blank level0\" ></th>        <th class=\"col_heading level0 col0\" >Common_words</th>        <th class=\"col_heading level0 col1\" >count</th>    </tr></thead><tbody>\n",
       "                <tr>\n",
       "                        <th id=\"T_ebe4a073_3e7e_11eb_b232_309c23d72eablevel0_row0\" class=\"row_heading level0 row0\" >1</th>\n",
       "                        <td id=\"T_ebe4a073_3e7e_11eb_b232_309c23d72eabrow0_col0\" class=\"data row0 col0\" >trad</td>\n",
       "                        <td id=\"T_ebe4a073_3e7e_11eb_b232_309c23d72eabrow0_col1\" class=\"data row0 col1\" >308</td>\n",
       "            </tr>\n",
       "            <tr>\n",
       "                        <th id=\"T_ebe4a073_3e7e_11eb_b232_309c23d72eablevel0_row1\" class=\"row_heading level0 row1\" >2</th>\n",
       "                        <td id=\"T_ebe4a073_3e7e_11eb_b232_309c23d72eabrow1_col0\" class=\"data row1 col0\" >tax</td>\n",
       "                        <td id=\"T_ebe4a073_3e7e_11eb_b232_309c23d72eabrow1_col1\" class=\"data row1 col1\" >226</td>\n",
       "            </tr>\n",
       "            <tr>\n",
       "                        <th id=\"T_ebe4a073_3e7e_11eb_b232_309c23d72eablevel0_row2\" class=\"row_heading level0 row2\" >3</th>\n",
       "                        <td id=\"T_ebe4a073_3e7e_11eb_b232_309c23d72eabrow2_col0\" class=\"data row2 col0\" >gre</td>\n",
       "                        <td id=\"T_ebe4a073_3e7e_11eb_b232_309c23d72eabrow2_col1\" class=\"data row2 col1\" >221</td>\n",
       "            </tr>\n",
       "            <tr>\n",
       "                        <th id=\"T_ebe4a073_3e7e_11eb_b232_309c23d72eablevel0_row3\" class=\"row_heading level0 row3\" >4</th>\n",
       "                        <td id=\"T_ebe4a073_3e7e_11eb_b232_309c23d72eabrow3_col0\" class=\"data row3 col0\" >tariff</td>\n",
       "                        <td id=\"T_ebe4a073_3e7e_11eb_b232_309c23d72eabrow3_col1\" class=\"data row3 col1\" >206</td>\n",
       "            </tr>\n",
       "            <tr>\n",
       "                        <th id=\"T_ebe4a073_3e7e_11eb_b232_309c23d72eablevel0_row4\" class=\"row_heading level0 row4\" >5</th>\n",
       "                        <td id=\"T_ebe4a073_3e7e_11eb_b232_309c23d72eabrow4_col0\" class=\"data row4 col0\" >deal</td>\n",
       "                        <td id=\"T_ebe4a073_3e7e_11eb_b232_309c23d72eabrow4_col1\" class=\"data row4 col1\" >189</td>\n",
       "            </tr>\n",
       "            <tr>\n",
       "                        <th id=\"T_ebe4a073_3e7e_11eb_b232_309c23d72eablevel0_row5\" class=\"row_heading level0 row5\" >6</th>\n",
       "                        <td id=\"T_ebe4a073_3e7e_11eb_b232_309c23d72eabrow5_col0\" class=\"data row5 col0\" >country</td>\n",
       "                        <td id=\"T_ebe4a073_3e7e_11eb_b232_309c23d72eabrow5_col1\" class=\"data row5 col1\" >176</td>\n",
       "            </tr>\n",
       "            <tr>\n",
       "                        <th id=\"T_ebe4a073_3e7e_11eb_b232_309c23d72eablevel0_row6\" class=\"row_heading level0 row6\" >7</th>\n",
       "                        <td id=\"T_ebe4a073_3e7e_11eb_b232_309c23d72eabrow6_col0\" class=\"data row6 col0\" >stat</td>\n",
       "                        <td id=\"T_ebe4a073_3e7e_11eb_b232_309c23d72eabrow6_col1\" class=\"data row6 col1\" >132</td>\n",
       "            </tr>\n",
       "            <tr>\n",
       "                        <th id=\"T_ebe4a073_3e7e_11eb_b232_309c23d72eablevel0_row7\" class=\"row_heading level0 row7\" >8</th>\n",
       "                        <td id=\"T_ebe4a073_3e7e_11eb_b232_309c23d72eabrow7_col0\" class=\"data row7 col0\" >year</td>\n",
       "                        <td id=\"T_ebe4a073_3e7e_11eb_b232_309c23d72eabrow7_col1\" class=\"data row7 col1\" >127</td>\n",
       "            </tr>\n",
       "            <tr>\n",
       "                        <th id=\"T_ebe4a073_3e7e_11eb_b232_309c23d72eablevel0_row8\" class=\"row_heading level0 row8\" >9</th>\n",
       "                        <td id=\"T_ebe4a073_3e7e_11eb_b232_309c23d72eabrow8_col0\" class=\"data row8 col0\" >bil</td>\n",
       "                        <td id=\"T_ebe4a073_3e7e_11eb_b232_309c23d72eabrow8_col1\" class=\"data row8 col1\" >125</td>\n",
       "            </tr>\n",
       "            <tr>\n",
       "                        <th id=\"T_ebe4a073_3e7e_11eb_b232_309c23d72eablevel0_row9\" class=\"row_heading level0 row9\" >10</th>\n",
       "                        <td id=\"T_ebe4a073_3e7e_11eb_b232_309c23d72eabrow9_col0\" class=\"data row9 col0\" >presid</td>\n",
       "                        <td id=\"T_ebe4a073_3e7e_11eb_b232_309c23d72eabrow9_col1\" class=\"data row9 col1\" >121</td>\n",
       "            </tr>\n",
       "            <tr>\n",
       "                        <th id=\"T_ebe4a073_3e7e_11eb_b232_309c23d72eablevel0_row10\" class=\"row_heading level0 row10\" >11</th>\n",
       "                        <td id=\"T_ebe4a073_3e7e_11eb_b232_309c23d72eabrow10_col0\" class=\"data row10 col0\" >big</td>\n",
       "                        <td id=\"T_ebe4a073_3e7e_11eb_b232_309c23d72eabrow10_col1\" class=\"data row10 col1\" >113</td>\n",
       "            </tr>\n",
       "            <tr>\n",
       "                        <th id=\"T_ebe4a073_3e7e_11eb_b232_309c23d72eablevel0_row11\" class=\"row_heading level0 row11\" >12</th>\n",
       "                        <td id=\"T_ebe4a073_3e7e_11eb_b232_309c23d72eabrow11_col0\" class=\"data row11 col0\" >cut</td>\n",
       "                        <td id=\"T_ebe4a073_3e7e_11eb_b232_309c23d72eabrow11_col1\" class=\"data row11 col1\" >108</td>\n",
       "            </tr>\n",
       "            <tr>\n",
       "                        <th id=\"T_ebe4a073_3e7e_11eb_b232_309c23d72eablevel0_row12\" class=\"row_heading level0 row12\" >13</th>\n",
       "                        <td id=\"T_ebe4a073_3e7e_11eb_b232_309c23d72eabrow12_col0\" class=\"data row12 col0\" >mak</td>\n",
       "                        <td id=\"T_ebe4a073_3e7e_11eb_b232_309c23d72eabrow12_col1\" class=\"data row12 col1\" >107</td>\n",
       "            </tr>\n",
       "            <tr>\n",
       "                        <th id=\"T_ebe4a073_3e7e_11eb_b232_309c23d72eablevel0_row13\" class=\"row_heading level0 row13\" >14</th>\n",
       "                        <td id=\"T_ebe4a073_3e7e_11eb_b232_309c23d72eabrow13_col0\" class=\"data row13 col0\" >many</td>\n",
       "                        <td id=\"T_ebe4a073_3e7e_11eb_b232_309c23d72eabrow13_col1\" class=\"data row13 col1\" >102</td>\n",
       "            </tr>\n",
       "            <tr>\n",
       "                        <th id=\"T_ebe4a073_3e7e_11eb_b232_309c23d72eablevel0_row14\" class=\"row_heading level0 row14\" >15</th>\n",
       "                        <td id=\"T_ebe4a073_3e7e_11eb_b232_309c23d72eabrow14_col0\" class=\"data row14 col0\" >get</td>\n",
       "                        <td id=\"T_ebe4a073_3e7e_11eb_b232_309c23d72eabrow14_col1\" class=\"data row14 col1\" >95</td>\n",
       "            </tr>\n",
       "            <tr>\n",
       "                        <th id=\"T_ebe4a073_3e7e_11eb_b232_309c23d72eablevel0_row15\" class=\"row_heading level0 row15\" >16</th>\n",
       "                        <td id=\"T_ebe4a073_3e7e_11eb_b232_309c23d72eabrow15_col0\" class=\"data row15 col0\" >new</td>\n",
       "                        <td id=\"T_ebe4a073_3e7e_11eb_b232_309c23d72eabrow15_col1\" class=\"data row15 col1\" >91</td>\n",
       "            </tr>\n",
       "            <tr>\n",
       "                        <th id=\"T_ebe4a073_3e7e_11eb_b232_309c23d72eablevel0_row16\" class=\"row_heading level0 row16\" >17</th>\n",
       "                        <td id=\"T_ebe4a073_3e7e_11eb_b232_309c23d72eabrow16_col0\" class=\"data row16 col0\" >econom</td>\n",
       "                        <td id=\"T_ebe4a073_3e7e_11eb_b232_309c23d72eabrow16_col1\" class=\"data row16 col1\" >90</td>\n",
       "            </tr>\n",
       "            <tr>\n",
       "                        <th id=\"T_ebe4a073_3e7e_11eb_b232_309c23d72eablevel0_row17\" class=\"row_heading level0 row17\" >18</th>\n",
       "                        <td id=\"T_ebe4a073_3e7e_11eb_b232_309c23d72eabrow17_col0\" class=\"data row17 col0\" >good</td>\n",
       "                        <td id=\"T_ebe4a073_3e7e_11eb_b232_309c23d72eabrow17_col1\" class=\"data row17 col1\" >89</td>\n",
       "            </tr>\n",
       "            <tr>\n",
       "                        <th id=\"T_ebe4a073_3e7e_11eb_b232_309c23d72eablevel0_row18\" class=\"row_heading level0 row18\" >19</th>\n",
       "                        <td id=\"T_ebe4a073_3e7e_11eb_b232_309c23d72eabrow18_col0\" class=\"data row18 col0\" >much</td>\n",
       "                        <td id=\"T_ebe4a073_3e7e_11eb_b232_309c23d72eabrow18_col1\" class=\"data row18 col1\" >89</td>\n",
       "            </tr>\n",
       "    </tbody></table>"
      ],
      "text/plain": [
       "<pandas.io.formats.style.Styler at 0x1e8c7061130>"
      ]
     },
     "execution_count": 136,
     "metadata": {},
     "output_type": "execute_result"
    }
   ],
   "source": [
    "top = Counter([item for sublist in train['content'] for item in sublist])\n",
    "temp = pd.DataFrame(top.most_common(20))\n",
    "temp = temp.iloc[1:,:]\n",
    "temp.columns = ['Common_words','count']\n",
    "temp.style.background_gradient(cmap='Purples')"
   ]
  },
  {
   "cell_type": "markdown",
   "metadata": {
    "id": "xb4L5XOtssro"
   },
   "source": [
    "<div id = 8><h2>8. Get the sentiment analysis of the tweets</h2></div>\n",
    "\n",
    "Let's look at the most common words in different sentiments"
   ]
  },
  {
   "cell_type": "code",
   "execution_count": 137,
   "metadata": {
    "id": "6wBZFSOassro"
   },
   "outputs": [],
   "source": [
    "from textblob import TextBlob\n",
    "\n",
    "def get_tweet_sentiment(tweet): \n",
    "    ''' \n",
    "    Utility function to classify sentiment of passed tweet \n",
    "    using textblob's sentiment method \n",
    "    '''\n",
    "    # create TextBlob object of passed tweet text \n",
    "    analysis = TextBlob(tweet) \n",
    "    \n",
    "    # set sentiment \n",
    "    if analysis.sentiment.polarity > 0:\n",
    "        return 1\n",
    "    elif analysis.sentiment.polarity == 0: \n",
    "        return 0\n",
    "    else: \n",
    "        return -1\n",
    "    # return analysis.sentiment.polarity"
   ]
  },
  {
   "cell_type": "code",
   "execution_count": 138,
   "metadata": {
    "id": "JUJlh7ekssro"
   },
   "outputs": [],
   "source": [
    "train['sentiment']=train['content'].apply(lambda x: get_tweet_sentiment(' '.join(x)))"
   ]
  },
  {
   "cell_type": "code",
   "execution_count": 139,
   "metadata": {
    "colab": {
     "base_uri": "https://localhost:8080/",
     "height": 195
    },
    "id": "GH8aRghCssro",
    "outputId": "0ef09787-ea48-4ac5-ab63-b21806cfc297"
   },
   "outputs": [
    {
     "data": {
      "text/html": [
       "<div>\n",
       "<style scoped>\n",
       "    .dataframe tbody tr th:only-of-type {\n",
       "        vertical-align: middle;\n",
       "    }\n",
       "\n",
       "    .dataframe tbody tr th {\n",
       "        vertical-align: top;\n",
       "    }\n",
       "\n",
       "    .dataframe thead th {\n",
       "        text-align: right;\n",
       "    }\n",
       "</style>\n",
       "<table border=\"1\" class=\"dataframe\">\n",
       "  <thead>\n",
       "    <tr style=\"text-align: right;\">\n",
       "      <th></th>\n",
       "      <th>id</th>\n",
       "      <th>content</th>\n",
       "      <th>date</th>\n",
       "      <th>Date</th>\n",
       "      <th>Time</th>\n",
       "      <th>retweets</th>\n",
       "      <th>favorites</th>\n",
       "      <th>sentiment</th>\n",
       "    </tr>\n",
       "  </thead>\n",
       "  <tbody>\n",
       "    <tr>\n",
       "      <th>43</th>\n",
       "      <td>9.616720e+17</td>\n",
       "      <td>[meet, henry, kiss, discus, nor, kore, chin, m...</td>\n",
       "      <td>2/8/2018 12:44</td>\n",
       "      <td>2018-02-08</td>\n",
       "      <td>12:44</td>\n",
       "      <td>11239</td>\n",
       "      <td>70357</td>\n",
       "      <td>0</td>\n",
       "    </tr>\n",
       "    <tr>\n",
       "      <th>44</th>\n",
       "      <td>9.652030e+17</td>\n",
       "      <td>[nev, said, rus, meddl, elect, said, may, rus,...</td>\n",
       "      <td>2/18/2018 6:33</td>\n",
       "      <td>2018-02-18</td>\n",
       "      <td>6:33</td>\n",
       "      <td>26495</td>\n",
       "      <td>111426</td>\n",
       "      <td>1</td>\n",
       "    </tr>\n",
       "    <tr>\n",
       "      <th>45</th>\n",
       "      <td>9.714030e+17</td>\n",
       "      <td>[chin, ask, develop, plan, year, on, bil, doll...</td>\n",
       "      <td>3/7/2018 9:10</td>\n",
       "      <td>2018-03-07</td>\n",
       "      <td>9:10</td>\n",
       "      <td>15544</td>\n",
       "      <td>75828</td>\n",
       "      <td>1</td>\n",
       "    </tr>\n",
       "    <tr>\n",
       "      <th>46</th>\n",
       "      <td>9.725060e+17</td>\n",
       "      <td>[chine, presid, xi, jinp, spok, leng, meet, ki...</td>\n",
       "      <td>3/10/2018 10:15</td>\n",
       "      <td>2018-03-10</td>\n",
       "      <td>10:15</td>\n",
       "      <td>15895</td>\n",
       "      <td>80544</td>\n",
       "      <td>0</td>\n",
       "    </tr>\n",
       "    <tr>\n",
       "      <th>47</th>\n",
       "      <td>9.789390e+17</td>\n",
       "      <td>[receiv, mess, last, night, xi, jinp, chin, me...</td>\n",
       "      <td>3/28/2018 5:16</td>\n",
       "      <td>2018-03-28</td>\n",
       "      <td>5:16</td>\n",
       "      <td>19918</td>\n",
       "      <td>90508</td>\n",
       "      <td>-1</td>\n",
       "    </tr>\n",
       "  </tbody>\n",
       "</table>\n",
       "</div>"
      ],
      "text/plain": [
       "              id                                            content  \\\n",
       "43  9.616720e+17  [meet, henry, kiss, discus, nor, kore, chin, m...   \n",
       "44  9.652030e+17  [nev, said, rus, meddl, elect, said, may, rus,...   \n",
       "45  9.714030e+17  [chin, ask, develop, plan, year, on, bil, doll...   \n",
       "46  9.725060e+17  [chine, presid, xi, jinp, spok, leng, meet, ki...   \n",
       "47  9.789390e+17  [receiv, mess, last, night, xi, jinp, chin, me...   \n",
       "\n",
       "               date       Date   Time  retweets  favorites  sentiment  \n",
       "43   2/8/2018 12:44 2018-02-08  12:44     11239      70357          0  \n",
       "44   2/18/2018 6:33 2018-02-18   6:33     26495     111426          1  \n",
       "45    3/7/2018 9:10 2018-03-07   9:10     15544      75828          1  \n",
       "46  3/10/2018 10:15 2018-03-10  10:15     15895      80544          0  \n",
       "47   3/28/2018 5:16 2018-03-28   5:16     19918      90508         -1  "
      ]
     },
     "execution_count": 139,
     "metadata": {},
     "output_type": "execute_result"
    }
   ],
   "source": [
    "train.head()"
   ]
  },
  {
   "cell_type": "code",
   "execution_count": 140,
   "metadata": {
    "id": "rgcIleFjssro"
   },
   "outputs": [],
   "source": [
    "Positive_sent = train[train['sentiment']==1]\n",
    "Negative_sent = train[train['sentiment']==0]\n",
    "Neutral_sent = train[train['sentiment']==-1]"
   ]
  },
  {
   "cell_type": "markdown",
   "metadata": {
    "id": "_0O-sJu8ssrp"
   },
   "source": [
    "<b> Overall tweet sentiment </b>"
   ]
  },
  {
   "cell_type": "code",
   "execution_count": 141,
   "metadata": {
    "colab": {
     "base_uri": "https://localhost:8080/"
    },
    "id": "tUINn--ussrp",
    "outputId": "5e6f3ff7-a320-4a72-d918-e3fc7387ec22"
   },
   "outputs": [
    {
     "name": "stdout",
     "output_type": "stream",
     "text": [
      "Number of tweets with positive sentiment 412\n",
      "Number of tweets with negative sentiment 105\n",
      "Number of tweets with neutral sentiment 182\n"
     ]
    }
   ],
   "source": [
    "print('Number of tweets with positive sentiment', Positive_sent['sentiment'].count())\n",
    "print('Number of tweets with negative sentiment', Negative_sent['sentiment'].count())\n",
    "print('Number of tweets with neutral sentiment', Neutral_sent['sentiment'].count())\n"
   ]
  },
  {
   "cell_type": "markdown",
   "metadata": {
    "id": "A3TdyQnCssrp"
   },
   "source": [
    "<b><i>So we see that overall the tweets are neutral in nature, followed by positive sentiment for the time in which they are analysed.</i></b>"
   ]
  },
  {
   "cell_type": "markdown",
   "metadata": {
    "id": "n995xAcuX-7H"
   },
   "source": [
    "<div id = 9><h2>9. Save the data </h2></div>"
   ]
  },
  {
   "cell_type": "code",
   "execution_count": 142,
   "metadata": {
    "id": "oHYxlKoEX3WG"
   },
   "outputs": [],
   "source": [
    "train.to_csv('../output/results/textblob_prediction_data.csv')"
   ]
  },
  {
   "cell_type": "code",
   "execution_count": null,
   "metadata": {},
   "outputs": [],
   "source": []
  }
 ],
 "metadata": {
  "colab": {
   "name": "textblob_sentiment_analysis.ipynb",
   "provenance": []
  },
  "kernelspec": {
   "display_name": "Python 3",
   "language": "python",
   "name": "python3"
  },
  "language_info": {
   "codemirror_mode": {
    "name": "ipython",
    "version": 3
   },
   "file_extension": ".py",
   "mimetype": "text/x-python",
   "name": "python",
   "nbconvert_exporter": "python",
   "pygments_lexer": "ipython3",
   "version": "3.8.3"
  }
 },
 "nbformat": 4,
 "nbformat_minor": 1
}
