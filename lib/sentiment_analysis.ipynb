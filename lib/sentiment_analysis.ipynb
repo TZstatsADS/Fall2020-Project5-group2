{
 "cells": [
  {
   "cell_type": "code",
   "execution_count": 3,
   "metadata": {},
   "outputs": [],
   "source": [
    "# to load and check model:\n",
    "from keras import models\n",
    "import numpy as np\n",
    "from keras.preprocessing.text import Tokenizer\n",
    "from keras.preprocessing.sequence import pad_sequences\n",
    "import pandas as pd\n",
    "import re\n"
   ]
  },
  {
   "cell_type": "code",
   "execution_count": 10,
   "metadata": {},
   "outputs": [],
   "source": [
    "# Preprocess Tweets Before Feeding to Model\n",
    "data = pd.read_csv(\"../data/input/realdonaldtrump_20170120-20191231.csv\")\n",
    "data = data[['id','content', 'date']]\n",
    "data['content'] = data['content'].apply(lambda x: x.lower())\n",
    "data['content'] = data['content'].apply((lambda x: re.sub('[^a-zA-z0-9\\s]','',x)))"
   ]
  },
  {
   "cell_type": "code",
   "execution_count": 11,
   "metadata": {},
   "outputs": [
    {
     "data": {
      "text/plain": [
       "<bound method NDFrame.head of                 id                                            content  \\\n",
       "0     8.224210e+17  it all begins today i will see you at 1100 am ...   \n",
       "1     8.225020e+17  today we are not merely transferring power fro...   \n",
       "2     8.225020e+17  power from washington dc and giving it back to...   \n",
       "3     8.225020e+17  what truly matters is not which party controls...   \n",
       "4     8.225020e+17  january 20th 2017 will be remembered as the da...   \n",
       "...            ...                                                ...   \n",
       "9685  1.212180e+18  thank you to the  dcexaminer washington examin...   \n",
       "9686  1.212180e+18  thank you steve the greatest witch hunt in us ...   \n",
       "9687  1.212180e+18  our fantastic first ladyhttpstwittercomflotuss...   \n",
       "9688  1.212180e+18                                     happy new year   \n",
       "9689  1.212210e+18                            pictwittercomevaeyd1agv   \n",
       "\n",
       "                  date  \n",
       "0       1/20/2017 6:31  \n",
       "1      1/20/2017 11:51  \n",
       "2      1/20/2017 11:51  \n",
       "3      1/20/2017 11:52  \n",
       "4      1/20/2017 11:53  \n",
       "...                ...  \n",
       "9685  12/31/2019 19:03  \n",
       "9686  12/31/2019 19:16  \n",
       "9687  12/31/2019 19:22  \n",
       "9688  12/31/2019 19:30  \n",
       "9689  12/31/2019 21:12  \n",
       "\n",
       "[9690 rows x 3 columns]>"
      ]
     },
     "execution_count": 11,
     "metadata": {},
     "output_type": "execute_result"
    }
   ],
   "source": [
    "data.head"
   ]
  },
  {
   "cell_type": "code",
   "execution_count": 12,
   "metadata": {},
   "outputs": [
    {
     "data": {
      "text/plain": [
       "<bound method NDFrame.tail of                 id                                            content  \\\n",
       "0     8.224210e+17  it all begins today i will see you at 1100 am ...   \n",
       "1     8.225020e+17  today we are not merely transferring power fro...   \n",
       "2     8.225020e+17  power from washington dc and giving it back to...   \n",
       "3     8.225020e+17  what truly matters is not which party controls...   \n",
       "4     8.225020e+17  january 20th 2017 will be remembered as the da...   \n",
       "...            ...                                                ...   \n",
       "9685  1.212180e+18  thank you to the  dcexaminer washington examin...   \n",
       "9686  1.212180e+18  thank you steve the greatest witch hunt in us ...   \n",
       "9687  1.212180e+18  our fantastic first ladyhttpstwittercomflotuss...   \n",
       "9688  1.212180e+18                                     happy new year   \n",
       "9689  1.212210e+18                            pictwittercomevaeyd1agv   \n",
       "\n",
       "                  date  \n",
       "0       1/20/2017 6:31  \n",
       "1      1/20/2017 11:51  \n",
       "2      1/20/2017 11:51  \n",
       "3      1/20/2017 11:52  \n",
       "4      1/20/2017 11:53  \n",
       "...                ...  \n",
       "9685  12/31/2019 19:03  \n",
       "9686  12/31/2019 19:16  \n",
       "9687  12/31/2019 19:22  \n",
       "9688  12/31/2019 19:30  \n",
       "9689  12/31/2019 21:12  \n",
       "\n",
       "[9690 rows x 3 columns]>"
      ]
     },
     "execution_count": 12,
     "metadata": {},
     "output_type": "execute_result"
    }
   ],
   "source": [
    "data.tail"
   ]
  },
  {
   "cell_type": "code",
   "execution_count": 13,
   "metadata": {},
   "outputs": [],
   "source": [
    "max_fatures = 2000\n",
    "tokenizer = Tokenizer(num_words=max_fatures, split=' ')\n",
    "tokenizer.fit_on_texts(data['content'].values)\n",
    "X = tokenizer.texts_to_sequences(data['content'].values)\n",
    "X = pad_sequences(X)"
   ]
  },
  {
   "cell_type": "code",
   "execution_count": 14,
   "metadata": {
    "scrolled": true
   },
   "outputs": [
    {
     "name": "stdout",
     "output_type": "stream",
     "text": [
      "Model: \"sequential\"\n",
      "_________________________________________________________________\n",
      "Layer (type)                 Output Shape              Param #   \n",
      "=================================================================\n",
      "embedding (Embedding)        (None, 29, 128)           256000    \n",
      "_________________________________________________________________\n",
      "spatial_dropout1d (SpatialDr (None, 29, 128)           0         \n",
      "_________________________________________________________________\n",
      "lstm (LSTM)                  (None, 196)               254800    \n",
      "_________________________________________________________________\n",
      "dense (Dense)                (None, 2)                 394       \n",
      "=================================================================\n",
      "Total params: 511,194\n",
      "Trainable params: 511,194\n",
      "Non-trainable params: 0\n",
      "_________________________________________________________________\n"
     ]
    }
   ],
   "source": [
    "# Load in all models to be used \n",
    "# Called LSTM_10 because 10 epoch\n",
    "LSTM_bal = models.load_model('../output/models/LSTM_balanced_10')\n",
    "LSTM_bal.summary()\n"
   ]
  },
  {
   "cell_type": "code",
   "execution_count": 15,
   "metadata": {},
   "outputs": [
    {
     "name": "stdout",
     "output_type": "stream",
     "text": [
      "WARNING:tensorflow:Model was constructed with shape (None, 29) for input Tensor(\"embedding_input_1:0\", shape=(None, 29), dtype=float32), but it was called on an input with incompatible shape (None, 58).\n"
     ]
    }
   ],
   "source": [
    "# Generate Predictions for each model \n",
    "y_pred = LSTM_bal.predict(X)\n",
    "data['negative_prob'] = pd.Series(y_pred[:,0])\n",
    "data['positive_prob'] = pd.Series(y_pred[:,1])\n",
    "data.to_csv('../output/results/LSTM_balanced_results.csv')"
   ]
  },
  {
   "cell_type": "code",
   "execution_count": 16,
   "metadata": {},
   "outputs": [
    {
     "name": "stdout",
     "output_type": "stream",
     "text": [
      "Model: \"sequential_1\"\n",
      "_________________________________________________________________\n",
      "Layer (type)                 Output Shape              Param #   \n",
      "=================================================================\n",
      "embedding_1 (Embedding)      (None, 28, 128)           256000    \n",
      "_________________________________________________________________\n",
      "spatial_dropout1d_1 (Spatial (None, 28, 128)           0         \n",
      "_________________________________________________________________\n",
      "lstm_1 (LSTM)                (None, 196)               254800    \n",
      "_________________________________________________________________\n",
      "dense_1 (Dense)              (None, 2)                 394       \n",
      "=================================================================\n",
      "Total params: 511,194\n",
      "Trainable params: 511,194\n",
      "Non-trainable params: 0\n",
      "_________________________________________________________________\n",
      "WARNING:tensorflow:Model was constructed with shape (None, 28) for input Tensor(\"embedding_1_input:0\", shape=(None, 28), dtype=float32), but it was called on an input with incompatible shape (None, 58).\n"
     ]
    }
   ],
   "source": [
    "# Get Results of Unbalanced Model\n",
    "LSTM_unbal = models.load_model('../output/models/LSTM_unbalanced')\n",
    "LSTM_unbal.summary()\n",
    "# Generate Predictions for each model \n",
    "y_pred = LSTM_unbal.predict(X)\n",
    "data['negative_prob'] = pd.Series(y_pred[:,0])\n",
    "data['positive_prob'] = pd.Series(y_pred[:,1])"
   ]
  },
  {
   "cell_type": "code",
   "execution_count": 17,
   "metadata": {},
   "outputs": [],
   "source": [
    "# 1 == Negative, 1 == Positive Sentiment\n",
    "data['outcome'] = np.where(data['negative_prob']> 0.500, -1 ,1)\n",
    "\n",
    "data.to_csv('../output/results/LSTM_unbalanced_full_results.csv')"
   ]
  },
  {
   "cell_type": "code",
   "execution_count": 18,
   "metadata": {},
   "outputs": [
    {
     "data": {
      "text/plain": [
       "<bound method NDFrame.head of                 id                                            content  \\\n",
       "0     8.224210e+17  it all begins today i will see you at 1100 am ...   \n",
       "1     8.225020e+17  today we are not merely transferring power fro...   \n",
       "2     8.225020e+17  power from washington dc and giving it back to...   \n",
       "3     8.225020e+17  what truly matters is not which party controls...   \n",
       "4     8.225020e+17  january 20th 2017 will be remembered as the da...   \n",
       "...            ...                                                ...   \n",
       "9685  1.212180e+18  thank you to the  dcexaminer washington examin...   \n",
       "9686  1.212180e+18  thank you steve the greatest witch hunt in us ...   \n",
       "9687  1.212180e+18  our fantastic first ladyhttpstwittercomflotuss...   \n",
       "9688  1.212180e+18                                     happy new year   \n",
       "9689  1.212210e+18                            pictwittercomevaeyd1agv   \n",
       "\n",
       "                  date  negative_prob  positive_prob  outcome  \n",
       "0       1/20/2017 6:31       0.992478       0.007521        0  \n",
       "1      1/20/2017 11:51       0.999910       0.000090        0  \n",
       "2      1/20/2017 11:51       0.997268       0.002732        0  \n",
       "3      1/20/2017 11:52       0.999828       0.000172        0  \n",
       "4      1/20/2017 11:53       0.962615       0.037385        0  \n",
       "...                ...            ...            ...      ...  \n",
       "9685  12/31/2019 19:03       0.982245       0.017755        0  \n",
       "9686  12/31/2019 19:16       0.996735       0.003265        0  \n",
       "9687  12/31/2019 19:22       0.222811       0.777189        1  \n",
       "9688  12/31/2019 19:30       0.932579       0.067421        0  \n",
       "9689  12/31/2019 21:12       0.590985       0.409015        0  \n",
       "\n",
       "[9690 rows x 6 columns]>"
      ]
     },
     "execution_count": 18,
     "metadata": {},
     "output_type": "execute_result"
    }
   ],
   "source": [
    "data.head"
   ]
  },
  {
   "cell_type": "code",
   "execution_count": null,
   "metadata": {},
   "outputs": [],
   "source": []
  }
 ],
 "metadata": {
  "kernelspec": {
   "display_name": "Python 3",
   "language": "python",
   "name": "python3"
  },
  "language_info": {
   "codemirror_mode": {
    "name": "ipython",
    "version": 3
   },
   "file_extension": ".py",
   "mimetype": "text/x-python",
   "name": "python",
   "nbconvert_exporter": "python",
   "pygments_lexer": "ipython3",
   "version": "3.8.3"
  }
 },
 "nbformat": 4,
 "nbformat_minor": 4
}
