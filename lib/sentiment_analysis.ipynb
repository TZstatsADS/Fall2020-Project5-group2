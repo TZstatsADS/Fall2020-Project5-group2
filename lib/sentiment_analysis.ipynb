{
 "cells": [
  {
   "cell_type": "code",
   "execution_count": 1,
   "metadata": {},
   "outputs": [],
   "source": [
    "# to load and check model:\n",
    "from keras import models\n",
    "from keras.preprocessing.text import Tokenizer\n",
    "from keras.preprocessing.sequence import pad_sequences\n",
    "import pandas as pd\n",
    "import re\n"
   ]
  },
  {
   "cell_type": "code",
   "execution_count": 38,
   "metadata": {},
   "outputs": [],
   "source": [
    "# Preprocess Tweets Before Feeding to Model\n",
    "data = pd.read_csv(\"../data/input/realdonaldtrump.csv\")\n",
    "data = data[['id','content', 'date']]\n",
    "data['content'] = data['content'].apply(lambda x: x.lower())\n",
    "data['content'] = data['content'].apply((lambda x: re.sub('[^a-zA-z0-9\\s]','',x)))"
   ]
  },
  {
   "cell_type": "code",
   "execution_count": 39,
   "metadata": {},
   "outputs": [
    {
     "data": {
      "text/plain": [
       "<bound method NDFrame.head of                         id                                            content  \\\n",
       "0               1698308935  be sure to tune in and watch donald trump on l...   \n",
       "1               1701461182  donald trump will be appearing on the view tom...   \n",
       "2               1737479987  donald trump reads top ten financial tips on l...   \n",
       "3               1741160716  new blog post celebrity apprentice finale and ...   \n",
       "4               1773561338  my persona will never be that of a wallflower ...   \n",
       "...                    ...                                                ...   \n",
       "43347  1273405198698975232  joe biden was a total failure in government he...   \n",
       "43348  1273408026968457216  will be interviewed on  seanhannity tonight at...   \n",
       "43349  1273442195161387008                            pictwittercom3lm1spbu8x   \n",
       "43350  1273442469066276864                            pictwittercomvpce5maduz   \n",
       "43351  1273442528411385858                            pictwittercomvllc0bhw41   \n",
       "\n",
       "                      date  \n",
       "0      2009-05-04 13:54:25  \n",
       "1      2009-05-04 20:00:10  \n",
       "2      2009-05-08 08:38:08  \n",
       "3      2009-05-08 15:40:15  \n",
       "4      2009-05-12 09:07:28  \n",
       "...                    ...  \n",
       "43347  2020-06-17 19:00:32  \n",
       "43348  2020-06-17 19:11:47  \n",
       "43349  2020-06-17 21:27:33  \n",
       "43350  2020-06-17 21:28:38  \n",
       "43351  2020-06-17 21:28:52  \n",
       "\n",
       "[43352 rows x 3 columns]>"
      ]
     },
     "execution_count": 39,
     "metadata": {},
     "output_type": "execute_result"
    }
   ],
   "source": [
    "data.head"
   ]
  },
  {
   "cell_type": "code",
   "execution_count": 40,
   "metadata": {},
   "outputs": [
    {
     "data": {
      "text/plain": [
       "<bound method NDFrame.head of                         id                                            content  \\\n",
       "0               1698308935  be sure to tune in and watch donald trump on l...   \n",
       "1               1701461182  donald trump will be appearing on the view tom...   \n",
       "2               1737479987  donald trump reads top ten financial tips on l...   \n",
       "3               1741160716  new blog post celebrity apprentice finale and ...   \n",
       "4               1773561338  my persona will never be that of a wallflower ...   \n",
       "...                    ...                                                ...   \n",
       "43347  1273405198698975232  joe biden was a total failure in government he...   \n",
       "43348  1273408026968457216  will be interviewed on  seanhannity tonight at...   \n",
       "43349  1273442195161387008                            pictwittercom3lm1spbu8x   \n",
       "43350  1273442469066276864                            pictwittercomvpce5maduz   \n",
       "43351  1273442528411385858                            pictwittercomvllc0bhw41   \n",
       "\n",
       "             date      time  \n",
       "0      2009-05-04  13:54:25  \n",
       "1      2009-05-04  20:00:10  \n",
       "2      2009-05-08  08:38:08  \n",
       "3      2009-05-08  15:40:15  \n",
       "4      2009-05-12  09:07:28  \n",
       "...           ...       ...  \n",
       "43347  2020-06-17  19:00:32  \n",
       "43348  2020-06-17  19:11:47  \n",
       "43349  2020-06-17  21:27:33  \n",
       "43350  2020-06-17  21:28:38  \n",
       "43351  2020-06-17  21:28:52  \n",
       "\n",
       "[43352 rows x 4 columns]>"
      ]
     },
     "execution_count": 40,
     "metadata": {},
     "output_type": "execute_result"
    }
   ],
   "source": [
    "date_time = data[\"date\"].str.split(' ', expand=True)\n",
    "\"\"\"data[\"date\"] = date_time[0]\n",
    "data[\"time\"] = date_time[1]\"\"\"\n",
    "data['date'] = date_time[0]\n",
    "data['time'] = date_time[1]\n",
    "\n",
    "data.head"
   ]
  },
  {
   "cell_type": "code",
   "execution_count": 41,
   "metadata": {},
   "outputs": [],
   "source": [
    "max_fatures = 2000\n",
    "tokenizer = Tokenizer(num_words=max_fatures, split=' ')\n",
    "tokenizer.fit_on_texts(data['content'].values)\n",
    "X = tokenizer.texts_to_sequences(data['content'].values)\n",
    "X = pad_sequences(X)"
   ]
  },
  {
   "cell_type": "code",
   "execution_count": 42,
   "metadata": {},
   "outputs": [
    {
     "name": "stdout",
     "output_type": "stream",
     "text": [
      "Model: \"sequential\"\n",
      "_________________________________________________________________\n",
      "Layer (type)                 Output Shape              Param #   \n",
      "=================================================================\n",
      "embedding (Embedding)        (None, 29, 128)           256000    \n",
      "_________________________________________________________________\n",
      "spatial_dropout1d (SpatialDr (None, 29, 128)           0         \n",
      "_________________________________________________________________\n",
      "lstm (LSTM)                  (None, 196)               254800    \n",
      "_________________________________________________________________\n",
      "dense (Dense)                (None, 2)                 394       \n",
      "=================================================================\n",
      "Total params: 511,194\n",
      "Trainable params: 511,194\n",
      "Non-trainable params: 0\n",
      "_________________________________________________________________\n"
     ]
    }
   ],
   "source": [
    "# Load in all models to be used \n",
    "# Called LSTM_10 because 10 epoch\n",
    "LSTM_bal = models.load_model('../output/models/LSTM_balanced_10')\n",
    "LSTM_bal.summary()\n"
   ]
  },
  {
   "cell_type": "code",
   "execution_count": 43,
   "metadata": {},
   "outputs": [
    {
     "name": "stdout",
     "output_type": "stream",
     "text": [
      "WARNING:tensorflow:Model was constructed with shape (None, 29) for input Tensor(\"embedding_input_1:0\", shape=(None, 29), dtype=float32), but it was called on an input with incompatible shape (None, 57).\n"
     ]
    }
   ],
   "source": [
    "# Generate Predictions for each model \n",
    "y_pred = LSTM_bal.predict(X)\n",
    "data['negative_prob'] = pd.Series(y_pred[:,0])\n",
    "data['positive_prob'] = pd.Series(y_pred[:,1])\n",
    "data.to_csv('../output/results/LSTM_balanced_results.csv')"
   ]
  },
  {
   "cell_type": "code",
   "execution_count": 45,
   "metadata": {},
   "outputs": [
    {
     "name": "stdout",
     "output_type": "stream",
     "text": [
      "Model: \"sequential_1\"\n",
      "_________________________________________________________________\n",
      "Layer (type)                 Output Shape              Param #   \n",
      "=================================================================\n",
      "embedding (Embedding)        (None, 28, 128)           256000    \n",
      "_________________________________________________________________\n",
      "spatial_dropout1d (SpatialDr (None, 28, 128)           0         \n",
      "_________________________________________________________________\n",
      "lstm (LSTM)                  (None, 196)               254800    \n",
      "_________________________________________________________________\n",
      "dense (Dense)                (None, 2)                 394       \n",
      "=================================================================\n",
      "Total params: 511,194\n",
      "Trainable params: 511,194\n",
      "Non-trainable params: 0\n",
      "_________________________________________________________________\n",
      "WARNING:tensorflow:Model was constructed with shape (None, 28) for input Tensor(\"embedding_input_2:0\", shape=(None, 28), dtype=float32), but it was called on an input with incompatible shape (None, 57).\n"
     ]
    }
   ],
   "source": [
    "# Get Results of Unbalanced Model\n",
    "LSTM_unbal = models.load_model('../output/models/LSTM_unbalanced')\n",
    "LSTM_unbal.summary()\n",
    "# Generate Predictions for each model \n",
    "y_pred = LSTM_unbal.predict(X)\n",
    "data['negative_prob'] = pd.Series(y_pred[:,0])\n",
    "data['positive_prob'] = pd.Series(y_pred[:,1])\n",
    "data.to_csv('../output/results/LSTM_unbalanced_results.csv')"
   ]
  },
  {
   "cell_type": "code",
   "execution_count": null,
   "metadata": {},
   "outputs": [],
   "source": []
  }
 ],
 "metadata": {
  "kernelspec": {
   "display_name": "Python 3",
   "language": "python",
   "name": "python3"
  },
  "language_info": {
   "codemirror_mode": {
    "name": "ipython",
    "version": 3
   },
   "file_extension": ".py",
   "mimetype": "text/x-python",
   "name": "python",
   "nbconvert_exporter": "python",
   "pygments_lexer": "ipython3",
   "version": "3.8.3"
  }
 },
 "nbformat": 4,
 "nbformat_minor": 4
}
