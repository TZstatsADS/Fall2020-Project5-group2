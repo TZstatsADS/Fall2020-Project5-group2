{
 "cells": [
  {
   "cell_type": "code",
   "execution_count": 10,
   "metadata": {},
   "outputs": [],
   "source": [
    "# to load and check model:\n",
    "from keras import models\n",
    "import numpy as np\n",
    "from keras.preprocessing.text import Tokenizer\n",
    "from keras.preprocessing.sequence import pad_sequences\n",
    "import pandas as pd\n",
    "import re\n"
   ]
  },
  {
   "cell_type": "code",
   "execution_count": 53,
   "metadata": {},
   "outputs": [],
   "source": [
    "# Preprocess Tweets Before Feeding to Model\n",
    "data = pd.read_csv(\"../data/input/realdonaldtrump_20170120-20191231.csv\")\n",
    "data = data[['id','content', 'date']]\n",
    "data['content'] = data['content'].apply(lambda x: x.lower())\n",
    "data['content'] = data['content'].apply((lambda x: re.sub('[^a-zA-z0-9\\s]','',x)))"
   ]
  },
  {
   "cell_type": "code",
   "execution_count": 36,
   "metadata": {},
   "outputs": [
    {
     "data": {
      "text/plain": [
       "<bound method NDFrame.head of                 id                                            content  \\\n",
       "0     8.224210e+17  it all begins today i will see you at 1100 am ...   \n",
       "1     8.225020e+17  today we are not merely transferring power fro...   \n",
       "2     8.225020e+17  power from washington dc and giving it back to...   \n",
       "3     8.225020e+17  what truly matters is not which party controls...   \n",
       "4     8.225020e+17  january 20th 2017 will be remembered as the da...   \n",
       "...            ...                                                ...   \n",
       "9685  1.212180e+18  thank you to the  dcexaminer washington examin...   \n",
       "9686  1.212180e+18  thank you steve the greatest witch hunt in us ...   \n",
       "9687  1.212180e+18  our fantastic first ladyhttpstwittercomflotuss...   \n",
       "9688  1.212180e+18                                     happy new year   \n",
       "9689  1.212210e+18                            pictwittercomevaeyd1agv   \n",
       "\n",
       "                  date  \n",
       "0       1/20/2017 6:31  \n",
       "1      1/20/2017 11:51  \n",
       "2      1/20/2017 11:51  \n",
       "3      1/20/2017 11:52  \n",
       "4      1/20/2017 11:53  \n",
       "...                ...  \n",
       "9685  12/31/2019 19:03  \n",
       "9686  12/31/2019 19:16  \n",
       "9687  12/31/2019 19:22  \n",
       "9688  12/31/2019 19:30  \n",
       "9689  12/31/2019 21:12  \n",
       "\n",
       "[9690 rows x 3 columns]>"
      ]
     },
     "execution_count": 36,
     "metadata": {},
     "output_type": "execute_result"
    }
   ],
   "source": [
    "data.head"
   ]
  },
  {
   "cell_type": "code",
   "execution_count": 13,
   "metadata": {},
   "outputs": [
    {
     "data": {
      "text/plain": [
       "<bound method NDFrame.tail of                 id                                            content  \\\n",
       "0     8.224210e+17  it all begins today i will see you at 1100 am ...   \n",
       "1     8.225020e+17  today we are not merely transferring power fro...   \n",
       "2     8.225020e+17  power from washington dc and giving it back to...   \n",
       "3     8.225020e+17  what truly matters is not which party controls...   \n",
       "4     8.225020e+17  january 20th 2017 will be remembered as the da...   \n",
       "...            ...                                                ...   \n",
       "9685  1.212180e+18  thank you to the  dcexaminer washington examin...   \n",
       "9686  1.212180e+18  thank you steve the greatest witch hunt in us ...   \n",
       "9687  1.212180e+18  our fantastic first ladyhttpstwittercomflotuss...   \n",
       "9688  1.212180e+18                                     happy new year   \n",
       "9689  1.212210e+18                            pictwittercomevaeyd1agv   \n",
       "\n",
       "                  date  \n",
       "0       1/20/2017 6:31  \n",
       "1      1/20/2017 11:51  \n",
       "2      1/20/2017 11:51  \n",
       "3      1/20/2017 11:52  \n",
       "4      1/20/2017 11:53  \n",
       "...                ...  \n",
       "9685  12/31/2019 19:03  \n",
       "9686  12/31/2019 19:16  \n",
       "9687  12/31/2019 19:22  \n",
       "9688  12/31/2019 19:30  \n",
       "9689  12/31/2019 21:12  \n",
       "\n",
       "[9690 rows x 3 columns]>"
      ]
     },
     "execution_count": 13,
     "metadata": {},
     "output_type": "execute_result"
    }
   ],
   "source": [
    "data.tail"
   ]
  },
  {
   "cell_type": "code",
   "execution_count": 14,
   "metadata": {},
   "outputs": [],
   "source": [
    "max_fatures = 2000\n",
    "tokenizer = Tokenizer(num_words=max_fatures, split=' ')\n",
    "tokenizer.fit_on_texts(data['content'].values)\n",
    "X = tokenizer.texts_to_sequences(data['content'].values)\n",
    "X = pad_sequences(X)"
   ]
  },
  {
   "cell_type": "code",
   "execution_count": 15,
   "metadata": {
    "scrolled": true
   },
   "outputs": [
    {
     "name": "stdout",
     "output_type": "stream",
     "text": [
      "Model: \"sequential\"\n",
      "_________________________________________________________________\n",
      "Layer (type)                 Output Shape              Param #   \n",
      "=================================================================\n",
      "embedding (Embedding)        (None, 29, 128)           256000    \n",
      "_________________________________________________________________\n",
      "spatial_dropout1d (SpatialDr (None, 29, 128)           0         \n",
      "_________________________________________________________________\n",
      "lstm (LSTM)                  (None, 196)               254800    \n",
      "_________________________________________________________________\n",
      "dense (Dense)                (None, 2)                 394       \n",
      "=================================================================\n",
      "Total params: 511,194\n",
      "Trainable params: 511,194\n",
      "Non-trainable params: 0\n",
      "_________________________________________________________________\n"
     ]
    }
   ],
   "source": [
    "# Load in all models to be used \n",
    "# Called LSTM_10 because 10 epoch\n",
    "LSTM_bal = models.load_model('../output/models/LSTM_balanced_10')\n",
    "LSTM_bal.summary()\n"
   ]
  },
  {
   "cell_type": "code",
   "execution_count": 22,
   "metadata": {},
   "outputs": [],
   "source": [
    "# Generate Predictions for each model \n",
    "y_pred = LSTM_bal.predict(X)"
   ]
  },
  {
   "cell_type": "code",
   "execution_count": 54,
   "metadata": {},
   "outputs": [],
   "source": [
    "data['negative_prob'] = pd.Series(y_pred[:,0])\n",
    "data['positive_prob'] = pd.Series(y_pred[:,1])\n",
    "data.loc[data['negative_prob'] <= data['positive_prob'], 'outcome'] = 1\n",
    "data.loc[data['negative_prob'] > data['positive_prob'], 'outcome'] = -1\n",
    "data = data.astype({\"outcome\": int})\n",
    "data[['Date','Time']] = data.date.str.split(\" \",expand = True,)"
   ]
  },
  {
   "cell_type": "code",
   "execution_count": 55,
   "metadata": {},
   "outputs": [],
   "source": [
    "col_list = data.columns\n",
    "data[[col_list[3],col_list[4], col_list[5], col_list[6], col_list[7]]] = data[[col_list[6], col_list[7], col_list[3], col_list[4], col_list[5]]]\n",
    "col_list = list(data)\n",
    "col_list[3],col_list[4], col_list[5], col_list[6], col_list[7] = col_list[6], col_list[7], col_list[3], col_list[4], col_list[5]\n",
    "data.columns = col_list"
   ]
  },
  {
   "cell_type": "code",
   "execution_count": 56,
   "metadata": {},
   "outputs": [
    {
     "data": {
      "text/html": [
       "<div>\n",
       "<style scoped>\n",
       "    .dataframe tbody tr th:only-of-type {\n",
       "        vertical-align: middle;\n",
       "    }\n",
       "\n",
       "    .dataframe tbody tr th {\n",
       "        vertical-align: top;\n",
       "    }\n",
       "\n",
       "    .dataframe thead th {\n",
       "        text-align: right;\n",
       "    }\n",
       "</style>\n",
       "<table border=\"1\" class=\"dataframe\">\n",
       "  <thead>\n",
       "    <tr style=\"text-align: right;\">\n",
       "      <th></th>\n",
       "      <th>id</th>\n",
       "      <th>content</th>\n",
       "      <th>date</th>\n",
       "      <th>Date</th>\n",
       "      <th>Time</th>\n",
       "      <th>negative_prob</th>\n",
       "      <th>positive_prob</th>\n",
       "      <th>outcome</th>\n",
       "    </tr>\n",
       "  </thead>\n",
       "  <tbody>\n",
       "    <tr>\n",
       "      <th>0</th>\n",
       "      <td>8.224210e+17</td>\n",
       "      <td>it all begins today i will see you at 1100 am ...</td>\n",
       "      <td>1/20/2017 6:31</td>\n",
       "      <td>1/20/2017</td>\n",
       "      <td>6:31</td>\n",
       "      <td>0.982662</td>\n",
       "      <td>1.733807e-02</td>\n",
       "      <td>-1</td>\n",
       "    </tr>\n",
       "    <tr>\n",
       "      <th>1</th>\n",
       "      <td>8.225020e+17</td>\n",
       "      <td>today we are not merely transferring power fro...</td>\n",
       "      <td>1/20/2017 11:51</td>\n",
       "      <td>1/20/2017</td>\n",
       "      <td>11:51</td>\n",
       "      <td>0.001082</td>\n",
       "      <td>9.989176e-01</td>\n",
       "      <td>1</td>\n",
       "    </tr>\n",
       "    <tr>\n",
       "      <th>2</th>\n",
       "      <td>8.225020e+17</td>\n",
       "      <td>power from washington dc and giving it back to...</td>\n",
       "      <td>1/20/2017 11:51</td>\n",
       "      <td>1/20/2017</td>\n",
       "      <td>11:51</td>\n",
       "      <td>1.000000</td>\n",
       "      <td>4.163250e-07</td>\n",
       "      <td>-1</td>\n",
       "    </tr>\n",
       "    <tr>\n",
       "      <th>3</th>\n",
       "      <td>8.225020e+17</td>\n",
       "      <td>what truly matters is not which party controls...</td>\n",
       "      <td>1/20/2017 11:52</td>\n",
       "      <td>1/20/2017</td>\n",
       "      <td>11:52</td>\n",
       "      <td>0.000221</td>\n",
       "      <td>9.997788e-01</td>\n",
       "      <td>1</td>\n",
       "    </tr>\n",
       "    <tr>\n",
       "      <th>4</th>\n",
       "      <td>8.225020e+17</td>\n",
       "      <td>january 20th 2017 will be remembered as the da...</td>\n",
       "      <td>1/20/2017 11:53</td>\n",
       "      <td>1/20/2017</td>\n",
       "      <td>11:53</td>\n",
       "      <td>0.809833</td>\n",
       "      <td>1.901674e-01</td>\n",
       "      <td>-1</td>\n",
       "    </tr>\n",
       "    <tr>\n",
       "      <th>...</th>\n",
       "      <td>...</td>\n",
       "      <td>...</td>\n",
       "      <td>...</td>\n",
       "      <td>...</td>\n",
       "      <td>...</td>\n",
       "      <td>...</td>\n",
       "      <td>...</td>\n",
       "      <td>...</td>\n",
       "    </tr>\n",
       "    <tr>\n",
       "      <th>9685</th>\n",
       "      <td>1.212180e+18</td>\n",
       "      <td>thank you to the  dcexaminer washington examin...</td>\n",
       "      <td>12/31/2019 19:03</td>\n",
       "      <td>12/31/2019</td>\n",
       "      <td>19:03</td>\n",
       "      <td>0.979125</td>\n",
       "      <td>2.087469e-02</td>\n",
       "      <td>-1</td>\n",
       "    </tr>\n",
       "    <tr>\n",
       "      <th>9686</th>\n",
       "      <td>1.212180e+18</td>\n",
       "      <td>thank you steve the greatest witch hunt in us ...</td>\n",
       "      <td>12/31/2019 19:16</td>\n",
       "      <td>12/31/2019</td>\n",
       "      <td>19:16</td>\n",
       "      <td>0.997032</td>\n",
       "      <td>2.967904e-03</td>\n",
       "      <td>-1</td>\n",
       "    </tr>\n",
       "    <tr>\n",
       "      <th>9687</th>\n",
       "      <td>1.212180e+18</td>\n",
       "      <td>our fantastic first ladyhttpstwittercomflotuss...</td>\n",
       "      <td>12/31/2019 19:22</td>\n",
       "      <td>12/31/2019</td>\n",
       "      <td>19:22</td>\n",
       "      <td>0.571400</td>\n",
       "      <td>4.286000e-01</td>\n",
       "      <td>-1</td>\n",
       "    </tr>\n",
       "    <tr>\n",
       "      <th>9688</th>\n",
       "      <td>1.212180e+18</td>\n",
       "      <td>happy new year</td>\n",
       "      <td>12/31/2019 19:30</td>\n",
       "      <td>12/31/2019</td>\n",
       "      <td>19:30</td>\n",
       "      <td>0.177916</td>\n",
       "      <td>8.220838e-01</td>\n",
       "      <td>1</td>\n",
       "    </tr>\n",
       "    <tr>\n",
       "      <th>9689</th>\n",
       "      <td>1.212210e+18</td>\n",
       "      <td>pictwittercomevaeyd1agv</td>\n",
       "      <td>12/31/2019 21:12</td>\n",
       "      <td>12/31/2019</td>\n",
       "      <td>21:12</td>\n",
       "      <td>0.480664</td>\n",
       "      <td>5.193364e-01</td>\n",
       "      <td>1</td>\n",
       "    </tr>\n",
       "  </tbody>\n",
       "</table>\n",
       "<p>9690 rows × 8 columns</p>\n",
       "</div>"
      ],
      "text/plain": [
       "                id                                            content  \\\n",
       "0     8.224210e+17  it all begins today i will see you at 1100 am ...   \n",
       "1     8.225020e+17  today we are not merely transferring power fro...   \n",
       "2     8.225020e+17  power from washington dc and giving it back to...   \n",
       "3     8.225020e+17  what truly matters is not which party controls...   \n",
       "4     8.225020e+17  january 20th 2017 will be remembered as the da...   \n",
       "...            ...                                                ...   \n",
       "9685  1.212180e+18  thank you to the  dcexaminer washington examin...   \n",
       "9686  1.212180e+18  thank you steve the greatest witch hunt in us ...   \n",
       "9687  1.212180e+18  our fantastic first ladyhttpstwittercomflotuss...   \n",
       "9688  1.212180e+18                                     happy new year   \n",
       "9689  1.212210e+18                            pictwittercomevaeyd1agv   \n",
       "\n",
       "                  date        Date   Time  negative_prob  positive_prob  \\\n",
       "0       1/20/2017 6:31   1/20/2017   6:31       0.982662   1.733807e-02   \n",
       "1      1/20/2017 11:51   1/20/2017  11:51       0.001082   9.989176e-01   \n",
       "2      1/20/2017 11:51   1/20/2017  11:51       1.000000   4.163250e-07   \n",
       "3      1/20/2017 11:52   1/20/2017  11:52       0.000221   9.997788e-01   \n",
       "4      1/20/2017 11:53   1/20/2017  11:53       0.809833   1.901674e-01   \n",
       "...                ...         ...    ...            ...            ...   \n",
       "9685  12/31/2019 19:03  12/31/2019  19:03       0.979125   2.087469e-02   \n",
       "9686  12/31/2019 19:16  12/31/2019  19:16       0.997032   2.967904e-03   \n",
       "9687  12/31/2019 19:22  12/31/2019  19:22       0.571400   4.286000e-01   \n",
       "9688  12/31/2019 19:30  12/31/2019  19:30       0.177916   8.220838e-01   \n",
       "9689  12/31/2019 21:12  12/31/2019  21:12       0.480664   5.193364e-01   \n",
       "\n",
       "      outcome  \n",
       "0          -1  \n",
       "1           1  \n",
       "2          -1  \n",
       "3           1  \n",
       "4          -1  \n",
       "...       ...  \n",
       "9685       -1  \n",
       "9686       -1  \n",
       "9687       -1  \n",
       "9688        1  \n",
       "9689        1  \n",
       "\n",
       "[9690 rows x 8 columns]"
      ]
     },
     "execution_count": 56,
     "metadata": {},
     "output_type": "execute_result"
    }
   ],
   "source": [
    "data"
   ]
  },
  {
   "cell_type": "code",
   "execution_count": 57,
   "metadata": {},
   "outputs": [],
   "source": [
    "data.to_csv('../output/results/LSTM_balanced_results.csv')"
   ]
  },
  {
   "cell_type": "code",
   "execution_count": 58,
   "metadata": {},
   "outputs": [
    {
     "name": "stdout",
     "output_type": "stream",
     "text": [
      "Model: \"sequential_1\"\n",
      "_________________________________________________________________\n",
      "Layer (type)                 Output Shape              Param #   \n",
      "=================================================================\n",
      "embedding_1 (Embedding)      (None, 28, 128)           256000    \n",
      "_________________________________________________________________\n",
      "spatial_dropout1d_1 (Spatial (None, 28, 128)           0         \n",
      "_________________________________________________________________\n",
      "lstm_1 (LSTM)                (None, 196)               254800    \n",
      "_________________________________________________________________\n",
      "dense_1 (Dense)              (None, 2)                 394       \n",
      "=================================================================\n",
      "Total params: 511,194\n",
      "Trainable params: 511,194\n",
      "Non-trainable params: 0\n",
      "_________________________________________________________________\n",
      "WARNING:tensorflow:Model was constructed with shape (None, 28) for input Tensor(\"embedding_1_input:0\", shape=(None, 28), dtype=float32), but it was called on an input with incompatible shape (None, 58).\n"
     ]
    }
   ],
   "source": [
    "# Get Results of Unbalanced Model\n",
    "LSTM_unbal = models.load_model('../output/models/LSTM_unbalanced')\n",
    "LSTM_unbal.summary()\n",
    "# Generate Predictions for each model \n",
    "y_pred = LSTM_unbal.predict(X)\n",
    "data['negative_prob'] = pd.Series(y_pred[:,0])\n",
    "data['positive_prob'] = pd.Series(y_pred[:,1])"
   ]
  },
  {
   "cell_type": "code",
   "execution_count": 59,
   "metadata": {},
   "outputs": [],
   "source": [
    "# 1 == Negative, 1 == Positive Sentiment\n",
    "data['outcome'] = np.where(data['negative_prob']> 0.500, -1 ,1)\n",
    "\n",
    "data.to_csv('../output/results/LSTM_unbalanced_full_results.csv')"
   ]
  },
  {
   "cell_type": "code",
   "execution_count": 60,
   "metadata": {},
   "outputs": [
    {
     "data": {
      "text/plain": [
       "<bound method NDFrame.head of                 id                                            content  \\\n",
       "0     8.224210e+17  it all begins today i will see you at 1100 am ...   \n",
       "1     8.225020e+17  today we are not merely transferring power fro...   \n",
       "2     8.225020e+17  power from washington dc and giving it back to...   \n",
       "3     8.225020e+17  what truly matters is not which party controls...   \n",
       "4     8.225020e+17  january 20th 2017 will be remembered as the da...   \n",
       "...            ...                                                ...   \n",
       "9685  1.212180e+18  thank you to the  dcexaminer washington examin...   \n",
       "9686  1.212180e+18  thank you steve the greatest witch hunt in us ...   \n",
       "9687  1.212180e+18  our fantastic first ladyhttpstwittercomflotuss...   \n",
       "9688  1.212180e+18                                     happy new year   \n",
       "9689  1.212210e+18                            pictwittercomevaeyd1agv   \n",
       "\n",
       "                  date        Date   Time  negative_prob  positive_prob  \\\n",
       "0       1/20/2017 6:31   1/20/2017   6:31       0.992478       0.007521   \n",
       "1      1/20/2017 11:51   1/20/2017  11:51       0.999910       0.000090   \n",
       "2      1/20/2017 11:51   1/20/2017  11:51       0.997268       0.002732   \n",
       "3      1/20/2017 11:52   1/20/2017  11:52       0.999828       0.000172   \n",
       "4      1/20/2017 11:53   1/20/2017  11:53       0.962615       0.037385   \n",
       "...                ...         ...    ...            ...            ...   \n",
       "9685  12/31/2019 19:03  12/31/2019  19:03       0.982245       0.017755   \n",
       "9686  12/31/2019 19:16  12/31/2019  19:16       0.996735       0.003265   \n",
       "9687  12/31/2019 19:22  12/31/2019  19:22       0.222811       0.777189   \n",
       "9688  12/31/2019 19:30  12/31/2019  19:30       0.932579       0.067421   \n",
       "9689  12/31/2019 21:12  12/31/2019  21:12       0.590985       0.409015   \n",
       "\n",
       "      outcome  \n",
       "0          -1  \n",
       "1          -1  \n",
       "2          -1  \n",
       "3          -1  \n",
       "4          -1  \n",
       "...       ...  \n",
       "9685       -1  \n",
       "9686       -1  \n",
       "9687        1  \n",
       "9688       -1  \n",
       "9689       -1  \n",
       "\n",
       "[9690 rows x 8 columns]>"
      ]
     },
     "execution_count": 60,
     "metadata": {},
     "output_type": "execute_result"
    }
   ],
   "source": [
    "data.head"
   ]
  },
  {
   "cell_type": "code",
   "execution_count": null,
   "metadata": {},
   "outputs": [],
   "source": []
  }
 ],
 "metadata": {
  "kernelspec": {
   "display_name": "Python 3",
   "language": "python",
   "name": "python3"
  },
  "language_info": {
   "codemirror_mode": {
    "name": "ipython",
    "version": 3
   },
   "file_extension": ".py",
   "mimetype": "text/x-python",
   "name": "python",
   "nbconvert_exporter": "python",
   "pygments_lexer": "ipython3",
   "version": "3.8.3"
  }
 },
 "nbformat": 4,
 "nbformat_minor": 4
}
