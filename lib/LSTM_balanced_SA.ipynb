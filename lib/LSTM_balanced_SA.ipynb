{
 "cells": [
  {
   "cell_type": "code",
   "execution_count": 1,
   "metadata": {},
   "outputs": [
    {
     "data": {
      "text/plain": [
       "'\\nFollowing this kaggle\\nhttps://www.kaggle.com/ngyptr/lstm-sentiment-analysis-keras/data?select=Sentiment.csv\\n\\nBut undersampling the majority class to have \\nbetter positive sentiment tweet accuracy\\n'"
      ]
     },
     "execution_count": 1,
     "metadata": {},
     "output_type": "execute_result"
    }
   ],
   "source": [
    "\"\"\"\n",
    "Following this kaggle\n",
    "https://www.kaggle.com/ngyptr/lstm-sentiment-analysis-keras/data?select=Sentiment.csv\n",
    "\n",
    "But undersampling the majority class to have \n",
    "better positive sentiment tweet accuracy\n",
    "\"\"\""
   ]
  },
  {
   "cell_type": "code",
   "execution_count": 2,
   "metadata": {},
   "outputs": [],
   "source": [
    "import numpy as np # linear algebra\n",
    "import pandas as pd # data processing, CSV file I/O (e.g. pd.read_csv)\n",
    "\n",
    "from sklearn.feature_extraction.text import CountVectorizer\n",
    "from sklearn.preprocessing import LabelEncoder\n",
    "from sklearn.metrics import roc_auc_score\n",
    "from keras.preprocessing.text import Tokenizer\n",
    "from keras.preprocessing.sequence import pad_sequences\n",
    "from keras.models import Sequential\n",
    "from keras.layers import Dense, Embedding, LSTM, SpatialDropout1D\n",
    "from sklearn.model_selection import train_test_split\n",
    "from keras.utils.np_utils import to_categorical\n",
    "import re"
   ]
  },
  {
   "cell_type": "code",
   "execution_count": 3,
   "metadata": {},
   "outputs": [
    {
     "name": "stdout",
     "output_type": "stream",
     "text": [
      "Number of Positive Tweets:  2236.0\n",
      "Number of Negative Tweets:  8493.0\n"
     ]
    }
   ],
   "source": [
    "data = pd.read_csv('./kaggle/Sentiment.csv')\n",
    "\n",
    "data = data[['text','sentiment']]\n",
    "data = data[data.sentiment != \"Neutral\"]\n",
    "data['text'] = data['text'].apply(lambda x: x.lower())\n",
    "data['text'] = data['text'].apply((lambda x: re.sub('[^a-zA-z0-9\\s]','',x)))\n",
    "\n",
    "# Divide by two because # of tweets is multiplied by number of columns\n",
    "print(\"Number of Positive Tweets: \", (data[ data['sentiment'] == 'Positive'].size)/2) \n",
    "print(\"Number of Negative Tweets: \",(data[ data['sentiment'] == 'Negative'].size)/2)\n",
    "\n",
    "for idx,row in data.iterrows():\n",
    "    row[0] = row[0].replace('rt',' ')"
   ]
  },
  {
   "cell_type": "code",
   "execution_count": 4,
   "metadata": {},
   "outputs": [],
   "source": [
    "#import sys\n",
    "#!{sys.executable} -m pip install imblearn"
   ]
  },
  {
   "cell_type": "code",
   "execution_count": 5,
   "metadata": {},
   "outputs": [],
   "source": [
    "from imblearn.under_sampling import RandomUnderSampler\n",
    "from collections import Counter"
   ]
  },
  {
   "cell_type": "code",
   "execution_count": 6,
   "metadata": {},
   "outputs": [
    {
     "name": "stdout",
     "output_type": "stream",
     "text": [
      "[['Negative' 8493]\n",
      " ['Positive' 2236]]\n"
     ]
    }
   ],
   "source": [
    "(unique, counts) = np.unique(data['sentiment'].values, return_counts = True)\n",
    "frequencies = np.asarray((unique, counts)).T\n",
    "print(frequencies)\n"
   ]
  },
  {
   "cell_type": "code",
   "execution_count": 7,
   "metadata": {},
   "outputs": [
    {
     "data": {
      "text/plain": [
       "Index(['text', 'sentiment'], dtype='object')"
      ]
     },
     "execution_count": 7,
     "metadata": {},
     "output_type": "execute_result"
    }
   ],
   "source": [
    "# Randomly undersample \n",
    "resampled_neg = data[data['sentiment']== 'Negative'].sample(n=2236, replace = True)\n",
    "#resampled.columns\n",
    "#resampled_neg.shape\n",
    "resampled = pd.concat([data[data['sentiment'] == 'Positive'], resampled_neg])\n",
    "resampled.columns\n"
   ]
  },
  {
   "cell_type": "code",
   "execution_count": 8,
   "metadata": {},
   "outputs": [],
   "source": [
    "max_fatures = 2000\n",
    "tokenizer = Tokenizer(num_words=max_fatures, split=' ')\n",
    "tokenizer.fit_on_texts(resampled['text'].values)\n",
    "X = tokenizer.texts_to_sequences(resampled['text'].values)\n",
    "X = pad_sequences(X)"
   ]
  },
  {
   "cell_type": "code",
   "execution_count": 10,
   "metadata": {},
   "outputs": [
    {
     "name": "stdout",
     "output_type": "stream",
     "text": [
      "[['Negative' '2236']\n",
      " ['Positive' '2236']]\n"
     ]
    }
   ],
   "source": [
    "#number = LabelEncoder()\n",
    "Y = pd.get_dummies(resampled['sentiment']).values\n",
    "\n",
    "counts = [np.count_nonzero(Y[:,0] == 1), np.count_nonzero(Y[:,1] == 1)]\n",
    "labels = ['Negative', 'Positive']\n",
    "frequencies = np.asarray((labels,counts)).T\n",
    "print(frequencies)"
   ]
  },
  {
   "cell_type": "code",
   "execution_count": 14,
   "metadata": {},
   "outputs": [
    {
     "name": "stdout",
     "output_type": "stream",
     "text": [
      "Model: \"sequential\"\n",
      "_________________________________________________________________\n",
      "Layer (type)                 Output Shape              Param #   \n",
      "=================================================================\n",
      "embedding (Embedding)        (None, 29, 128)           256000    \n",
      "_________________________________________________________________\n",
      "spatial_dropout1d (SpatialDr (None, 29, 128)           0         \n",
      "_________________________________________________________________\n",
      "lstm (LSTM)                  (None, 196)               254800    \n",
      "_________________________________________________________________\n",
      "dense (Dense)                (None, 2)                 394       \n",
      "=================================================================\n",
      "Total params: 511,194\n",
      "Trainable params: 511,194\n",
      "Non-trainable params: 0\n",
      "_________________________________________________________________\n",
      "None\n"
     ]
    }
   ],
   "source": [
    "embed_dim = 128\n",
    "lstm_out = 196\n",
    "\n",
    "model = Sequential()\n",
    "model.add(Embedding(max_fatures, embed_dim,input_length = X.shape[1]))\n",
    "model.add(SpatialDropout1D(0.4))\n",
    "model.add(LSTM(lstm_out, dropout=0.2, recurrent_dropout=0.2))\n",
    "model.add(Dense(2,activation='softmax'))\n",
    "model.compile(loss = 'categorical_crossentropy', optimizer='adam',metrics = ['accuracy'])\n",
    "print(model.summary())"
   ]
  },
  {
   "cell_type": "code",
   "execution_count": 16,
   "metadata": {},
   "outputs": [
    {
     "name": "stdout",
     "output_type": "stream",
     "text": [
      "(3354, 29) (3354, 2)\n",
      "(1118, 29) (1118, 2)\n"
     ]
    }
   ],
   "source": [
    "# Make Train and Test datasets\n",
    "X_train, X_test, Y_train, Y_test = train_test_split(X, Y, test_size = 0.25, random_state = 42)\n",
    "#Y_train = Y_train.reshape((2996,2))\n",
    "#Y_test = Y_test.reshape((1476,1))\n",
    "print(X_train.shape,Y_train.shape)\n",
    "print(X_test.shape,Y_test.shape)"
   ]
  },
  {
   "cell_type": "code",
   "execution_count": 17,
   "metadata": {},
   "outputs": [
    {
     "name": "stdout",
     "output_type": "stream",
     "text": [
      "Epoch 1/10\n",
      "105/105 - 17s - loss: 0.5989 - accuracy: 0.6503\n",
      "Epoch 2/10\n",
      "105/105 - 14s - loss: 0.4234 - accuracy: 0.8059\n",
      "Epoch 3/10\n",
      "105/105 - 15s - loss: 0.3346 - accuracy: 0.8581\n",
      "Epoch 4/10\n",
      "105/105 - 15s - loss: 0.2687 - accuracy: 0.8962\n",
      "Epoch 5/10\n",
      "105/105 - 14s - loss: 0.2244 - accuracy: 0.9138\n",
      "Epoch 6/10\n",
      "105/105 - 14s - loss: 0.1997 - accuracy: 0.9219\n",
      "Epoch 7/10\n",
      "105/105 - 14s - loss: 0.1752 - accuracy: 0.9353\n",
      "Epoch 8/10\n",
      "105/105 - 15s - loss: 0.1593 - accuracy: 0.9407\n",
      "Epoch 9/10\n",
      "105/105 - 15s - loss: 0.1379 - accuracy: 0.9523\n",
      "Epoch 10/10\n",
      "105/105 - 15s - loss: 0.1300 - accuracy: 0.9529\n"
     ]
    },
    {
     "data": {
      "text/plain": [
       "<tensorflow.python.keras.callbacks.History at 0x24fc3dee940>"
      ]
     },
     "execution_count": 17,
     "metadata": {},
     "output_type": "execute_result"
    }
   ],
   "source": [
    "batch = 32\n",
    "model.fit(X_train, Y_train, epochs = 10, batch_size=batch, verbose = 2)"
   ]
  },
  {
   "cell_type": "code",
   "execution_count": 18,
   "metadata": {},
   "outputs": [
    {
     "name": "stdout",
     "output_type": "stream",
     "text": [
      "WARNING:tensorflow:From c:\\users\\nawil\\appdata\\local\\programs\\python\\python38\\lib\\site-packages\\tensorflow\\python\\training\\tracking\\tracking.py:111: Model.state_updates (from tensorflow.python.keras.engine.training) is deprecated and will be removed in a future version.\n",
      "Instructions for updating:\n",
      "This property should not be used in TensorFlow 2.0, as updates are applied automatically.\n",
      "WARNING:tensorflow:From c:\\users\\nawil\\appdata\\local\\programs\\python\\python38\\lib\\site-packages\\tensorflow\\python\\training\\tracking\\tracking.py:111: Layer.updates (from tensorflow.python.keras.engine.base_layer) is deprecated and will be removed in a future version.\n",
      "Instructions for updating:\n",
      "This property should not be used in TensorFlow 2.0, as updates are applied automatically.\n",
      "INFO:tensorflow:Assets written to: ./output/models/LSTM_balanced_10\\assets\n"
     ]
    }
   ],
   "source": [
    "# save model \n",
    "model.save('./output/models/LSTM_balanced_10')\n",
    "\n",
    "# to load and check model:\n",
    "\n",
    "# load_model = tf.keras.models.load_model('./output/models/LSTM_unbalanced')\n",
    "# load_model.summary()"
   ]
  },
  {
   "cell_type": "code",
   "execution_count": 19,
   "metadata": {},
   "outputs": [],
   "source": [
    "y_pred = model.predict(X_test)\n"
   ]
  },
  {
   "cell_type": "code",
   "execution_count": 20,
   "metadata": {},
   "outputs": [
    {
     "name": "stdout",
     "output_type": "stream",
     "text": [
      "roc_auc_score 0.8391763796994409\n"
     ]
    }
   ],
   "source": [
    "print('roc_auc_score', roc_auc_score(Y_test, y_pred))"
   ]
  }
 ],
 "metadata": {
  "kernelspec": {
   "display_name": "Python 3",
   "language": "python",
   "name": "python3"
  },
  "language_info": {
   "codemirror_mode": {
    "name": "ipython",
    "version": 3
   },
   "file_extension": ".py",
   "mimetype": "text/x-python",
   "name": "python",
   "nbconvert_exporter": "python",
   "pygments_lexer": "ipython3",
   "version": "3.8.3"
  }
 },
 "nbformat": 4,
 "nbformat_minor": 4
}
